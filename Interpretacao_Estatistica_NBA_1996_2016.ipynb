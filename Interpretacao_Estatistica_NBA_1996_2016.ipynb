{
  "nbformat": 4,
  "nbformat_minor": 0,
  "metadata": {
    "colab": {
      "name": "Interpretacao_Estatistica_NBA_1996_2016.ipynb",
      "provenance": [],
      "collapsed_sections": [],
      "include_colab_link": true
    },
    "kernelspec": {
      "name": "python3",
      "display_name": "Python 3"
    }
  },
  "cells": [
    {
      "cell_type": "markdown",
      "metadata": {
        "id": "view-in-github",
        "colab_type": "text"
      },
      "source": [
        "<a href=\"https://colab.research.google.com/github/cristianosps/Introducao_Ciencia_de_Dados/blob/master/Interpretacao_Estatistica_NBA_1996_2016.ipynb\" target=\"_parent\"><img src=\"https://colab.research.google.com/assets/colab-badge.svg\" alt=\"Open In Colab\"/></a>"
      ]
    },
    {
      "cell_type": "code",
      "metadata": {
        "id": "hZDqv14InSiA",
        "colab_type": "code",
        "colab": {
          "base_uri": "https://localhost:8080/",
          "height": 309
        },
        "outputId": "98f44192-0637-4d9e-f474-6ad5d2764f03"
      },
      "source": [
        "# Imports biblioteca Pandas\n",
        "import numpy as np\n",
        "import pandas as pd\n",
        "\n",
        "# Conexão com repositório da base de dados\n",
        "dataset=pd.read_csv(\"https://raw.githubusercontent.com/cristianosps/Introducao_Ciencia_de_Dados/master/all_seasons1.csv\")\n",
        "\n",
        "# Apresentação dos dados do repositório\n",
        "dataset.head()\n"
      ],
      "execution_count": 12,
      "outputs": [
        {
          "output_type": "execute_result",
          "data": {
            "text/html": [
              "<div>\n",
              "<style scoped>\n",
              "    .dataframe tbody tr th:only-of-type {\n",
              "        vertical-align: middle;\n",
              "    }\n",
              "\n",
              "    .dataframe tbody tr th {\n",
              "        vertical-align: top;\n",
              "    }\n",
              "\n",
              "    .dataframe thead th {\n",
              "        text-align: right;\n",
              "    }\n",
              "</style>\n",
              "<table border=\"1\" class=\"dataframe\">\n",
              "  <thead>\n",
              "    <tr style=\"text-align: right;\">\n",
              "      <th></th>\n",
              "      <th>id</th>\n",
              "      <th>player_name</th>\n",
              "      <th>team_abbreviation</th>\n",
              "      <th>age</th>\n",
              "      <th>player_height</th>\n",
              "      <th>player_weight</th>\n",
              "      <th>college</th>\n",
              "      <th>country</th>\n",
              "      <th>draft_year</th>\n",
              "      <th>draft_round</th>\n",
              "      <th>draft_number</th>\n",
              "      <th>gp</th>\n",
              "      <th>pts</th>\n",
              "      <th>reb</th>\n",
              "      <th>ast</th>\n",
              "      <th>net_rating</th>\n",
              "      <th>oreb_pct</th>\n",
              "      <th>dreb_pct</th>\n",
              "      <th>usg_pct</th>\n",
              "      <th>ts_pct</th>\n",
              "      <th>ast_pct</th>\n",
              "      <th>season</th>\n",
              "    </tr>\n",
              "  </thead>\n",
              "  <tbody>\n",
              "    <tr>\n",
              "      <th>0</th>\n",
              "      <td>0</td>\n",
              "      <td>George Zidek</td>\n",
              "      <td>DEN</td>\n",
              "      <td>23.0</td>\n",
              "      <td>213.36</td>\n",
              "      <td>119.748288</td>\n",
              "      <td>UCLA</td>\n",
              "      <td>USA</td>\n",
              "      <td>1995</td>\n",
              "      <td>1</td>\n",
              "      <td>22</td>\n",
              "      <td>52</td>\n",
              "      <td>2.8</td>\n",
              "      <td>1.7</td>\n",
              "      <td>0.3</td>\n",
              "      <td>-14.1</td>\n",
              "      <td>0.102</td>\n",
              "      <td>0.169</td>\n",
              "      <td>0.195</td>\n",
              "      <td>0.500</td>\n",
              "      <td>0.064</td>\n",
              "      <td>1996-97</td>\n",
              "    </tr>\n",
              "    <tr>\n",
              "      <th>1</th>\n",
              "      <td>1</td>\n",
              "      <td>Darrell Armstrong</td>\n",
              "      <td>ORL</td>\n",
              "      <td>29.0</td>\n",
              "      <td>185.42</td>\n",
              "      <td>81.646560</td>\n",
              "      <td>Fayetteville State</td>\n",
              "      <td>USA</td>\n",
              "      <td>Undrafted</td>\n",
              "      <td>Undrafted</td>\n",
              "      <td>Undrafted</td>\n",
              "      <td>67</td>\n",
              "      <td>6.1</td>\n",
              "      <td>1.1</td>\n",
              "      <td>2.6</td>\n",
              "      <td>0.3</td>\n",
              "      <td>0.039</td>\n",
              "      <td>0.050</td>\n",
              "      <td>0.222</td>\n",
              "      <td>0.525</td>\n",
              "      <td>0.308</td>\n",
              "      <td>1996-97</td>\n",
              "    </tr>\n",
              "    <tr>\n",
              "      <th>2</th>\n",
              "      <td>2</td>\n",
              "      <td>Darrick Martin</td>\n",
              "      <td>LAC</td>\n",
              "      <td>26.0</td>\n",
              "      <td>180.34</td>\n",
              "      <td>77.110640</td>\n",
              "      <td>UCLA</td>\n",
              "      <td>USA</td>\n",
              "      <td>Undrafted</td>\n",
              "      <td>Undrafted</td>\n",
              "      <td>Undrafted</td>\n",
              "      <td>82</td>\n",
              "      <td>10.9</td>\n",
              "      <td>1.4</td>\n",
              "      <td>4.1</td>\n",
              "      <td>-4.5</td>\n",
              "      <td>0.016</td>\n",
              "      <td>0.060</td>\n",
              "      <td>0.232</td>\n",
              "      <td>0.539</td>\n",
              "      <td>0.292</td>\n",
              "      <td>1996-97</td>\n",
              "    </tr>\n",
              "    <tr>\n",
              "      <th>3</th>\n",
              "      <td>3</td>\n",
              "      <td>Darrin Hancock</td>\n",
              "      <td>ATL</td>\n",
              "      <td>25.0</td>\n",
              "      <td>200.66</td>\n",
              "      <td>92.986360</td>\n",
              "      <td>Kansas</td>\n",
              "      <td>USA</td>\n",
              "      <td>1994</td>\n",
              "      <td>2</td>\n",
              "      <td>38</td>\n",
              "      <td>24</td>\n",
              "      <td>1.8</td>\n",
              "      <td>0.8</td>\n",
              "      <td>0.5</td>\n",
              "      <td>-2.6</td>\n",
              "      <td>0.030</td>\n",
              "      <td>0.118</td>\n",
              "      <td>0.159</td>\n",
              "      <td>0.510</td>\n",
              "      <td>0.136</td>\n",
              "      <td>1996-97</td>\n",
              "    </tr>\n",
              "    <tr>\n",
              "      <th>4</th>\n",
              "      <td>4</td>\n",
              "      <td>Darvin Ham</td>\n",
              "      <td>IND</td>\n",
              "      <td>23.0</td>\n",
              "      <td>200.66</td>\n",
              "      <td>99.790240</td>\n",
              "      <td>Texas Tech</td>\n",
              "      <td>USA</td>\n",
              "      <td>Undrafted</td>\n",
              "      <td>Undrafted</td>\n",
              "      <td>Undrafted</td>\n",
              "      <td>36</td>\n",
              "      <td>2.3</td>\n",
              "      <td>1.6</td>\n",
              "      <td>0.4</td>\n",
              "      <td>-2.0</td>\n",
              "      <td>0.109</td>\n",
              "      <td>0.097</td>\n",
              "      <td>0.140</td>\n",
              "      <td>0.536</td>\n",
              "      <td>0.072</td>\n",
              "      <td>1996-97</td>\n",
              "    </tr>\n",
              "  </tbody>\n",
              "</table>\n",
              "</div>"
            ],
            "text/plain": [
              "   id        player_name team_abbreviation  ...  ts_pct  ast_pct   season\n",
              "0   0       George Zidek               DEN  ...   0.500    0.064  1996-97\n",
              "1   1  Darrell Armstrong               ORL  ...   0.525    0.308  1996-97\n",
              "2   2     Darrick Martin               LAC  ...   0.539    0.292  1996-97\n",
              "3   3     Darrin Hancock               ATL  ...   0.510    0.136  1996-97\n",
              "4   4         Darvin Ham               IND  ...   0.536    0.072  1996-97\n",
              "\n",
              "[5 rows x 22 columns]"
            ]
          },
          "metadata": {
            "tags": []
          },
          "execution_count": 12
        }
      ]
    },
    {
      "cell_type": "code",
      "metadata": {
        "id": "0Kv3Pf3C7M0v",
        "colab_type": "code",
        "colab": {
          "base_uri": "https://localhost:8080/",
          "height": 408
        },
        "outputId": "258b1ca9-1477-4562-b76e-0f4000f9e14d"
      },
      "source": [
        "dataset.dtypes"
      ],
      "execution_count": 13,
      "outputs": [
        {
          "output_type": "execute_result",
          "data": {
            "text/plain": [
              "id                     int64\n",
              "player_name           object\n",
              "team_abbreviation     object\n",
              "age                  float64\n",
              "player_height        float64\n",
              "player_weight        float64\n",
              "college               object\n",
              "country               object\n",
              "draft_year            object\n",
              "draft_round           object\n",
              "draft_number          object\n",
              "gp                     int64\n",
              "pts                  float64\n",
              "reb                  float64\n",
              "ast                  float64\n",
              "net_rating           float64\n",
              "oreb_pct             float64\n",
              "dreb_pct             float64\n",
              "usg_pct              float64\n",
              "ts_pct               float64\n",
              "ast_pct              float64\n",
              "season                object\n",
              "dtype: object"
            ]
          },
          "metadata": {
            "tags": []
          },
          "execution_count": 13
        }
      ]
    },
    {
      "cell_type": "code",
      "metadata": {
        "id": "kDHVYnFc8-pH",
        "colab_type": "code",
        "colab": {}
      },
      "source": [
        "# Criando categorias de dados\n",
        "dataset['team_abbreviation'] = dataset['team_abbreviation'].astype('category')\n",
        "dataset['college'] = dataset['college'].astype('category')\n",
        "dataset['country'] = dataset['country'].astype('category')\n",
        "dataset['draft_year'] = dataset['draft_year'].astype('category')\n",
        "dataset['season'] = dataset['season'].astype('category')"
      ],
      "execution_count": 0,
      "outputs": []
    },
    {
      "cell_type": "code",
      "metadata": {
        "id": "sHk-6PGo_O4g",
        "colab_type": "code",
        "colab": {
          "base_uri": "https://localhost:8080/",
          "height": 408
        },
        "outputId": "68ffcff4-6b5e-4b51-cba7-3b2d43a0bb09"
      },
      "source": [
        "dataset.dtypes"
      ],
      "execution_count": 15,
      "outputs": [
        {
          "output_type": "execute_result",
          "data": {
            "text/plain": [
              "id                      int64\n",
              "player_name            object\n",
              "team_abbreviation    category\n",
              "age                   float64\n",
              "player_height         float64\n",
              "player_weight         float64\n",
              "college              category\n",
              "country              category\n",
              "draft_year           category\n",
              "draft_round            object\n",
              "draft_number           object\n",
              "gp                      int64\n",
              "pts                   float64\n",
              "reb                   float64\n",
              "ast                   float64\n",
              "net_rating            float64\n",
              "oreb_pct              float64\n",
              "dreb_pct              float64\n",
              "usg_pct               float64\n",
              "ts_pct                float64\n",
              "ast_pct               float64\n",
              "season               category\n",
              "dtype: object"
            ]
          },
          "metadata": {
            "tags": []
          },
          "execution_count": 15
        }
      ]
    },
    {
      "cell_type": "code",
      "metadata": {
        "id": "HsXHT7Fg_e06",
        "colab_type": "code",
        "colab": {
          "base_uri": "https://localhost:8080/",
          "height": 102
        },
        "outputId": "03e40364-7500-45f0-83b2-4d5d01837807"
      },
      "source": [
        "dataset['team_abbreviation'].cat.categories"
      ],
      "execution_count": 18,
      "outputs": [
        {
          "output_type": "execute_result",
          "data": {
            "text/plain": [
              "Index(['ATL', 'BKN', 'BOS', 'CHA', 'CHH', 'CHI', 'CLE', 'DAL', 'DEN', 'DET',\n",
              "       'GSW', 'HOU', 'IND', 'LAC', 'LAL', 'MEM', 'MIA', 'MIL', 'MIN', 'NJN',\n",
              "       'NOH', 'NOK', 'NOP', 'NYK', 'OKC', 'ORL', 'PHI', 'PHX', 'POR', 'SAC',\n",
              "       'SAS', 'SEA', 'TOR', 'UTA', 'VAN', 'WAS'],\n",
              "      dtype='object')"
            ]
          },
          "metadata": {
            "tags": []
          },
          "execution_count": 18
        }
      ]
    },
    {
      "cell_type": "code",
      "metadata": {
        "id": "uMLGUoz_CQ1i",
        "colab_type": "code",
        "colab": {
          "base_uri": "https://localhost:8080/",
          "height": 153
        },
        "outputId": "6dc4c6cb-158c-43dc-e9d9-23cd7f77721b"
      },
      "source": [
        "dataset['college'].cat.categories\n"
      ],
      "execution_count": 20,
      "outputs": [
        {
          "output_type": "execute_result",
          "data": {
            "text/plain": [
              "Index(['Alabama', 'Alabama A&M', 'Alabama-Birmingham', 'Alabama-Huntsville',\n",
              "       'Albany State (GA)', 'American', 'American International', 'Arizona',\n",
              "       'Arizona State', 'Arkansas',\n",
              "       ...\n",
              "       'William Paterson', 'Wingate', 'Wisconsin', 'Wisconsin-Green Bay',\n",
              "       'Wisconsin-Stevens Point', 'Wright State', 'Wyoming', 'Xavier', 'Yale',\n",
              "       'Yonsei (KOR)'],\n",
              "      dtype='object', length=298)"
            ]
          },
          "metadata": {
            "tags": []
          },
          "execution_count": 20
        }
      ]
    },
    {
      "cell_type": "code",
      "metadata": {
        "id": "lbV5ffJiCzXh",
        "colab_type": "code",
        "colab": {
          "base_uri": "https://localhost:8080/",
          "height": 272
        },
        "outputId": "d93fa36f-f4ce-438b-a12a-76144f7b965d"
      },
      "source": [
        "dataset['country'].cat.categories"
      ],
      "execution_count": 21,
      "outputs": [
        {
          "output_type": "execute_result",
          "data": {
            "text/plain": [
              "Index(['Argentina', 'Australia', 'Austria', 'Bahamas', 'Belize', 'Bosnia',\n",
              "       'Bosnia & Herzegovina', 'Bosnia and Herzegovina', 'Brazil',\n",
              "       'Cabo Verde', 'Cameroon', 'Canada', 'China', 'Congo', 'Croatia',\n",
              "       'Czech Republic', 'Democratic Republic of the Congo',\n",
              "       'Dominican Republic', 'Egypt', 'England', 'Finland', 'France', 'Gabon',\n",
              "       'Georgia', 'Germany', 'Ghana', 'Great Britain', 'Greece', 'Haiti',\n",
              "       'Iran', 'Ireland', 'Israel', 'Italy', 'Jamaica', 'Latvia', 'Lithuania',\n",
              "       'Macedonia', 'Mali', 'Mexico', 'Montenegro', 'Netherlands',\n",
              "       'New Zealand', 'Nigeria', 'Panama', 'Poland', 'Puerto Rico', 'Russia',\n",
              "       'Scotland', 'Senegal', 'Serbia', 'Serbia and Montenegro', 'Slovenia',\n",
              "       'South Korea', 'South Sudan', 'Spain', 'St. Vincent & Grenadines',\n",
              "       'Sudan (UK)', 'Sweden', 'Switzerland', 'Tanzania', 'Tunisia', 'Turkey',\n",
              "       'U.S. Virgin Islands', 'US Virgin Islands', 'USA', 'USSR', 'Ukraine',\n",
              "       'United Kingdom', 'Uruguay', 'Venezuela', 'Yugoslavia'],\n",
              "      dtype='object')"
            ]
          },
          "metadata": {
            "tags": []
          },
          "execution_count": 21
        }
      ]
    },
    {
      "cell_type": "code",
      "metadata": {
        "id": "GeaxS3MmDADc",
        "colab_type": "code",
        "colab": {
          "base_uri": "https://localhost:8080/",
          "height": 119
        },
        "outputId": "ff13cda0-b468-43a1-f324-4151b51fa9e5"
      },
      "source": [
        "dataset['draft_year'].cat.categories"
      ],
      "execution_count": 22,
      "outputs": [
        {
          "output_type": "execute_result",
          "data": {
            "text/plain": [
              "Index(['1963', '1976', '1978', '1979', '1980', '1981', '1982', '1983', '1984',\n",
              "       '1985', '1986', '1987', '1988', '1989', '1990', '1991', '1992', '1993',\n",
              "       '1994', '1995', '1996', '1997', '1998', '1999', '2000', '2001', '2002',\n",
              "       '2003', '2004', '2005', '2006', '2007', '2008', '2009', '2010', '2011',\n",
              "       '2012', '2013', '2014', '2015', '2016', '2017', 'Undrafted'],\n",
              "      dtype='object')"
            ]
          },
          "metadata": {
            "tags": []
          },
          "execution_count": 22
        }
      ]
    },
    {
      "cell_type": "code",
      "metadata": {
        "id": "AFtkRkN0DP-5",
        "colab_type": "code",
        "colab": {
          "base_uri": "https://localhost:8080/",
          "height": 102
        },
        "outputId": "d2a291a4-78e4-47ed-f436-9fe035dd1420"
      },
      "source": [
        "dataset['season'].cat.categories"
      ],
      "execution_count": 24,
      "outputs": [
        {
          "output_type": "execute_result",
          "data": {
            "text/plain": [
              "Index(['1996-97', '1997-98', '1998-99', '1999-00', '2000-01', '2001-02',\n",
              "       '2002-03', '2003-04', '2004-05', '2005-06', '2006-07', '2007-08',\n",
              "       '2008-09', '2009-10', '2010-11', '2011-12', '2012-13', '2013-14',\n",
              "       '2014-15', '2015-16', '2016-17', '2017-18'],\n",
              "      dtype='object')"
            ]
          },
          "metadata": {
            "tags": []
          },
          "execution_count": 24
        }
      ]
    },
    {
      "cell_type": "code",
      "metadata": {
        "id": "NtevuI6cFF2b",
        "colab_type": "code",
        "colab": {
          "base_uri": "https://localhost:8080/",
          "height": 309
        },
        "outputId": "252b7544-bf7d-4cfd-9ef5-b2d6114c8746"
      },
      "source": [
        "dataset.head()"
      ],
      "execution_count": 28,
      "outputs": [
        {
          "output_type": "execute_result",
          "data": {
            "text/html": [
              "<div>\n",
              "<style scoped>\n",
              "    .dataframe tbody tr th:only-of-type {\n",
              "        vertical-align: middle;\n",
              "    }\n",
              "\n",
              "    .dataframe tbody tr th {\n",
              "        vertical-align: top;\n",
              "    }\n",
              "\n",
              "    .dataframe thead th {\n",
              "        text-align: right;\n",
              "    }\n",
              "</style>\n",
              "<table border=\"1\" class=\"dataframe\">\n",
              "  <thead>\n",
              "    <tr style=\"text-align: right;\">\n",
              "      <th></th>\n",
              "      <th>id</th>\n",
              "      <th>player_name</th>\n",
              "      <th>team_abbreviation</th>\n",
              "      <th>age</th>\n",
              "      <th>player_height</th>\n",
              "      <th>player_weight</th>\n",
              "      <th>college</th>\n",
              "      <th>country</th>\n",
              "      <th>draft_year</th>\n",
              "      <th>draft_round</th>\n",
              "      <th>draft_number</th>\n",
              "      <th>gp</th>\n",
              "      <th>pts</th>\n",
              "      <th>reb</th>\n",
              "      <th>ast</th>\n",
              "      <th>net_rating</th>\n",
              "      <th>oreb_pct</th>\n",
              "      <th>dreb_pct</th>\n",
              "      <th>usg_pct</th>\n",
              "      <th>ts_pct</th>\n",
              "      <th>ast_pct</th>\n",
              "      <th>season</th>\n",
              "    </tr>\n",
              "  </thead>\n",
              "  <tbody>\n",
              "    <tr>\n",
              "      <th>0</th>\n",
              "      <td>0</td>\n",
              "      <td>George Zidek</td>\n",
              "      <td>DEN</td>\n",
              "      <td>23.0</td>\n",
              "      <td>213.36</td>\n",
              "      <td>119.748288</td>\n",
              "      <td>UCLA</td>\n",
              "      <td>USA</td>\n",
              "      <td>1995</td>\n",
              "      <td>1</td>\n",
              "      <td>22</td>\n",
              "      <td>52</td>\n",
              "      <td>2.8</td>\n",
              "      <td>1.7</td>\n",
              "      <td>0.3</td>\n",
              "      <td>-14.1</td>\n",
              "      <td>0.102</td>\n",
              "      <td>0.169</td>\n",
              "      <td>0.195</td>\n",
              "      <td>0.500</td>\n",
              "      <td>0.064</td>\n",
              "      <td>1996-97</td>\n",
              "    </tr>\n",
              "    <tr>\n",
              "      <th>1</th>\n",
              "      <td>1</td>\n",
              "      <td>Darrell Armstrong</td>\n",
              "      <td>ORL</td>\n",
              "      <td>29.0</td>\n",
              "      <td>185.42</td>\n",
              "      <td>81.646560</td>\n",
              "      <td>Fayetteville State</td>\n",
              "      <td>USA</td>\n",
              "      <td>Undrafted</td>\n",
              "      <td>Undrafted</td>\n",
              "      <td>Undrafted</td>\n",
              "      <td>67</td>\n",
              "      <td>6.1</td>\n",
              "      <td>1.1</td>\n",
              "      <td>2.6</td>\n",
              "      <td>0.3</td>\n",
              "      <td>0.039</td>\n",
              "      <td>0.050</td>\n",
              "      <td>0.222</td>\n",
              "      <td>0.525</td>\n",
              "      <td>0.308</td>\n",
              "      <td>1996-97</td>\n",
              "    </tr>\n",
              "    <tr>\n",
              "      <th>2</th>\n",
              "      <td>2</td>\n",
              "      <td>Darrick Martin</td>\n",
              "      <td>LAC</td>\n",
              "      <td>26.0</td>\n",
              "      <td>180.34</td>\n",
              "      <td>77.110640</td>\n",
              "      <td>UCLA</td>\n",
              "      <td>USA</td>\n",
              "      <td>Undrafted</td>\n",
              "      <td>Undrafted</td>\n",
              "      <td>Undrafted</td>\n",
              "      <td>82</td>\n",
              "      <td>10.9</td>\n",
              "      <td>1.4</td>\n",
              "      <td>4.1</td>\n",
              "      <td>-4.5</td>\n",
              "      <td>0.016</td>\n",
              "      <td>0.060</td>\n",
              "      <td>0.232</td>\n",
              "      <td>0.539</td>\n",
              "      <td>0.292</td>\n",
              "      <td>1996-97</td>\n",
              "    </tr>\n",
              "    <tr>\n",
              "      <th>3</th>\n",
              "      <td>3</td>\n",
              "      <td>Darrin Hancock</td>\n",
              "      <td>ATL</td>\n",
              "      <td>25.0</td>\n",
              "      <td>200.66</td>\n",
              "      <td>92.986360</td>\n",
              "      <td>Kansas</td>\n",
              "      <td>USA</td>\n",
              "      <td>1994</td>\n",
              "      <td>2</td>\n",
              "      <td>38</td>\n",
              "      <td>24</td>\n",
              "      <td>1.8</td>\n",
              "      <td>0.8</td>\n",
              "      <td>0.5</td>\n",
              "      <td>-2.6</td>\n",
              "      <td>0.030</td>\n",
              "      <td>0.118</td>\n",
              "      <td>0.159</td>\n",
              "      <td>0.510</td>\n",
              "      <td>0.136</td>\n",
              "      <td>1996-97</td>\n",
              "    </tr>\n",
              "    <tr>\n",
              "      <th>4</th>\n",
              "      <td>4</td>\n",
              "      <td>Darvin Ham</td>\n",
              "      <td>IND</td>\n",
              "      <td>23.0</td>\n",
              "      <td>200.66</td>\n",
              "      <td>99.790240</td>\n",
              "      <td>Texas Tech</td>\n",
              "      <td>USA</td>\n",
              "      <td>Undrafted</td>\n",
              "      <td>Undrafted</td>\n",
              "      <td>Undrafted</td>\n",
              "      <td>36</td>\n",
              "      <td>2.3</td>\n",
              "      <td>1.6</td>\n",
              "      <td>0.4</td>\n",
              "      <td>-2.0</td>\n",
              "      <td>0.109</td>\n",
              "      <td>0.097</td>\n",
              "      <td>0.140</td>\n",
              "      <td>0.536</td>\n",
              "      <td>0.072</td>\n",
              "      <td>1996-97</td>\n",
              "    </tr>\n",
              "  </tbody>\n",
              "</table>\n",
              "</div>"
            ],
            "text/plain": [
              "   id        player_name team_abbreviation  ...  ts_pct  ast_pct   season\n",
              "0   0       George Zidek               DEN  ...   0.500    0.064  1996-97\n",
              "1   1  Darrell Armstrong               ORL  ...   0.525    0.308  1996-97\n",
              "2   2     Darrick Martin               LAC  ...   0.539    0.292  1996-97\n",
              "3   3     Darrin Hancock               ATL  ...   0.510    0.136  1996-97\n",
              "4   4         Darvin Ham               IND  ...   0.536    0.072  1996-97\n",
              "\n",
              "[5 rows x 22 columns]"
            ]
          },
          "metadata": {
            "tags": []
          },
          "execution_count": 28
        }
      ]
    },
    {
      "cell_type": "code",
      "metadata": {
        "id": "AqqvbL27EJbV",
        "colab_type": "code",
        "colab": {
          "base_uri": "https://localhost:8080/",
          "height": 34
        },
        "outputId": "d174432d-7311-41b2-8960-5683f01f19ef"
      },
      "source": [
        "dataset.shape"
      ],
      "execution_count": 29,
      "outputs": [
        {
          "output_type": "execute_result",
          "data": {
            "text/plain": [
              "(10101, 22)"
            ]
          },
          "metadata": {
            "tags": []
          },
          "execution_count": 29
        }
      ]
    },
    {
      "cell_type": "code",
      "metadata": {
        "id": "7pWm-8quFSet",
        "colab_type": "code",
        "colab": {
          "base_uri": "https://localhost:8080/",
          "height": 408
        },
        "outputId": "d4e75d81-c1fe-43a4-fd0b-89975f214e0b"
      },
      "source": [
        "print(dataset.isnull().sum())"
      ],
      "execution_count": 31,
      "outputs": [
        {
          "output_type": "stream",
          "text": [
            "id                   0\n",
            "player_name          0\n",
            "team_abbreviation    0\n",
            "age                  0\n",
            "player_height        0\n",
            "player_weight        0\n",
            "college              0\n",
            "country              0\n",
            "draft_year           0\n",
            "draft_round          0\n",
            "draft_number         0\n",
            "gp                   0\n",
            "pts                  0\n",
            "reb                  0\n",
            "ast                  0\n",
            "net_rating           0\n",
            "oreb_pct             0\n",
            "dreb_pct             0\n",
            "usg_pct              0\n",
            "ts_pct               0\n",
            "ast_pct              0\n",
            "season               0\n",
            "dtype: int64\n"
          ],
          "name": "stdout"
        }
      ]
    },
    {
      "cell_type": "code",
      "metadata": {
        "id": "P6QYBQeFFqZR",
        "colab_type": "code",
        "colab": {
          "base_uri": "https://localhost:8080/",
          "height": 309
        },
        "outputId": "72ded860-571d-43d6-f22d-a032c649803a"
      },
      "source": [
        "dataset1 = dataset.dropna()\n",
        "dataset1.head()"
      ],
      "execution_count": 32,
      "outputs": [
        {
          "output_type": "execute_result",
          "data": {
            "text/html": [
              "<div>\n",
              "<style scoped>\n",
              "    .dataframe tbody tr th:only-of-type {\n",
              "        vertical-align: middle;\n",
              "    }\n",
              "\n",
              "    .dataframe tbody tr th {\n",
              "        vertical-align: top;\n",
              "    }\n",
              "\n",
              "    .dataframe thead th {\n",
              "        text-align: right;\n",
              "    }\n",
              "</style>\n",
              "<table border=\"1\" class=\"dataframe\">\n",
              "  <thead>\n",
              "    <tr style=\"text-align: right;\">\n",
              "      <th></th>\n",
              "      <th>id</th>\n",
              "      <th>player_name</th>\n",
              "      <th>team_abbreviation</th>\n",
              "      <th>age</th>\n",
              "      <th>player_height</th>\n",
              "      <th>player_weight</th>\n",
              "      <th>college</th>\n",
              "      <th>country</th>\n",
              "      <th>draft_year</th>\n",
              "      <th>draft_round</th>\n",
              "      <th>draft_number</th>\n",
              "      <th>gp</th>\n",
              "      <th>pts</th>\n",
              "      <th>reb</th>\n",
              "      <th>ast</th>\n",
              "      <th>net_rating</th>\n",
              "      <th>oreb_pct</th>\n",
              "      <th>dreb_pct</th>\n",
              "      <th>usg_pct</th>\n",
              "      <th>ts_pct</th>\n",
              "      <th>ast_pct</th>\n",
              "      <th>season</th>\n",
              "    </tr>\n",
              "  </thead>\n",
              "  <tbody>\n",
              "    <tr>\n",
              "      <th>0</th>\n",
              "      <td>0</td>\n",
              "      <td>George Zidek</td>\n",
              "      <td>DEN</td>\n",
              "      <td>23.0</td>\n",
              "      <td>213.36</td>\n",
              "      <td>119.748288</td>\n",
              "      <td>UCLA</td>\n",
              "      <td>USA</td>\n",
              "      <td>1995</td>\n",
              "      <td>1</td>\n",
              "      <td>22</td>\n",
              "      <td>52</td>\n",
              "      <td>2.8</td>\n",
              "      <td>1.7</td>\n",
              "      <td>0.3</td>\n",
              "      <td>-14.1</td>\n",
              "      <td>0.102</td>\n",
              "      <td>0.169</td>\n",
              "      <td>0.195</td>\n",
              "      <td>0.500</td>\n",
              "      <td>0.064</td>\n",
              "      <td>1996-97</td>\n",
              "    </tr>\n",
              "    <tr>\n",
              "      <th>1</th>\n",
              "      <td>1</td>\n",
              "      <td>Darrell Armstrong</td>\n",
              "      <td>ORL</td>\n",
              "      <td>29.0</td>\n",
              "      <td>185.42</td>\n",
              "      <td>81.646560</td>\n",
              "      <td>Fayetteville State</td>\n",
              "      <td>USA</td>\n",
              "      <td>Undrafted</td>\n",
              "      <td>Undrafted</td>\n",
              "      <td>Undrafted</td>\n",
              "      <td>67</td>\n",
              "      <td>6.1</td>\n",
              "      <td>1.1</td>\n",
              "      <td>2.6</td>\n",
              "      <td>0.3</td>\n",
              "      <td>0.039</td>\n",
              "      <td>0.050</td>\n",
              "      <td>0.222</td>\n",
              "      <td>0.525</td>\n",
              "      <td>0.308</td>\n",
              "      <td>1996-97</td>\n",
              "    </tr>\n",
              "    <tr>\n",
              "      <th>2</th>\n",
              "      <td>2</td>\n",
              "      <td>Darrick Martin</td>\n",
              "      <td>LAC</td>\n",
              "      <td>26.0</td>\n",
              "      <td>180.34</td>\n",
              "      <td>77.110640</td>\n",
              "      <td>UCLA</td>\n",
              "      <td>USA</td>\n",
              "      <td>Undrafted</td>\n",
              "      <td>Undrafted</td>\n",
              "      <td>Undrafted</td>\n",
              "      <td>82</td>\n",
              "      <td>10.9</td>\n",
              "      <td>1.4</td>\n",
              "      <td>4.1</td>\n",
              "      <td>-4.5</td>\n",
              "      <td>0.016</td>\n",
              "      <td>0.060</td>\n",
              "      <td>0.232</td>\n",
              "      <td>0.539</td>\n",
              "      <td>0.292</td>\n",
              "      <td>1996-97</td>\n",
              "    </tr>\n",
              "    <tr>\n",
              "      <th>3</th>\n",
              "      <td>3</td>\n",
              "      <td>Darrin Hancock</td>\n",
              "      <td>ATL</td>\n",
              "      <td>25.0</td>\n",
              "      <td>200.66</td>\n",
              "      <td>92.986360</td>\n",
              "      <td>Kansas</td>\n",
              "      <td>USA</td>\n",
              "      <td>1994</td>\n",
              "      <td>2</td>\n",
              "      <td>38</td>\n",
              "      <td>24</td>\n",
              "      <td>1.8</td>\n",
              "      <td>0.8</td>\n",
              "      <td>0.5</td>\n",
              "      <td>-2.6</td>\n",
              "      <td>0.030</td>\n",
              "      <td>0.118</td>\n",
              "      <td>0.159</td>\n",
              "      <td>0.510</td>\n",
              "      <td>0.136</td>\n",
              "      <td>1996-97</td>\n",
              "    </tr>\n",
              "    <tr>\n",
              "      <th>4</th>\n",
              "      <td>4</td>\n",
              "      <td>Darvin Ham</td>\n",
              "      <td>IND</td>\n",
              "      <td>23.0</td>\n",
              "      <td>200.66</td>\n",
              "      <td>99.790240</td>\n",
              "      <td>Texas Tech</td>\n",
              "      <td>USA</td>\n",
              "      <td>Undrafted</td>\n",
              "      <td>Undrafted</td>\n",
              "      <td>Undrafted</td>\n",
              "      <td>36</td>\n",
              "      <td>2.3</td>\n",
              "      <td>1.6</td>\n",
              "      <td>0.4</td>\n",
              "      <td>-2.0</td>\n",
              "      <td>0.109</td>\n",
              "      <td>0.097</td>\n",
              "      <td>0.140</td>\n",
              "      <td>0.536</td>\n",
              "      <td>0.072</td>\n",
              "      <td>1996-97</td>\n",
              "    </tr>\n",
              "  </tbody>\n",
              "</table>\n",
              "</div>"
            ],
            "text/plain": [
              "   id        player_name team_abbreviation  ...  ts_pct  ast_pct   season\n",
              "0   0       George Zidek               DEN  ...   0.500    0.064  1996-97\n",
              "1   1  Darrell Armstrong               ORL  ...   0.525    0.308  1996-97\n",
              "2   2     Darrick Martin               LAC  ...   0.539    0.292  1996-97\n",
              "3   3     Darrin Hancock               ATL  ...   0.510    0.136  1996-97\n",
              "4   4         Darvin Ham               IND  ...   0.536    0.072  1996-97\n",
              "\n",
              "[5 rows x 22 columns]"
            ]
          },
          "metadata": {
            "tags": []
          },
          "execution_count": 32
        }
      ]
    },
    {
      "cell_type": "code",
      "metadata": {
        "id": "jrCYRuHPGIhi",
        "colab_type": "code",
        "colab": {
          "base_uri": "https://localhost:8080/",
          "height": 34
        },
        "outputId": "9ca74f02-fec2-4305-d9f9-ff5333b699c8"
      },
      "source": [
        "len(dataset1)"
      ],
      "execution_count": 33,
      "outputs": [
        {
          "output_type": "execute_result",
          "data": {
            "text/plain": [
              "10101"
            ]
          },
          "metadata": {
            "tags": []
          },
          "execution_count": 33
        }
      ]
    }
  ]
}