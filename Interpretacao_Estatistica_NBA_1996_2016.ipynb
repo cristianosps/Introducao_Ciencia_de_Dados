{
  "nbformat": 4,
  "nbformat_minor": 0,
  "metadata": {
    "colab": {
      "name": "Interpretacao_Estatistica_NBA_1996_2016.ipynb",
      "provenance": [],
      "collapsed_sections": [],
      "include_colab_link": true
    },
    "kernelspec": {
      "name": "python3",
      "display_name": "Python 3"
    }
  },
  "cells": [
    {
      "cell_type": "markdown",
      "metadata": {
        "id": "view-in-github",
        "colab_type": "text"
      },
      "source": [
        "<a href=\"https://colab.research.google.com/github/cristianosps/Introducao_Ciencia_de_Dados/blob/master/Interpretacao_Estatistica_NBA_1996_2016.ipynb\" target=\"_parent\"><img src=\"https://colab.research.google.com/assets/colab-badge.svg\" alt=\"Open In Colab\"/></a>"
      ]
    },
    {
      "cell_type": "markdown",
      "metadata": {
        "id": "uHAs3sJ390ST",
        "colab_type": "text"
      },
      "source": [
        "\n",
        "\n",
        "---\n",
        "\n",
        "#**CESAR School/ CIn-UFPE - Especialização em Análise e Engenharia de Dados**\n",
        "\n",
        "##**Projeto de Avaliação para Disciplina \"Introdução à Análise de Dados\"**\n",
        "\n",
        "###**Professor: Luciano Barbosa**\n",
        "###**Monitor: Johny Moreira**\n"
      ]
    },
    {
      "cell_type": "markdown",
      "metadata": {
        "id": "uF-RduFQCYFz",
        "colab_type": "text"
      },
      "source": [
        "###**Aluno:** Cristiano Siqueirra P. de Santana\n",
        "###**Turma:** 2019.2 **| Matrícula:** 3415\n",
        "\n",
        "---\n",
        "\n"
      ]
    },
    {
      "cell_type": "markdown",
      "metadata": {
        "id": "XqoFhh06LXGD",
        "colab_type": "text"
      },
      "source": [
        "\n",
        "\n",
        "##**1. Apresentação**\n",
        "\n",
        "Neste projeto iremos realizar a leitura de uma determinada base de dados e faremos a interpretação das informações através das técnicas de extração e visualização de dados apresentadas durante a disciplina de \"Introdução à Análise de Dados\".\n",
        "\n",
        ".\n",
        "\n",
        "Nesta base de dados estão contidas informações relecionadas a estatística e aproveitamento de cada jogador da NBA, para cada temporada que disputou entre os anos de 1996 e 2018. \n",
        "\n",
        "Por este conjunto de dados podemos obter de cada jogador que passou pela NBA, entre os anos de 1996 e 2018, informações pessoais (Idade, País de origem, Faculdade...), porte físico (Altura, Peso...), Times/ Franquias que defendeu enquanto esteve na NBA e seu aproveitamento para cada temporada que disputou da liga.\n",
        "\n",
        ".\n",
        "\n",
        "**ATENÇÃO:** Na descrição da base de dados em sua origem, conforme fonte abaixo, diz que as informações são referentes as temporadas entre os anos de 1996 e 2016, porém ao começar a explorar algumas informações categorizadas (\"draft_year\", \"sesion\") foi verificado que a base foi atualizada e agora contempla dados de cada jogador até a temporada 2017-2018 da NBA.\n",
        "\n",
        ".\n",
        "\n",
        "(**Fonte:** https://www.kaggle.com/justinas/nba-players-data#all_seasons.csv)"
      ]
    },
    {
      "cell_type": "markdown",
      "metadata": {
        "id": "-fOPSL1UKFM9",
        "colab_type": "text"
      },
      "source": [
        "\n",
        "---\n",
        "\n",
        ".\n",
        "\n",
        "##**2. Pré-processamento da Base de Dados a ser estudada neste projeto**"
      ]
    },
    {
      "cell_type": "code",
      "metadata": {
        "id": "hZDqv14InSiA",
        "colab_type": "code",
        "outputId": "8e522078-ff96-4253-c20b-45c83d70fb71",
        "colab": {
          "base_uri": "https://localhost:8080/",
          "height": 309
        }
      },
      "source": [
        "# Imports das bibliotecas necessárias para desenvolvimento do Projeto\n",
        "import numpy as np      # Biblioteca de funções Numpy\n",
        "import pandas as pd     # Biblioteca de funções Pamdas\n",
        "\n",
        "# Bibliotecas para auxiliar na visualização dos dados\n",
        "import seaborn as sns   \n",
        "import matplotlib.pyplot as plt\n",
        "\n",
        "import math\n",
        "\n",
        "# Conexão com repositório da base de dados no projeto\n",
        "dataset=pd.read_csv(\"https://raw.githubusercontent.com/cristianosps/Introducao_Ciencia_de_Dados/master/all_seasons1.csv\")\n",
        "\n",
        "# Apresentação dos dados \"brutos\" do repositório\n",
        "dataset.head()\n"
      ],
      "execution_count": 543,
      "outputs": [
        {
          "output_type": "execute_result",
          "data": {
            "text/html": [
              "<div>\n",
              "<style scoped>\n",
              "    .dataframe tbody tr th:only-of-type {\n",
              "        vertical-align: middle;\n",
              "    }\n",
              "\n",
              "    .dataframe tbody tr th {\n",
              "        vertical-align: top;\n",
              "    }\n",
              "\n",
              "    .dataframe thead th {\n",
              "        text-align: right;\n",
              "    }\n",
              "</style>\n",
              "<table border=\"1\" class=\"dataframe\">\n",
              "  <thead>\n",
              "    <tr style=\"text-align: right;\">\n",
              "      <th></th>\n",
              "      <th>id</th>\n",
              "      <th>player_name</th>\n",
              "      <th>team_abbreviation</th>\n",
              "      <th>age</th>\n",
              "      <th>player_height</th>\n",
              "      <th>player_weight</th>\n",
              "      <th>college</th>\n",
              "      <th>country</th>\n",
              "      <th>draft_year</th>\n",
              "      <th>draft_round</th>\n",
              "      <th>draft_number</th>\n",
              "      <th>gp</th>\n",
              "      <th>pts</th>\n",
              "      <th>reb</th>\n",
              "      <th>ast</th>\n",
              "      <th>net_rating</th>\n",
              "      <th>oreb_pct</th>\n",
              "      <th>dreb_pct</th>\n",
              "      <th>usg_pct</th>\n",
              "      <th>ts_pct</th>\n",
              "      <th>ast_pct</th>\n",
              "      <th>season</th>\n",
              "    </tr>\n",
              "  </thead>\n",
              "  <tbody>\n",
              "    <tr>\n",
              "      <th>0</th>\n",
              "      <td>0</td>\n",
              "      <td>George Zidek</td>\n",
              "      <td>DEN</td>\n",
              "      <td>23.0</td>\n",
              "      <td>213.36</td>\n",
              "      <td>119.748288</td>\n",
              "      <td>UCLA</td>\n",
              "      <td>USA</td>\n",
              "      <td>1995</td>\n",
              "      <td>1</td>\n",
              "      <td>22</td>\n",
              "      <td>52</td>\n",
              "      <td>2.8</td>\n",
              "      <td>1.7</td>\n",
              "      <td>0.3</td>\n",
              "      <td>-14.1</td>\n",
              "      <td>0.102</td>\n",
              "      <td>0.169</td>\n",
              "      <td>0.195</td>\n",
              "      <td>0.500</td>\n",
              "      <td>0.064</td>\n",
              "      <td>1996-97</td>\n",
              "    </tr>\n",
              "    <tr>\n",
              "      <th>1</th>\n",
              "      <td>1</td>\n",
              "      <td>Darrell Armstrong</td>\n",
              "      <td>ORL</td>\n",
              "      <td>29.0</td>\n",
              "      <td>185.42</td>\n",
              "      <td>81.646560</td>\n",
              "      <td>Fayetteville State</td>\n",
              "      <td>USA</td>\n",
              "      <td>Undrafted</td>\n",
              "      <td>Undrafted</td>\n",
              "      <td>Undrafted</td>\n",
              "      <td>67</td>\n",
              "      <td>6.1</td>\n",
              "      <td>1.1</td>\n",
              "      <td>2.6</td>\n",
              "      <td>0.3</td>\n",
              "      <td>0.039</td>\n",
              "      <td>0.050</td>\n",
              "      <td>0.222</td>\n",
              "      <td>0.525</td>\n",
              "      <td>0.308</td>\n",
              "      <td>1996-97</td>\n",
              "    </tr>\n",
              "    <tr>\n",
              "      <th>2</th>\n",
              "      <td>2</td>\n",
              "      <td>Darrick Martin</td>\n",
              "      <td>LAC</td>\n",
              "      <td>26.0</td>\n",
              "      <td>180.34</td>\n",
              "      <td>77.110640</td>\n",
              "      <td>UCLA</td>\n",
              "      <td>USA</td>\n",
              "      <td>Undrafted</td>\n",
              "      <td>Undrafted</td>\n",
              "      <td>Undrafted</td>\n",
              "      <td>82</td>\n",
              "      <td>10.9</td>\n",
              "      <td>1.4</td>\n",
              "      <td>4.1</td>\n",
              "      <td>-4.5</td>\n",
              "      <td>0.016</td>\n",
              "      <td>0.060</td>\n",
              "      <td>0.232</td>\n",
              "      <td>0.539</td>\n",
              "      <td>0.292</td>\n",
              "      <td>1996-97</td>\n",
              "    </tr>\n",
              "    <tr>\n",
              "      <th>3</th>\n",
              "      <td>3</td>\n",
              "      <td>Darrin Hancock</td>\n",
              "      <td>ATL</td>\n",
              "      <td>25.0</td>\n",
              "      <td>200.66</td>\n",
              "      <td>92.986360</td>\n",
              "      <td>Kansas</td>\n",
              "      <td>USA</td>\n",
              "      <td>1994</td>\n",
              "      <td>2</td>\n",
              "      <td>38</td>\n",
              "      <td>24</td>\n",
              "      <td>1.8</td>\n",
              "      <td>0.8</td>\n",
              "      <td>0.5</td>\n",
              "      <td>-2.6</td>\n",
              "      <td>0.030</td>\n",
              "      <td>0.118</td>\n",
              "      <td>0.159</td>\n",
              "      <td>0.510</td>\n",
              "      <td>0.136</td>\n",
              "      <td>1996-97</td>\n",
              "    </tr>\n",
              "    <tr>\n",
              "      <th>4</th>\n",
              "      <td>4</td>\n",
              "      <td>Darvin Ham</td>\n",
              "      <td>IND</td>\n",
              "      <td>23.0</td>\n",
              "      <td>200.66</td>\n",
              "      <td>99.790240</td>\n",
              "      <td>Texas Tech</td>\n",
              "      <td>USA</td>\n",
              "      <td>Undrafted</td>\n",
              "      <td>Undrafted</td>\n",
              "      <td>Undrafted</td>\n",
              "      <td>36</td>\n",
              "      <td>2.3</td>\n",
              "      <td>1.6</td>\n",
              "      <td>0.4</td>\n",
              "      <td>-2.0</td>\n",
              "      <td>0.109</td>\n",
              "      <td>0.097</td>\n",
              "      <td>0.140</td>\n",
              "      <td>0.536</td>\n",
              "      <td>0.072</td>\n",
              "      <td>1996-97</td>\n",
              "    </tr>\n",
              "  </tbody>\n",
              "</table>\n",
              "</div>"
            ],
            "text/plain": [
              "   id        player_name team_abbreviation  ...  ts_pct  ast_pct   season\n",
              "0   0       George Zidek               DEN  ...   0.500    0.064  1996-97\n",
              "1   1  Darrell Armstrong               ORL  ...   0.525    0.308  1996-97\n",
              "2   2     Darrick Martin               LAC  ...   0.539    0.292  1996-97\n",
              "3   3     Darrin Hancock               ATL  ...   0.510    0.136  1996-97\n",
              "4   4         Darvin Ham               IND  ...   0.536    0.072  1996-97\n",
              "\n",
              "[5 rows x 22 columns]"
            ]
          },
          "metadata": {
            "tags": []
          },
          "execution_count": 543
        }
      ]
    },
    {
      "cell_type": "code",
      "metadata": {
        "id": "nQfRWanO0cOg",
        "colab_type": "code",
        "colab": {
          "base_uri": "https://localhost:8080/",
          "height": 476
        },
        "outputId": "c0e7ff91-86a1-4c08-9a42-02b41a5e80f3"
      },
      "source": [
        "# Apresentação das informações iniciais da base de dados\n",
        "\n",
        "#  - Total de Entradas (10101)\n",
        "#    . Índices inicial e final das entradas (0 - 10100)\n",
        "#  - Toral de Colunas (22)\n",
        "#  - Lista de Coulnas (Descrição na apresentação da base de dados)\n",
        "#    . Nome da Coluna\n",
        "#    . Valore nulo (S/N)\n",
        "#    . Tipo de Dado\n",
        "\n",
        "dataset.info()"
      ],
      "execution_count": 544,
      "outputs": [
        {
          "output_type": "stream",
          "text": [
            "<class 'pandas.core.frame.DataFrame'>\n",
            "RangeIndex: 10101 entries, 0 to 10100\n",
            "Data columns (total 22 columns):\n",
            "id                   10101 non-null int64\n",
            "player_name          10101 non-null object\n",
            "team_abbreviation    10101 non-null object\n",
            "age                  10101 non-null float64\n",
            "player_height        10101 non-null float64\n",
            "player_weight        10101 non-null float64\n",
            "college              10101 non-null object\n",
            "country              10101 non-null object\n",
            "draft_year           10101 non-null object\n",
            "draft_round          10101 non-null object\n",
            "draft_number         10101 non-null object\n",
            "gp                   10101 non-null int64\n",
            "pts                  10101 non-null float64\n",
            "reb                  10101 non-null float64\n",
            "ast                  10101 non-null float64\n",
            "net_rating           10101 non-null float64\n",
            "oreb_pct             10101 non-null float64\n",
            "dreb_pct             10101 non-null float64\n",
            "usg_pct              10101 non-null float64\n",
            "ts_pct               10101 non-null float64\n",
            "ast_pct              10101 non-null float64\n",
            "season               10101 non-null object\n",
            "dtypes: float64(12), int64(2), object(8)\n",
            "memory usage: 1.7+ MB\n"
          ],
          "name": "stdout"
        }
      ]
    },
    {
      "cell_type": "code",
      "metadata": {
        "id": "0Kv3Pf3C7M0v",
        "colab_type": "code",
        "outputId": "8b56295f-c0df-4159-9189-590243719bc8",
        "colab": {
          "base_uri": "https://localhost:8080/",
          "height": 408
        }
      },
      "source": [
        "# Apresentação dos tipos de dados iniciais para cada coluna da base de dados\n",
        "\n",
        "dataset.dtypes"
      ],
      "execution_count": 545,
      "outputs": [
        {
          "output_type": "execute_result",
          "data": {
            "text/plain": [
              "id                     int64\n",
              "player_name           object\n",
              "team_abbreviation     object\n",
              "age                  float64\n",
              "player_height        float64\n",
              "player_weight        float64\n",
              "college               object\n",
              "country               object\n",
              "draft_year            object\n",
              "draft_round           object\n",
              "draft_number          object\n",
              "gp                     int64\n",
              "pts                  float64\n",
              "reb                  float64\n",
              "ast                  float64\n",
              "net_rating           float64\n",
              "oreb_pct             float64\n",
              "dreb_pct             float64\n",
              "usg_pct              float64\n",
              "ts_pct               float64\n",
              "ast_pct              float64\n",
              "season                object\n",
              "dtype: object"
            ]
          },
          "metadata": {
            "tags": []
          },
          "execution_count": 545
        }
      ]
    },
    {
      "cell_type": "code",
      "metadata": {
        "id": "kDHVYnFc8-pH",
        "colab_type": "code",
        "colab": {}
      },
      "source": [
        "# Criação categorias de dados para base com o objetivo auxiliar no entendimento e extração das informações existentes\n",
        "# Colunas categorizadas: team_abbreviation | college | country | draft_year | season\n",
        "\n",
        "dataset['team_abbreviation'] = dataset['team_abbreviation'].astype('category')\n",
        "dataset['college'] = dataset['college'].astype('category')\n",
        "dataset['country'] = dataset['country'].astype('category')\n",
        "dataset['draft_year'] = dataset['draft_year'].astype('category')\n",
        "dataset['season'] = dataset['season'].astype('category')"
      ],
      "execution_count": 0,
      "outputs": []
    },
    {
      "cell_type": "code",
      "metadata": {
        "id": "sHk-6PGo_O4g",
        "colab_type": "code",
        "outputId": "9d7540a8-8ad1-4686-da00-0ae926ed6512",
        "colab": {
          "base_uri": "https://localhost:8080/",
          "height": 408
        }
      },
      "source": [
        "# Apresentação das categorias de dados criadas para base a ser estudada\n",
        "# Colunas categorizadas: team_abbreviation | college | country | draft_year | season\n",
        "\n",
        "dataset.dtypes"
      ],
      "execution_count": 547,
      "outputs": [
        {
          "output_type": "execute_result",
          "data": {
            "text/plain": [
              "id                      int64\n",
              "player_name            object\n",
              "team_abbreviation    category\n",
              "age                   float64\n",
              "player_height         float64\n",
              "player_weight         float64\n",
              "college              category\n",
              "country              category\n",
              "draft_year           category\n",
              "draft_round            object\n",
              "draft_number           object\n",
              "gp                      int64\n",
              "pts                   float64\n",
              "reb                   float64\n",
              "ast                   float64\n",
              "net_rating            float64\n",
              "oreb_pct              float64\n",
              "dreb_pct              float64\n",
              "usg_pct               float64\n",
              "ts_pct                float64\n",
              "ast_pct               float64\n",
              "season               category\n",
              "dtype: object"
            ]
          },
          "metadata": {
            "tags": []
          },
          "execution_count": 547
        }
      ]
    },
    {
      "cell_type": "code",
      "metadata": {
        "id": "HsXHT7Fg_e06",
        "colab_type": "code",
        "outputId": "9a1f68bc-17db-4f64-b297-6f797e192ca8",
        "colab": {
          "base_uri": "https://localhost:8080/",
          "height": 102
        }
      },
      "source": [
        "# Apresetação do valores contidos na categoria \"team_abbreviation\"\n",
        "\n",
        "dataset['team_abbreviation'].cat.categories"
      ],
      "execution_count": 548,
      "outputs": [
        {
          "output_type": "execute_result",
          "data": {
            "text/plain": [
              "Index(['ATL', 'BKN', 'BOS', 'CHA', 'CHH', 'CHI', 'CLE', 'DAL', 'DEN', 'DET',\n",
              "       'GSW', 'HOU', 'IND', 'LAC', 'LAL', 'MEM', 'MIA', 'MIL', 'MIN', 'NJN',\n",
              "       'NOH', 'NOK', 'NOP', 'NYK', 'OKC', 'ORL', 'PHI', 'PHX', 'POR', 'SAC',\n",
              "       'SAS', 'SEA', 'TOR', 'UTA', 'VAN', 'WAS'],\n",
              "      dtype='object')"
            ]
          },
          "metadata": {
            "tags": []
          },
          "execution_count": 548
        }
      ]
    },
    {
      "cell_type": "code",
      "metadata": {
        "id": "uMLGUoz_CQ1i",
        "colab_type": "code",
        "outputId": "f35bd318-c6dc-4bc2-e4c1-a047280b09ad",
        "colab": {
          "base_uri": "https://localhost:8080/",
          "height": 153
        }
      },
      "source": [
        "# Apresetação do valores contidos na categoria \"college\"\n",
        "\n",
        "dataset['college'].cat.categories"
      ],
      "execution_count": 549,
      "outputs": [
        {
          "output_type": "execute_result",
          "data": {
            "text/plain": [
              "Index(['Alabama', 'Alabama A&M', 'Alabama-Birmingham', 'Alabama-Huntsville',\n",
              "       'Albany State (GA)', 'American', 'American International', 'Arizona',\n",
              "       'Arizona State', 'Arkansas',\n",
              "       ...\n",
              "       'William Paterson', 'Wingate', 'Wisconsin', 'Wisconsin-Green Bay',\n",
              "       'Wisconsin-Stevens Point', 'Wright State', 'Wyoming', 'Xavier', 'Yale',\n",
              "       'Yonsei (KOR)'],\n",
              "      dtype='object', length=298)"
            ]
          },
          "metadata": {
            "tags": []
          },
          "execution_count": 549
        }
      ]
    },
    {
      "cell_type": "code",
      "metadata": {
        "id": "lbV5ffJiCzXh",
        "colab_type": "code",
        "outputId": "c7ad19ec-de21-41ae-dd82-be29ce2e268b",
        "colab": {
          "base_uri": "https://localhost:8080/",
          "height": 272
        }
      },
      "source": [
        "# Apresetação do valores contidos na categoria \"country\"\n",
        "\n",
        "dataset['country'].cat.categories"
      ],
      "execution_count": 550,
      "outputs": [
        {
          "output_type": "execute_result",
          "data": {
            "text/plain": [
              "Index(['Argentina', 'Australia', 'Austria', 'Bahamas', 'Belize', 'Bosnia',\n",
              "       'Bosnia & Herzegovina', 'Bosnia and Herzegovina', 'Brazil',\n",
              "       'Cabo Verde', 'Cameroon', 'Canada', 'China', 'Congo', 'Croatia',\n",
              "       'Czech Republic', 'Democratic Republic of the Congo',\n",
              "       'Dominican Republic', 'Egypt', 'England', 'Finland', 'France', 'Gabon',\n",
              "       'Georgia', 'Germany', 'Ghana', 'Great Britain', 'Greece', 'Haiti',\n",
              "       'Iran', 'Ireland', 'Israel', 'Italy', 'Jamaica', 'Latvia', 'Lithuania',\n",
              "       'Macedonia', 'Mali', 'Mexico', 'Montenegro', 'Netherlands',\n",
              "       'New Zealand', 'Nigeria', 'Panama', 'Poland', 'Puerto Rico', 'Russia',\n",
              "       'Scotland', 'Senegal', 'Serbia', 'Serbia and Montenegro', 'Slovenia',\n",
              "       'South Korea', 'South Sudan', 'Spain', 'St. Vincent & Grenadines',\n",
              "       'Sudan (UK)', 'Sweden', 'Switzerland', 'Tanzania', 'Tunisia', 'Turkey',\n",
              "       'U.S. Virgin Islands', 'US Virgin Islands', 'USA', 'USSR', 'Ukraine',\n",
              "       'United Kingdom', 'Uruguay', 'Venezuela', 'Yugoslavia'],\n",
              "      dtype='object')"
            ]
          },
          "metadata": {
            "tags": []
          },
          "execution_count": 550
        }
      ]
    },
    {
      "cell_type": "code",
      "metadata": {
        "id": "GeaxS3MmDADc",
        "colab_type": "code",
        "outputId": "2234b06c-fc63-44cd-c63b-df7749b4e48a",
        "colab": {
          "base_uri": "https://localhost:8080/",
          "height": 119
        }
      },
      "source": [
        "# Apresetação do valores contidos na categoria \"draft_year\"\n",
        "\n",
        "dataset['draft_year'].cat.categories"
      ],
      "execution_count": 551,
      "outputs": [
        {
          "output_type": "execute_result",
          "data": {
            "text/plain": [
              "Index(['1963', '1976', '1978', '1979', '1980', '1981', '1982', '1983', '1984',\n",
              "       '1985', '1986', '1987', '1988', '1989', '1990', '1991', '1992', '1993',\n",
              "       '1994', '1995', '1996', '1997', '1998', '1999', '2000', '2001', '2002',\n",
              "       '2003', '2004', '2005', '2006', '2007', '2008', '2009', '2010', '2011',\n",
              "       '2012', '2013', '2014', '2015', '2016', '2017', 'Undrafted'],\n",
              "      dtype='object')"
            ]
          },
          "metadata": {
            "tags": []
          },
          "execution_count": 551
        }
      ]
    },
    {
      "cell_type": "code",
      "metadata": {
        "id": "AFtkRkN0DP-5",
        "colab_type": "code",
        "outputId": "1a2ff6b7-e641-4a06-edc7-f58e698e66b0",
        "colab": {
          "base_uri": "https://localhost:8080/",
          "height": 102
        }
      },
      "source": [
        "# Apresetação do valores contidos na categoria \"season\"\n",
        "\n",
        "dataset['season'].cat.categories"
      ],
      "execution_count": 552,
      "outputs": [
        {
          "output_type": "execute_result",
          "data": {
            "text/plain": [
              "Index(['1996-97', '1997-98', '1998-99', '1999-00', '2000-01', '2001-02',\n",
              "       '2002-03', '2003-04', '2004-05', '2005-06', '2006-07', '2007-08',\n",
              "       '2008-09', '2009-10', '2010-11', '2011-12', '2012-13', '2013-14',\n",
              "       '2014-15', '2015-16', '2016-17', '2017-18'],\n",
              "      dtype='object')"
            ]
          },
          "metadata": {
            "tags": []
          },
          "execution_count": 552
        }
      ]
    },
    {
      "cell_type": "code",
      "metadata": {
        "id": "NtevuI6cFF2b",
        "colab_type": "code",
        "outputId": "393af6e1-4604-4bb9-8df6-213fe20783b5",
        "colab": {
          "base_uri": "https://localhost:8080/",
          "height": 309
        }
      },
      "source": [
        "# Apresetação dos dados do repositório após categorização da Base de Dados\n",
        "# Colunas categorizadas: team_abbreviation | college | country | draft_year | season\n",
        "\n",
        "dataset.head()"
      ],
      "execution_count": 553,
      "outputs": [
        {
          "output_type": "execute_result",
          "data": {
            "text/html": [
              "<div>\n",
              "<style scoped>\n",
              "    .dataframe tbody tr th:only-of-type {\n",
              "        vertical-align: middle;\n",
              "    }\n",
              "\n",
              "    .dataframe tbody tr th {\n",
              "        vertical-align: top;\n",
              "    }\n",
              "\n",
              "    .dataframe thead th {\n",
              "        text-align: right;\n",
              "    }\n",
              "</style>\n",
              "<table border=\"1\" class=\"dataframe\">\n",
              "  <thead>\n",
              "    <tr style=\"text-align: right;\">\n",
              "      <th></th>\n",
              "      <th>id</th>\n",
              "      <th>player_name</th>\n",
              "      <th>team_abbreviation</th>\n",
              "      <th>age</th>\n",
              "      <th>player_height</th>\n",
              "      <th>player_weight</th>\n",
              "      <th>college</th>\n",
              "      <th>country</th>\n",
              "      <th>draft_year</th>\n",
              "      <th>draft_round</th>\n",
              "      <th>draft_number</th>\n",
              "      <th>gp</th>\n",
              "      <th>pts</th>\n",
              "      <th>reb</th>\n",
              "      <th>ast</th>\n",
              "      <th>net_rating</th>\n",
              "      <th>oreb_pct</th>\n",
              "      <th>dreb_pct</th>\n",
              "      <th>usg_pct</th>\n",
              "      <th>ts_pct</th>\n",
              "      <th>ast_pct</th>\n",
              "      <th>season</th>\n",
              "    </tr>\n",
              "  </thead>\n",
              "  <tbody>\n",
              "    <tr>\n",
              "      <th>0</th>\n",
              "      <td>0</td>\n",
              "      <td>George Zidek</td>\n",
              "      <td>DEN</td>\n",
              "      <td>23.0</td>\n",
              "      <td>213.36</td>\n",
              "      <td>119.748288</td>\n",
              "      <td>UCLA</td>\n",
              "      <td>USA</td>\n",
              "      <td>1995</td>\n",
              "      <td>1</td>\n",
              "      <td>22</td>\n",
              "      <td>52</td>\n",
              "      <td>2.8</td>\n",
              "      <td>1.7</td>\n",
              "      <td>0.3</td>\n",
              "      <td>-14.1</td>\n",
              "      <td>0.102</td>\n",
              "      <td>0.169</td>\n",
              "      <td>0.195</td>\n",
              "      <td>0.500</td>\n",
              "      <td>0.064</td>\n",
              "      <td>1996-97</td>\n",
              "    </tr>\n",
              "    <tr>\n",
              "      <th>1</th>\n",
              "      <td>1</td>\n",
              "      <td>Darrell Armstrong</td>\n",
              "      <td>ORL</td>\n",
              "      <td>29.0</td>\n",
              "      <td>185.42</td>\n",
              "      <td>81.646560</td>\n",
              "      <td>Fayetteville State</td>\n",
              "      <td>USA</td>\n",
              "      <td>Undrafted</td>\n",
              "      <td>Undrafted</td>\n",
              "      <td>Undrafted</td>\n",
              "      <td>67</td>\n",
              "      <td>6.1</td>\n",
              "      <td>1.1</td>\n",
              "      <td>2.6</td>\n",
              "      <td>0.3</td>\n",
              "      <td>0.039</td>\n",
              "      <td>0.050</td>\n",
              "      <td>0.222</td>\n",
              "      <td>0.525</td>\n",
              "      <td>0.308</td>\n",
              "      <td>1996-97</td>\n",
              "    </tr>\n",
              "    <tr>\n",
              "      <th>2</th>\n",
              "      <td>2</td>\n",
              "      <td>Darrick Martin</td>\n",
              "      <td>LAC</td>\n",
              "      <td>26.0</td>\n",
              "      <td>180.34</td>\n",
              "      <td>77.110640</td>\n",
              "      <td>UCLA</td>\n",
              "      <td>USA</td>\n",
              "      <td>Undrafted</td>\n",
              "      <td>Undrafted</td>\n",
              "      <td>Undrafted</td>\n",
              "      <td>82</td>\n",
              "      <td>10.9</td>\n",
              "      <td>1.4</td>\n",
              "      <td>4.1</td>\n",
              "      <td>-4.5</td>\n",
              "      <td>0.016</td>\n",
              "      <td>0.060</td>\n",
              "      <td>0.232</td>\n",
              "      <td>0.539</td>\n",
              "      <td>0.292</td>\n",
              "      <td>1996-97</td>\n",
              "    </tr>\n",
              "    <tr>\n",
              "      <th>3</th>\n",
              "      <td>3</td>\n",
              "      <td>Darrin Hancock</td>\n",
              "      <td>ATL</td>\n",
              "      <td>25.0</td>\n",
              "      <td>200.66</td>\n",
              "      <td>92.986360</td>\n",
              "      <td>Kansas</td>\n",
              "      <td>USA</td>\n",
              "      <td>1994</td>\n",
              "      <td>2</td>\n",
              "      <td>38</td>\n",
              "      <td>24</td>\n",
              "      <td>1.8</td>\n",
              "      <td>0.8</td>\n",
              "      <td>0.5</td>\n",
              "      <td>-2.6</td>\n",
              "      <td>0.030</td>\n",
              "      <td>0.118</td>\n",
              "      <td>0.159</td>\n",
              "      <td>0.510</td>\n",
              "      <td>0.136</td>\n",
              "      <td>1996-97</td>\n",
              "    </tr>\n",
              "    <tr>\n",
              "      <th>4</th>\n",
              "      <td>4</td>\n",
              "      <td>Darvin Ham</td>\n",
              "      <td>IND</td>\n",
              "      <td>23.0</td>\n",
              "      <td>200.66</td>\n",
              "      <td>99.790240</td>\n",
              "      <td>Texas Tech</td>\n",
              "      <td>USA</td>\n",
              "      <td>Undrafted</td>\n",
              "      <td>Undrafted</td>\n",
              "      <td>Undrafted</td>\n",
              "      <td>36</td>\n",
              "      <td>2.3</td>\n",
              "      <td>1.6</td>\n",
              "      <td>0.4</td>\n",
              "      <td>-2.0</td>\n",
              "      <td>0.109</td>\n",
              "      <td>0.097</td>\n",
              "      <td>0.140</td>\n",
              "      <td>0.536</td>\n",
              "      <td>0.072</td>\n",
              "      <td>1996-97</td>\n",
              "    </tr>\n",
              "  </tbody>\n",
              "</table>\n",
              "</div>"
            ],
            "text/plain": [
              "   id        player_name team_abbreviation  ...  ts_pct  ast_pct   season\n",
              "0   0       George Zidek               DEN  ...   0.500    0.064  1996-97\n",
              "1   1  Darrell Armstrong               ORL  ...   0.525    0.308  1996-97\n",
              "2   2     Darrick Martin               LAC  ...   0.539    0.292  1996-97\n",
              "3   3     Darrin Hancock               ATL  ...   0.510    0.136  1996-97\n",
              "4   4         Darvin Ham               IND  ...   0.536    0.072  1996-97\n",
              "\n",
              "[5 rows x 22 columns]"
            ]
          },
          "metadata": {
            "tags": []
          },
          "execution_count": 553
        }
      ]
    },
    {
      "cell_type": "code",
      "metadata": {
        "id": "AqqvbL27EJbV",
        "colab_type": "code",
        "outputId": "6eef73b2-42f4-469a-be76-422c5ef5f429",
        "colab": {
          "base_uri": "https://localhost:8080/",
          "height": 34
        }
      },
      "source": [
        "# Verificação do tamanho da base de dados a ser estudada [Número de entradas, Número de colunas/ Variáveis]\n",
        "\n",
        "dataset.shape"
      ],
      "execution_count": 554,
      "outputs": [
        {
          "output_type": "execute_result",
          "data": {
            "text/plain": [
              "(10101, 22)"
            ]
          },
          "metadata": {
            "tags": []
          },
          "execution_count": 554
        }
      ]
    },
    {
      "cell_type": "code",
      "metadata": {
        "id": "7pWm-8quFSet",
        "colab_type": "code",
        "outputId": "3f782300-8ba3-4ab7-9622-8612bf7e5031",
        "colab": {
          "base_uri": "https://localhost:8080/",
          "height": 408
        }
      },
      "source": [
        "# Verificação de valores nulos dentre as colunas da base de dados\n",
        "# Base de dados bem concistente e com suas informações preenchidas para o período, sem a necessidade de remoção de colunas\n",
        "\n",
        "print(dataset.isnull().sum())"
      ],
      "execution_count": 555,
      "outputs": [
        {
          "output_type": "stream",
          "text": [
            "id                   0\n",
            "player_name          0\n",
            "team_abbreviation    0\n",
            "age                  0\n",
            "player_height        0\n",
            "player_weight        0\n",
            "college              0\n",
            "country              0\n",
            "draft_year           0\n",
            "draft_round          0\n",
            "draft_number         0\n",
            "gp                   0\n",
            "pts                  0\n",
            "reb                  0\n",
            "ast                  0\n",
            "net_rating           0\n",
            "oreb_pct             0\n",
            "dreb_pct             0\n",
            "usg_pct              0\n",
            "ts_pct               0\n",
            "ast_pct              0\n",
            "season               0\n",
            "dtype: int64\n"
          ],
          "name": "stdout"
        }
      ]
    },
    {
      "cell_type": "code",
      "metadata": {
        "id": "P6QYBQeFFqZR",
        "colab_type": "code",
        "outputId": "500466e9-33d4-475f-c4f1-a0e8d120df47",
        "colab": {
          "base_uri": "https://localhost:8080/",
          "height": 309
        }
      },
      "source": [
        "# Caso houvesse linhas(s) a ser(em) removida(s) o comando abaixo seria responsável por realizar o ajuste da base de dados\n",
        "\n",
        "dataset1 = dataset.dropna(thresh=0.75*len(dataset), axis=1)\n",
        "dataset1.head()"
      ],
      "execution_count": 556,
      "outputs": [
        {
          "output_type": "execute_result",
          "data": {
            "text/html": [
              "<div>\n",
              "<style scoped>\n",
              "    .dataframe tbody tr th:only-of-type {\n",
              "        vertical-align: middle;\n",
              "    }\n",
              "\n",
              "    .dataframe tbody tr th {\n",
              "        vertical-align: top;\n",
              "    }\n",
              "\n",
              "    .dataframe thead th {\n",
              "        text-align: right;\n",
              "    }\n",
              "</style>\n",
              "<table border=\"1\" class=\"dataframe\">\n",
              "  <thead>\n",
              "    <tr style=\"text-align: right;\">\n",
              "      <th></th>\n",
              "      <th>id</th>\n",
              "      <th>player_name</th>\n",
              "      <th>team_abbreviation</th>\n",
              "      <th>age</th>\n",
              "      <th>player_height</th>\n",
              "      <th>player_weight</th>\n",
              "      <th>college</th>\n",
              "      <th>country</th>\n",
              "      <th>draft_year</th>\n",
              "      <th>draft_round</th>\n",
              "      <th>draft_number</th>\n",
              "      <th>gp</th>\n",
              "      <th>pts</th>\n",
              "      <th>reb</th>\n",
              "      <th>ast</th>\n",
              "      <th>net_rating</th>\n",
              "      <th>oreb_pct</th>\n",
              "      <th>dreb_pct</th>\n",
              "      <th>usg_pct</th>\n",
              "      <th>ts_pct</th>\n",
              "      <th>ast_pct</th>\n",
              "      <th>season</th>\n",
              "    </tr>\n",
              "  </thead>\n",
              "  <tbody>\n",
              "    <tr>\n",
              "      <th>0</th>\n",
              "      <td>0</td>\n",
              "      <td>George Zidek</td>\n",
              "      <td>DEN</td>\n",
              "      <td>23.0</td>\n",
              "      <td>213.36</td>\n",
              "      <td>119.748288</td>\n",
              "      <td>UCLA</td>\n",
              "      <td>USA</td>\n",
              "      <td>1995</td>\n",
              "      <td>1</td>\n",
              "      <td>22</td>\n",
              "      <td>52</td>\n",
              "      <td>2.8</td>\n",
              "      <td>1.7</td>\n",
              "      <td>0.3</td>\n",
              "      <td>-14.1</td>\n",
              "      <td>0.102</td>\n",
              "      <td>0.169</td>\n",
              "      <td>0.195</td>\n",
              "      <td>0.500</td>\n",
              "      <td>0.064</td>\n",
              "      <td>1996-97</td>\n",
              "    </tr>\n",
              "    <tr>\n",
              "      <th>1</th>\n",
              "      <td>1</td>\n",
              "      <td>Darrell Armstrong</td>\n",
              "      <td>ORL</td>\n",
              "      <td>29.0</td>\n",
              "      <td>185.42</td>\n",
              "      <td>81.646560</td>\n",
              "      <td>Fayetteville State</td>\n",
              "      <td>USA</td>\n",
              "      <td>Undrafted</td>\n",
              "      <td>Undrafted</td>\n",
              "      <td>Undrafted</td>\n",
              "      <td>67</td>\n",
              "      <td>6.1</td>\n",
              "      <td>1.1</td>\n",
              "      <td>2.6</td>\n",
              "      <td>0.3</td>\n",
              "      <td>0.039</td>\n",
              "      <td>0.050</td>\n",
              "      <td>0.222</td>\n",
              "      <td>0.525</td>\n",
              "      <td>0.308</td>\n",
              "      <td>1996-97</td>\n",
              "    </tr>\n",
              "    <tr>\n",
              "      <th>2</th>\n",
              "      <td>2</td>\n",
              "      <td>Darrick Martin</td>\n",
              "      <td>LAC</td>\n",
              "      <td>26.0</td>\n",
              "      <td>180.34</td>\n",
              "      <td>77.110640</td>\n",
              "      <td>UCLA</td>\n",
              "      <td>USA</td>\n",
              "      <td>Undrafted</td>\n",
              "      <td>Undrafted</td>\n",
              "      <td>Undrafted</td>\n",
              "      <td>82</td>\n",
              "      <td>10.9</td>\n",
              "      <td>1.4</td>\n",
              "      <td>4.1</td>\n",
              "      <td>-4.5</td>\n",
              "      <td>0.016</td>\n",
              "      <td>0.060</td>\n",
              "      <td>0.232</td>\n",
              "      <td>0.539</td>\n",
              "      <td>0.292</td>\n",
              "      <td>1996-97</td>\n",
              "    </tr>\n",
              "    <tr>\n",
              "      <th>3</th>\n",
              "      <td>3</td>\n",
              "      <td>Darrin Hancock</td>\n",
              "      <td>ATL</td>\n",
              "      <td>25.0</td>\n",
              "      <td>200.66</td>\n",
              "      <td>92.986360</td>\n",
              "      <td>Kansas</td>\n",
              "      <td>USA</td>\n",
              "      <td>1994</td>\n",
              "      <td>2</td>\n",
              "      <td>38</td>\n",
              "      <td>24</td>\n",
              "      <td>1.8</td>\n",
              "      <td>0.8</td>\n",
              "      <td>0.5</td>\n",
              "      <td>-2.6</td>\n",
              "      <td>0.030</td>\n",
              "      <td>0.118</td>\n",
              "      <td>0.159</td>\n",
              "      <td>0.510</td>\n",
              "      <td>0.136</td>\n",
              "      <td>1996-97</td>\n",
              "    </tr>\n",
              "    <tr>\n",
              "      <th>4</th>\n",
              "      <td>4</td>\n",
              "      <td>Darvin Ham</td>\n",
              "      <td>IND</td>\n",
              "      <td>23.0</td>\n",
              "      <td>200.66</td>\n",
              "      <td>99.790240</td>\n",
              "      <td>Texas Tech</td>\n",
              "      <td>USA</td>\n",
              "      <td>Undrafted</td>\n",
              "      <td>Undrafted</td>\n",
              "      <td>Undrafted</td>\n",
              "      <td>36</td>\n",
              "      <td>2.3</td>\n",
              "      <td>1.6</td>\n",
              "      <td>0.4</td>\n",
              "      <td>-2.0</td>\n",
              "      <td>0.109</td>\n",
              "      <td>0.097</td>\n",
              "      <td>0.140</td>\n",
              "      <td>0.536</td>\n",
              "      <td>0.072</td>\n",
              "      <td>1996-97</td>\n",
              "    </tr>\n",
              "  </tbody>\n",
              "</table>\n",
              "</div>"
            ],
            "text/plain": [
              "   id        player_name team_abbreviation  ...  ts_pct  ast_pct   season\n",
              "0   0       George Zidek               DEN  ...   0.500    0.064  1996-97\n",
              "1   1  Darrell Armstrong               ORL  ...   0.525    0.308  1996-97\n",
              "2   2     Darrick Martin               LAC  ...   0.539    0.292  1996-97\n",
              "3   3     Darrin Hancock               ATL  ...   0.510    0.136  1996-97\n",
              "4   4         Darvin Ham               IND  ...   0.536    0.072  1996-97\n",
              "\n",
              "[5 rows x 22 columns]"
            ]
          },
          "metadata": {
            "tags": []
          },
          "execution_count": 556
        }
      ]
    },
    {
      "cell_type": "code",
      "metadata": {
        "id": "jrCYRuHPGIhi",
        "colab_type": "code",
        "outputId": "9e6487bb-9146-4489-be7f-69e3acdc4410",
        "colab": {
          "base_uri": "https://localhost:8080/",
          "height": 34
        }
      },
      "source": [
        "# Verificação da quantidade de entradas da base de dados a ser estudada \n",
        "#<Não houve a exclusão de nenhuma linha do Dataset> \n",
        "\n",
        "len(dataset1)"
      ],
      "execution_count": 557,
      "outputs": [
        {
          "output_type": "execute_result",
          "data": {
            "text/plain": [
              "10101"
            ]
          },
          "metadata": {
            "tags": []
          },
          "execution_count": 557
        }
      ]
    },
    {
      "cell_type": "code",
      "metadata": {
        "id": "czfFDH8V7Te2",
        "colab_type": "code",
        "colab": {
          "base_uri": "https://localhost:8080/",
          "height": 204
        },
        "outputId": "c23a6ce7-b59f-4cdd-94ae-db6dc84d9a5b"
      },
      "source": [
        "# Continuando os ajustes para Base de Dados a ser trabalhada no DataFrame.\n",
        "\n",
        "# Foi verificada durante o desenvolvimento do projeto a necessidade da EXCLUSÃO da seguintes colunas:\n",
        "\n",
        "#   . draft_year\n",
        "#   . draft_round\n",
        "#   . draft_number\n",
        "#   . net_rating\n",
        "#   . oreb_pct\n",
        "#   . dreb_pct\n",
        "#   . usg_pct\n",
        "#   . ts_pct\n",
        "#   . ast_pct\n",
        "\n",
        "dataset1 = dataset1.drop(columns=['draft_year',\t'draft_round',\t'draft_number','net_rating','oreb_pct','dreb_pct','usg_pct','ts_pct','ast_pct'], axis=1)\n",
        "dataset1.head()\n"
      ],
      "execution_count": 558,
      "outputs": [
        {
          "output_type": "execute_result",
          "data": {
            "text/html": [
              "<div>\n",
              "<style scoped>\n",
              "    .dataframe tbody tr th:only-of-type {\n",
              "        vertical-align: middle;\n",
              "    }\n",
              "\n",
              "    .dataframe tbody tr th {\n",
              "        vertical-align: top;\n",
              "    }\n",
              "\n",
              "    .dataframe thead th {\n",
              "        text-align: right;\n",
              "    }\n",
              "</style>\n",
              "<table border=\"1\" class=\"dataframe\">\n",
              "  <thead>\n",
              "    <tr style=\"text-align: right;\">\n",
              "      <th></th>\n",
              "      <th>id</th>\n",
              "      <th>player_name</th>\n",
              "      <th>team_abbreviation</th>\n",
              "      <th>age</th>\n",
              "      <th>player_height</th>\n",
              "      <th>player_weight</th>\n",
              "      <th>college</th>\n",
              "      <th>country</th>\n",
              "      <th>gp</th>\n",
              "      <th>pts</th>\n",
              "      <th>reb</th>\n",
              "      <th>ast</th>\n",
              "      <th>season</th>\n",
              "    </tr>\n",
              "  </thead>\n",
              "  <tbody>\n",
              "    <tr>\n",
              "      <th>0</th>\n",
              "      <td>0</td>\n",
              "      <td>George Zidek</td>\n",
              "      <td>DEN</td>\n",
              "      <td>23.0</td>\n",
              "      <td>213.36</td>\n",
              "      <td>119.748288</td>\n",
              "      <td>UCLA</td>\n",
              "      <td>USA</td>\n",
              "      <td>52</td>\n",
              "      <td>2.8</td>\n",
              "      <td>1.7</td>\n",
              "      <td>0.3</td>\n",
              "      <td>1996-97</td>\n",
              "    </tr>\n",
              "    <tr>\n",
              "      <th>1</th>\n",
              "      <td>1</td>\n",
              "      <td>Darrell Armstrong</td>\n",
              "      <td>ORL</td>\n",
              "      <td>29.0</td>\n",
              "      <td>185.42</td>\n",
              "      <td>81.646560</td>\n",
              "      <td>Fayetteville State</td>\n",
              "      <td>USA</td>\n",
              "      <td>67</td>\n",
              "      <td>6.1</td>\n",
              "      <td>1.1</td>\n",
              "      <td>2.6</td>\n",
              "      <td>1996-97</td>\n",
              "    </tr>\n",
              "    <tr>\n",
              "      <th>2</th>\n",
              "      <td>2</td>\n",
              "      <td>Darrick Martin</td>\n",
              "      <td>LAC</td>\n",
              "      <td>26.0</td>\n",
              "      <td>180.34</td>\n",
              "      <td>77.110640</td>\n",
              "      <td>UCLA</td>\n",
              "      <td>USA</td>\n",
              "      <td>82</td>\n",
              "      <td>10.9</td>\n",
              "      <td>1.4</td>\n",
              "      <td>4.1</td>\n",
              "      <td>1996-97</td>\n",
              "    </tr>\n",
              "    <tr>\n",
              "      <th>3</th>\n",
              "      <td>3</td>\n",
              "      <td>Darrin Hancock</td>\n",
              "      <td>ATL</td>\n",
              "      <td>25.0</td>\n",
              "      <td>200.66</td>\n",
              "      <td>92.986360</td>\n",
              "      <td>Kansas</td>\n",
              "      <td>USA</td>\n",
              "      <td>24</td>\n",
              "      <td>1.8</td>\n",
              "      <td>0.8</td>\n",
              "      <td>0.5</td>\n",
              "      <td>1996-97</td>\n",
              "    </tr>\n",
              "    <tr>\n",
              "      <th>4</th>\n",
              "      <td>4</td>\n",
              "      <td>Darvin Ham</td>\n",
              "      <td>IND</td>\n",
              "      <td>23.0</td>\n",
              "      <td>200.66</td>\n",
              "      <td>99.790240</td>\n",
              "      <td>Texas Tech</td>\n",
              "      <td>USA</td>\n",
              "      <td>36</td>\n",
              "      <td>2.3</td>\n",
              "      <td>1.6</td>\n",
              "      <td>0.4</td>\n",
              "      <td>1996-97</td>\n",
              "    </tr>\n",
              "  </tbody>\n",
              "</table>\n",
              "</div>"
            ],
            "text/plain": [
              "   id        player_name team_abbreviation   age  ...   pts  reb  ast   season\n",
              "0   0       George Zidek               DEN  23.0  ...   2.8  1.7  0.3  1996-97\n",
              "1   1  Darrell Armstrong               ORL  29.0  ...   6.1  1.1  2.6  1996-97\n",
              "2   2     Darrick Martin               LAC  26.0  ...  10.9  1.4  4.1  1996-97\n",
              "3   3     Darrin Hancock               ATL  25.0  ...   1.8  0.8  0.5  1996-97\n",
              "4   4         Darvin Ham               IND  23.0  ...   2.3  1.6  0.4  1996-97\n",
              "\n",
              "[5 rows x 13 columns]"
            ]
          },
          "metadata": {
            "tags": []
          },
          "execution_count": 558
        }
      ]
    },
    {
      "cell_type": "code",
      "metadata": {
        "id": "qlqaWtAefvXe",
        "colab_type": "code",
        "colab": {
          "base_uri": "https://localhost:8080/",
          "height": 323
        },
        "outputId": "ee16a870-39a5-4f56-dd36-109c972f7e2f"
      },
      "source": [
        "# Definição do NOVO Dataset a ser utilizado para extração e análise das informações da Base de Dados após ajustes\n",
        "\n",
        "dataset1.info()"
      ],
      "execution_count": 561,
      "outputs": [
        {
          "output_type": "stream",
          "text": [
            "<class 'pandas.core.frame.DataFrame'>\n",
            "Int64Index: 10101 entries, 0 to 10100\n",
            "Data columns (total 13 columns):\n",
            "id                   10101 non-null int64\n",
            "player_name          10101 non-null object\n",
            "team_abbreviation    10101 non-null category\n",
            "age                  10101 non-null float64\n",
            "player_height        10101 non-null float64\n",
            "player_weight        10101 non-null float64\n",
            "college              10101 non-null category\n",
            "country              10101 non-null category\n",
            "gp                   10101 non-null int64\n",
            "pts                  10101 non-null float64\n",
            "reb                  10101 non-null float64\n",
            "ast                  10101 non-null float64\n",
            "season               10101 non-null category\n",
            "dtypes: category(4), float64(6), int64(2), object(1)\n",
            "memory usage: 856.2+ KB\n"
          ],
          "name": "stdout"
        }
      ]
    },
    {
      "cell_type": "code",
      "metadata": {
        "id": "FUW0BmFrV6Ni",
        "colab_type": "code",
        "colab": {
          "base_uri": "https://localhost:8080/",
          "height": 297
        },
        "outputId": "50ca4da5-e1a6-461c-9aac-275809b584ae"
      },
      "source": [
        "# Informações gerais da distribuição do Dados. \n",
        "# A partir dos dados carregados através de DataFrame teremos o Número de entradas, Média, Desvio Padrão, Valores mínimo/ máximo e Quartis\n",
        "\n",
        "dataset1.describe()"
      ],
      "execution_count": 562,
      "outputs": [
        {
          "output_type": "execute_result",
          "data": {
            "text/html": [
              "<div>\n",
              "<style scoped>\n",
              "    .dataframe tbody tr th:only-of-type {\n",
              "        vertical-align: middle;\n",
              "    }\n",
              "\n",
              "    .dataframe tbody tr th {\n",
              "        vertical-align: top;\n",
              "    }\n",
              "\n",
              "    .dataframe thead th {\n",
              "        text-align: right;\n",
              "    }\n",
              "</style>\n",
              "<table border=\"1\" class=\"dataframe\">\n",
              "  <thead>\n",
              "    <tr style=\"text-align: right;\">\n",
              "      <th></th>\n",
              "      <th>id</th>\n",
              "      <th>age</th>\n",
              "      <th>player_height</th>\n",
              "      <th>player_weight</th>\n",
              "      <th>gp</th>\n",
              "      <th>pts</th>\n",
              "      <th>reb</th>\n",
              "      <th>ast</th>\n",
              "    </tr>\n",
              "  </thead>\n",
              "  <tbody>\n",
              "    <tr>\n",
              "      <th>count</th>\n",
              "      <td>10101.000000</td>\n",
              "      <td>10101.000000</td>\n",
              "      <td>10101.000000</td>\n",
              "      <td>10101.000000</td>\n",
              "      <td>10101.000000</td>\n",
              "      <td>10101.000000</td>\n",
              "      <td>10101.000000</td>\n",
              "      <td>10101.000000</td>\n",
              "    </tr>\n",
              "    <tr>\n",
              "      <th>mean</th>\n",
              "      <td>5050.000000</td>\n",
              "      <td>27.292644</td>\n",
              "      <td>200.926942</td>\n",
              "      <td>100.860155</td>\n",
              "      <td>52.820513</td>\n",
              "      <td>8.075507</td>\n",
              "      <td>3.555153</td>\n",
              "      <td>1.790080</td>\n",
              "    </tr>\n",
              "    <tr>\n",
              "      <th>std</th>\n",
              "      <td>2916.051869</td>\n",
              "      <td>4.345829</td>\n",
              "      <td>9.245615</td>\n",
              "      <td>12.718714</td>\n",
              "      <td>25.048016</td>\n",
              "      <td>5.891083</td>\n",
              "      <td>2.490504</td>\n",
              "      <td>1.789905</td>\n",
              "    </tr>\n",
              "    <tr>\n",
              "      <th>min</th>\n",
              "      <td>0.000000</td>\n",
              "      <td>18.000000</td>\n",
              "      <td>160.020000</td>\n",
              "      <td>60.327736</td>\n",
              "      <td>1.000000</td>\n",
              "      <td>0.000000</td>\n",
              "      <td>0.000000</td>\n",
              "      <td>0.000000</td>\n",
              "    </tr>\n",
              "    <tr>\n",
              "      <th>25%</th>\n",
              "      <td>2525.000000</td>\n",
              "      <td>24.000000</td>\n",
              "      <td>195.580000</td>\n",
              "      <td>90.718400</td>\n",
              "      <td>33.000000</td>\n",
              "      <td>3.500000</td>\n",
              "      <td>1.800000</td>\n",
              "      <td>0.500000</td>\n",
              "    </tr>\n",
              "    <tr>\n",
              "      <th>50%</th>\n",
              "      <td>5050.000000</td>\n",
              "      <td>27.000000</td>\n",
              "      <td>203.200000</td>\n",
              "      <td>100.243832</td>\n",
              "      <td>59.000000</td>\n",
              "      <td>6.600000</td>\n",
              "      <td>3.000000</td>\n",
              "      <td>1.200000</td>\n",
              "    </tr>\n",
              "    <tr>\n",
              "      <th>75%</th>\n",
              "      <td>7575.000000</td>\n",
              "      <td>30.000000</td>\n",
              "      <td>208.280000</td>\n",
              "      <td>110.676448</td>\n",
              "      <td>75.000000</td>\n",
              "      <td>11.400000</td>\n",
              "      <td>4.700000</td>\n",
              "      <td>2.400000</td>\n",
              "    </tr>\n",
              "    <tr>\n",
              "      <th>max</th>\n",
              "      <td>10100.000000</td>\n",
              "      <td>44.000000</td>\n",
              "      <td>231.140000</td>\n",
              "      <td>163.293120</td>\n",
              "      <td>85.000000</td>\n",
              "      <td>35.400000</td>\n",
              "      <td>16.300000</td>\n",
              "      <td>11.700000</td>\n",
              "    </tr>\n",
              "  </tbody>\n",
              "</table>\n",
              "</div>"
            ],
            "text/plain": [
              "                 id           age  ...           reb           ast\n",
              "count  10101.000000  10101.000000  ...  10101.000000  10101.000000\n",
              "mean    5050.000000     27.292644  ...      3.555153      1.790080\n",
              "std     2916.051869      4.345829  ...      2.490504      1.789905\n",
              "min        0.000000     18.000000  ...      0.000000      0.000000\n",
              "25%     2525.000000     24.000000  ...      1.800000      0.500000\n",
              "50%     5050.000000     27.000000  ...      3.000000      1.200000\n",
              "75%     7575.000000     30.000000  ...      4.700000      2.400000\n",
              "max    10100.000000     44.000000  ...     16.300000     11.700000\n",
              "\n",
              "[8 rows x 8 columns]"
            ]
          },
          "metadata": {
            "tags": []
          },
          "execution_count": 562
        }
      ]
    },
    {
      "cell_type": "markdown",
      "metadata": {
        "id": "HkeKbh6bEK_j",
        "colab_type": "text"
      },
      "source": [
        "### **Normalização**"
      ]
    },
    {
      "cell_type": "code",
      "metadata": {
        "id": "N8cNHzbGGSiT",
        "colab_type": "code",
        "colab": {
          "base_uri": "https://localhost:8080/",
          "height": 170
        },
        "outputId": "96ecab83-cf61-4e08-a436-a5e3d0dea6e3"
      },
      "source": [
        "# NORMALIZAÇÃO: As colunas 'pts', 'reb', 'ast' serão normalizadas:\n",
        "\n",
        "# Referência para utlização de recursos para Normalização e Discretização \n",
        "from sklearn.preprocessing import StandardScaler, MinMaxScaler\n",
        "\n",
        "\n",
        "# ['PST'] : Média de PONTOS por temporada de um jogador da NBA\n",
        "dataset1['pts'].describe()"
      ],
      "execution_count": 563,
      "outputs": [
        {
          "output_type": "execute_result",
          "data": {
            "text/plain": [
              "count    10101.000000\n",
              "mean         8.075507\n",
              "std          5.891083\n",
              "min          0.000000\n",
              "25%          3.500000\n",
              "50%          6.600000\n",
              "75%         11.400000\n",
              "max         35.400000\n",
              "Name: pts, dtype: float64"
            ]
          },
          "metadata": {
            "tags": []
          },
          "execution_count": 563
        }
      ]
    },
    {
      "cell_type": "code",
      "metadata": {
        "id": "7uq0ALv6IXp0",
        "colab_type": "code",
        "colab": {
          "base_uri": "https://localhost:8080/",
          "height": 170
        },
        "outputId": "280a7b47-3521-400e-ae3c-4b63b5a44643"
      },
      "source": [
        "# [PTS - NORMALIZAÇÃO] : Resultado da NORMALIZAÇÃO da coluna 'pts'\n",
        "\n",
        "scaler = MinMaxScaler()\n",
        "dataset1['pts_normal'] = scaler.fit_transform(dataset1[['pts']])\n",
        "dataset1['pts_normal'].describe()"
      ],
      "execution_count": 564,
      "outputs": [
        {
          "output_type": "execute_result",
          "data": {
            "text/plain": [
              "count    10101.000000\n",
              "mean         0.228122\n",
              "std          0.166415\n",
              "min          0.000000\n",
              "25%          0.098870\n",
              "50%          0.186441\n",
              "75%          0.322034\n",
              "max          1.000000\n",
              "Name: pts_normal, dtype: float64"
            ]
          },
          "metadata": {
            "tags": []
          },
          "execution_count": 564
        }
      ]
    },
    {
      "cell_type": "code",
      "metadata": {
        "id": "XyBI39IqJzjO",
        "colab_type": "code",
        "colab": {
          "base_uri": "https://localhost:8080/",
          "height": 170
        },
        "outputId": "3ee92b42-ba9d-4b61-b5cd-d9d530d16aca"
      },
      "source": [
        "# [PST - DESVIO PADRÃO] : Resultado após aplicar o DESVIO PADRÃO para coluna 'pts'\n",
        "\n",
        "scaler = StandardScaler()\n",
        "dataset1['pts_normal'] = scaler.fit_transform(dataset1[['pts']])\n",
        "dataset1['pts_normal'].describe()"
      ],
      "execution_count": 565,
      "outputs": [
        {
          "output_type": "execute_result",
          "data": {
            "text/plain": [
              "count    1.010100e+04\n",
              "mean     1.601201e-16\n",
              "std      1.000050e+00\n",
              "min     -1.370870e+00\n",
              "25%     -7.767220e-01\n",
              "50%     -2.504769e-01\n",
              "75%      5.643541e-01\n",
              "max      4.638509e+00\n",
              "Name: pts_normal, dtype: float64"
            ]
          },
          "metadata": {
            "tags": []
          },
          "execution_count": 565
        }
      ]
    },
    {
      "cell_type": "code",
      "metadata": {
        "id": "1ACHTB-Ed1EY",
        "colab_type": "code",
        "colab": {
          "base_uri": "https://localhost:8080/",
          "height": 170
        },
        "outputId": "46466f07-38db-44b0-f800-1ecd5c14d67a"
      },
      "source": [
        "\n",
        "\n",
        "# ['REB'] : Média de REBOTES por temporada de um jogador da NBA\n",
        "dataset1['reb'].describe()"
      ],
      "execution_count": 566,
      "outputs": [
        {
          "output_type": "execute_result",
          "data": {
            "text/plain": [
              "count    10101.000000\n",
              "mean         3.555153\n",
              "std          2.490504\n",
              "min          0.000000\n",
              "25%          1.800000\n",
              "50%          3.000000\n",
              "75%          4.700000\n",
              "max         16.300000\n",
              "Name: reb, dtype: float64"
            ]
          },
          "metadata": {
            "tags": []
          },
          "execution_count": 566
        }
      ]
    },
    {
      "cell_type": "code",
      "metadata": {
        "id": "rfq90qjbfuY2",
        "colab_type": "code",
        "colab": {
          "base_uri": "https://localhost:8080/",
          "height": 170
        },
        "outputId": "63335067-277f-4a64-bcf9-a8b89533029c"
      },
      "source": [
        "# [REB - NORMALIZAÇÃO] : Resultado da NORMALIZAÇÃO da coluna 'reb'\n",
        "\n",
        "scaler = MinMaxScaler()\n",
        "dataset1['reb_normal'] = scaler.fit_transform(dataset1[['reb']])\n",
        "dataset1['reb_normal'].describe()"
      ],
      "execution_count": 567,
      "outputs": [
        {
          "output_type": "execute_result",
          "data": {
            "text/plain": [
              "count    10101.000000\n",
              "mean         0.218108\n",
              "std          0.152792\n",
              "min          0.000000\n",
              "25%          0.110429\n",
              "50%          0.184049\n",
              "75%          0.288344\n",
              "max          1.000000\n",
              "Name: reb_normal, dtype: float64"
            ]
          },
          "metadata": {
            "tags": []
          },
          "execution_count": 567
        }
      ]
    },
    {
      "cell_type": "code",
      "metadata": {
        "id": "E-MTie3i1CCk",
        "colab_type": "code",
        "colab": {
          "base_uri": "https://localhost:8080/",
          "height": 170
        },
        "outputId": "ea5a753a-8659-422c-b4c0-2b14ba6bce3b"
      },
      "source": [
        "# [REB - DESVIO PADRÃO] : Resultado após aplicar o DESVIO PADRÃO para coluna 'reb'\n",
        "\n",
        "scaler = StandardScaler()\n",
        "dataset1['reb_normal'] = scaler.fit_transform(dataset1[['reb']])\n",
        "dataset1['reb_normal'].describe()"
      ],
      "execution_count": 568,
      "outputs": [
        {
          "output_type": "execute_result",
          "data": {
            "text/plain": [
              "count    1.010100e+04\n",
              "mean     4.294269e-17\n",
              "std      1.000050e+00\n",
              "min     -1.427554e+00\n",
              "25%     -7.047729e-01\n",
              "50%     -2.229189e-01\n",
              "75%      4.597076e-01\n",
              "max      5.117630e+00\n",
              "Name: reb_normal, dtype: float64"
            ]
          },
          "metadata": {
            "tags": []
          },
          "execution_count": 568
        }
      ]
    },
    {
      "cell_type": "code",
      "metadata": {
        "id": "GcmGFDJ6eJXM",
        "colab_type": "code",
        "colab": {
          "base_uri": "https://localhost:8080/",
          "height": 170
        },
        "outputId": "b2b3cc98-0f50-4945-ed94-e926b3126209"
      },
      "source": [
        "\n",
        "\n",
        "# [AST]: Média de ASSISTÊNCIAS por temporada de um jogador da NBA\n",
        "\n",
        "dataset1['ast'].describe()"
      ],
      "execution_count": 569,
      "outputs": [
        {
          "output_type": "execute_result",
          "data": {
            "text/plain": [
              "count    10101.000000\n",
              "mean         1.790080\n",
              "std          1.789905\n",
              "min          0.000000\n",
              "25%          0.500000\n",
              "50%          1.200000\n",
              "75%          2.400000\n",
              "max         11.700000\n",
              "Name: ast, dtype: float64"
            ]
          },
          "metadata": {
            "tags": []
          },
          "execution_count": 569
        }
      ]
    },
    {
      "cell_type": "code",
      "metadata": {
        "id": "0cX0i0d9g2Tu",
        "colab_type": "code",
        "colab": {
          "base_uri": "https://localhost:8080/",
          "height": 170
        },
        "outputId": "08379558-7b07-4193-d3d5-57cbc364425e"
      },
      "source": [
        "# [AST - NORMALIZAÇÃO] : Resultado da NORMALIZAÇÃO da coluna 'ast'\n",
        "\n",
        "scaler = MinMaxScaler()\n",
        "dataset1['ast_normal'] = scaler.fit_transform(dataset1[['ast']])\n",
        "dataset1['ast_normal'].describe()"
      ],
      "execution_count": 570,
      "outputs": [
        {
          "output_type": "execute_result",
          "data": {
            "text/plain": [
              "count    10101.000000\n",
              "mean         0.152998\n",
              "std          0.152983\n",
              "min          0.000000\n",
              "25%          0.042735\n",
              "50%          0.102564\n",
              "75%          0.205128\n",
              "max          1.000000\n",
              "Name: ast_normal, dtype: float64"
            ]
          },
          "metadata": {
            "tags": []
          },
          "execution_count": 570
        }
      ]
    },
    {
      "cell_type": "code",
      "metadata": {
        "id": "EIMqH7-D1jl2",
        "colab_type": "code",
        "colab": {
          "base_uri": "https://localhost:8080/",
          "height": 170
        },
        "outputId": "bafa9af3-e0ae-42dc-bd36-eb72c056335d"
      },
      "source": [
        "# [AST - DESVIO PADRÃO] : Resultado após aplicar o DESVIO PADRÃO para coluna 'ast'\n",
        "\n",
        "scaler = StandardScaler()\n",
        "dataset1['ast_normal'] = scaler.fit_transform(dataset1[['ast']])\n",
        "dataset1['ast_normal'].describe()"
      ],
      "execution_count": 571,
      "outputs": [
        {
          "output_type": "execute_result",
          "data": {
            "text/plain": [
              "count    1.010100e+04\n",
              "mean     8.442355e-17\n",
              "std      1.000050e+00\n",
              "min     -1.000148e+00\n",
              "25%     -7.207892e-01\n",
              "50%     -3.296876e-01\n",
              "75%      3.407723e-01\n",
              "max      5.536837e+00\n",
              "Name: ast_normal, dtype: float64"
            ]
          },
          "metadata": {
            "tags": []
          },
          "execution_count": 571
        }
      ]
    },
    {
      "cell_type": "markdown",
      "metadata": {
        "id": "1KGM21UpOK6K",
        "colab_type": "text"
      },
      "source": [
        "### **Discretização**"
      ]
    },
    {
      "cell_type": "code",
      "metadata": {
        "id": "w1eHgLCWOJ9V",
        "colab_type": "code",
        "colab": {
          "base_uri": "https://localhost:8080/",
          "height": 289
        },
        "outputId": "a6f851ae-0bd8-4f9b-a88e-84011be88496"
      },
      "source": [
        "# [DISCRETIZAÇÃO - PTS] -  Discretização da coluna 'pts' (Intervalo da Média de Pontos em uma Temporada x Quantidade de Jogadores da NBA)\n",
        "\n",
        "dataset1['pts_disct'] = pd.cut(dataset1['pts'], 15)\n",
        "dataset1['pts_disct'].value_counts()"
      ],
      "execution_count": 572,
      "outputs": [
        {
          "output_type": "execute_result",
          "data": {
            "text/plain": [
              "(2.36, 4.72]       2155\n",
              "(4.72, 7.08]       1713\n",
              "(-0.0354, 2.36]    1477\n",
              "(7.08, 9.44]       1369\n",
              "(9.44, 11.8]        989\n",
              "(11.8, 14.16]       818\n",
              "(14.16, 16.52]      534\n",
              "(16.52, 18.88]      402\n",
              "(18.88, 21.24]      293\n",
              "(21.24, 23.6]       171\n",
              "(23.6, 25.96]        86\n",
              "(25.96, 28.32]       62\n",
              "(28.32, 30.68]       22\n",
              "(30.68, 33.04]        9\n",
              "(33.04, 35.4]         1\n",
              "Name: pts_disct, dtype: int64"
            ]
          },
          "metadata": {
            "tags": []
          },
          "execution_count": 572
        }
      ]
    },
    {
      "cell_type": "code",
      "metadata": {
        "id": "bvzU_3tKi8kt",
        "colab_type": "code",
        "colab": {
          "base_uri": "https://localhost:8080/",
          "height": 564
        },
        "outputId": "294e722b-e730-4a28-f7a3-aa2f572901ba"
      },
      "source": [
        "# [DISCRETIZAÇÃO - PTS - GRÁFICO] -  Visualização de Discretização da coluna 'pts' e seus intervalos \n",
        "\n",
        "# (Intervalo da Média de Pontos em uma Temporada x Quantidade de Jogadores da NBA)\n",
        "\n",
        "counts = dataset1['pts_disct'].value_counts()\n",
        "counts.plot.bar(figsize=(18,8))"
      ],
      "execution_count": 573,
      "outputs": [
        {
          "output_type": "execute_result",
          "data": {
            "text/plain": [
              "<matplotlib.axes._subplots.AxesSubplot at 0x7f31f1207358>"
            ]
          },
          "metadata": {
            "tags": []
          },
          "execution_count": 573
        },
        {
          "output_type": "display_data",
          "data": {
            "image/png": "[encoded data removed]",
            "text/plain": [
              "<Figure size 1296x576 with 1 Axes>"
            ]
          },
          "metadata": {
            "tags": []
          }
        }
      ]
    },
    {
      "cell_type": "code",
      "metadata": {
        "id": "SjwzIhoLaTv7",
        "colab_type": "code",
        "colab": {
          "base_uri": "https://localhost:8080/",
          "height": 204
        },
        "outputId": "e8a8aa72-af06-4ca3-e026-d1b14dadfc2b"
      },
      "source": [
        "# [DISCRETIZAÇÃO - REB] -  Discretização da coluna 'reb' # (Intervalo da Média de REBOTES em uma Temporada x Quantidade de Jogadores da NBA)\n",
        "\n",
        "dataset1['reb_disct'] = pd.cut(dataset1['reb'], 10)\n",
        "dataset1['reb_disct'].value_counts()"
      ],
      "execution_count": 574,
      "outputs": [
        {
          "output_type": "execute_result",
          "data": {
            "text/plain": [
              "(1.63, 3.26]       3311\n",
              "(-0.0163, 1.63]    2275\n",
              "(3.26, 4.89]       2120\n",
              "(4.89, 6.52]       1161\n",
              "(6.52, 8.15]        597\n",
              "(8.15, 9.78]        338\n",
              "(9.78, 11.41]       196\n",
              "(11.41, 13.04]       67\n",
              "(13.04, 14.67]       27\n",
              "(14.67, 16.3]         9\n",
              "Name: reb_disct, dtype: int64"
            ]
          },
          "metadata": {
            "tags": []
          },
          "execution_count": 574
        }
      ]
    },
    {
      "cell_type": "code",
      "metadata": {
        "id": "-8Wmj91j2gCx",
        "colab_type": "code",
        "colab": {
          "base_uri": "https://localhost:8080/",
          "height": 564
        },
        "outputId": "653d8611-da3b-4202-d38c-baea78694023"
      },
      "source": [
        "# [DISCRETIZAÇÃO - REB - GRÁFICO] -  Visualização de Discretização da coluna 'reb' e seus intervalos\n",
        "\n",
        "# (Intervalo da Média de REBOTES em uma Temporada x Quantidade de Jogadores da NBA)\n",
        "\n",
        "counts = dataset1['reb_disct'].value_counts()\n",
        "counts.plot.bar(figsize=(18,8))"
      ],
      "execution_count": 575,
      "outputs": [
        {
          "output_type": "execute_result",
          "data": {
            "text/plain": [
              "<matplotlib.axes._subplots.AxesSubplot at 0x7f31f0d29240>"
            ]
          },
          "metadata": {
            "tags": []
          },
          "execution_count": 575
        },
        {
          "output_type": "display_data",
          "data": {
            "image/png": "[encoded data removed]",
            "text/plain": [
              "<Figure size 1296x576 with 1 Axes>"
            ]
          },
          "metadata": {
            "tags": []
          }
        }
      ]
    },
    {
      "cell_type": "code",
      "metadata": {
        "id": "S08M-YIic4XH",
        "colab_type": "code",
        "colab": {
          "base_uri": "https://localhost:8080/",
          "height": 204
        },
        "outputId": "19b96a27-b997-4412-820f-1687c3f84d8b"
      },
      "source": [
        "# [DISCRETIZAÇÃO - AST] -  Discretização da coluna 'ast' # (Intervalo da Média de ASSISTÊNCIAS em uma Temporada x Quantidade de Jogadores da NBA)\n",
        "\n",
        "dataset1['ast_disct'] = pd.cut(dataset1['ast'],10)\n",
        "dataset1['ast_disct'].value_counts()"
      ],
      "execution_count": 576,
      "outputs": [
        {
          "output_type": "execute_result",
          "data": {
            "text/plain": [
              "(-0.0117, 1.17]    4914\n",
              "(1.17, 2.34]       2578\n",
              "(2.34, 3.51]       1240\n",
              "(3.51, 4.68]        562\n",
              "(4.68, 5.85]        374\n",
              "(5.85, 7.02]        211\n",
              "(7.02, 8.19]         97\n",
              "(8.19, 9.36]         79\n",
              "(9.36, 10.53]        26\n",
              "(10.53, 11.7]        20\n",
              "Name: ast_disct, dtype: int64"
            ]
          },
          "metadata": {
            "tags": []
          },
          "execution_count": 576
        }
      ]
    },
    {
      "cell_type": "code",
      "metadata": {
        "id": "5YoNyqOR2-Lo",
        "colab_type": "code",
        "colab": {
          "base_uri": "https://localhost:8080/",
          "height": 565
        },
        "outputId": "bcc13373-0cfb-413d-b5bd-ecebb95cee39"
      },
      "source": [
        "# [DISCRETIZAÇÃO - AST - GRÁFICO] -  Visualização de Discretização da coluna 'ast' e seus intervalos\n",
        "\n",
        "# (Intervalo da Média de ASSISTÊNCIAS em uma Temporada x Quantidade de Jogadores da NBA)\n",
        "\n",
        "counts = dataset1['ast_disct'].value_counts()\n",
        "counts.plot.bar(figsize=(18,8))"
      ],
      "execution_count": 577,
      "outputs": [
        {
          "output_type": "execute_result",
          "data": {
            "text/plain": [
              "<matplotlib.axes._subplots.AxesSubplot at 0x7f31f0cab4a8>"
            ]
          },
          "metadata": {
            "tags": []
          },
          "execution_count": 577
        },
        {
          "output_type": "display_data",
          "data": {
            "image/png": "[encoded data removed]",
            "text/plain": [
              "<Figure size 1296x576 with 1 Axes>"
            ]
          },
          "metadata": {
            "tags": []
          }
        }
      ]
    },
    {
      "cell_type": "markdown",
      "metadata": {
        "id": "hLG1Zw-PBAyJ",
        "colab_type": "text"
      },
      "source": [
        "##**3. Apresentação e Visualização de Estatística Descritiva dos Dados**"
      ]
    },
    {
      "cell_type": "markdown",
      "metadata": {
        "id": "DCdoahtqgEKd",
        "colab_type": "text"
      },
      "source": [
        "### **Limpeza de Dados**"
      ]
    },
    {
      "cell_type": "markdown",
      "metadata": {
        "id": "r0zM7DpgoM8Y",
        "colab_type": "text"
      },
      "source": [
        "Como verificado desde a preparação, não há valores duplicados ou outliers que possa prejudicar a análise, **a base de dados é concistente e com suas informações totalmente preenchidas para o período a ser estudado. Não haverá a necessidade de inserção/ inclusão de dados ausentes**."
      ]
    },
    {
      "cell_type": "code",
      "metadata": {
        "id": "kE7w9hUjgCwp",
        "colab_type": "code",
        "colab": {
          "base_uri": "https://localhost:8080/",
          "height": 69
        },
        "outputId": "c7752e14-c7af-403a-c9c2-5e8180e1efc3"
      },
      "source": [
        "# Visualizando de possíveis dados duplicados para Base de Dados\n",
        "# A base de dados utilizada não precisará ser alterada/ manipulada por conter dados duplicados, preservando assim a quantidade de registros\n",
        "\n",
        "dataset1[dataset1.duplicated(keep=False)]"
      ],
      "execution_count": 597,
      "outputs": [
        {
          "output_type": "execute_result",
          "data": {
            "text/html": [
              "<div>\n",
              "<style scoped>\n",
              "    .dataframe tbody tr th:only-of-type {\n",
              "        vertical-align: middle;\n",
              "    }\n",
              "\n",
              "    .dataframe tbody tr th {\n",
              "        vertical-align: top;\n",
              "    }\n",
              "\n",
              "    .dataframe thead th {\n",
              "        text-align: right;\n",
              "    }\n",
              "</style>\n",
              "<table border=\"1\" class=\"dataframe\">\n",
              "  <thead>\n",
              "    <tr style=\"text-align: right;\">\n",
              "      <th></th>\n",
              "      <th>id</th>\n",
              "      <th>player_name</th>\n",
              "      <th>team_abbreviation</th>\n",
              "      <th>age</th>\n",
              "      <th>player_height</th>\n",
              "      <th>player_weight</th>\n",
              "      <th>college</th>\n",
              "      <th>country</th>\n",
              "      <th>gp</th>\n",
              "      <th>pts</th>\n",
              "      <th>reb</th>\n",
              "      <th>ast</th>\n",
              "      <th>season</th>\n",
              "      <th>pts_normal</th>\n",
              "      <th>reb_normal</th>\n",
              "      <th>ast_normal</th>\n",
              "      <th>pts_disct</th>\n",
              "      <th>reb_disct</th>\n",
              "      <th>ast_disct</th>\n",
              "    </tr>\n",
              "  </thead>\n",
              "  <tbody>\n",
              "  </tbody>\n",
              "</table>\n",
              "</div>"
            ],
            "text/plain": [
              "Empty DataFrame\n",
              "Columns: [id, player_name, team_abbreviation, age, player_height, player_weight, college, country, gp, pts, reb, ast, season, pts_normal, reb_normal, ast_normal, pts_disct, reb_disct, ast_disct]\n",
              "Index: []"
            ]
          },
          "metadata": {
            "tags": []
          },
          "execution_count": 597
        }
      ]
    },
    {
      "cell_type": "code",
      "metadata": {
        "id": "an05HXQ5j8xK",
        "colab_type": "code",
        "colab": {}
      },
      "source": [
        "# Caso houvesse necessidade excluir dados duplicados poderíamos fazer a alteração/ manipulação para ajustar a Base de Dados\n",
        "\n",
        "dataset1.drop_duplicates(inplace=True)"
      ],
      "execution_count": 0,
      "outputs": []
    },
    {
      "cell_type": "code",
      "metadata": {
        "id": "rfOkg4UxkXbC",
        "colab_type": "code",
        "colab": {
          "base_uri": "https://localhost:8080/",
          "height": 297
        },
        "outputId": "d89a5594-3122-4226-b2e5-7d196bb6c2c2"
      },
      "source": [
        "# Removendo outliers utilizando z-score robusto (univariado)\n",
        "\n",
        "dataset1.describe()"
      ],
      "execution_count": 600,
      "outputs": [
        {
          "output_type": "execute_result",
          "data": {
            "text/html": [
              "<div>\n",
              "<style scoped>\n",
              "    .dataframe tbody tr th:only-of-type {\n",
              "        vertical-align: middle;\n",
              "    }\n",
              "\n",
              "    .dataframe tbody tr th {\n",
              "        vertical-align: top;\n",
              "    }\n",
              "\n",
              "    .dataframe thead th {\n",
              "        text-align: right;\n",
              "    }\n",
              "</style>\n",
              "<table border=\"1\" class=\"dataframe\">\n",
              "  <thead>\n",
              "    <tr style=\"text-align: right;\">\n",
              "      <th></th>\n",
              "      <th>id</th>\n",
              "      <th>age</th>\n",
              "      <th>player_height</th>\n",
              "      <th>player_weight</th>\n",
              "      <th>gp</th>\n",
              "      <th>pts</th>\n",
              "      <th>reb</th>\n",
              "      <th>ast</th>\n",
              "      <th>pts_normal</th>\n",
              "      <th>reb_normal</th>\n",
              "      <th>ast_normal</th>\n",
              "    </tr>\n",
              "  </thead>\n",
              "  <tbody>\n",
              "    <tr>\n",
              "      <th>count</th>\n",
              "      <td>1682.000000</td>\n",
              "      <td>1682.000000</td>\n",
              "      <td>1682.000000</td>\n",
              "      <td>1682.000000</td>\n",
              "      <td>1682.000000</td>\n",
              "      <td>1682.000000</td>\n",
              "      <td>1682.000000</td>\n",
              "      <td>1682.000000</td>\n",
              "      <td>1682.000000</td>\n",
              "      <td>1682.000000</td>\n",
              "      <td>1682.000000</td>\n",
              "    </tr>\n",
              "    <tr>\n",
              "      <th>mean</th>\n",
              "      <td>5090.772295</td>\n",
              "      <td>27.041023</td>\n",
              "      <td>200.367039</td>\n",
              "      <td>100.610050</td>\n",
              "      <td>69.028537</td>\n",
              "      <td>18.503210</td>\n",
              "      <td>5.965933</td>\n",
              "      <td>3.808086</td>\n",
              "      <td>1.770170</td>\n",
              "      <td>0.968037</td>\n",
              "      <td>1.127493</td>\n",
              "    </tr>\n",
              "    <tr>\n",
              "      <th>std</th>\n",
              "      <td>2897.669199</td>\n",
              "      <td>3.815196</td>\n",
              "      <td>9.024408</td>\n",
              "      <td>12.730625</td>\n",
              "      <td>14.948864</td>\n",
              "      <td>3.779876</td>\n",
              "      <td>2.715630</td>\n",
              "      <td>2.150441</td>\n",
              "      <td>0.641658</td>\n",
              "      <td>1.090448</td>\n",
              "      <td>1.201487</td>\n",
              "    </tr>\n",
              "    <tr>\n",
              "      <th>min</th>\n",
              "      <td>5.000000</td>\n",
              "      <td>19.000000</td>\n",
              "      <td>165.100000</td>\n",
              "      <td>60.327736</td>\n",
              "      <td>1.000000</td>\n",
              "      <td>13.900000</td>\n",
              "      <td>0.000000</td>\n",
              "      <td>0.400000</td>\n",
              "      <td>0.988745</td>\n",
              "      <td>-1.427554</td>\n",
              "      <td>-0.776661</td>\n",
              "    </tr>\n",
              "    <tr>\n",
              "      <th>25%</th>\n",
              "      <td>2659.750000</td>\n",
              "      <td>24.000000</td>\n",
              "      <td>193.040000</td>\n",
              "      <td>90.718400</td>\n",
              "      <td>63.000000</td>\n",
              "      <td>15.500000</td>\n",
              "      <td>3.800000</td>\n",
              "      <td>2.200000</td>\n",
              "      <td>1.260356</td>\n",
              "      <td>0.098317</td>\n",
              "      <td>0.229029</td>\n",
              "    </tr>\n",
              "    <tr>\n",
              "      <th>50%</th>\n",
              "      <td>5161.500000</td>\n",
              "      <td>27.000000</td>\n",
              "      <td>200.660000</td>\n",
              "      <td>99.790240</td>\n",
              "      <td>74.000000</td>\n",
              "      <td>17.600000</td>\n",
              "      <td>5.300000</td>\n",
              "      <td>3.200000</td>\n",
              "      <td>1.616844</td>\n",
              "      <td>0.700635</td>\n",
              "      <td>0.787746</td>\n",
              "    </tr>\n",
              "    <tr>\n",
              "      <th>75%</th>\n",
              "      <td>7573.500000</td>\n",
              "      <td>29.000000</td>\n",
              "      <td>207.645000</td>\n",
              "      <td>109.202274</td>\n",
              "      <td>80.000000</td>\n",
              "      <td>20.600000</td>\n",
              "      <td>7.800000</td>\n",
              "      <td>5.000000</td>\n",
              "      <td>2.126114</td>\n",
              "      <td>1.704497</td>\n",
              "      <td>1.793435</td>\n",
              "    </tr>\n",
              "    <tr>\n",
              "      <th>max</th>\n",
              "      <td>10093.000000</td>\n",
              "      <td>40.000000</td>\n",
              "      <td>228.600000</td>\n",
              "      <td>154.221280</td>\n",
              "      <td>85.000000</td>\n",
              "      <td>35.400000</td>\n",
              "      <td>16.300000</td>\n",
              "      <td>11.600000</td>\n",
              "      <td>4.638509</td>\n",
              "      <td>5.117630</td>\n",
              "      <td>5.480965</td>\n",
              "    </tr>\n",
              "  </tbody>\n",
              "</table>\n",
              "</div>"
            ],
            "text/plain": [
              "                 id          age  ...   reb_normal   ast_normal\n",
              "count   1682.000000  1682.000000  ...  1682.000000  1682.000000\n",
              "mean    5090.772295    27.041023  ...     0.968037     1.127493\n",
              "std     2897.669199     3.815196  ...     1.090448     1.201487\n",
              "min        5.000000    19.000000  ...    -1.427554    -0.776661\n",
              "25%     2659.750000    24.000000  ...     0.098317     0.229029\n",
              "50%     5161.500000    27.000000  ...     0.700635     0.787746\n",
              "75%     7573.500000    29.000000  ...     1.704497     1.793435\n",
              "max    10093.000000    40.000000  ...     5.117630     5.480965\n",
              "\n",
              "[8 rows x 11 columns]"
            ]
          },
          "metadata": {
            "tags": []
          },
          "execution_count": 600
        }
      ]
    },
    {
      "cell_type": "code",
      "metadata": {
        "id": "AP3c8ae3kpOS",
        "colab_type": "code",
        "colab": {
          "base_uri": "https://localhost:8080/",
          "height": 282
        },
        "outputId": "b879569b-da1e-4f07-b2dc-881d6d4afa64"
      },
      "source": [
        "dataset1['pts'].plot.box()"
      ],
      "execution_count": 603,
      "outputs": [
        {
          "output_type": "execute_result",
          "data": {
            "text/plain": [
              "<matplotlib.axes._subplots.AxesSubplot at 0x7f31f08d7048>"
            ]
          },
          "metadata": {
            "tags": []
          },
          "execution_count": 603
        },
        {
          "output_type": "display_data",
          "data": {
            "image/png": "[encoded data removed]",
            "text/plain": [
              "<Figure size 432x288 with 1 Axes>"
            ]
          },
          "metadata": {
            "tags": []
          }
        }
      ]
    },
    {
      "cell_type": "code",
      "metadata": {
        "id": "5fLwpzEgk9il",
        "colab_type": "code",
        "colab": {
          "base_uri": "https://localhost:8080/",
          "height": 282
        },
        "outputId": "85de0f3d-2a8e-4889-8567-ae2be5479a08"
      },
      "source": [
        "dataset1['pts'].hist()"
      ],
      "execution_count": 604,
      "outputs": [
        {
          "output_type": "execute_result",
          "data": {
            "text/plain": [
              "<matplotlib.axes._subplots.AxesSubplot at 0x7f31f09d9eb8>"
            ]
          },
          "metadata": {
            "tags": []
          },
          "execution_count": 604
        },
        {
          "output_type": "display_data",
          "data": {
            "image/png": "[encoded data removed]",
            "text/plain": [
              "<Figure size 432x288 with 1 Axes>"
            ]
          },
          "metadata": {
            "tags": []
          }
        }
      ]
    },
    {
      "cell_type": "markdown",
      "metadata": {
        "id": "DMbjfrqd4Kb3",
        "colab_type": "text"
      },
      "source": [
        "### **Estatísticas Univariadas**"
      ]
    },
    {
      "cell_type": "markdown",
      "metadata": {
        "id": "moMu3-CTi-wB",
        "colab_type": "text"
      },
      "source": [
        "**Media**\n"
      ]
    },
    {
      "cell_type": "code",
      "metadata": {
        "id": "W2LDSs2xTOZ-",
        "colab_type": "code",
        "colab": {
          "base_uri": "https://localhost:8080/",
          "height": 34
        },
        "outputId": "b9b6213f-c360-4ed2-c723-9de57e373485"
      },
      "source": [
        "# [MÉDIA DE PONTOS] : Média de pontos \"GERAL\" por jogador da NBA entre os anos de 1996 e 2018\n",
        "\n",
        "dataset1['pts'].mean()"
      ],
      "execution_count": 578,
      "outputs": [
        {
          "output_type": "execute_result",
          "data": {
            "text/plain": [
              "8.075507375507375"
            ]
          },
          "metadata": {
            "tags": []
          },
          "execution_count": 578
        }
      ]
    },
    {
      "cell_type": "code",
      "metadata": {
        "id": "oA6FqKQ5BHgI",
        "colab_type": "code",
        "colab": {
          "base_uri": "https://localhost:8080/",
          "height": 762
        },
        "outputId": "c2562f76-b79f-4842-e355-fac346881318"
      },
      "source": [
        "# [MÉDIA DE PONTOS] : Média de Pontos por Jogador da NBA em determinada Temporada, considerando que o atleta disputou pelo menos um jogo pela liga\n",
        "\n",
        "# season: Temporada de referência\n",
        "# gp : Média de partidas de um jogador na temporada \n",
        "# pts: Média de pontos de um jogador na temporada\n",
        "# reb: Média de rebotes de um jogador na temporada\n",
        "# ast: Média de assitências de um jogador na temporada  \n",
        "# age: Média de idade de um jogador na temporada\n",
        "# player_height: Média de altura de um jogador na temporada\n",
        "# player_weight: Média de peso de um jogador na temporada\n",
        "\n",
        "dataset1[(dataset1['gp']>0)].groupby('season')['season','gp','pts','reb','ast', 'age', 'player_height', 'player_weight'].mean()"
      ],
      "execution_count": 579,
      "outputs": [
        {
          "output_type": "execute_result",
          "data": {
            "text/html": [
              "<div>\n",
              "<style scoped>\n",
              "    .dataframe tbody tr th:only-of-type {\n",
              "        vertical-align: middle;\n",
              "    }\n",
              "\n",
              "    .dataframe tbody tr th {\n",
              "        vertical-align: top;\n",
              "    }\n",
              "\n",
              "    .dataframe thead th {\n",
              "        text-align: right;\n",
              "    }\n",
              "</style>\n",
              "<table border=\"1\" class=\"dataframe\">\n",
              "  <thead>\n",
              "    <tr style=\"text-align: right;\">\n",
              "      <th></th>\n",
              "      <th>gp</th>\n",
              "      <th>pts</th>\n",
              "      <th>reb</th>\n",
              "      <th>ast</th>\n",
              "      <th>age</th>\n",
              "      <th>player_height</th>\n",
              "      <th>player_weight</th>\n",
              "    </tr>\n",
              "    <tr>\n",
              "      <th>season</th>\n",
              "      <th></th>\n",
              "      <th></th>\n",
              "      <th></th>\n",
              "      <th></th>\n",
              "      <th></th>\n",
              "      <th></th>\n",
              "      <th></th>\n",
              "    </tr>\n",
              "  </thead>\n",
              "  <tbody>\n",
              "    <tr>\n",
              "      <th>1996-97</th>\n",
              "      <td>53.870748</td>\n",
              "      <td>8.026077</td>\n",
              "      <td>3.546485</td>\n",
              "      <td>1.821088</td>\n",
              "      <td>27.963719</td>\n",
              "      <td>200.994830</td>\n",
              "      <td>100.526270</td>\n",
              "    </tr>\n",
              "    <tr>\n",
              "      <th>1997-98</th>\n",
              "      <td>54.671982</td>\n",
              "      <td>7.947608</td>\n",
              "      <td>3.516401</td>\n",
              "      <td>1.819818</td>\n",
              "      <td>28.084282</td>\n",
              "      <td>200.619499</td>\n",
              "      <td>100.265530</td>\n",
              "    </tr>\n",
              "    <tr>\n",
              "      <th>1998-99</th>\n",
              "      <td>33.974943</td>\n",
              "      <td>7.358542</td>\n",
              "      <td>3.421412</td>\n",
              "      <td>1.653759</td>\n",
              "      <td>28.002278</td>\n",
              "      <td>200.903007</td>\n",
              "      <td>100.639563</td>\n",
              "    </tr>\n",
              "    <tr>\n",
              "      <th>1999-00</th>\n",
              "      <td>55.458904</td>\n",
              "      <td>7.985845</td>\n",
              "      <td>3.652055</td>\n",
              "      <td>1.851370</td>\n",
              "      <td>28.107306</td>\n",
              "      <td>200.920959</td>\n",
              "      <td>100.735741</td>\n",
              "    </tr>\n",
              "    <tr>\n",
              "      <th>2000-01</th>\n",
              "      <td>54.356009</td>\n",
              "      <td>7.811338</td>\n",
              "      <td>3.619048</td>\n",
              "      <td>1.823583</td>\n",
              "      <td>28.097506</td>\n",
              "      <td>200.752154</td>\n",
              "      <td>100.842450</td>\n",
              "    </tr>\n",
              "    <tr>\n",
              "      <th>2001-02</th>\n",
              "      <td>54.334091</td>\n",
              "      <td>7.982727</td>\n",
              "      <td>3.633636</td>\n",
              "      <td>1.841136</td>\n",
              "      <td>27.672727</td>\n",
              "      <td>201.017909</td>\n",
              "      <td>101.288124</td>\n",
              "    </tr>\n",
              "    <tr>\n",
              "      <th>2002-03</th>\n",
              "      <td>55.932243</td>\n",
              "      <td>7.849299</td>\n",
              "      <td>3.593692</td>\n",
              "      <td>1.782944</td>\n",
              "      <td>27.530374</td>\n",
              "      <td>201.520514</td>\n",
              "      <td>102.032765</td>\n",
              "    </tr>\n",
              "    <tr>\n",
              "      <th>2003-04</th>\n",
              "      <td>54.056561</td>\n",
              "      <td>7.745475</td>\n",
              "      <td>3.583484</td>\n",
              "      <td>1.758597</td>\n",
              "      <td>27.457014</td>\n",
              "      <td>201.315113</td>\n",
              "      <td>101.635395</td>\n",
              "    </tr>\n",
              "    <tr>\n",
              "      <th>2004-05</th>\n",
              "      <td>53.778017</td>\n",
              "      <td>8.088147</td>\n",
              "      <td>3.577802</td>\n",
              "      <td>1.774138</td>\n",
              "      <td>27.297414</td>\n",
              "      <td>201.245733</td>\n",
              "      <td>101.697477</td>\n",
              "    </tr>\n",
              "    <tr>\n",
              "      <th>2005-06</th>\n",
              "      <td>54.399563</td>\n",
              "      <td>7.982533</td>\n",
              "      <td>3.483406</td>\n",
              "      <td>1.689083</td>\n",
              "      <td>26.890830</td>\n",
              "      <td>200.920655</td>\n",
              "      <td>101.340178</td>\n",
              "    </tr>\n",
              "    <tr>\n",
              "      <th>2006-07</th>\n",
              "      <td>54.772926</td>\n",
              "      <td>8.208734</td>\n",
              "      <td>3.503057</td>\n",
              "      <td>1.766157</td>\n",
              "      <td>26.858079</td>\n",
              "      <td>200.704367</td>\n",
              "      <td>101.329284</td>\n",
              "    </tr>\n",
              "    <tr>\n",
              "      <th>2007-08</th>\n",
              "      <td>55.177384</td>\n",
              "      <td>8.267184</td>\n",
              "      <td>3.578049</td>\n",
              "      <td>1.818847</td>\n",
              "      <td>27.192905</td>\n",
              "      <td>200.851486</td>\n",
              "      <td>100.941821</td>\n",
              "    </tr>\n",
              "    <tr>\n",
              "      <th>2008-09</th>\n",
              "      <td>55.346067</td>\n",
              "      <td>8.503820</td>\n",
              "      <td>3.620000</td>\n",
              "      <td>1.771910</td>\n",
              "      <td>26.943820</td>\n",
              "      <td>201.196539</td>\n",
              "      <td>101.393611</td>\n",
              "    </tr>\n",
              "    <tr>\n",
              "      <th>2009-10</th>\n",
              "      <td>56.133484</td>\n",
              "      <td>8.571719</td>\n",
              "      <td>3.657692</td>\n",
              "      <td>1.804977</td>\n",
              "      <td>27.079186</td>\n",
              "      <td>200.866878</td>\n",
              "      <td>101.161278</td>\n",
              "    </tr>\n",
              "    <tr>\n",
              "      <th>2010-11</th>\n",
              "      <td>55.648230</td>\n",
              "      <td>8.206195</td>\n",
              "      <td>3.553982</td>\n",
              "      <td>1.767699</td>\n",
              "      <td>27.134956</td>\n",
              "      <td>201.210708</td>\n",
              "      <td>101.647759</td>\n",
              "    </tr>\n",
              "    <tr>\n",
              "      <th>2011-12</th>\n",
              "      <td>43.426778</td>\n",
              "      <td>7.928870</td>\n",
              "      <td>3.562552</td>\n",
              "      <td>1.746234</td>\n",
              "      <td>27.089958</td>\n",
              "      <td>200.824728</td>\n",
              "      <td>101.058969</td>\n",
              "    </tr>\n",
              "    <tr>\n",
              "      <th>2012-13</th>\n",
              "      <td>54.918977</td>\n",
              "      <td>7.957996</td>\n",
              "      <td>3.522388</td>\n",
              "      <td>1.808529</td>\n",
              "      <td>27.066098</td>\n",
              "      <td>200.762900</td>\n",
              "      <td>100.886018</td>\n",
              "    </tr>\n",
              "    <tr>\n",
              "      <th>2013-14</th>\n",
              "      <td>53.149378</td>\n",
              "      <td>8.090249</td>\n",
              "      <td>3.523859</td>\n",
              "      <td>1.780498</td>\n",
              "      <td>26.962656</td>\n",
              "      <td>200.765394</td>\n",
              "      <td>100.555324</td>\n",
              "    </tr>\n",
              "    <tr>\n",
              "      <th>2014-15</th>\n",
              "      <td>52.806911</td>\n",
              "      <td>8.122561</td>\n",
              "      <td>3.543293</td>\n",
              "      <td>1.819512</td>\n",
              "      <td>26.981707</td>\n",
              "      <td>200.832602</td>\n",
              "      <td>100.452413</td>\n",
              "    </tr>\n",
              "    <tr>\n",
              "      <th>2015-16</th>\n",
              "      <td>54.785714</td>\n",
              "      <td>8.349370</td>\n",
              "      <td>3.620588</td>\n",
              "      <td>1.826261</td>\n",
              "      <td>27.052521</td>\n",
              "      <td>200.948151</td>\n",
              "      <td>100.414405</td>\n",
              "    </tr>\n",
              "    <tr>\n",
              "      <th>2016-17</th>\n",
              "      <td>53.781893</td>\n",
              "      <td>8.426749</td>\n",
              "      <td>3.565226</td>\n",
              "      <td>1.830247</td>\n",
              "      <td>26.847737</td>\n",
              "      <td>200.910864</td>\n",
              "      <td>99.845306</td>\n",
              "    </tr>\n",
              "    <tr>\n",
              "      <th>2017-18</th>\n",
              "      <td>48.340741</td>\n",
              "      <td>8.160926</td>\n",
              "      <td>3.377963</td>\n",
              "      <td>1.817778</td>\n",
              "      <td>26.522222</td>\n",
              "      <td>200.457741</td>\n",
              "      <td>98.811657</td>\n",
              "    </tr>\n",
              "  </tbody>\n",
              "</table>\n",
              "</div>"
            ],
            "text/plain": [
              "                gp       pts       reb  ...        age  player_height  player_weight\n",
              "season                                  ...                                         \n",
              "1996-97  53.870748  8.026077  3.546485  ...  27.963719     200.994830     100.526270\n",
              "1997-98  54.671982  7.947608  3.516401  ...  28.084282     200.619499     100.265530\n",
              "1998-99  33.974943  7.358542  3.421412  ...  28.002278     200.903007     100.639563\n",
              "1999-00  55.458904  7.985845  3.652055  ...  28.107306     200.920959     100.735741\n",
              "2000-01  54.356009  7.811338  3.619048  ...  28.097506     200.752154     100.842450\n",
              "2001-02  54.334091  7.982727  3.633636  ...  27.672727     201.017909     101.288124\n",
              "2002-03  55.932243  7.849299  3.593692  ...  27.530374     201.520514     102.032765\n",
              "2003-04  54.056561  7.745475  3.583484  ...  27.457014     201.315113     101.635395\n",
              "2004-05  53.778017  8.088147  3.577802  ...  27.297414     201.245733     101.697477\n",
              "2005-06  54.399563  7.982533  3.483406  ...  26.890830     200.920655     101.340178\n",
              "2006-07  54.772926  8.208734  3.503057  ...  26.858079     200.704367     101.329284\n",
              "2007-08  55.177384  8.267184  3.578049  ...  27.192905     200.851486     100.941821\n",
              "2008-09  55.346067  8.503820  3.620000  ...  26.943820     201.196539     101.393611\n",
              "2009-10  56.133484  8.571719  3.657692  ...  27.079186     200.866878     101.161278\n",
              "2010-11  55.648230  8.206195  3.553982  ...  27.134956     201.210708     101.647759\n",
              "2011-12  43.426778  7.928870  3.562552  ...  27.089958     200.824728     101.058969\n",
              "2012-13  54.918977  7.957996  3.522388  ...  27.066098     200.762900     100.886018\n",
              "2013-14  53.149378  8.090249  3.523859  ...  26.962656     200.765394     100.555324\n",
              "2014-15  52.806911  8.122561  3.543293  ...  26.981707     200.832602     100.452413\n",
              "2015-16  54.785714  8.349370  3.620588  ...  27.052521     200.948151     100.414405\n",
              "2016-17  53.781893  8.426749  3.565226  ...  26.847737     200.910864      99.845306\n",
              "2017-18  48.340741  8.160926  3.377963  ...  26.522222     200.457741      98.811657\n",
              "\n",
              "[22 rows x 7 columns]"
            ]
          },
          "metadata": {
            "tags": []
          },
          "execution_count": 579
        }
      ]
    },
    {
      "cell_type": "code",
      "metadata": {
        "id": "yVOOgeQdeAqM",
        "colab_type": "code",
        "colab": {
          "base_uri": "https://localhost:8080/",
          "height": 437
        },
        "outputId": "59c6d279-084b-49bd-a6e5-251705fb0839"
      },
      "source": [
        "# [MÉDIA DE PONTOS - GRÁFICO] : Gráfico da média de Pontos, média de rebotes e média de assistências por Jogador da NBA em determinada Temporada, \n",
        "#                     considerando que o atleta disputou pelo menos um jogo pela liga\n",
        "\n",
        "# season: Temporada de referência\n",
        "# pts: Média de pontos de um jogador na temporada\n",
        "# reb: Média de rebotes de um jogador na temporada\n",
        "# ast: Média de assitências de um jogador na temporada  \n",
        "\n",
        "dataset1[(dataset1['gp']>0)].groupby('season')['pts', 'reb', 'ast'].mean().plot.bar(figsize=(18, 6))"
      ],
      "execution_count": 580,
      "outputs": [
        {
          "output_type": "execute_result",
          "data": {
            "text/plain": [
              "<matplotlib.axes._subplots.AxesSubplot at 0x7f31f0c2bbe0>"
            ]
          },
          "metadata": {
            "tags": []
          },
          "execution_count": 580
        },
        {
          "output_type": "display_data",
          "data": {
            "image/png": "[encoded data removed]",
            "text/plain": [
              "<Figure size 1296x432 with 1 Axes>"
            ]
          },
          "metadata": {
            "tags": []
          }
        }
      ]
    },
    {
      "cell_type": "code",
      "metadata": {
        "id": "oQruLL9WpTTc",
        "colab_type": "code",
        "colab": {
          "base_uri": "https://localhost:8080/",
          "height": 762
        },
        "outputId": "5702e760-147c-4ca3-8fdf-07bdcdf81fa8"
      },
      "source": [
        "# [MÉDIA DE PONTOS - ESTRANGEIROS] : Média de Pontos de Jogador ESTRANGEIROS da NBA em determinada Temporada, considerando que o atleta disputou \n",
        "#                                    pelo menos um jogo pela liga\n",
        "\n",
        "# season: Temporada de referência\n",
        "# gp : Média de partidas de um jogador na temporada \n",
        "# pts: Média de pontos de um jogador na temporada\n",
        "# reb: Média de rebotes de um jogador na temporada\n",
        "# ast: Média de assitências de um jogador na temporada  \n",
        "# age: Média de idade de um jogador na temporada\n",
        "# player_height: Média de altura de um jogador na temporada\n",
        "# player_weight: Média de peso de um jogador na temporada\n",
        "\n",
        "dataset_e = dataset1\n",
        "dataset_e[(dataset_e['gp']>0) & (dataset_e['country'] != 'USA')].groupby('season')['season','gp','pts','reb','ast', 'age', \n",
        "                                                                                   'player_height', 'player_weight'].mean()\n"
      ],
      "execution_count": 581,
      "outputs": [
        {
          "output_type": "execute_result",
          "data": {
            "text/html": [
              "<div>\n",
              "<style scoped>\n",
              "    .dataframe tbody tr th:only-of-type {\n",
              "        vertical-align: middle;\n",
              "    }\n",
              "\n",
              "    .dataframe tbody tr th {\n",
              "        vertical-align: top;\n",
              "    }\n",
              "\n",
              "    .dataframe thead th {\n",
              "        text-align: right;\n",
              "    }\n",
              "</style>\n",
              "<table border=\"1\" class=\"dataframe\">\n",
              "  <thead>\n",
              "    <tr style=\"text-align: right;\">\n",
              "      <th></th>\n",
              "      <th>gp</th>\n",
              "      <th>pts</th>\n",
              "      <th>reb</th>\n",
              "      <th>ast</th>\n",
              "      <th>age</th>\n",
              "      <th>player_height</th>\n",
              "      <th>player_weight</th>\n",
              "    </tr>\n",
              "    <tr>\n",
              "      <th>season</th>\n",
              "      <th></th>\n",
              "      <th></th>\n",
              "      <th></th>\n",
              "      <th></th>\n",
              "      <th></th>\n",
              "      <th></th>\n",
              "      <th></th>\n",
              "    </tr>\n",
              "  </thead>\n",
              "  <tbody>\n",
              "    <tr>\n",
              "      <th>1996-97</th>\n",
              "      <td>73.777778</td>\n",
              "      <td>13.622222</td>\n",
              "      <td>6.877778</td>\n",
              "      <td>2.566667</td>\n",
              "      <td>28.888889</td>\n",
              "      <td>210.255556</td>\n",
              "      <td>113.549197</td>\n",
              "    </tr>\n",
              "    <tr>\n",
              "      <th>1997-98</th>\n",
              "      <td>65.357143</td>\n",
              "      <td>11.835714</td>\n",
              "      <td>6.507143</td>\n",
              "      <td>1.978571</td>\n",
              "      <td>27.214286</td>\n",
              "      <td>209.368571</td>\n",
              "      <td>113.009207</td>\n",
              "    </tr>\n",
              "    <tr>\n",
              "      <th>1998-99</th>\n",
              "      <td>36.272727</td>\n",
              "      <td>9.850000</td>\n",
              "      <td>5.554545</td>\n",
              "      <td>1.613636</td>\n",
              "      <td>26.090909</td>\n",
              "      <td>209.780909</td>\n",
              "      <td>110.758919</td>\n",
              "    </tr>\n",
              "    <tr>\n",
              "      <th>1999-00</th>\n",
              "      <td>61.666667</td>\n",
              "      <td>8.954167</td>\n",
              "      <td>5.062500</td>\n",
              "      <td>1.458333</td>\n",
              "      <td>26.958333</td>\n",
              "      <td>208.915000</td>\n",
              "      <td>111.640331</td>\n",
              "    </tr>\n",
              "    <tr>\n",
              "      <th>2000-01</th>\n",
              "      <td>52.050000</td>\n",
              "      <td>6.932500</td>\n",
              "      <td>4.055000</td>\n",
              "      <td>1.112500</td>\n",
              "      <td>26.100000</td>\n",
              "      <td>209.042000</td>\n",
              "      <td>111.164059</td>\n",
              "    </tr>\n",
              "    <tr>\n",
              "      <th>2001-02</th>\n",
              "      <td>56.627451</td>\n",
              "      <td>7.211765</td>\n",
              "      <td>4.035294</td>\n",
              "      <td>1.207843</td>\n",
              "      <td>25.803922</td>\n",
              "      <td>208.628627</td>\n",
              "      <td>110.925479</td>\n",
              "    </tr>\n",
              "    <tr>\n",
              "      <th>2002-03</th>\n",
              "      <td>51.887097</td>\n",
              "      <td>6.866129</td>\n",
              "      <td>3.658065</td>\n",
              "      <td>1.277419</td>\n",
              "      <td>26.016129</td>\n",
              "      <td>208.116129</td>\n",
              "      <td>110.303332</td>\n",
              "    </tr>\n",
              "    <tr>\n",
              "      <th>2003-04</th>\n",
              "      <td>58.639344</td>\n",
              "      <td>7.677049</td>\n",
              "      <td>3.998361</td>\n",
              "      <td>1.568852</td>\n",
              "      <td>25.688525</td>\n",
              "      <td>207.821967</td>\n",
              "      <td>108.542335</td>\n",
              "    </tr>\n",
              "    <tr>\n",
              "      <th>2004-05</th>\n",
              "      <td>52.743243</td>\n",
              "      <td>7.278378</td>\n",
              "      <td>3.654054</td>\n",
              "      <td>1.424324</td>\n",
              "      <td>25.567568</td>\n",
              "      <td>207.833784</td>\n",
              "      <td>109.162431</td>\n",
              "    </tr>\n",
              "    <tr>\n",
              "      <th>2005-06</th>\n",
              "      <td>56.262500</td>\n",
              "      <td>7.286250</td>\n",
              "      <td>3.757500</td>\n",
              "      <td>1.408750</td>\n",
              "      <td>25.825000</td>\n",
              "      <td>207.105250</td>\n",
              "      <td>107.762119</td>\n",
              "    </tr>\n",
              "    <tr>\n",
              "      <th>2006-07</th>\n",
              "      <td>59.183099</td>\n",
              "      <td>8.432394</td>\n",
              "      <td>4.035211</td>\n",
              "      <td>1.567606</td>\n",
              "      <td>26.436620</td>\n",
              "      <td>205.954648</td>\n",
              "      <td>107.494915</td>\n",
              "    </tr>\n",
              "    <tr>\n",
              "      <th>2007-08</th>\n",
              "      <td>61.535211</td>\n",
              "      <td>8.849296</td>\n",
              "      <td>4.388732</td>\n",
              "      <td>1.756338</td>\n",
              "      <td>26.718310</td>\n",
              "      <td>205.740000</td>\n",
              "      <td>106.076642</td>\n",
              "    </tr>\n",
              "    <tr>\n",
              "      <th>2008-09</th>\n",
              "      <td>60.845070</td>\n",
              "      <td>8.874648</td>\n",
              "      <td>4.428169</td>\n",
              "      <td>1.739437</td>\n",
              "      <td>27.056338</td>\n",
              "      <td>206.383944</td>\n",
              "      <td>106.900774</td>\n",
              "    </tr>\n",
              "    <tr>\n",
              "      <th>2009-10</th>\n",
              "      <td>58.394737</td>\n",
              "      <td>8.382895</td>\n",
              "      <td>4.194737</td>\n",
              "      <td>1.664474</td>\n",
              "      <td>27.210526</td>\n",
              "      <td>205.405789</td>\n",
              "      <td>105.561601</td>\n",
              "    </tr>\n",
              "    <tr>\n",
              "      <th>2010-11</th>\n",
              "      <td>57.535714</td>\n",
              "      <td>7.829762</td>\n",
              "      <td>3.833333</td>\n",
              "      <td>1.608333</td>\n",
              "      <td>27.583333</td>\n",
              "      <td>206.042381</td>\n",
              "      <td>106.464522</td>\n",
              "    </tr>\n",
              "    <tr>\n",
              "      <th>2011-12</th>\n",
              "      <td>43.238095</td>\n",
              "      <td>7.859524</td>\n",
              "      <td>4.154762</td>\n",
              "      <td>1.767857</td>\n",
              "      <td>27.226190</td>\n",
              "      <td>205.225952</td>\n",
              "      <td>105.438540</td>\n",
              "    </tr>\n",
              "    <tr>\n",
              "      <th>2012-13</th>\n",
              "      <td>54.694118</td>\n",
              "      <td>7.843529</td>\n",
              "      <td>4.103529</td>\n",
              "      <td>1.911765</td>\n",
              "      <td>27.141176</td>\n",
              "      <td>205.022824</td>\n",
              "      <td>105.286708</td>\n",
              "    </tr>\n",
              "    <tr>\n",
              "      <th>2013-14</th>\n",
              "      <td>54.826087</td>\n",
              "      <td>7.357609</td>\n",
              "      <td>4.032609</td>\n",
              "      <td>1.645652</td>\n",
              "      <td>27.141304</td>\n",
              "      <td>204.828913</td>\n",
              "      <td>104.222623</td>\n",
              "    </tr>\n",
              "    <tr>\n",
              "      <th>2014-15</th>\n",
              "      <td>55.376238</td>\n",
              "      <td>7.776238</td>\n",
              "      <td>4.103960</td>\n",
              "      <td>1.628713</td>\n",
              "      <td>27.079208</td>\n",
              "      <td>205.161584</td>\n",
              "      <td>104.748315</td>\n",
              "    </tr>\n",
              "    <tr>\n",
              "      <th>2015-16</th>\n",
              "      <td>57.514851</td>\n",
              "      <td>7.925743</td>\n",
              "      <td>4.082178</td>\n",
              "      <td>1.730693</td>\n",
              "      <td>27.316832</td>\n",
              "      <td>205.211881</td>\n",
              "      <td>104.793225</td>\n",
              "    </tr>\n",
              "    <tr>\n",
              "      <th>2016-17</th>\n",
              "      <td>56.243478</td>\n",
              "      <td>7.995652</td>\n",
              "      <td>4.000870</td>\n",
              "      <td>1.699130</td>\n",
              "      <td>26.843478</td>\n",
              "      <td>205.143652</td>\n",
              "      <td>103.008771</td>\n",
              "    </tr>\n",
              "    <tr>\n",
              "      <th>2017-18</th>\n",
              "      <td>55.350877</td>\n",
              "      <td>8.462281</td>\n",
              "      <td>4.085965</td>\n",
              "      <td>1.813158</td>\n",
              "      <td>26.482456</td>\n",
              "      <td>205.004737</td>\n",
              "      <td>102.440172</td>\n",
              "    </tr>\n",
              "  </tbody>\n",
              "</table>\n",
              "</div>"
            ],
            "text/plain": [
              "                gp        pts  ...  player_height  player_weight\n",
              "season                         ...                              \n",
              "1996-97  73.777778  13.622222  ...     210.255556     113.549197\n",
              "1997-98  65.357143  11.835714  ...     209.368571     113.009207\n",
              "1998-99  36.272727   9.850000  ...     209.780909     110.758919\n",
              "1999-00  61.666667   8.954167  ...     208.915000     111.640331\n",
              "2000-01  52.050000   6.932500  ...     209.042000     111.164059\n",
              "2001-02  56.627451   7.211765  ...     208.628627     110.925479\n",
              "2002-03  51.887097   6.866129  ...     208.116129     110.303332\n",
              "2003-04  58.639344   7.677049  ...     207.821967     108.542335\n",
              "2004-05  52.743243   7.278378  ...     207.833784     109.162431\n",
              "2005-06  56.262500   7.286250  ...     207.105250     107.762119\n",
              "2006-07  59.183099   8.432394  ...     205.954648     107.494915\n",
              "2007-08  61.535211   8.849296  ...     205.740000     106.076642\n",
              "2008-09  60.845070   8.874648  ...     206.383944     106.900774\n",
              "2009-10  58.394737   8.382895  ...     205.405789     105.561601\n",
              "2010-11  57.535714   7.829762  ...     206.042381     106.464522\n",
              "2011-12  43.238095   7.859524  ...     205.225952     105.438540\n",
              "2012-13  54.694118   7.843529  ...     205.022824     105.286708\n",
              "2013-14  54.826087   7.357609  ...     204.828913     104.222623\n",
              "2014-15  55.376238   7.776238  ...     205.161584     104.748315\n",
              "2015-16  57.514851   7.925743  ...     205.211881     104.793225\n",
              "2016-17  56.243478   7.995652  ...     205.143652     103.008771\n",
              "2017-18  55.350877   8.462281  ...     205.004737     102.440172\n",
              "\n",
              "[22 rows x 7 columns]"
            ]
          },
          "metadata": {
            "tags": []
          },
          "execution_count": 581
        }
      ]
    },
    {
      "cell_type": "code",
      "metadata": {
        "id": "9AXtUSyxwNpQ",
        "colab_type": "code",
        "colab": {
          "base_uri": "https://localhost:8080/",
          "height": 437
        },
        "outputId": "cb081b00-1117-4b86-b79c-5d2ba8989dcd"
      },
      "source": [
        "# [MÉDIA DE PONTOS - ESTRANGEIROS - GRÁFICO] : Gráfico da média de Pontos, média de rebotes e média de assistências para Jogadores ESTRANGEIROS da NBA \n",
        "#                                              em determinada Temporada, considerando que o atleta disputou pelo menos um jogo pela liga\n",
        "\n",
        "# season: Temporada de referência\n",
        "# pts: Média de pontos de um jogador na temporada\n",
        "# reb: Média de rebotes de um jogador na temporada\n",
        "# ast: Média de assitências de um jogador na temporada  \n",
        "\n",
        "dataset_e[(dataset_e['gp']>0) & (dataset_e['country'] != 'USA')].groupby('season')['pts','reb','ast'].mean().plot.bar(figsize=(18, 6))"
      ],
      "execution_count": 582,
      "outputs": [
        {
          "output_type": "execute_result",
          "data": {
            "text/plain": [
              "<matplotlib.axes._subplots.AxesSubplot at 0x7f31f0aeac50>"
            ]
          },
          "metadata": {
            "tags": []
          },
          "execution_count": 582
        },
        {
          "output_type": "display_data",
          "data": {
            "image/png": "[encoded data removed]",
            "text/plain": [
              "<Figure size 1296x432 with 1 Axes>"
            ]
          },
          "metadata": {
            "tags": []
          }
        }
      ]
    },
    {
      "cell_type": "code",
      "metadata": {
        "id": "49cjVxHUkIsm",
        "colab_type": "code",
        "colab": {
          "base_uri": "https://localhost:8080/",
          "height": 309
        },
        "outputId": "8c8376a8-262d-49a8-bc18-8c611afb7142"
      },
      "source": [
        "# [MÉDIA DE PONTOS] : Jogadores da NBA com a maior média de pontos na história da liga para uma temporada entre os anos de 1996 e 2018\n",
        "\n",
        "# team_abbreviation : Time/ franquia que o jogador defendia na temporada \n",
        "# gp : Média de partidas de um jogador na temporada \n",
        "# pts: Média de pontos de um jogador na temporada\n",
        "# reb: Média de rebotes de um jogador na temporada\n",
        "# ast: Média de assitências de um jogador na temporada \n",
        "# season: Temporada de referência \n",
        "\n",
        "#dataset_s = dataset1[(dataset1['pts'] == dataset1['pts'].max())].groupby('player_name')\n",
        "#dataset_s = dataset_s['player_name', 'team_abbreviation', 'age', 'country', 'gp', 'pts', 'reb', 'ast', 'season']\n",
        "#dataset_s.head()\n",
        "\n",
        "# [GERAL] : Maiores médias de pontos Entre todos os jogadores\n",
        "\n",
        "dataset1 = dataset1[(dataset1['pts'] > dataset1['pts'].mean())].sort_values(by='pts', ascending=False)\n",
        "dataset1.head()"
      ],
      "execution_count": 594,
      "outputs": [
        {
          "output_type": "execute_result",
          "data": {
            "text/html": [
              "<div>\n",
              "<style scoped>\n",
              "    .dataframe tbody tr th:only-of-type {\n",
              "        vertical-align: middle;\n",
              "    }\n",
              "\n",
              "    .dataframe tbody tr th {\n",
              "        vertical-align: top;\n",
              "    }\n",
              "\n",
              "    .dataframe thead th {\n",
              "        text-align: right;\n",
              "    }\n",
              "</style>\n",
              "<table border=\"1\" class=\"dataframe\">\n",
              "  <thead>\n",
              "    <tr style=\"text-align: right;\">\n",
              "      <th></th>\n",
              "      <th>id</th>\n",
              "      <th>player_name</th>\n",
              "      <th>team_abbreviation</th>\n",
              "      <th>age</th>\n",
              "      <th>player_height</th>\n",
              "      <th>player_weight</th>\n",
              "      <th>college</th>\n",
              "      <th>country</th>\n",
              "      <th>gp</th>\n",
              "      <th>pts</th>\n",
              "      <th>reb</th>\n",
              "      <th>ast</th>\n",
              "      <th>season</th>\n",
              "      <th>pts_normal</th>\n",
              "      <th>reb_normal</th>\n",
              "      <th>ast_normal</th>\n",
              "      <th>pts_disct</th>\n",
              "      <th>reb_disct</th>\n",
              "      <th>ast_disct</th>\n",
              "    </tr>\n",
              "  </thead>\n",
              "  <tbody>\n",
              "    <tr>\n",
              "      <th>4343</th>\n",
              "      <td>4343</td>\n",
              "      <td>Kobe Bryant</td>\n",
              "      <td>LAL</td>\n",
              "      <td>27.0</td>\n",
              "      <td>198.12</td>\n",
              "      <td>99.79024</td>\n",
              "      <td>None</td>\n",
              "      <td>USA</td>\n",
              "      <td>80</td>\n",
              "      <td>35.4</td>\n",
              "      <td>5.3</td>\n",
              "      <td>4.5</td>\n",
              "      <td>2005-06</td>\n",
              "      <td>4.638509</td>\n",
              "      <td>0.700635</td>\n",
              "      <td>1.514077</td>\n",
              "      <td>(33.04, 35.4]</td>\n",
              "      <td>(4.89, 6.52]</td>\n",
              "      <td>(3.51, 4.68]</td>\n",
              "    </tr>\n",
              "    <tr>\n",
              "      <th>4127</th>\n",
              "      <td>4127</td>\n",
              "      <td>Allen Iverson</td>\n",
              "      <td>PHI</td>\n",
              "      <td>31.0</td>\n",
              "      <td>182.88</td>\n",
              "      <td>74.84268</td>\n",
              "      <td>Georgetown</td>\n",
              "      <td>USA</td>\n",
              "      <td>72</td>\n",
              "      <td>33.0</td>\n",
              "      <td>3.2</td>\n",
              "      <td>7.4</td>\n",
              "      <td>2005-06</td>\n",
              "      <td>4.231094</td>\n",
              "      <td>-0.142610</td>\n",
              "      <td>3.134355</td>\n",
              "      <td>(30.68, 33.04]</td>\n",
              "      <td>(1.63, 3.26]</td>\n",
              "      <td>(7.02, 8.19]</td>\n",
              "    </tr>\n",
              "    <tr>\n",
              "      <th>3030</th>\n",
              "      <td>3030</td>\n",
              "      <td>Tracy McGrady</td>\n",
              "      <td>ORL</td>\n",
              "      <td>24.0</td>\n",
              "      <td>203.20</td>\n",
              "      <td>95.25432</td>\n",
              "      <td>None</td>\n",
              "      <td>USA</td>\n",
              "      <td>75</td>\n",
              "      <td>32.1</td>\n",
              "      <td>6.5</td>\n",
              "      <td>5.5</td>\n",
              "      <td>2002-03</td>\n",
              "      <td>4.078313</td>\n",
              "      <td>1.182489</td>\n",
              "      <td>2.072794</td>\n",
              "      <td>(30.68, 33.04]</td>\n",
              "      <td>(4.89, 6.52]</td>\n",
              "      <td>(4.68, 5.85]</td>\n",
              "    </tr>\n",
              "    <tr>\n",
              "      <th>7789</th>\n",
              "      <td>7789</td>\n",
              "      <td>Kevin Durant</td>\n",
              "      <td>OKC</td>\n",
              "      <td>25.0</td>\n",
              "      <td>205.74</td>\n",
              "      <td>108.86208</td>\n",
              "      <td>Texas</td>\n",
              "      <td>USA</td>\n",
              "      <td>81</td>\n",
              "      <td>32.0</td>\n",
              "      <td>7.4</td>\n",
              "      <td>5.5</td>\n",
              "      <td>2013-14</td>\n",
              "      <td>4.061337</td>\n",
              "      <td>1.543879</td>\n",
              "      <td>2.072794</td>\n",
              "      <td>(30.68, 33.04]</td>\n",
              "      <td>(6.52, 8.15]</td>\n",
              "      <td>(4.68, 5.85]</td>\n",
              "    </tr>\n",
              "    <tr>\n",
              "      <th>9323</th>\n",
              "      <td>9323</td>\n",
              "      <td>Russell Westbrook</td>\n",
              "      <td>OKC</td>\n",
              "      <td>28.0</td>\n",
              "      <td>190.50</td>\n",
              "      <td>90.71840</td>\n",
              "      <td>UCLA</td>\n",
              "      <td>USA</td>\n",
              "      <td>81</td>\n",
              "      <td>31.6</td>\n",
              "      <td>10.7</td>\n",
              "      <td>10.4</td>\n",
              "      <td>2016-17</td>\n",
              "      <td>3.993435</td>\n",
              "      <td>2.868978</td>\n",
              "      <td>4.810505</td>\n",
              "      <td>(30.68, 33.04]</td>\n",
              "      <td>(9.78, 11.41]</td>\n",
              "      <td>(9.36, 10.53]</td>\n",
              "    </tr>\n",
              "  </tbody>\n",
              "</table>\n",
              "</div>"
            ],
            "text/plain": [
              "        id        player_name  ...      reb_disct      ast_disct\n",
              "4343  4343        Kobe Bryant  ...   (4.89, 6.52]   (3.51, 4.68]\n",
              "4127  4127      Allen Iverson  ...   (1.63, 3.26]   (7.02, 8.19]\n",
              "3030  3030      Tracy McGrady  ...   (4.89, 6.52]   (4.68, 5.85]\n",
              "7789  7789       Kevin Durant  ...   (6.52, 8.15]   (4.68, 5.85]\n",
              "9323  9323  Russell Westbrook  ...  (9.78, 11.41]  (9.36, 10.53]\n",
              "\n",
              "[5 rows x 19 columns]"
            ]
          },
          "metadata": {
            "tags": []
          },
          "execution_count": 594
        }
      ]
    },
    {
      "cell_type": "code",
      "metadata": {
        "id": "3BLQGCCyd9jo",
        "colab_type": "code",
        "colab": {
          "base_uri": "https://localhost:8080/",
          "height": 309
        },
        "outputId": "d15106d9-a571-489a-f635-722b1e5dd709"
      },
      "source": [
        "# [JOGADORES ESTRANGEIROS] : Maiores médias de pontos entre jogadores estrangeiros\n",
        " \n",
        "dataset_e = dataset1[(dataset1['pts'] > dataset1['pts'].mean()) & (dataset1['country'] != 'USA')].sort_values(by='pts', ascending=False)\n",
        "dataset_e.head()"
      ],
      "execution_count": 595,
      "outputs": [
        {
          "output_type": "execute_result",
          "data": {
            "text/html": [
              "<div>\n",
              "<style scoped>\n",
              "    .dataframe tbody tr th:only-of-type {\n",
              "        vertical-align: middle;\n",
              "    }\n",
              "\n",
              "    .dataframe tbody tr th {\n",
              "        vertical-align: top;\n",
              "    }\n",
              "\n",
              "    .dataframe thead th {\n",
              "        text-align: right;\n",
              "    }\n",
              "</style>\n",
              "<table border=\"1\" class=\"dataframe\">\n",
              "  <thead>\n",
              "    <tr style=\"text-align: right;\">\n",
              "      <th></th>\n",
              "      <th>id</th>\n",
              "      <th>player_name</th>\n",
              "      <th>team_abbreviation</th>\n",
              "      <th>age</th>\n",
              "      <th>player_height</th>\n",
              "      <th>player_weight</th>\n",
              "      <th>college</th>\n",
              "      <th>country</th>\n",
              "      <th>gp</th>\n",
              "      <th>pts</th>\n",
              "      <th>reb</th>\n",
              "      <th>ast</th>\n",
              "      <th>season</th>\n",
              "      <th>pts_normal</th>\n",
              "      <th>reb_normal</th>\n",
              "      <th>ast_normal</th>\n",
              "      <th>pts_disct</th>\n",
              "      <th>reb_disct</th>\n",
              "      <th>ast_disct</th>\n",
              "    </tr>\n",
              "  </thead>\n",
              "  <tbody>\n",
              "    <tr>\n",
              "      <th>10093</th>\n",
              "      <td>10093</td>\n",
              "      <td>Giannis Antetokounmpo</td>\n",
              "      <td>MIL</td>\n",
              "      <td>23.0</td>\n",
              "      <td>210.82</td>\n",
              "      <td>100.697424</td>\n",
              "      <td>None</td>\n",
              "      <td>Greece</td>\n",
              "      <td>75</td>\n",
              "      <td>26.9</td>\n",
              "      <td>10.0</td>\n",
              "      <td>4.8</td>\n",
              "      <td>2017-18</td>\n",
              "      <td>3.195579</td>\n",
              "      <td>2.587896</td>\n",
              "      <td>1.681692</td>\n",
              "      <td>(25.96, 28.32]</td>\n",
              "      <td>(9.78, 11.41]</td>\n",
              "      <td>(4.68, 5.85]</td>\n",
              "    </tr>\n",
              "    <tr>\n",
              "      <th>4017</th>\n",
              "      <td>4017</td>\n",
              "      <td>Dirk Nowitzki</td>\n",
              "      <td>DAL</td>\n",
              "      <td>28.0</td>\n",
              "      <td>213.36</td>\n",
              "      <td>111.130040</td>\n",
              "      <td>None</td>\n",
              "      <td>Germany</td>\n",
              "      <td>81</td>\n",
              "      <td>26.6</td>\n",
              "      <td>9.0</td>\n",
              "      <td>2.8</td>\n",
              "      <td>2005-06</td>\n",
              "      <td>3.144653</td>\n",
              "      <td>2.186351</td>\n",
              "      <td>0.564259</td>\n",
              "      <td>(25.96, 28.32]</td>\n",
              "      <td>(8.15, 9.78]</td>\n",
              "      <td>(2.34, 3.51]</td>\n",
              "    </tr>\n",
              "    <tr>\n",
              "      <th>3573</th>\n",
              "      <td>3573</td>\n",
              "      <td>Dirk Nowitzki</td>\n",
              "      <td>DAL</td>\n",
              "      <td>27.0</td>\n",
              "      <td>213.36</td>\n",
              "      <td>111.130040</td>\n",
              "      <td>None</td>\n",
              "      <td>Germany</td>\n",
              "      <td>78</td>\n",
              "      <td>26.1</td>\n",
              "      <td>9.7</td>\n",
              "      <td>3.1</td>\n",
              "      <td>2004-05</td>\n",
              "      <td>3.059774</td>\n",
              "      <td>2.467433</td>\n",
              "      <td>0.731874</td>\n",
              "      <td>(25.96, 28.32]</td>\n",
              "      <td>(8.15, 9.78]</td>\n",
              "      <td>(2.34, 3.51]</td>\n",
              "    </tr>\n",
              "    <tr>\n",
              "      <th>5665</th>\n",
              "      <td>5665</td>\n",
              "      <td>Dirk Nowitzki</td>\n",
              "      <td>DAL</td>\n",
              "      <td>31.0</td>\n",
              "      <td>213.36</td>\n",
              "      <td>111.130040</td>\n",
              "      <td>None</td>\n",
              "      <td>Germany</td>\n",
              "      <td>81</td>\n",
              "      <td>25.9</td>\n",
              "      <td>8.4</td>\n",
              "      <td>2.4</td>\n",
              "      <td>2008-09</td>\n",
              "      <td>3.025823</td>\n",
              "      <td>1.945424</td>\n",
              "      <td>0.340772</td>\n",
              "      <td>(23.6, 25.96]</td>\n",
              "      <td>(8.15, 9.78]</td>\n",
              "      <td>(2.34, 3.51]</td>\n",
              "    </tr>\n",
              "    <tr>\n",
              "      <th>2506</th>\n",
              "      <td>2506</td>\n",
              "      <td>Tim Duncan</td>\n",
              "      <td>SAS</td>\n",
              "      <td>26.0</td>\n",
              "      <td>213.36</td>\n",
              "      <td>117.933920</td>\n",
              "      <td>Wake Forest</td>\n",
              "      <td>US Virgin Islands</td>\n",
              "      <td>82</td>\n",
              "      <td>25.5</td>\n",
              "      <td>12.7</td>\n",
              "      <td>3.7</td>\n",
              "      <td>2001-02</td>\n",
              "      <td>2.957920</td>\n",
              "      <td>3.672068</td>\n",
              "      <td>1.067104</td>\n",
              "      <td>(23.6, 25.96]</td>\n",
              "      <td>(11.41, 13.04]</td>\n",
              "      <td>(3.51, 4.68]</td>\n",
              "    </tr>\n",
              "  </tbody>\n",
              "</table>\n",
              "</div>"
            ],
            "text/plain": [
              "          id            player_name  ...       reb_disct     ast_disct\n",
              "10093  10093  Giannis Antetokounmpo  ...   (9.78, 11.41]  (4.68, 5.85]\n",
              "4017    4017          Dirk Nowitzki  ...    (8.15, 9.78]  (2.34, 3.51]\n",
              "3573    3573          Dirk Nowitzki  ...    (8.15, 9.78]  (2.34, 3.51]\n",
              "5665    5665          Dirk Nowitzki  ...    (8.15, 9.78]  (2.34, 3.51]\n",
              "2506    2506             Tim Duncan  ...  (11.41, 13.04]  (3.51, 4.68]\n",
              "\n",
              "[5 rows x 19 columns]"
            ]
          },
          "metadata": {
            "tags": []
          },
          "execution_count": 595
        }
      ]
    },
    {
      "cell_type": "markdown",
      "metadata": {
        "id": "d0OlNX0YjOWq",
        "colab_type": "text"
      },
      "source": [
        "**Mediana**"
      ]
    },
    {
      "cell_type": "code",
      "metadata": {
        "id": "MYMSkPv4gjst",
        "colab_type": "code",
        "colab": {
          "base_uri": "https://localhost:8080/",
          "height": 221
        },
        "outputId": "cf5d808a-3ecc-4ceb-c744-c70a8d0f62c6"
      },
      "source": [
        "# [MEDIANA] : Registro do Dataset que representa a Mediana (linha central) para Base de Dados \n",
        "\n",
        "dataset1.median()"
      ],
      "execution_count": 585,
      "outputs": [
        {
          "output_type": "execute_result",
          "data": {
            "text/plain": [
              "id               5266.000000\n",
              "age                27.000000\n",
              "player_height     200.660000\n",
              "player_weight      99.790240\n",
              "gp                 74.000000\n",
              "pts                12.600000\n",
              "reb                 4.500000\n",
              "ast                 2.400000\n",
              "pts_normal          0.768062\n",
              "reb_normal          0.379399\n",
              "ast_normal          0.340772\n",
              "dtype: float64"
            ]
          },
          "metadata": {
            "tags": []
          },
          "execution_count": 585
        }
      ]
    },
    {
      "cell_type": "markdown",
      "metadata": {
        "id": "oT5ppQDHjV0V",
        "colab_type": "text"
      },
      "source": [
        "**Moda**"
      ]
    },
    {
      "cell_type": "code",
      "metadata": {
        "id": "3xD1OJz9mz7y",
        "colab_type": "code",
        "colab": {
          "base_uri": "https://localhost:8080/",
          "height": 51
        },
        "outputId": "38cb3118-8a72-4174-ebe3-39c23acb4664"
      },
      "source": [
        "# [MODA] : Média de pontos com mais ocorrência entre os jogadores de NBA que pontuaram entre os anos de 1996 e 2018, \n",
        "#          considerando que o atleta disputou pelo menos um jogo pela liga\n",
        "\n",
        "dataset1[(dataset1['gp']>0)]['pts'].mode()"
      ],
      "execution_count": 586,
      "outputs": [
        {
          "output_type": "execute_result",
          "data": {
            "text/plain": [
              "0    8.4\n",
              "dtype: float64"
            ]
          },
          "metadata": {
            "tags": []
          },
          "execution_count": 586
        }
      ]
    },
    {
      "cell_type": "markdown",
      "metadata": {
        "id": "yDi1ZbJpjajs",
        "colab_type": "text"
      },
      "source": [
        "**Variância**"
      ]
    },
    {
      "cell_type": "code",
      "metadata": {
        "id": "DxsmnJ4dh0R0",
        "colab_type": "code",
        "colab": {
          "base_uri": "https://localhost:8080/",
          "height": 34
        },
        "outputId": "45904e3e-40ed-4ceb-9cfd-c0eb25037f90"
      },
      "source": [
        "# [VARIÂNCIA] : Variância entre a média de pontos entre os jogadores da NBA que têm a menor e maior média de pontos entre\n",
        "#               as temporadas de 1996 e 2018, considerando que o atleta disputou pelo menos um jogo pela liga \n",
        "\n",
        "dataset1[(dataset1['gp']>0)]['pts'].var()"
      ],
      "execution_count": 587,
      "outputs": [
        {
          "output_type": "execute_result",
          "data": {
            "text/plain": [
              "22.343847557529358"
            ]
          },
          "metadata": {
            "tags": []
          },
          "execution_count": 587
        }
      ]
    },
    {
      "cell_type": "markdown",
      "metadata": {
        "id": "NE75XnftjiUr",
        "colab_type": "text"
      },
      "source": [
        "**Desvio Padrão**"
      ]
    },
    {
      "cell_type": "code",
      "metadata": {
        "id": "kdfcRArZa4MN",
        "colab_type": "code",
        "colab": {
          "base_uri": "https://localhost:8080/",
          "height": 34
        },
        "outputId": "fb9a5823-9cd8-4680-d64b-ad8531ec6f55"
      },
      "source": [
        "# [DESVIO PADRÃO] : Desvio Padrão \"geral\" para média de pontos entre os jogadores da NBA entre os anos de 1996 e 2018\n",
        "\n",
        "dataset1[(dataset1['gp']>0)]['pts'].std()"
      ],
      "execution_count": 588,
      "outputs": [
        {
          "output_type": "execute_result",
          "data": {
            "text/plain": [
              "4.7269279196460525"
            ]
          },
          "metadata": {
            "tags": []
          },
          "execution_count": 588
        }
      ]
    },
    {
      "cell_type": "code",
      "metadata": {
        "id": "lQmDqPQHqTYM",
        "colab_type": "code",
        "colab": {
          "base_uri": "https://localhost:8080/",
          "height": 762
        },
        "outputId": "741086ac-15e0-477a-86ff-f59e23c62a40"
      },
      "source": [
        "# [DESVIO PADRÃO] : Desvio Padrão para média de pontos, média de rebotes e média de assintências entre os jogadores da NBA para determinada temporada\n",
        "\n",
        "dataset1[(dataset1['gp']>0)].groupby('season')['season', 'pts','reb','ast'].std()"
      ],
      "execution_count": 589,
      "outputs": [
        {
          "output_type": "execute_result",
          "data": {
            "text/html": [
              "<div>\n",
              "<style scoped>\n",
              "    .dataframe tbody tr th:only-of-type {\n",
              "        vertical-align: middle;\n",
              "    }\n",
              "\n",
              "    .dataframe tbody tr th {\n",
              "        vertical-align: top;\n",
              "    }\n",
              "\n",
              "    .dataframe thead th {\n",
              "        text-align: right;\n",
              "    }\n",
              "</style>\n",
              "<table border=\"1\" class=\"dataframe\">\n",
              "  <thead>\n",
              "    <tr style=\"text-align: right;\">\n",
              "      <th></th>\n",
              "      <th>pts</th>\n",
              "      <th>reb</th>\n",
              "      <th>ast</th>\n",
              "    </tr>\n",
              "    <tr>\n",
              "      <th>season</th>\n",
              "      <th></th>\n",
              "      <th></th>\n",
              "      <th></th>\n",
              "    </tr>\n",
              "  </thead>\n",
              "  <tbody>\n",
              "    <tr>\n",
              "      <th>1996-97</th>\n",
              "      <td>4.536393</td>\n",
              "      <td>2.693464</td>\n",
              "      <td>2.209072</td>\n",
              "    </tr>\n",
              "    <tr>\n",
              "      <th>1997-98</th>\n",
              "      <td>4.412825</td>\n",
              "      <td>2.654890</td>\n",
              "      <td>1.997969</td>\n",
              "    </tr>\n",
              "    <tr>\n",
              "      <th>1998-99</th>\n",
              "      <td>4.157414</td>\n",
              "      <td>2.601984</td>\n",
              "      <td>2.047200</td>\n",
              "    </tr>\n",
              "    <tr>\n",
              "      <th>1999-00</th>\n",
              "      <td>4.737316</td>\n",
              "      <td>2.539302</td>\n",
              "      <td>2.077898</td>\n",
              "    </tr>\n",
              "    <tr>\n",
              "      <th>2000-01</th>\n",
              "      <td>5.260384</td>\n",
              "      <td>2.655347</td>\n",
              "      <td>2.081882</td>\n",
              "    </tr>\n",
              "    <tr>\n",
              "      <th>2001-02</th>\n",
              "      <td>4.868275</td>\n",
              "      <td>2.494543</td>\n",
              "      <td>2.116876</td>\n",
              "    </tr>\n",
              "    <tr>\n",
              "      <th>2002-03</th>\n",
              "      <td>5.118563</td>\n",
              "      <td>2.384348</td>\n",
              "      <td>1.858723</td>\n",
              "    </tr>\n",
              "    <tr>\n",
              "      <th>2003-04</th>\n",
              "      <td>4.529758</td>\n",
              "      <td>2.545409</td>\n",
              "      <td>1.877039</td>\n",
              "    </tr>\n",
              "    <tr>\n",
              "      <th>2004-05</th>\n",
              "      <td>4.947766</td>\n",
              "      <td>2.539804</td>\n",
              "      <td>2.004605</td>\n",
              "    </tr>\n",
              "    <tr>\n",
              "      <th>2005-06</th>\n",
              "      <td>5.351733</td>\n",
              "      <td>2.482454</td>\n",
              "      <td>1.994502</td>\n",
              "    </tr>\n",
              "    <tr>\n",
              "      <th>2006-07</th>\n",
              "      <td>5.118442</td>\n",
              "      <td>2.576895</td>\n",
              "      <td>2.046250</td>\n",
              "    </tr>\n",
              "    <tr>\n",
              "      <th>2007-08</th>\n",
              "      <td>4.974762</td>\n",
              "      <td>2.681186</td>\n",
              "      <td>2.152831</td>\n",
              "    </tr>\n",
              "    <tr>\n",
              "      <th>2008-09</th>\n",
              "      <td>4.697020</td>\n",
              "      <td>2.520496</td>\n",
              "      <td>2.107899</td>\n",
              "    </tr>\n",
              "    <tr>\n",
              "      <th>2009-10</th>\n",
              "      <td>4.680378</td>\n",
              "      <td>2.560269</td>\n",
              "      <td>2.022387</td>\n",
              "    </tr>\n",
              "    <tr>\n",
              "      <th>2010-11</th>\n",
              "      <td>4.475469</td>\n",
              "      <td>2.609699</td>\n",
              "      <td>2.160227</td>\n",
              "    </tr>\n",
              "    <tr>\n",
              "      <th>2011-12</th>\n",
              "      <td>4.164270</td>\n",
              "      <td>2.548306</td>\n",
              "      <td>2.054385</td>\n",
              "    </tr>\n",
              "    <tr>\n",
              "      <th>2012-13</th>\n",
              "      <td>4.104884</td>\n",
              "      <td>2.689023</td>\n",
              "      <td>2.130281</td>\n",
              "    </tr>\n",
              "    <tr>\n",
              "      <th>2013-14</th>\n",
              "      <td>4.521232</td>\n",
              "      <td>2.628721</td>\n",
              "      <td>2.035773</td>\n",
              "    </tr>\n",
              "    <tr>\n",
              "      <th>2014-15</th>\n",
              "      <td>4.274364</td>\n",
              "      <td>2.508063</td>\n",
              "      <td>2.008348</td>\n",
              "    </tr>\n",
              "    <tr>\n",
              "      <th>2015-16</th>\n",
              "      <td>4.635308</td>\n",
              "      <td>2.539710</td>\n",
              "      <td>2.035705</td>\n",
              "    </tr>\n",
              "    <tr>\n",
              "      <th>2016-17</th>\n",
              "      <td>5.350334</td>\n",
              "      <td>2.620372</td>\n",
              "      <td>2.070549</td>\n",
              "    </tr>\n",
              "    <tr>\n",
              "      <th>2017-18</th>\n",
              "      <td>4.801366</td>\n",
              "      <td>2.606872</td>\n",
              "      <td>1.908054</td>\n",
              "    </tr>\n",
              "  </tbody>\n",
              "</table>\n",
              "</div>"
            ],
            "text/plain": [
              "              pts       reb       ast\n",
              "season                               \n",
              "1996-97  4.536393  2.693464  2.209072\n",
              "1997-98  4.412825  2.654890  1.997969\n",
              "1998-99  4.157414  2.601984  2.047200\n",
              "1999-00  4.737316  2.539302  2.077898\n",
              "2000-01  5.260384  2.655347  2.081882\n",
              "2001-02  4.868275  2.494543  2.116876\n",
              "2002-03  5.118563  2.384348  1.858723\n",
              "2003-04  4.529758  2.545409  1.877039\n",
              "2004-05  4.947766  2.539804  2.004605\n",
              "2005-06  5.351733  2.482454  1.994502\n",
              "2006-07  5.118442  2.576895  2.046250\n",
              "2007-08  4.974762  2.681186  2.152831\n",
              "2008-09  4.697020  2.520496  2.107899\n",
              "2009-10  4.680378  2.560269  2.022387\n",
              "2010-11  4.475469  2.609699  2.160227\n",
              "2011-12  4.164270  2.548306  2.054385\n",
              "2012-13  4.104884  2.689023  2.130281\n",
              "2013-14  4.521232  2.628721  2.035773\n",
              "2014-15  4.274364  2.508063  2.008348\n",
              "2015-16  4.635308  2.539710  2.035705\n",
              "2016-17  5.350334  2.620372  2.070549\n",
              "2017-18  4.801366  2.606872  1.908054"
            ]
          },
          "metadata": {
            "tags": []
          },
          "execution_count": 589
        }
      ]
    },
    {
      "cell_type": "code",
      "metadata": {
        "id": "lZSzlD6ygek_",
        "colab_type": "code",
        "colab": {}
      },
      "source": [
        "# Caso houvesse necessidade excluir dados duplicados poderíamos fazer a alteração/ manipulação para ajustar a Base de Dados\n",
        "\n",
        "dataset1.drop_duplicates(inplace=True)"
      ],
      "execution_count": 0,
      "outputs": []
    },
    {
      "cell_type": "markdown",
      "metadata": {
        "id": "6U6EiN3U3sS3",
        "colab_type": "text"
      },
      "source": [
        "### **Estatísticas Bivariadas**"
      ]
    },
    {
      "cell_type": "code",
      "metadata": {
        "id": "jHyDzO_Z-yQ6",
        "colab_type": "code",
        "colab": {
          "base_uri": "https://localhost:8080/",
          "height": 390
        },
        "outputId": "0de4db50-41a4-4432-c843-88f9fc8e86e2"
      },
      "source": [
        "dataset1.cov()"
      ],
      "execution_count": 617,
      "outputs": [
        {
          "output_type": "execute_result",
          "data": {
            "text/html": [
              "<div>\n",
              "<style scoped>\n",
              "    .dataframe tbody tr th:only-of-type {\n",
              "        vertical-align: middle;\n",
              "    }\n",
              "\n",
              "    .dataframe tbody tr th {\n",
              "        vertical-align: top;\n",
              "    }\n",
              "\n",
              "    .dataframe thead th {\n",
              "        text-align: right;\n",
              "    }\n",
              "</style>\n",
              "<table border=\"1\" class=\"dataframe\">\n",
              "  <thead>\n",
              "    <tr style=\"text-align: right;\">\n",
              "      <th></th>\n",
              "      <th>id</th>\n",
              "      <th>age</th>\n",
              "      <th>player_height</th>\n",
              "      <th>player_weight</th>\n",
              "      <th>gp</th>\n",
              "      <th>pts</th>\n",
              "      <th>reb</th>\n",
              "      <th>ast</th>\n",
              "      <th>pts_normal</th>\n",
              "      <th>reb_normal</th>\n",
              "      <th>ast_normal</th>\n",
              "    </tr>\n",
              "  </thead>\n",
              "  <tbody>\n",
              "    <tr>\n",
              "      <th>id</th>\n",
              "      <td>8.396487e+06</td>\n",
              "      <td>-614.427893</td>\n",
              "      <td>-1317.282644</td>\n",
              "      <td>-593.494176</td>\n",
              "      <td>-1865.019673</td>\n",
              "      <td>-299.555783</td>\n",
              "      <td>-533.463383</td>\n",
              "      <td>41.592443</td>\n",
              "      <td>-50.851533</td>\n",
              "      <td>-214.209568</td>\n",
              "      <td>23.238389</td>\n",
              "    </tr>\n",
              "    <tr>\n",
              "      <th>age</th>\n",
              "      <td>-6.144279e+02</td>\n",
              "      <td>14.555722</td>\n",
              "      <td>0.197879</td>\n",
              "      <td>2.735932</td>\n",
              "      <td>-4.093378</td>\n",
              "      <td>-0.622083</td>\n",
              "      <td>-0.343456</td>\n",
              "      <td>0.364510</td>\n",
              "      <td>-0.105603</td>\n",
              "      <td>-0.137913</td>\n",
              "      <td>0.203658</td>\n",
              "    </tr>\n",
              "    <tr>\n",
              "      <th>player_height</th>\n",
              "      <td>-1.317283e+03</td>\n",
              "      <td>0.197879</td>\n",
              "      <td>81.439933</td>\n",
              "      <td>95.921411</td>\n",
              "      <td>-1.862259</td>\n",
              "      <td>1.297535</td>\n",
              "      <td>17.597004</td>\n",
              "      <td>-12.232089</td>\n",
              "      <td>0.220265</td>\n",
              "      <td>7.065989</td>\n",
              "      <td>-6.834271</td>\n",
              "    </tr>\n",
              "    <tr>\n",
              "      <th>player_weight</th>\n",
              "      <td>-5.934942e+02</td>\n",
              "      <td>2.735932</td>\n",
              "      <td>95.921411</td>\n",
              "      <td>162.068814</td>\n",
              "      <td>-11.144103</td>\n",
              "      <td>3.519437</td>\n",
              "      <td>25.826671</td>\n",
              "      <td>-14.384177</td>\n",
              "      <td>0.597447</td>\n",
              "      <td>10.370571</td>\n",
              "      <td>-8.036678</td>\n",
              "    </tr>\n",
              "    <tr>\n",
              "      <th>gp</th>\n",
              "      <td>-1.865020e+03</td>\n",
              "      <td>-4.093378</td>\n",
              "      <td>-1.862259</td>\n",
              "      <td>-11.144103</td>\n",
              "      <td>223.468549</td>\n",
              "      <td>5.717041</td>\n",
              "      <td>1.623638</td>\n",
              "      <td>2.571810</td>\n",
              "      <td>0.970505</td>\n",
              "      <td>0.651964</td>\n",
              "      <td>1.436913</td>\n",
              "    </tr>\n",
              "    <tr>\n",
              "      <th>pts</th>\n",
              "      <td>-2.995558e+02</td>\n",
              "      <td>-0.622083</td>\n",
              "      <td>1.297535</td>\n",
              "      <td>3.519437</td>\n",
              "      <td>5.717041</td>\n",
              "      <td>14.287461</td>\n",
              "      <td>2.057064</td>\n",
              "      <td>1.851390</td>\n",
              "      <td>2.425389</td>\n",
              "      <td>0.826004</td>\n",
              "      <td>1.034402</td>\n",
              "    </tr>\n",
              "    <tr>\n",
              "      <th>reb</th>\n",
              "      <td>-5.334634e+02</td>\n",
              "      <td>-0.343456</td>\n",
              "      <td>17.597004</td>\n",
              "      <td>25.826671</td>\n",
              "      <td>1.623638</td>\n",
              "      <td>2.057064</td>\n",
              "      <td>7.374645</td>\n",
              "      <td>-1.955989</td>\n",
              "      <td>0.349200</td>\n",
              "      <td>2.961252</td>\n",
              "      <td>-1.092843</td>\n",
              "    </tr>\n",
              "    <tr>\n",
              "      <th>ast</th>\n",
              "      <td>4.159244e+01</td>\n",
              "      <td>0.364510</td>\n",
              "      <td>-12.232089</td>\n",
              "      <td>-14.384177</td>\n",
              "      <td>2.571810</td>\n",
              "      <td>1.851390</td>\n",
              "      <td>-1.955989</td>\n",
              "      <td>4.624396</td>\n",
              "      <td>0.314285</td>\n",
              "      <td>-0.785417</td>\n",
              "      <td>2.583727</td>\n",
              "    </tr>\n",
              "    <tr>\n",
              "      <th>pts_normal</th>\n",
              "      <td>-5.085153e+01</td>\n",
              "      <td>-0.105603</td>\n",
              "      <td>0.220265</td>\n",
              "      <td>0.597447</td>\n",
              "      <td>0.970505</td>\n",
              "      <td>2.425389</td>\n",
              "      <td>0.349200</td>\n",
              "      <td>0.314285</td>\n",
              "      <td>0.411725</td>\n",
              "      <td>0.140219</td>\n",
              "      <td>0.175596</td>\n",
              "    </tr>\n",
              "    <tr>\n",
              "      <th>reb_normal</th>\n",
              "      <td>-2.142096e+02</td>\n",
              "      <td>-0.137913</td>\n",
              "      <td>7.065989</td>\n",
              "      <td>10.370571</td>\n",
              "      <td>0.651964</td>\n",
              "      <td>0.826004</td>\n",
              "      <td>2.961252</td>\n",
              "      <td>-0.785417</td>\n",
              "      <td>0.140219</td>\n",
              "      <td>1.189076</td>\n",
              "      <td>-0.438826</td>\n",
              "    </tr>\n",
              "    <tr>\n",
              "      <th>ast_normal</th>\n",
              "      <td>2.323839e+01</td>\n",
              "      <td>0.203658</td>\n",
              "      <td>-6.834271</td>\n",
              "      <td>-8.036678</td>\n",
              "      <td>1.436913</td>\n",
              "      <td>1.034402</td>\n",
              "      <td>-1.092843</td>\n",
              "      <td>2.583727</td>\n",
              "      <td>0.175596</td>\n",
              "      <td>-0.438826</td>\n",
              "      <td>1.443571</td>\n",
              "    </tr>\n",
              "  </tbody>\n",
              "</table>\n",
              "</div>"
            ],
            "text/plain": [
              "                         id         age  ...  reb_normal  ast_normal\n",
              "id             8.396487e+06 -614.427893  ... -214.209568   23.238389\n",
              "age           -6.144279e+02   14.555722  ...   -0.137913    0.203658\n",
              "player_height -1.317283e+03    0.197879  ...    7.065989   -6.834271\n",
              "player_weight -5.934942e+02    2.735932  ...   10.370571   -8.036678\n",
              "gp            -1.865020e+03   -4.093378  ...    0.651964    1.436913\n",
              "pts           -2.995558e+02   -0.622083  ...    0.826004    1.034402\n",
              "reb           -5.334634e+02   -0.343456  ...    2.961252   -1.092843\n",
              "ast            4.159244e+01    0.364510  ...   -0.785417    2.583727\n",
              "pts_normal    -5.085153e+01   -0.105603  ...    0.140219    0.175596\n",
              "reb_normal    -2.142096e+02   -0.137913  ...    1.189076   -0.438826\n",
              "ast_normal     2.323839e+01    0.203658  ...   -0.438826    1.443571\n",
              "\n",
              "[11 rows x 11 columns]"
            ]
          },
          "metadata": {
            "tags": []
          },
          "execution_count": 617
        }
      ]
    },
    {
      "cell_type": "code",
      "metadata": {
        "id": "-tpTX7nI_0jZ",
        "colab_type": "code",
        "outputId": "63901e2c-5cf6-4752-dcbe-503252f5f641",
        "colab": {
          "base_uri": "https://localhost:8080/",
          "height": 390
        }
      },
      "source": [
        "dataset1.corr(method='spearman')"
      ],
      "execution_count": 591,
      "outputs": [
        {
          "output_type": "execute_result",
          "data": {
            "text/html": [
              "<div>\n",
              "<style scoped>\n",
              "    .dataframe tbody tr th:only-of-type {\n",
              "        vertical-align: middle;\n",
              "    }\n",
              "\n",
              "    .dataframe tbody tr th {\n",
              "        vertical-align: top;\n",
              "    }\n",
              "\n",
              "    .dataframe thead th {\n",
              "        text-align: right;\n",
              "    }\n",
              "</style>\n",
              "<table border=\"1\" class=\"dataframe\">\n",
              "  <thead>\n",
              "    <tr style=\"text-align: right;\">\n",
              "      <th></th>\n",
              "      <th>id</th>\n",
              "      <th>age</th>\n",
              "      <th>player_height</th>\n",
              "      <th>player_weight</th>\n",
              "      <th>gp</th>\n",
              "      <th>pts</th>\n",
              "      <th>reb</th>\n",
              "      <th>ast</th>\n",
              "      <th>pts_normal</th>\n",
              "      <th>reb_normal</th>\n",
              "      <th>ast_normal</th>\n",
              "    </tr>\n",
              "  </thead>\n",
              "  <tbody>\n",
              "    <tr>\n",
              "      <th>id</th>\n",
              "      <td>1.000000</td>\n",
              "      <td>-0.084063</td>\n",
              "      <td>-0.013841</td>\n",
              "      <td>-0.019418</td>\n",
              "      <td>-0.056786</td>\n",
              "      <td>-0.027995</td>\n",
              "      <td>-0.059183</td>\n",
              "      <td>-0.029571</td>\n",
              "      <td>-0.027995</td>\n",
              "      <td>-0.059183</td>\n",
              "      <td>-0.029571</td>\n",
              "    </tr>\n",
              "    <tr>\n",
              "      <th>age</th>\n",
              "      <td>-0.084063</td>\n",
              "      <td>1.000000</td>\n",
              "      <td>-0.034147</td>\n",
              "      <td>0.014674</td>\n",
              "      <td>-0.065848</td>\n",
              "      <td>-0.032059</td>\n",
              "      <td>-0.056075</td>\n",
              "      <td>0.096298</td>\n",
              "      <td>-0.032059</td>\n",
              "      <td>-0.056075</td>\n",
              "      <td>0.096298</td>\n",
              "    </tr>\n",
              "    <tr>\n",
              "      <th>player_height</th>\n",
              "      <td>-0.013841</td>\n",
              "      <td>-0.034147</td>\n",
              "      <td>1.000000</td>\n",
              "      <td>0.854972</td>\n",
              "      <td>0.003395</td>\n",
              "      <td>0.010545</td>\n",
              "      <td>0.749884</td>\n",
              "      <td>-0.579742</td>\n",
              "      <td>0.010545</td>\n",
              "      <td>0.749884</td>\n",
              "      <td>-0.579742</td>\n",
              "    </tr>\n",
              "    <tr>\n",
              "      <th>player_weight</th>\n",
              "      <td>-0.019418</td>\n",
              "      <td>0.014674</td>\n",
              "      <td>0.854972</td>\n",
              "      <td>1.000000</td>\n",
              "      <td>-0.020592</td>\n",
              "      <td>0.029501</td>\n",
              "      <td>0.737157</td>\n",
              "      <td>-0.530368</td>\n",
              "      <td>0.029501</td>\n",
              "      <td>0.737157</td>\n",
              "      <td>-0.530368</td>\n",
              "    </tr>\n",
              "    <tr>\n",
              "      <th>gp</th>\n",
              "      <td>-0.056786</td>\n",
              "      <td>-0.065848</td>\n",
              "      <td>0.003395</td>\n",
              "      <td>-0.020592</td>\n",
              "      <td>1.000000</td>\n",
              "      <td>0.090504</td>\n",
              "      <td>0.069982</td>\n",
              "      <td>0.062697</td>\n",
              "      <td>0.090504</td>\n",
              "      <td>0.069982</td>\n",
              "      <td>0.062697</td>\n",
              "    </tr>\n",
              "    <tr>\n",
              "      <th>pts</th>\n",
              "      <td>-0.027995</td>\n",
              "      <td>-0.032059</td>\n",
              "      <td>0.010545</td>\n",
              "      <td>0.029501</td>\n",
              "      <td>0.090504</td>\n",
              "      <td>1.000000</td>\n",
              "      <td>0.317979</td>\n",
              "      <td>0.453965</td>\n",
              "      <td>1.000000</td>\n",
              "      <td>0.317979</td>\n",
              "      <td>0.453965</td>\n",
              "    </tr>\n",
              "    <tr>\n",
              "      <th>reb</th>\n",
              "      <td>-0.059183</td>\n",
              "      <td>-0.056075</td>\n",
              "      <td>0.749884</td>\n",
              "      <td>0.737157</td>\n",
              "      <td>0.069982</td>\n",
              "      <td>0.317979</td>\n",
              "      <td>1.000000</td>\n",
              "      <td>-0.232815</td>\n",
              "      <td>0.317979</td>\n",
              "      <td>1.000000</td>\n",
              "      <td>-0.232815</td>\n",
              "    </tr>\n",
              "    <tr>\n",
              "      <th>ast</th>\n",
              "      <td>-0.029571</td>\n",
              "      <td>0.096298</td>\n",
              "      <td>-0.579742</td>\n",
              "      <td>-0.530368</td>\n",
              "      <td>0.062697</td>\n",
              "      <td>0.453965</td>\n",
              "      <td>-0.232815</td>\n",
              "      <td>1.000000</td>\n",
              "      <td>0.453965</td>\n",
              "      <td>-0.232815</td>\n",
              "      <td>1.000000</td>\n",
              "    </tr>\n",
              "    <tr>\n",
              "      <th>pts_normal</th>\n",
              "      <td>-0.027995</td>\n",
              "      <td>-0.032059</td>\n",
              "      <td>0.010545</td>\n",
              "      <td>0.029501</td>\n",
              "      <td>0.090504</td>\n",
              "      <td>1.000000</td>\n",
              "      <td>0.317979</td>\n",
              "      <td>0.453965</td>\n",
              "      <td>1.000000</td>\n",
              "      <td>0.317979</td>\n",
              "      <td>0.453965</td>\n",
              "    </tr>\n",
              "    <tr>\n",
              "      <th>reb_normal</th>\n",
              "      <td>-0.059183</td>\n",
              "      <td>-0.056075</td>\n",
              "      <td>0.749884</td>\n",
              "      <td>0.737157</td>\n",
              "      <td>0.069982</td>\n",
              "      <td>0.317979</td>\n",
              "      <td>1.000000</td>\n",
              "      <td>-0.232815</td>\n",
              "      <td>0.317979</td>\n",
              "      <td>1.000000</td>\n",
              "      <td>-0.232815</td>\n",
              "    </tr>\n",
              "    <tr>\n",
              "      <th>ast_normal</th>\n",
              "      <td>-0.029571</td>\n",
              "      <td>0.096298</td>\n",
              "      <td>-0.579742</td>\n",
              "      <td>-0.530368</td>\n",
              "      <td>0.062697</td>\n",
              "      <td>0.453965</td>\n",
              "      <td>-0.232815</td>\n",
              "      <td>1.000000</td>\n",
              "      <td>0.453965</td>\n",
              "      <td>-0.232815</td>\n",
              "      <td>1.000000</td>\n",
              "    </tr>\n",
              "  </tbody>\n",
              "</table>\n",
              "</div>"
            ],
            "text/plain": [
              "                     id       age  ...  reb_normal  ast_normal\n",
              "id             1.000000 -0.084063  ...   -0.059183   -0.029571\n",
              "age           -0.084063  1.000000  ...   -0.056075    0.096298\n",
              "player_height -0.013841 -0.034147  ...    0.749884   -0.579742\n",
              "player_weight -0.019418  0.014674  ...    0.737157   -0.530368\n",
              "gp            -0.056786 -0.065848  ...    0.069982    0.062697\n",
              "pts           -0.027995 -0.032059  ...    0.317979    0.453965\n",
              "reb           -0.059183 -0.056075  ...    1.000000   -0.232815\n",
              "ast           -0.029571  0.096298  ...   -0.232815    1.000000\n",
              "pts_normal    -0.027995 -0.032059  ...    0.317979    0.453965\n",
              "reb_normal    -0.059183 -0.056075  ...    1.000000   -0.232815\n",
              "ast_normal    -0.029571  0.096298  ...   -0.232815    1.000000\n",
              "\n",
              "[11 rows x 11 columns]"
            ]
          },
          "metadata": {
            "tags": []
          },
          "execution_count": 591
        }
      ]
    },
    {
      "cell_type": "code",
      "metadata": {
        "id": "1_azJq_2iA-r",
        "colab_type": "code",
        "colab": {
          "base_uri": "https://localhost:8080/",
          "height": 390
        },
        "outputId": "4441a7db-0664-4489-8573-3aa83d1c82c3"
      },
      "source": [
        "dataset1.corr(method='pearson')"
      ],
      "execution_count": 592,
      "outputs": [
        {
          "output_type": "execute_result",
          "data": {
            "text/html": [
              "<div>\n",
              "<style scoped>\n",
              "    .dataframe tbody tr th:only-of-type {\n",
              "        vertical-align: middle;\n",
              "    }\n",
              "\n",
              "    .dataframe tbody tr th {\n",
              "        vertical-align: top;\n",
              "    }\n",
              "\n",
              "    .dataframe thead th {\n",
              "        text-align: right;\n",
              "    }\n",
              "</style>\n",
              "<table border=\"1\" class=\"dataframe\">\n",
              "  <thead>\n",
              "    <tr style=\"text-align: right;\">\n",
              "      <th></th>\n",
              "      <th>id</th>\n",
              "      <th>age</th>\n",
              "      <th>player_height</th>\n",
              "      <th>player_weight</th>\n",
              "      <th>gp</th>\n",
              "      <th>pts</th>\n",
              "      <th>reb</th>\n",
              "      <th>ast</th>\n",
              "      <th>pts_normal</th>\n",
              "      <th>reb_normal</th>\n",
              "      <th>ast_normal</th>\n",
              "    </tr>\n",
              "  </thead>\n",
              "  <tbody>\n",
              "    <tr>\n",
              "      <th>id</th>\n",
              "      <td>1.000000</td>\n",
              "      <td>-0.088303</td>\n",
              "      <td>-0.018921</td>\n",
              "      <td>-0.018363</td>\n",
              "      <td>-0.012996</td>\n",
              "      <td>-0.025965</td>\n",
              "      <td>-0.050721</td>\n",
              "      <td>-0.024318</td>\n",
              "      <td>-0.025965</td>\n",
              "      <td>-0.050721</td>\n",
              "      <td>-0.024318</td>\n",
              "    </tr>\n",
              "    <tr>\n",
              "      <th>age</th>\n",
              "      <td>-0.088303</td>\n",
              "      <td>1.000000</td>\n",
              "      <td>-0.022808</td>\n",
              "      <td>0.021515</td>\n",
              "      <td>-0.051849</td>\n",
              "      <td>-0.049860</td>\n",
              "      <td>-0.037889</td>\n",
              "      <td>0.077663</td>\n",
              "      <td>-0.049860</td>\n",
              "      <td>-0.037889</td>\n",
              "      <td>0.077663</td>\n",
              "    </tr>\n",
              "    <tr>\n",
              "      <th>player_height</th>\n",
              "      <td>-0.018921</td>\n",
              "      <td>-0.022808</td>\n",
              "      <td>1.000000</td>\n",
              "      <td>0.840549</td>\n",
              "      <td>0.003294</td>\n",
              "      <td>0.020230</td>\n",
              "      <td>0.679324</td>\n",
              "      <td>-0.574280</td>\n",
              "      <td>0.020230</td>\n",
              "      <td>0.679324</td>\n",
              "      <td>-0.574280</td>\n",
              "    </tr>\n",
              "    <tr>\n",
              "      <th>player_weight</th>\n",
              "      <td>-0.018363</td>\n",
              "      <td>0.021515</td>\n",
              "      <td>0.840549</td>\n",
              "      <td>1.000000</td>\n",
              "      <td>-0.024341</td>\n",
              "      <td>0.047743</td>\n",
              "      <td>0.684327</td>\n",
              "      <td>-0.497334</td>\n",
              "      <td>0.047743</td>\n",
              "      <td>0.684327</td>\n",
              "      <td>-0.497334</td>\n",
              "    </tr>\n",
              "    <tr>\n",
              "      <th>gp</th>\n",
              "      <td>-0.012996</td>\n",
              "      <td>-0.051849</td>\n",
              "      <td>0.003294</td>\n",
              "      <td>-0.024341</td>\n",
              "      <td>1.000000</td>\n",
              "      <td>0.106552</td>\n",
              "      <td>0.069752</td>\n",
              "      <td>0.073849</td>\n",
              "      <td>0.106552</td>\n",
              "      <td>0.069752</td>\n",
              "      <td>0.073849</td>\n",
              "    </tr>\n",
              "    <tr>\n",
              "      <th>pts</th>\n",
              "      <td>-0.025965</td>\n",
              "      <td>-0.049860</td>\n",
              "      <td>0.020230</td>\n",
              "      <td>0.047743</td>\n",
              "      <td>0.106552</td>\n",
              "      <td>1.000000</td>\n",
              "      <td>0.309699</td>\n",
              "      <td>0.395777</td>\n",
              "      <td>1.000000</td>\n",
              "      <td>0.309699</td>\n",
              "      <td>0.395777</td>\n",
              "    </tr>\n",
              "    <tr>\n",
              "      <th>reb</th>\n",
              "      <td>-0.050721</td>\n",
              "      <td>-0.037889</td>\n",
              "      <td>0.679324</td>\n",
              "      <td>0.684327</td>\n",
              "      <td>0.069752</td>\n",
              "      <td>0.309699</td>\n",
              "      <td>1.000000</td>\n",
              "      <td>-0.199521</td>\n",
              "      <td>0.309699</td>\n",
              "      <td>1.000000</td>\n",
              "      <td>-0.199521</td>\n",
              "    </tr>\n",
              "    <tr>\n",
              "      <th>ast</th>\n",
              "      <td>-0.024318</td>\n",
              "      <td>0.077663</td>\n",
              "      <td>-0.574280</td>\n",
              "      <td>-0.497334</td>\n",
              "      <td>0.073849</td>\n",
              "      <td>0.395777</td>\n",
              "      <td>-0.199521</td>\n",
              "      <td>1.000000</td>\n",
              "      <td>0.395777</td>\n",
              "      <td>-0.199521</td>\n",
              "      <td>1.000000</td>\n",
              "    </tr>\n",
              "    <tr>\n",
              "      <th>pts_normal</th>\n",
              "      <td>-0.025965</td>\n",
              "      <td>-0.049860</td>\n",
              "      <td>0.020230</td>\n",
              "      <td>0.047743</td>\n",
              "      <td>0.106552</td>\n",
              "      <td>1.000000</td>\n",
              "      <td>0.309699</td>\n",
              "      <td>0.395777</td>\n",
              "      <td>1.000000</td>\n",
              "      <td>0.309699</td>\n",
              "      <td>0.395777</td>\n",
              "    </tr>\n",
              "    <tr>\n",
              "      <th>reb_normal</th>\n",
              "      <td>-0.050721</td>\n",
              "      <td>-0.037889</td>\n",
              "      <td>0.679324</td>\n",
              "      <td>0.684327</td>\n",
              "      <td>0.069752</td>\n",
              "      <td>0.309699</td>\n",
              "      <td>1.000000</td>\n",
              "      <td>-0.199521</td>\n",
              "      <td>0.309699</td>\n",
              "      <td>1.000000</td>\n",
              "      <td>-0.199521</td>\n",
              "    </tr>\n",
              "    <tr>\n",
              "      <th>ast_normal</th>\n",
              "      <td>-0.024318</td>\n",
              "      <td>0.077663</td>\n",
              "      <td>-0.574280</td>\n",
              "      <td>-0.497334</td>\n",
              "      <td>0.073849</td>\n",
              "      <td>0.395777</td>\n",
              "      <td>-0.199521</td>\n",
              "      <td>1.000000</td>\n",
              "      <td>0.395777</td>\n",
              "      <td>-0.199521</td>\n",
              "      <td>1.000000</td>\n",
              "    </tr>\n",
              "  </tbody>\n",
              "</table>\n",
              "</div>"
            ],
            "text/plain": [
              "                     id       age  ...  reb_normal  ast_normal\n",
              "id             1.000000 -0.088303  ...   -0.050721   -0.024318\n",
              "age           -0.088303  1.000000  ...   -0.037889    0.077663\n",
              "player_height -0.018921 -0.022808  ...    0.679324   -0.574280\n",
              "player_weight -0.018363  0.021515  ...    0.684327   -0.497334\n",
              "gp            -0.012996 -0.051849  ...    0.069752    0.073849\n",
              "pts           -0.025965 -0.049860  ...    0.309699    0.395777\n",
              "reb           -0.050721 -0.037889  ...    1.000000   -0.199521\n",
              "ast           -0.024318  0.077663  ...   -0.199521    1.000000\n",
              "pts_normal    -0.025965 -0.049860  ...    0.309699    0.395777\n",
              "reb_normal    -0.050721 -0.037889  ...    1.000000   -0.199521\n",
              "ast_normal    -0.024318  0.077663  ...   -0.199521    1.000000\n",
              "\n",
              "[11 rows x 11 columns]"
            ]
          },
          "metadata": {
            "tags": []
          },
          "execution_count": 592
        }
      ]
    },
    {
      "cell_type": "code",
      "metadata": {
        "id": "tQqBypoD5Fuv",
        "colab_type": "code",
        "colab": {
          "base_uri": "https://localhost:8080/",
          "height": 592
        },
        "outputId": "c5fd05f6-d029-4e8c-d055-73955bcb4487"
      },
      "source": [
        "plt.figure(figsize = (20,10))\n",
        "sns.heatmap(dataset1.corr(),annot = True,linewidths = 3.0);"
      ],
      "execution_count": 593,
      "outputs": [
        {
          "output_type": "display_data",
          "data": {
            "image/png": "[encoded data removed]",
            "text/plain": [
              "<Figure size 1440x720 with 2 Axes>"
            ]
          },
          "metadata": {
            "tags": []
          }
        }
      ]
    }
  ]
}