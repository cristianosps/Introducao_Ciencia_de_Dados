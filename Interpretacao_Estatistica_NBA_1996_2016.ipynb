{
  "nbformat": 4,
  "nbformat_minor": 0,
  "metadata": {
    "colab": {
      "name": "Interpretacao_Estatistica_NBA_1996_2016.ipynb",
      "provenance": [],
      "collapsed_sections": [],
      "include_colab_link": true
    },
    "kernelspec": {
      "name": "python3",
      "display_name": "Python 3"
    }
  },
  "cells": [
    {
      "cell_type": "markdown",
      "metadata": {
        "id": "view-in-github",
        "colab_type": "text"
      },
      "source": [
        "<a href=\"https://colab.research.google.com/github/cristianosps/Introducao_Ciencia_de_Dados/blob/master/Interpretacao_Estatistica_NBA_1996_2016.ipynb\" target=\"_parent\"><img src=\"https://colab.research.google.com/assets/colab-badge.svg\" alt=\"Open In Colab\"/></a>"
      ]
    },
    {
      "cell_type": "markdown",
      "metadata": {
        "id": "uHAs3sJ390ST",
        "colab_type": "text"
      },
      "source": [
        "\n",
        "\n",
        "---\n",
        "\n",
        "#**CESAR School/ CIn-UFPE - Especialização em Análise e Engenharia de Dados**\n",
        "\n",
        "##**Projeto de Avaliação para Disciplina \"Introdução à Análise de Dados\"**\n",
        "\n",
        "###**Professor: Luciano Barbosa**\n",
        "###**Monitor: Johny Moreira**\n"
      ]
    },
    {
      "cell_type": "markdown",
      "metadata": {
        "id": "uF-RduFQCYFz",
        "colab_type": "text"
      },
      "source": [
        "###**Aluno:** Cristiano Siqueirra P. de Santana\n",
        "###**Turma:** 2019.2 **| Matrícula:** 3415\n",
        "\n",
        "---\n",
        "\n"
      ]
    },
    {
      "cell_type": "markdown",
      "metadata": {
        "id": "XqoFhh06LXGD",
        "colab_type": "text"
      },
      "source": [
        "\n",
        "\n",
        "##**Apresentação**\n",
        "\n",
        "Neste projeto iremos realizar a leitura de uma determinada base de dados e faremos a interpretação das informações através das técnicas de extração e visualização de dados apresentadas durante a disciplina de \"Introdução à Análise de Dados\".\n",
        "\n",
        ".\n",
        "\n",
        "Nesta base de dados estão contidas informações relecionadas a estatística e aproveitamento de cada jogador da NBA, para cada temporada que disputou entre os anos de 1996 e 2018. \n",
        "\n",
        "Por este conjunto de dados podemos obter de cada jogador que passou pela NBA, entre os anos de 1996 e 2018, informações pessoais (Idade, País de origem, Faculdade...), porte físico (Altura, Peso...), Times/ Franquias que defendeu enquanto esteve na NBA e seu aproveitamento para cada temporada que disputou da liga.\n",
        "\n",
        ".\n",
        "\n",
        "**ATENÇÃO:** Na descrição da base de dados em sua origem, conforme fonte abaixo, diz que as informações são referentes as temporadas entre os anos de 1996 e 2016, porém ao começar a explorar algumas informações categorizadas (\"draft_year\", \"sesion\") foi verificado que a base foi atualizada e agora contempla dados de cada jogador até a temporada 2017-2018 da NBA.\n",
        "\n",
        ".\n",
        "\n",
        "(**Fonte:** https://www.kaggle.com/justinas/nba-players-data#all_seasons.csv)"
      ]
    },
    {
      "cell_type": "markdown",
      "metadata": {
        "id": "-fOPSL1UKFM9",
        "colab_type": "text"
      },
      "source": [
        "\n",
        "---\n",
        "\n",
        ".\n",
        "\n",
        "##**Preparação da Base de Dados a ser estudada neste projeto**"
      ]
    },
    {
      "cell_type": "code",
      "metadata": {
        "id": "hZDqv14InSiA",
        "colab_type": "code",
        "outputId": "0f9927ee-a461-4773-f8ec-1652e2152469",
        "colab": {
          "base_uri": "https://localhost:8080/",
          "height": 309
        }
      },
      "source": [
        "# Imports das bibliotecas necessárias para desenvolvimento do Projeto\n",
        "import numpy as np   # Biblioteca de funções Numpy\n",
        "import pandas as pd  # Biblioteca de funções Pamdas\n",
        "\n",
        "# Conexão com repositório da base de dados no projeto\n",
        "dataset=pd.read_csv(\"https://raw.githubusercontent.com/cristianosps/Introducao_Ciencia_de_Dados/master/all_seasons1.csv\")\n",
        "\n",
        "# Apresentação dos dados \"brutos\" do repositório\n",
        "dataset.head()\n"
      ],
      "execution_count": 1,
      "outputs": [
        {
          "output_type": "execute_result",
          "data": {
            "text/html": [
              "<div>\n",
              "<style scoped>\n",
              "    .dataframe tbody tr th:only-of-type {\n",
              "        vertical-align: middle;\n",
              "    }\n",
              "\n",
              "    .dataframe tbody tr th {\n",
              "        vertical-align: top;\n",
              "    }\n",
              "\n",
              "    .dataframe thead th {\n",
              "        text-align: right;\n",
              "    }\n",
              "</style>\n",
              "<table border=\"1\" class=\"dataframe\">\n",
              "  <thead>\n",
              "    <tr style=\"text-align: right;\">\n",
              "      <th></th>\n",
              "      <th>id</th>\n",
              "      <th>player_name</th>\n",
              "      <th>team_abbreviation</th>\n",
              "      <th>age</th>\n",
              "      <th>player_height</th>\n",
              "      <th>player_weight</th>\n",
              "      <th>college</th>\n",
              "      <th>country</th>\n",
              "      <th>draft_year</th>\n",
              "      <th>draft_round</th>\n",
              "      <th>draft_number</th>\n",
              "      <th>gp</th>\n",
              "      <th>pts</th>\n",
              "      <th>reb</th>\n",
              "      <th>ast</th>\n",
              "      <th>net_rating</th>\n",
              "      <th>oreb_pct</th>\n",
              "      <th>dreb_pct</th>\n",
              "      <th>usg_pct</th>\n",
              "      <th>ts_pct</th>\n",
              "      <th>ast_pct</th>\n",
              "      <th>season</th>\n",
              "    </tr>\n",
              "  </thead>\n",
              "  <tbody>\n",
              "    <tr>\n",
              "      <th>0</th>\n",
              "      <td>0</td>\n",
              "      <td>George Zidek</td>\n",
              "      <td>DEN</td>\n",
              "      <td>23.0</td>\n",
              "      <td>213.36</td>\n",
              "      <td>119.748288</td>\n",
              "      <td>UCLA</td>\n",
              "      <td>USA</td>\n",
              "      <td>1995</td>\n",
              "      <td>1</td>\n",
              "      <td>22</td>\n",
              "      <td>52</td>\n",
              "      <td>2.8</td>\n",
              "      <td>1.7</td>\n",
              "      <td>0.3</td>\n",
              "      <td>-14.1</td>\n",
              "      <td>0.102</td>\n",
              "      <td>0.169</td>\n",
              "      <td>0.195</td>\n",
              "      <td>0.500</td>\n",
              "      <td>0.064</td>\n",
              "      <td>1996-97</td>\n",
              "    </tr>\n",
              "    <tr>\n",
              "      <th>1</th>\n",
              "      <td>1</td>\n",
              "      <td>Darrell Armstrong</td>\n",
              "      <td>ORL</td>\n",
              "      <td>29.0</td>\n",
              "      <td>185.42</td>\n",
              "      <td>81.646560</td>\n",
              "      <td>Fayetteville State</td>\n",
              "      <td>USA</td>\n",
              "      <td>Undrafted</td>\n",
              "      <td>Undrafted</td>\n",
              "      <td>Undrafted</td>\n",
              "      <td>67</td>\n",
              "      <td>6.1</td>\n",
              "      <td>1.1</td>\n",
              "      <td>2.6</td>\n",
              "      <td>0.3</td>\n",
              "      <td>0.039</td>\n",
              "      <td>0.050</td>\n",
              "      <td>0.222</td>\n",
              "      <td>0.525</td>\n",
              "      <td>0.308</td>\n",
              "      <td>1996-97</td>\n",
              "    </tr>\n",
              "    <tr>\n",
              "      <th>2</th>\n",
              "      <td>2</td>\n",
              "      <td>Darrick Martin</td>\n",
              "      <td>LAC</td>\n",
              "      <td>26.0</td>\n",
              "      <td>180.34</td>\n",
              "      <td>77.110640</td>\n",
              "      <td>UCLA</td>\n",
              "      <td>USA</td>\n",
              "      <td>Undrafted</td>\n",
              "      <td>Undrafted</td>\n",
              "      <td>Undrafted</td>\n",
              "      <td>82</td>\n",
              "      <td>10.9</td>\n",
              "      <td>1.4</td>\n",
              "      <td>4.1</td>\n",
              "      <td>-4.5</td>\n",
              "      <td>0.016</td>\n",
              "      <td>0.060</td>\n",
              "      <td>0.232</td>\n",
              "      <td>0.539</td>\n",
              "      <td>0.292</td>\n",
              "      <td>1996-97</td>\n",
              "    </tr>\n",
              "    <tr>\n",
              "      <th>3</th>\n",
              "      <td>3</td>\n",
              "      <td>Darrin Hancock</td>\n",
              "      <td>ATL</td>\n",
              "      <td>25.0</td>\n",
              "      <td>200.66</td>\n",
              "      <td>92.986360</td>\n",
              "      <td>Kansas</td>\n",
              "      <td>USA</td>\n",
              "      <td>1994</td>\n",
              "      <td>2</td>\n",
              "      <td>38</td>\n",
              "      <td>24</td>\n",
              "      <td>1.8</td>\n",
              "      <td>0.8</td>\n",
              "      <td>0.5</td>\n",
              "      <td>-2.6</td>\n",
              "      <td>0.030</td>\n",
              "      <td>0.118</td>\n",
              "      <td>0.159</td>\n",
              "      <td>0.510</td>\n",
              "      <td>0.136</td>\n",
              "      <td>1996-97</td>\n",
              "    </tr>\n",
              "    <tr>\n",
              "      <th>4</th>\n",
              "      <td>4</td>\n",
              "      <td>Darvin Ham</td>\n",
              "      <td>IND</td>\n",
              "      <td>23.0</td>\n",
              "      <td>200.66</td>\n",
              "      <td>99.790240</td>\n",
              "      <td>Texas Tech</td>\n",
              "      <td>USA</td>\n",
              "      <td>Undrafted</td>\n",
              "      <td>Undrafted</td>\n",
              "      <td>Undrafted</td>\n",
              "      <td>36</td>\n",
              "      <td>2.3</td>\n",
              "      <td>1.6</td>\n",
              "      <td>0.4</td>\n",
              "      <td>-2.0</td>\n",
              "      <td>0.109</td>\n",
              "      <td>0.097</td>\n",
              "      <td>0.140</td>\n",
              "      <td>0.536</td>\n",
              "      <td>0.072</td>\n",
              "      <td>1996-97</td>\n",
              "    </tr>\n",
              "  </tbody>\n",
              "</table>\n",
              "</div>"
            ],
            "text/plain": [
              "   id        player_name team_abbreviation  ...  ts_pct  ast_pct   season\n",
              "0   0       George Zidek               DEN  ...   0.500    0.064  1996-97\n",
              "1   1  Darrell Armstrong               ORL  ...   0.525    0.308  1996-97\n",
              "2   2     Darrick Martin               LAC  ...   0.539    0.292  1996-97\n",
              "3   3     Darrin Hancock               ATL  ...   0.510    0.136  1996-97\n",
              "4   4         Darvin Ham               IND  ...   0.536    0.072  1996-97\n",
              "\n",
              "[5 rows x 22 columns]"
            ]
          },
          "metadata": {
            "tags": []
          },
          "execution_count": 1
        }
      ]
    },
    {
      "cell_type": "code",
      "metadata": {
        "id": "nQfRWanO0cOg",
        "colab_type": "code",
        "colab": {
          "base_uri": "https://localhost:8080/",
          "height": 476
        },
        "outputId": "f5e82c2b-8bb4-46fb-e4b8-3dfeb7f1b113"
      },
      "source": [
        "# Apresentação das informações iniciais da base de dados\n",
        "\n",
        "#  - Total de Entradas (10101)\n",
        "#    . Índices inicial e final das entradas (0 - 10100)\n",
        "#  - Toral de Colunas (22)\n",
        "#  - Lista de Coulnas (Descrição na apresentação da base de dados)\n",
        "#    . Nome da Coluna\n",
        "#    . Valore nulo (S/N)\n",
        "#    . Tipo de Dado\n",
        "\n",
        "dataset.info()"
      ],
      "execution_count": 2,
      "outputs": [
        {
          "output_type": "stream",
          "text": [
            "<class 'pandas.core.frame.DataFrame'>\n",
            "RangeIndex: 10101 entries, 0 to 10100\n",
            "Data columns (total 22 columns):\n",
            "id                   10101 non-null int64\n",
            "player_name          10101 non-null object\n",
            "team_abbreviation    10101 non-null object\n",
            "age                  10101 non-null float64\n",
            "player_height        10101 non-null float64\n",
            "player_weight        10101 non-null float64\n",
            "college              10101 non-null object\n",
            "country              10101 non-null object\n",
            "draft_year           10101 non-null object\n",
            "draft_round          10101 non-null object\n",
            "draft_number         10101 non-null object\n",
            "gp                   10101 non-null int64\n",
            "pts                  10101 non-null float64\n",
            "reb                  10101 non-null float64\n",
            "ast                  10101 non-null float64\n",
            "net_rating           10101 non-null float64\n",
            "oreb_pct             10101 non-null float64\n",
            "dreb_pct             10101 non-null float64\n",
            "usg_pct              10101 non-null float64\n",
            "ts_pct               10101 non-null float64\n",
            "ast_pct              10101 non-null float64\n",
            "season               10101 non-null object\n",
            "dtypes: float64(12), int64(2), object(8)\n",
            "memory usage: 1.7+ MB\n"
          ],
          "name": "stdout"
        }
      ]
    },
    {
      "cell_type": "code",
      "metadata": {
        "id": "0Kv3Pf3C7M0v",
        "colab_type": "code",
        "outputId": "dee21697-3be2-4bc4-e583-e6431ff5ff19",
        "colab": {
          "base_uri": "https://localhost:8080/",
          "height": 408
        }
      },
      "source": [
        "# Apresentação dos tipos de dados iniciais para cada coluna da base de dados\n",
        "\n",
        "dataset.dtypes"
      ],
      "execution_count": 3,
      "outputs": [
        {
          "output_type": "execute_result",
          "data": {
            "text/plain": [
              "id                     int64\n",
              "player_name           object\n",
              "team_abbreviation     object\n",
              "age                  float64\n",
              "player_height        float64\n",
              "player_weight        float64\n",
              "college               object\n",
              "country               object\n",
              "draft_year            object\n",
              "draft_round           object\n",
              "draft_number          object\n",
              "gp                     int64\n",
              "pts                  float64\n",
              "reb                  float64\n",
              "ast                  float64\n",
              "net_rating           float64\n",
              "oreb_pct             float64\n",
              "dreb_pct             float64\n",
              "usg_pct              float64\n",
              "ts_pct               float64\n",
              "ast_pct              float64\n",
              "season                object\n",
              "dtype: object"
            ]
          },
          "metadata": {
            "tags": []
          },
          "execution_count": 3
        }
      ]
    },
    {
      "cell_type": "code",
      "metadata": {
        "id": "kDHVYnFc8-pH",
        "colab_type": "code",
        "colab": {}
      },
      "source": [
        "# Criação categorias de dados para base com o objetivo auxiliar no entendimento e extração das informações existentes\n",
        "# Colunas categorizadas: team_abbreviation | college | country | draft_year | season\n",
        "\n",
        "dataset['team_abbreviation'] = dataset['team_abbreviation'].astype('category')\n",
        "dataset['college'] = dataset['college'].astype('category')\n",
        "dataset['country'] = dataset['country'].astype('category')\n",
        "dataset['draft_year'] = dataset['draft_year'].astype('category')\n",
        "dataset['season'] = dataset['season'].astype('category')"
      ],
      "execution_count": 0,
      "outputs": []
    },
    {
      "cell_type": "code",
      "metadata": {
        "id": "sHk-6PGo_O4g",
        "colab_type": "code",
        "outputId": "6f33ae55-fd6b-4b84-9053-97bebd8c2c09",
        "colab": {
          "base_uri": "https://localhost:8080/",
          "height": 408
        }
      },
      "source": [
        "# Apresentação das categorias de dados criadas para base a ser estudada\n",
        "# Colunas categorizadas: team_abbreviation | college | country | draft_year | season\n",
        "\n",
        "dataset.dtypes"
      ],
      "execution_count": 5,
      "outputs": [
        {
          "output_type": "execute_result",
          "data": {
            "text/plain": [
              "id                      int64\n",
              "player_name            object\n",
              "team_abbreviation    category\n",
              "age                   float64\n",
              "player_height         float64\n",
              "player_weight         float64\n",
              "college              category\n",
              "country              category\n",
              "draft_year           category\n",
              "draft_round            object\n",
              "draft_number           object\n",
              "gp                      int64\n",
              "pts                   float64\n",
              "reb                   float64\n",
              "ast                   float64\n",
              "net_rating            float64\n",
              "oreb_pct              float64\n",
              "dreb_pct              float64\n",
              "usg_pct               float64\n",
              "ts_pct                float64\n",
              "ast_pct               float64\n",
              "season               category\n",
              "dtype: object"
            ]
          },
          "metadata": {
            "tags": []
          },
          "execution_count": 5
        }
      ]
    },
    {
      "cell_type": "code",
      "metadata": {
        "id": "HsXHT7Fg_e06",
        "colab_type": "code",
        "outputId": "863906b8-cf3b-4071-bf26-daa857175961",
        "colab": {
          "base_uri": "https://localhost:8080/",
          "height": 102
        }
      },
      "source": [
        "# Apresetação do valores contidos na categoria \"team_abbreviation\"\n",
        "\n",
        "dataset['team_abbreviation'].cat.categories"
      ],
      "execution_count": 6,
      "outputs": [
        {
          "output_type": "execute_result",
          "data": {
            "text/plain": [
              "Index(['ATL', 'BKN', 'BOS', 'CHA', 'CHH', 'CHI', 'CLE', 'DAL', 'DEN', 'DET',\n",
              "       'GSW', 'HOU', 'IND', 'LAC', 'LAL', 'MEM', 'MIA', 'MIL', 'MIN', 'NJN',\n",
              "       'NOH', 'NOK', 'NOP', 'NYK', 'OKC', 'ORL', 'PHI', 'PHX', 'POR', 'SAC',\n",
              "       'SAS', 'SEA', 'TOR', 'UTA', 'VAN', 'WAS'],\n",
              "      dtype='object')"
            ]
          },
          "metadata": {
            "tags": []
          },
          "execution_count": 6
        }
      ]
    },
    {
      "cell_type": "code",
      "metadata": {
        "id": "uMLGUoz_CQ1i",
        "colab_type": "code",
        "outputId": "ba98cc57-bc05-4e13-f2df-643eac4e9663",
        "colab": {
          "base_uri": "https://localhost:8080/",
          "height": 153
        }
      },
      "source": [
        "# Apresetação do valores contidos na categoria \"college\"\n",
        "\n",
        "dataset['college'].cat.categories"
      ],
      "execution_count": 7,
      "outputs": [
        {
          "output_type": "execute_result",
          "data": {
            "text/plain": [
              "Index(['Alabama', 'Alabama A&M', 'Alabama-Birmingham', 'Alabama-Huntsville',\n",
              "       'Albany State (GA)', 'American', 'American International', 'Arizona',\n",
              "       'Arizona State', 'Arkansas',\n",
              "       ...\n",
              "       'William Paterson', 'Wingate', 'Wisconsin', 'Wisconsin-Green Bay',\n",
              "       'Wisconsin-Stevens Point', 'Wright State', 'Wyoming', 'Xavier', 'Yale',\n",
              "       'Yonsei (KOR)'],\n",
              "      dtype='object', length=298)"
            ]
          },
          "metadata": {
            "tags": []
          },
          "execution_count": 7
        }
      ]
    },
    {
      "cell_type": "code",
      "metadata": {
        "id": "lbV5ffJiCzXh",
        "colab_type": "code",
        "outputId": "4be37666-e4bf-4438-acf3-9b566f11e09d",
        "colab": {
          "base_uri": "https://localhost:8080/",
          "height": 272
        }
      },
      "source": [
        "# Apresetação do valores contidos na categoria \"country\"\n",
        "\n",
        "dataset['country'].cat.categories"
      ],
      "execution_count": 8,
      "outputs": [
        {
          "output_type": "execute_result",
          "data": {
            "text/plain": [
              "Index(['Argentina', 'Australia', 'Austria', 'Bahamas', 'Belize', 'Bosnia',\n",
              "       'Bosnia & Herzegovina', 'Bosnia and Herzegovina', 'Brazil',\n",
              "       'Cabo Verde', 'Cameroon', 'Canada', 'China', 'Congo', 'Croatia',\n",
              "       'Czech Republic', 'Democratic Republic of the Congo',\n",
              "       'Dominican Republic', 'Egypt', 'England', 'Finland', 'France', 'Gabon',\n",
              "       'Georgia', 'Germany', 'Ghana', 'Great Britain', 'Greece', 'Haiti',\n",
              "       'Iran', 'Ireland', 'Israel', 'Italy', 'Jamaica', 'Latvia', 'Lithuania',\n",
              "       'Macedonia', 'Mali', 'Mexico', 'Montenegro', 'Netherlands',\n",
              "       'New Zealand', 'Nigeria', 'Panama', 'Poland', 'Puerto Rico', 'Russia',\n",
              "       'Scotland', 'Senegal', 'Serbia', 'Serbia and Montenegro', 'Slovenia',\n",
              "       'South Korea', 'South Sudan', 'Spain', 'St. Vincent & Grenadines',\n",
              "       'Sudan (UK)', 'Sweden', 'Switzerland', 'Tanzania', 'Tunisia', 'Turkey',\n",
              "       'U.S. Virgin Islands', 'US Virgin Islands', 'USA', 'USSR', 'Ukraine',\n",
              "       'United Kingdom', 'Uruguay', 'Venezuela', 'Yugoslavia'],\n",
              "      dtype='object')"
            ]
          },
          "metadata": {
            "tags": []
          },
          "execution_count": 8
        }
      ]
    },
    {
      "cell_type": "code",
      "metadata": {
        "id": "GeaxS3MmDADc",
        "colab_type": "code",
        "outputId": "f487234c-0c19-4391-e3b4-010fd9bb9719",
        "colab": {
          "base_uri": "https://localhost:8080/",
          "height": 119
        }
      },
      "source": [
        "# Apresetação do valores contidos na categoria \"draft_year\"\n",
        "\n",
        "dataset['draft_year'].cat.categories"
      ],
      "execution_count": 9,
      "outputs": [
        {
          "output_type": "execute_result",
          "data": {
            "text/plain": [
              "Index(['1963', '1976', '1978', '1979', '1980', '1981', '1982', '1983', '1984',\n",
              "       '1985', '1986', '1987', '1988', '1989', '1990', '1991', '1992', '1993',\n",
              "       '1994', '1995', '1996', '1997', '1998', '1999', '2000', '2001', '2002',\n",
              "       '2003', '2004', '2005', '2006', '2007', '2008', '2009', '2010', '2011',\n",
              "       '2012', '2013', '2014', '2015', '2016', '2017', 'Undrafted'],\n",
              "      dtype='object')"
            ]
          },
          "metadata": {
            "tags": []
          },
          "execution_count": 9
        }
      ]
    },
    {
      "cell_type": "code",
      "metadata": {
        "id": "AFtkRkN0DP-5",
        "colab_type": "code",
        "outputId": "a57c87f0-f56e-426f-e7f3-e1c2df3033cb",
        "colab": {
          "base_uri": "https://localhost:8080/",
          "height": 102
        }
      },
      "source": [
        "# Apresetação do valores contidos na categoria \"season\"\n",
        "\n",
        "dataset['season'].cat.categories"
      ],
      "execution_count": 10,
      "outputs": [
        {
          "output_type": "execute_result",
          "data": {
            "text/plain": [
              "Index(['1996-97', '1997-98', '1998-99', '1999-00', '2000-01', '2001-02',\n",
              "       '2002-03', '2003-04', '2004-05', '2005-06', '2006-07', '2007-08',\n",
              "       '2008-09', '2009-10', '2010-11', '2011-12', '2012-13', '2013-14',\n",
              "       '2014-15', '2015-16', '2016-17', '2017-18'],\n",
              "      dtype='object')"
            ]
          },
          "metadata": {
            "tags": []
          },
          "execution_count": 10
        }
      ]
    },
    {
      "cell_type": "code",
      "metadata": {
        "id": "NtevuI6cFF2b",
        "colab_type": "code",
        "outputId": "6c1f718b-acdd-476a-b327-53ff13d8f30a",
        "colab": {
          "base_uri": "https://localhost:8080/",
          "height": 309
        }
      },
      "source": [
        "# Apresetação dos dados do repositório após categorização da Base de Dados\n",
        "# Colunas categorizadas: team_abbreviation | college | country | draft_year | season\n",
        "\n",
        "dataset.head()"
      ],
      "execution_count": 11,
      "outputs": [
        {
          "output_type": "execute_result",
          "data": {
            "text/html": [
              "<div>\n",
              "<style scoped>\n",
              "    .dataframe tbody tr th:only-of-type {\n",
              "        vertical-align: middle;\n",
              "    }\n",
              "\n",
              "    .dataframe tbody tr th {\n",
              "        vertical-align: top;\n",
              "    }\n",
              "\n",
              "    .dataframe thead th {\n",
              "        text-align: right;\n",
              "    }\n",
              "</style>\n",
              "<table border=\"1\" class=\"dataframe\">\n",
              "  <thead>\n",
              "    <tr style=\"text-align: right;\">\n",
              "      <th></th>\n",
              "      <th>id</th>\n",
              "      <th>player_name</th>\n",
              "      <th>team_abbreviation</th>\n",
              "      <th>age</th>\n",
              "      <th>player_height</th>\n",
              "      <th>player_weight</th>\n",
              "      <th>college</th>\n",
              "      <th>country</th>\n",
              "      <th>draft_year</th>\n",
              "      <th>draft_round</th>\n",
              "      <th>draft_number</th>\n",
              "      <th>gp</th>\n",
              "      <th>pts</th>\n",
              "      <th>reb</th>\n",
              "      <th>ast</th>\n",
              "      <th>net_rating</th>\n",
              "      <th>oreb_pct</th>\n",
              "      <th>dreb_pct</th>\n",
              "      <th>usg_pct</th>\n",
              "      <th>ts_pct</th>\n",
              "      <th>ast_pct</th>\n",
              "      <th>season</th>\n",
              "    </tr>\n",
              "  </thead>\n",
              "  <tbody>\n",
              "    <tr>\n",
              "      <th>0</th>\n",
              "      <td>0</td>\n",
              "      <td>George Zidek</td>\n",
              "      <td>DEN</td>\n",
              "      <td>23.0</td>\n",
              "      <td>213.36</td>\n",
              "      <td>119.748288</td>\n",
              "      <td>UCLA</td>\n",
              "      <td>USA</td>\n",
              "      <td>1995</td>\n",
              "      <td>1</td>\n",
              "      <td>22</td>\n",
              "      <td>52</td>\n",
              "      <td>2.8</td>\n",
              "      <td>1.7</td>\n",
              "      <td>0.3</td>\n",
              "      <td>-14.1</td>\n",
              "      <td>0.102</td>\n",
              "      <td>0.169</td>\n",
              "      <td>0.195</td>\n",
              "      <td>0.500</td>\n",
              "      <td>0.064</td>\n",
              "      <td>1996-97</td>\n",
              "    </tr>\n",
              "    <tr>\n",
              "      <th>1</th>\n",
              "      <td>1</td>\n",
              "      <td>Darrell Armstrong</td>\n",
              "      <td>ORL</td>\n",
              "      <td>29.0</td>\n",
              "      <td>185.42</td>\n",
              "      <td>81.646560</td>\n",
              "      <td>Fayetteville State</td>\n",
              "      <td>USA</td>\n",
              "      <td>Undrafted</td>\n",
              "      <td>Undrafted</td>\n",
              "      <td>Undrafted</td>\n",
              "      <td>67</td>\n",
              "      <td>6.1</td>\n",
              "      <td>1.1</td>\n",
              "      <td>2.6</td>\n",
              "      <td>0.3</td>\n",
              "      <td>0.039</td>\n",
              "      <td>0.050</td>\n",
              "      <td>0.222</td>\n",
              "      <td>0.525</td>\n",
              "      <td>0.308</td>\n",
              "      <td>1996-97</td>\n",
              "    </tr>\n",
              "    <tr>\n",
              "      <th>2</th>\n",
              "      <td>2</td>\n",
              "      <td>Darrick Martin</td>\n",
              "      <td>LAC</td>\n",
              "      <td>26.0</td>\n",
              "      <td>180.34</td>\n",
              "      <td>77.110640</td>\n",
              "      <td>UCLA</td>\n",
              "      <td>USA</td>\n",
              "      <td>Undrafted</td>\n",
              "      <td>Undrafted</td>\n",
              "      <td>Undrafted</td>\n",
              "      <td>82</td>\n",
              "      <td>10.9</td>\n",
              "      <td>1.4</td>\n",
              "      <td>4.1</td>\n",
              "      <td>-4.5</td>\n",
              "      <td>0.016</td>\n",
              "      <td>0.060</td>\n",
              "      <td>0.232</td>\n",
              "      <td>0.539</td>\n",
              "      <td>0.292</td>\n",
              "      <td>1996-97</td>\n",
              "    </tr>\n",
              "    <tr>\n",
              "      <th>3</th>\n",
              "      <td>3</td>\n",
              "      <td>Darrin Hancock</td>\n",
              "      <td>ATL</td>\n",
              "      <td>25.0</td>\n",
              "      <td>200.66</td>\n",
              "      <td>92.986360</td>\n",
              "      <td>Kansas</td>\n",
              "      <td>USA</td>\n",
              "      <td>1994</td>\n",
              "      <td>2</td>\n",
              "      <td>38</td>\n",
              "      <td>24</td>\n",
              "      <td>1.8</td>\n",
              "      <td>0.8</td>\n",
              "      <td>0.5</td>\n",
              "      <td>-2.6</td>\n",
              "      <td>0.030</td>\n",
              "      <td>0.118</td>\n",
              "      <td>0.159</td>\n",
              "      <td>0.510</td>\n",
              "      <td>0.136</td>\n",
              "      <td>1996-97</td>\n",
              "    </tr>\n",
              "    <tr>\n",
              "      <th>4</th>\n",
              "      <td>4</td>\n",
              "      <td>Darvin Ham</td>\n",
              "      <td>IND</td>\n",
              "      <td>23.0</td>\n",
              "      <td>200.66</td>\n",
              "      <td>99.790240</td>\n",
              "      <td>Texas Tech</td>\n",
              "      <td>USA</td>\n",
              "      <td>Undrafted</td>\n",
              "      <td>Undrafted</td>\n",
              "      <td>Undrafted</td>\n",
              "      <td>36</td>\n",
              "      <td>2.3</td>\n",
              "      <td>1.6</td>\n",
              "      <td>0.4</td>\n",
              "      <td>-2.0</td>\n",
              "      <td>0.109</td>\n",
              "      <td>0.097</td>\n",
              "      <td>0.140</td>\n",
              "      <td>0.536</td>\n",
              "      <td>0.072</td>\n",
              "      <td>1996-97</td>\n",
              "    </tr>\n",
              "  </tbody>\n",
              "</table>\n",
              "</div>"
            ],
            "text/plain": [
              "   id        player_name team_abbreviation  ...  ts_pct  ast_pct   season\n",
              "0   0       George Zidek               DEN  ...   0.500    0.064  1996-97\n",
              "1   1  Darrell Armstrong               ORL  ...   0.525    0.308  1996-97\n",
              "2   2     Darrick Martin               LAC  ...   0.539    0.292  1996-97\n",
              "3   3     Darrin Hancock               ATL  ...   0.510    0.136  1996-97\n",
              "4   4         Darvin Ham               IND  ...   0.536    0.072  1996-97\n",
              "\n",
              "[5 rows x 22 columns]"
            ]
          },
          "metadata": {
            "tags": []
          },
          "execution_count": 11
        }
      ]
    },
    {
      "cell_type": "code",
      "metadata": {
        "id": "AqqvbL27EJbV",
        "colab_type": "code",
        "outputId": "d72873d0-912a-4a32-c840-ca32c10f5ef1",
        "colab": {
          "base_uri": "https://localhost:8080/",
          "height": 34
        }
      },
      "source": [
        "# Verificação do tamanho da base de dados a ser estudada [Número de entradas, Número de colunas/ Variáveis]\n",
        "\n",
        "dataset.shape"
      ],
      "execution_count": 23,
      "outputs": [
        {
          "output_type": "execute_result",
          "data": {
            "text/plain": [
              "(10101, 22)"
            ]
          },
          "metadata": {
            "tags": []
          },
          "execution_count": 23
        }
      ]
    },
    {
      "cell_type": "code",
      "metadata": {
        "id": "7pWm-8quFSet",
        "colab_type": "code",
        "outputId": "bd29b9dd-fe55-4a1e-fe5b-b0362e7efea5",
        "colab": {
          "base_uri": "https://localhost:8080/",
          "height": 408
        }
      },
      "source": [
        "# Verificação de valores nulos dentre as colunas da base de dados\n",
        "# Base de dados bem concistente e com suas informações preenchidas para o período, sem a necessidade de remoção de colunas\n",
        "\n",
        "print(dataset.isnull().sum())"
      ],
      "execution_count": 13,
      "outputs": [
        {
          "output_type": "stream",
          "text": [
            "id                   0\n",
            "player_name          0\n",
            "team_abbreviation    0\n",
            "age                  0\n",
            "player_height        0\n",
            "player_weight        0\n",
            "college              0\n",
            "country              0\n",
            "draft_year           0\n",
            "draft_round          0\n",
            "draft_number         0\n",
            "gp                   0\n",
            "pts                  0\n",
            "reb                  0\n",
            "ast                  0\n",
            "net_rating           0\n",
            "oreb_pct             0\n",
            "dreb_pct             0\n",
            "usg_pct              0\n",
            "ts_pct               0\n",
            "ast_pct              0\n",
            "season               0\n",
            "dtype: int64\n"
          ],
          "name": "stdout"
        }
      ]
    },
    {
      "cell_type": "code",
      "metadata": {
        "id": "P6QYBQeFFqZR",
        "colab_type": "code",
        "outputId": "0707070b-7c35-4873-b4be-07936d5c8abc",
        "colab": {
          "base_uri": "https://localhost:8080/",
          "height": 309
        }
      },
      "source": [
        "# Caso houvesse coluna(s) a ser(em) removida(s) a linha de comando abaixo seria responsável por realizar o ajuste da base de dados\n",
        "\n",
        "dataset1 = dataset.dropna(thresh=0.75*len(dataset), axis=1)\n",
        "dataset1.head()"
      ],
      "execution_count": 14,
      "outputs": [
        {
          "output_type": "execute_result",
          "data": {
            "text/html": [
              "<div>\n",
              "<style scoped>\n",
              "    .dataframe tbody tr th:only-of-type {\n",
              "        vertical-align: middle;\n",
              "    }\n",
              "\n",
              "    .dataframe tbody tr th {\n",
              "        vertical-align: top;\n",
              "    }\n",
              "\n",
              "    .dataframe thead th {\n",
              "        text-align: right;\n",
              "    }\n",
              "</style>\n",
              "<table border=\"1\" class=\"dataframe\">\n",
              "  <thead>\n",
              "    <tr style=\"text-align: right;\">\n",
              "      <th></th>\n",
              "      <th>id</th>\n",
              "      <th>player_name</th>\n",
              "      <th>team_abbreviation</th>\n",
              "      <th>age</th>\n",
              "      <th>player_height</th>\n",
              "      <th>player_weight</th>\n",
              "      <th>college</th>\n",
              "      <th>country</th>\n",
              "      <th>draft_year</th>\n",
              "      <th>draft_round</th>\n",
              "      <th>draft_number</th>\n",
              "      <th>gp</th>\n",
              "      <th>pts</th>\n",
              "      <th>reb</th>\n",
              "      <th>ast</th>\n",
              "      <th>net_rating</th>\n",
              "      <th>oreb_pct</th>\n",
              "      <th>dreb_pct</th>\n",
              "      <th>usg_pct</th>\n",
              "      <th>ts_pct</th>\n",
              "      <th>ast_pct</th>\n",
              "      <th>season</th>\n",
              "    </tr>\n",
              "  </thead>\n",
              "  <tbody>\n",
              "    <tr>\n",
              "      <th>0</th>\n",
              "      <td>0</td>\n",
              "      <td>George Zidek</td>\n",
              "      <td>DEN</td>\n",
              "      <td>23.0</td>\n",
              "      <td>213.36</td>\n",
              "      <td>119.748288</td>\n",
              "      <td>UCLA</td>\n",
              "      <td>USA</td>\n",
              "      <td>1995</td>\n",
              "      <td>1</td>\n",
              "      <td>22</td>\n",
              "      <td>52</td>\n",
              "      <td>2.8</td>\n",
              "      <td>1.7</td>\n",
              "      <td>0.3</td>\n",
              "      <td>-14.1</td>\n",
              "      <td>0.102</td>\n",
              "      <td>0.169</td>\n",
              "      <td>0.195</td>\n",
              "      <td>0.500</td>\n",
              "      <td>0.064</td>\n",
              "      <td>1996-97</td>\n",
              "    </tr>\n",
              "    <tr>\n",
              "      <th>1</th>\n",
              "      <td>1</td>\n",
              "      <td>Darrell Armstrong</td>\n",
              "      <td>ORL</td>\n",
              "      <td>29.0</td>\n",
              "      <td>185.42</td>\n",
              "      <td>81.646560</td>\n",
              "      <td>Fayetteville State</td>\n",
              "      <td>USA</td>\n",
              "      <td>Undrafted</td>\n",
              "      <td>Undrafted</td>\n",
              "      <td>Undrafted</td>\n",
              "      <td>67</td>\n",
              "      <td>6.1</td>\n",
              "      <td>1.1</td>\n",
              "      <td>2.6</td>\n",
              "      <td>0.3</td>\n",
              "      <td>0.039</td>\n",
              "      <td>0.050</td>\n",
              "      <td>0.222</td>\n",
              "      <td>0.525</td>\n",
              "      <td>0.308</td>\n",
              "      <td>1996-97</td>\n",
              "    </tr>\n",
              "    <tr>\n",
              "      <th>2</th>\n",
              "      <td>2</td>\n",
              "      <td>Darrick Martin</td>\n",
              "      <td>LAC</td>\n",
              "      <td>26.0</td>\n",
              "      <td>180.34</td>\n",
              "      <td>77.110640</td>\n",
              "      <td>UCLA</td>\n",
              "      <td>USA</td>\n",
              "      <td>Undrafted</td>\n",
              "      <td>Undrafted</td>\n",
              "      <td>Undrafted</td>\n",
              "      <td>82</td>\n",
              "      <td>10.9</td>\n",
              "      <td>1.4</td>\n",
              "      <td>4.1</td>\n",
              "      <td>-4.5</td>\n",
              "      <td>0.016</td>\n",
              "      <td>0.060</td>\n",
              "      <td>0.232</td>\n",
              "      <td>0.539</td>\n",
              "      <td>0.292</td>\n",
              "      <td>1996-97</td>\n",
              "    </tr>\n",
              "    <tr>\n",
              "      <th>3</th>\n",
              "      <td>3</td>\n",
              "      <td>Darrin Hancock</td>\n",
              "      <td>ATL</td>\n",
              "      <td>25.0</td>\n",
              "      <td>200.66</td>\n",
              "      <td>92.986360</td>\n",
              "      <td>Kansas</td>\n",
              "      <td>USA</td>\n",
              "      <td>1994</td>\n",
              "      <td>2</td>\n",
              "      <td>38</td>\n",
              "      <td>24</td>\n",
              "      <td>1.8</td>\n",
              "      <td>0.8</td>\n",
              "      <td>0.5</td>\n",
              "      <td>-2.6</td>\n",
              "      <td>0.030</td>\n",
              "      <td>0.118</td>\n",
              "      <td>0.159</td>\n",
              "      <td>0.510</td>\n",
              "      <td>0.136</td>\n",
              "      <td>1996-97</td>\n",
              "    </tr>\n",
              "    <tr>\n",
              "      <th>4</th>\n",
              "      <td>4</td>\n",
              "      <td>Darvin Ham</td>\n",
              "      <td>IND</td>\n",
              "      <td>23.0</td>\n",
              "      <td>200.66</td>\n",
              "      <td>99.790240</td>\n",
              "      <td>Texas Tech</td>\n",
              "      <td>USA</td>\n",
              "      <td>Undrafted</td>\n",
              "      <td>Undrafted</td>\n",
              "      <td>Undrafted</td>\n",
              "      <td>36</td>\n",
              "      <td>2.3</td>\n",
              "      <td>1.6</td>\n",
              "      <td>0.4</td>\n",
              "      <td>-2.0</td>\n",
              "      <td>0.109</td>\n",
              "      <td>0.097</td>\n",
              "      <td>0.140</td>\n",
              "      <td>0.536</td>\n",
              "      <td>0.072</td>\n",
              "      <td>1996-97</td>\n",
              "    </tr>\n",
              "  </tbody>\n",
              "</table>\n",
              "</div>"
            ],
            "text/plain": [
              "   id        player_name team_abbreviation  ...  ts_pct  ast_pct   season\n",
              "0   0       George Zidek               DEN  ...   0.500    0.064  1996-97\n",
              "1   1  Darrell Armstrong               ORL  ...   0.525    0.308  1996-97\n",
              "2   2     Darrick Martin               LAC  ...   0.539    0.292  1996-97\n",
              "3   3     Darrin Hancock               ATL  ...   0.510    0.136  1996-97\n",
              "4   4         Darvin Ham               IND  ...   0.536    0.072  1996-97\n",
              "\n",
              "[5 rows x 22 columns]"
            ]
          },
          "metadata": {
            "tags": []
          },
          "execution_count": 14
        }
      ]
    },
    {
      "cell_type": "code",
      "metadata": {
        "id": "jrCYRuHPGIhi",
        "colab_type": "code",
        "outputId": "2bd95754-d28d-4399-fc93-c4bd1aa73e81",
        "colab": {
          "base_uri": "https://localhost:8080/",
          "height": 34
        }
      },
      "source": [
        "# Verificação da quantidade de entradas da base de dados a ser estudada\n",
        "\n",
        "len(dataset1)"
      ],
      "execution_count": 15,
      "outputs": [
        {
          "output_type": "execute_result",
          "data": {
            "text/plain": [
              "10101"
            ]
          },
          "metadata": {
            "tags": []
          },
          "execution_count": 15
        }
      ]
    },
    {
      "cell_type": "code",
      "metadata": {
        "id": "ghI4IPQLGisf",
        "colab_type": "code",
        "colab": {
          "base_uri": "https://localhost:8080/",
          "height": 69
        },
        "outputId": "1fcac997-ac15-4c33-a525-f7d7cbb990cb"
      },
      "source": [
        "# Visualizando de possíveis dados duplicados para Base de Dados\n",
        "# A base de dados utilizada não precisará ser alterada/ manipulada por conter dados duplicados, preservando assim a quantidade de registros\n",
        "\n",
        "dataset1[dataset1.duplicated(keep=False)]"
      ],
      "execution_count": 41,
      "outputs": [
        {
          "output_type": "execute_result",
          "data": {
            "text/html": [
              "<div>\n",
              "<style scoped>\n",
              "    .dataframe tbody tr th:only-of-type {\n",
              "        vertical-align: middle;\n",
              "    }\n",
              "\n",
              "    .dataframe tbody tr th {\n",
              "        vertical-align: top;\n",
              "    }\n",
              "\n",
              "    .dataframe thead th {\n",
              "        text-align: right;\n",
              "    }\n",
              "</style>\n",
              "<table border=\"1\" class=\"dataframe\">\n",
              "  <thead>\n",
              "    <tr style=\"text-align: right;\">\n",
              "      <th></th>\n",
              "      <th>id</th>\n",
              "      <th>player_name</th>\n",
              "      <th>team_abbreviation</th>\n",
              "      <th>age</th>\n",
              "      <th>player_height</th>\n",
              "      <th>player_weight</th>\n",
              "      <th>college</th>\n",
              "      <th>country</th>\n",
              "      <th>draft_year</th>\n",
              "      <th>draft_round</th>\n",
              "      <th>draft_number</th>\n",
              "      <th>gp</th>\n",
              "      <th>pts</th>\n",
              "      <th>reb</th>\n",
              "      <th>ast</th>\n",
              "      <th>net_rating</th>\n",
              "      <th>oreb_pct</th>\n",
              "      <th>dreb_pct</th>\n",
              "      <th>usg_pct</th>\n",
              "      <th>ts_pct</th>\n",
              "      <th>ast_pct</th>\n",
              "      <th>season</th>\n",
              "    </tr>\n",
              "  </thead>\n",
              "  <tbody>\n",
              "  </tbody>\n",
              "</table>\n",
              "</div>"
            ],
            "text/plain": [
              "Empty DataFrame\n",
              "Columns: [id, player_name, team_abbreviation, age, player_height, player_weight, college, country, draft_year, draft_round, draft_number, gp, pts, reb, ast, net_rating, oreb_pct, dreb_pct, usg_pct, ts_pct, ast_pct, season]\n",
              "Index: []"
            ]
          },
          "metadata": {
            "tags": []
          },
          "execution_count": 41
        }
      ]
    },
    {
      "cell_type": "code",
      "metadata": {
        "id": "a0aFCWnqfoE3",
        "colab_type": "code",
        "colab": {}
      },
      "source": [
        "# Caso houvesse necessidade excluir dados duplicados poderíamos fazer a alteração/ manipulação para ajustar a Base de Dados\n",
        "\n",
        "dataset1.drop_duplicates(inplace=True)\n"
      ],
      "execution_count": 0,
      "outputs": []
    },
    {
      "cell_type": "code",
      "metadata": {
        "id": "qlqaWtAefvXe",
        "colab_type": "code",
        "colab": {
          "base_uri": "https://localhost:8080/",
          "height": 476
        },
        "outputId": "682a6878-e30a-4d08-df05-c80436faad4f"
      },
      "source": [
        "# Definição do Dataset a ser utilizado para extração e análise das informações da Base de Dados\n",
        "\n",
        "dataset1.info()"
      ],
      "execution_count": 44,
      "outputs": [
        {
          "output_type": "stream",
          "text": [
            "<class 'pandas.core.frame.DataFrame'>\n",
            "Int64Index: 10101 entries, 0 to 10100\n",
            "Data columns (total 22 columns):\n",
            "id                   10101 non-null int64\n",
            "player_name          10101 non-null object\n",
            "team_abbreviation    10101 non-null category\n",
            "age                  10101 non-null float64\n",
            "player_height        10101 non-null float64\n",
            "player_weight        10101 non-null float64\n",
            "college              10101 non-null category\n",
            "country              10101 non-null category\n",
            "draft_year           10101 non-null category\n",
            "draft_round          10101 non-null object\n",
            "draft_number         10101 non-null object\n",
            "gp                   10101 non-null int64\n",
            "pts                  10101 non-null float64\n",
            "reb                  10101 non-null float64\n",
            "ast                  10101 non-null float64\n",
            "net_rating           10101 non-null float64\n",
            "oreb_pct             10101 non-null float64\n",
            "dreb_pct             10101 non-null float64\n",
            "usg_pct              10101 non-null float64\n",
            "ts_pct               10101 non-null float64\n",
            "ast_pct              10101 non-null float64\n",
            "season               10101 non-null category\n",
            "dtypes: category(5), float64(12), int64(2), object(3)\n",
            "memory usage: 1.5+ MB\n"
          ],
          "name": "stdout"
        }
      ]
    },
    {
      "cell_type": "markdown",
      "metadata": {
        "id": "md9mEX8J6ttj",
        "colab_type": "text"
      },
      "source": [
        "**PS:** Como verificado durante a preparação, **a base de dados é concistente e com suas informações totalmente preenchidas para o período a ser estudado. Não haverá a necessidade de inserção/ inclusão de dados ausentes**."
      ]
    },
    {
      "cell_type": "code",
      "metadata": {
        "id": "FUW0BmFrV6Ni",
        "colab_type": "code",
        "colab": {
          "base_uri": "https://localhost:8080/",
          "height": 317
        },
        "outputId": "0ea26aee-a9f2-4494-c6e0-67f4d3d40593"
      },
      "source": [
        "# Informações estatísticas e da distribuição de Dados da Base estudada desse projeto. \n",
        "# A partir dos dados carregados através de DataFrame teremos o Número de entradas, Média, Desvio Padrão, Valores mínimo/ máximo e Quartis\n",
        "\n",
        "dataset1.describe()"
      ],
      "execution_count": 35,
      "outputs": [
        {
          "output_type": "execute_result",
          "data": {
            "text/html": [
              "<div>\n",
              "<style scoped>\n",
              "    .dataframe tbody tr th:only-of-type {\n",
              "        vertical-align: middle;\n",
              "    }\n",
              "\n",
              "    .dataframe tbody tr th {\n",
              "        vertical-align: top;\n",
              "    }\n",
              "\n",
              "    .dataframe thead th {\n",
              "        text-align: right;\n",
              "    }\n",
              "</style>\n",
              "<table border=\"1\" class=\"dataframe\">\n",
              "  <thead>\n",
              "    <tr style=\"text-align: right;\">\n",
              "      <th></th>\n",
              "      <th>id</th>\n",
              "      <th>age</th>\n",
              "      <th>player_height</th>\n",
              "      <th>player_weight</th>\n",
              "      <th>gp</th>\n",
              "      <th>pts</th>\n",
              "      <th>reb</th>\n",
              "      <th>ast</th>\n",
              "      <th>net_rating</th>\n",
              "      <th>oreb_pct</th>\n",
              "      <th>dreb_pct</th>\n",
              "      <th>usg_pct</th>\n",
              "      <th>ts_pct</th>\n",
              "      <th>ast_pct</th>\n",
              "    </tr>\n",
              "  </thead>\n",
              "  <tbody>\n",
              "    <tr>\n",
              "      <th>count</th>\n",
              "      <td>10101.000000</td>\n",
              "      <td>10101.000000</td>\n",
              "      <td>10101.000000</td>\n",
              "      <td>10101.000000</td>\n",
              "      <td>10101.000000</td>\n",
              "      <td>10101.000000</td>\n",
              "      <td>10101.000000</td>\n",
              "      <td>10101.000000</td>\n",
              "      <td>10101.000000</td>\n",
              "      <td>10101.000000</td>\n",
              "      <td>10101.000000</td>\n",
              "      <td>10101.000000</td>\n",
              "      <td>10101.000000</td>\n",
              "      <td>10101.000000</td>\n",
              "    </tr>\n",
              "    <tr>\n",
              "      <th>mean</th>\n",
              "      <td>5050.000000</td>\n",
              "      <td>27.292644</td>\n",
              "      <td>200.926942</td>\n",
              "      <td>100.860155</td>\n",
              "      <td>52.820513</td>\n",
              "      <td>8.075507</td>\n",
              "      <td>3.555153</td>\n",
              "      <td>1.790080</td>\n",
              "      <td>-2.209088</td>\n",
              "      <td>0.057290</td>\n",
              "      <td>0.143331</td>\n",
              "      <td>0.186534</td>\n",
              "      <td>0.506090</td>\n",
              "      <td>0.130714</td>\n",
              "    </tr>\n",
              "    <tr>\n",
              "      <th>std</th>\n",
              "      <td>2916.051869</td>\n",
              "      <td>4.345829</td>\n",
              "      <td>9.245615</td>\n",
              "      <td>12.718714</td>\n",
              "      <td>25.048016</td>\n",
              "      <td>5.891083</td>\n",
              "      <td>2.490504</td>\n",
              "      <td>1.789905</td>\n",
              "      <td>11.967473</td>\n",
              "      <td>0.044408</td>\n",
              "      <td>0.063230</td>\n",
              "      <td>0.052852</td>\n",
              "      <td>0.095968</td>\n",
              "      <td>0.095198</td>\n",
              "    </tr>\n",
              "    <tr>\n",
              "      <th>min</th>\n",
              "      <td>0.000000</td>\n",
              "      <td>18.000000</td>\n",
              "      <td>160.020000</td>\n",
              "      <td>60.327736</td>\n",
              "      <td>1.000000</td>\n",
              "      <td>0.000000</td>\n",
              "      <td>0.000000</td>\n",
              "      <td>0.000000</td>\n",
              "      <td>-200.000000</td>\n",
              "      <td>0.000000</td>\n",
              "      <td>0.000000</td>\n",
              "      <td>0.000000</td>\n",
              "      <td>0.000000</td>\n",
              "      <td>0.000000</td>\n",
              "    </tr>\n",
              "    <tr>\n",
              "      <th>25%</th>\n",
              "      <td>2525.000000</td>\n",
              "      <td>24.000000</td>\n",
              "      <td>195.580000</td>\n",
              "      <td>90.718400</td>\n",
              "      <td>33.000000</td>\n",
              "      <td>3.500000</td>\n",
              "      <td>1.800000</td>\n",
              "      <td>0.500000</td>\n",
              "      <td>-6.400000</td>\n",
              "      <td>0.022000</td>\n",
              "      <td>0.097000</td>\n",
              "      <td>0.151000</td>\n",
              "      <td>0.477000</td>\n",
              "      <td>0.064000</td>\n",
              "    </tr>\n",
              "    <tr>\n",
              "      <th>50%</th>\n",
              "      <td>5050.000000</td>\n",
              "      <td>27.000000</td>\n",
              "      <td>203.200000</td>\n",
              "      <td>100.243832</td>\n",
              "      <td>59.000000</td>\n",
              "      <td>6.600000</td>\n",
              "      <td>3.000000</td>\n",
              "      <td>1.200000</td>\n",
              "      <td>-1.300000</td>\n",
              "      <td>0.045000</td>\n",
              "      <td>0.134000</td>\n",
              "      <td>0.183000</td>\n",
              "      <td>0.519000</td>\n",
              "      <td>0.102000</td>\n",
              "    </tr>\n",
              "    <tr>\n",
              "      <th>75%</th>\n",
              "      <td>7575.000000</td>\n",
              "      <td>30.000000</td>\n",
              "      <td>208.280000</td>\n",
              "      <td>110.676448</td>\n",
              "      <td>75.000000</td>\n",
              "      <td>11.400000</td>\n",
              "      <td>4.700000</td>\n",
              "      <td>2.400000</td>\n",
              "      <td>3.100000</td>\n",
              "      <td>0.088000</td>\n",
              "      <td>0.184000</td>\n",
              "      <td>0.218000</td>\n",
              "      <td>0.553000</td>\n",
              "      <td>0.178000</td>\n",
              "    </tr>\n",
              "    <tr>\n",
              "      <th>max</th>\n",
              "      <td>10100.000000</td>\n",
              "      <td>44.000000</td>\n",
              "      <td>231.140000</td>\n",
              "      <td>163.293120</td>\n",
              "      <td>85.000000</td>\n",
              "      <td>35.400000</td>\n",
              "      <td>16.300000</td>\n",
              "      <td>11.700000</td>\n",
              "      <td>300.000000</td>\n",
              "      <td>1.000000</td>\n",
              "      <td>1.000000</td>\n",
              "      <td>1.000000</td>\n",
              "      <td>1.500000</td>\n",
              "      <td>1.000000</td>\n",
              "    </tr>\n",
              "  </tbody>\n",
              "</table>\n",
              "</div>"
            ],
            "text/plain": [
              "                 id           age  ...        ts_pct       ast_pct\n",
              "count  10101.000000  10101.000000  ...  10101.000000  10101.000000\n",
              "mean    5050.000000     27.292644  ...      0.506090      0.130714\n",
              "std     2916.051869      4.345829  ...      0.095968      0.095198\n",
              "min        0.000000     18.000000  ...      0.000000      0.000000\n",
              "25%     2525.000000     24.000000  ...      0.477000      0.064000\n",
              "50%     5050.000000     27.000000  ...      0.519000      0.102000\n",
              "75%     7575.000000     30.000000  ...      0.553000      0.178000\n",
              "max    10100.000000     44.000000  ...      1.500000      1.000000\n",
              "\n",
              "[8 rows x 14 columns]"
            ]
          },
          "metadata": {
            "tags": []
          },
          "execution_count": 35
        }
      ]
    },
    {
      "cell_type": "markdown",
      "metadata": {
        "id": "pGbi8KIyK3PU",
        "colab_type": "text"
      },
      "source": [
        "\n",
        "\n",
        "---\n",
        "\n",
        "\n",
        "\n",
        ".\n",
        "\n",
        "##**Extração e Análise das informações da Base de Dados**"
      ]
    },
    {
      "cell_type": "code",
      "metadata": {
        "id": "T4EWkuTdamI7",
        "colab_type": "code",
        "colab": {
          "base_uri": "https://localhost:8080/",
          "height": 119
        },
        "outputId": "54160572-0475-48e9-e3df-ddacc5fcc6cf"
      },
      "source": [
        "# dataset2 = dataset1[(dataset1['age'] > 30) & (dataset1['country'] != 'USA')]\n",
        "# dataset2 = dataset1[(dataset1['country'] != 'USA') & (dataset1['pts'] == dataset1['pts'].max())]\n",
        "# dataset2 = dataset2.groupby('season')\n",
        "\n",
        "#dataset2 = dataset1[(dataset1['country'] != 'USA')].groupby('player_name')\n",
        "#dataset2 = dataset1[(dataset1['team_abbreviation'] == 'CHI') & (dataset1['season'] == '1997-98') & (dataset1['player_name'] == 'Michael Jordan')]\n",
        "#dataset2 = dataset1[(dataset1['pts'] == dataset1['pts'].max())]\n",
        "#dataset2 = dataset1[(dataset1['player_name'] == 'Michael Jordan')].sort_values(by='season', ascending=False)\n",
        "dataset2 = dataset1[(dataset1['player_name'] == 'Michael Jordan')].mean()\n",
        "dataset2.head()"
      ],
      "execution_count": 17,
      "outputs": [
        {
          "output_type": "execute_result",
          "data": {
            "text/plain": [
              "id               1.585750e+03\n",
              "age              3.700000e+01\n",
              "player_height    1.981200e+02\n",
              "player_weight    9.797587e+01\n",
              "draft_year       4.960496e+14\n",
              "dtype: float64"
            ]
          },
          "metadata": {
            "tags": []
          },
          "execution_count": 17
        }
      ]
    },
    {
      "cell_type": "code",
      "metadata": {
        "id": "6Y3W9l2mtuSj",
        "colab_type": "code",
        "colab": {
          "base_uri": "https://localhost:8080/",
          "height": 34
        },
        "outputId": "735e3260-d612-4d23-9fe6-a939c176a4bf"
      },
      "source": [
        "len(dataset2)"
      ],
      "execution_count": 18,
      "outputs": [
        {
          "output_type": "execute_result",
          "data": {
            "text/plain": [
              "17"
            ]
          },
          "metadata": {
            "tags": []
          },
          "execution_count": 18
        }
      ]
    },
    {
      "cell_type": "code",
      "metadata": {
        "id": "KluxXNSwnMgE",
        "colab_type": "code",
        "colab": {
          "base_uri": "https://localhost:8080/",
          "height": 80
        },
        "outputId": "f0c0765a-392b-424a-f395-79dd942473d2"
      },
      "source": [
        "dataset3 = dataset1[(dataset1['pts'] == dataset1['pts'].max())].groupby('player_name')\n",
        "dataset3 = dataset3['player_name', 'pts', 'season']\n",
        "dataset3.head()"
      ],
      "execution_count": 19,
      "outputs": [
        {
          "output_type": "execute_result",
          "data": {
            "text/html": [
              "<div>\n",
              "<style scoped>\n",
              "    .dataframe tbody tr th:only-of-type {\n",
              "        vertical-align: middle;\n",
              "    }\n",
              "\n",
              "    .dataframe tbody tr th {\n",
              "        vertical-align: top;\n",
              "    }\n",
              "\n",
              "    .dataframe thead th {\n",
              "        text-align: right;\n",
              "    }\n",
              "</style>\n",
              "<table border=\"1\" class=\"dataframe\">\n",
              "  <thead>\n",
              "    <tr style=\"text-align: right;\">\n",
              "      <th></th>\n",
              "      <th>player_name</th>\n",
              "      <th>pts</th>\n",
              "      <th>season</th>\n",
              "    </tr>\n",
              "  </thead>\n",
              "  <tbody>\n",
              "    <tr>\n",
              "      <th>4343</th>\n",
              "      <td>Kobe Bryant</td>\n",
              "      <td>35.4</td>\n",
              "      <td>2005-06</td>\n",
              "    </tr>\n",
              "  </tbody>\n",
              "</table>\n",
              "</div>"
            ],
            "text/plain": [
              "      player_name   pts   season\n",
              "4343  Kobe Bryant  35.4  2005-06"
            ]
          },
          "metadata": {
            "tags": []
          },
          "execution_count": 19
        }
      ]
    },
    {
      "cell_type": "code",
      "metadata": {
        "id": "am-3wmCArBYC",
        "colab_type": "code",
        "colab": {
          "base_uri": "https://localhost:8080/",
          "height": 34
        },
        "outputId": "3192766e-b0b8-4a2f-ffe5-a824a875170f"
      },
      "source": [
        "len(dataset3)"
      ],
      "execution_count": 20,
      "outputs": [
        {
          "output_type": "execute_result",
          "data": {
            "text/plain": [
              "1"
            ]
          },
          "metadata": {
            "tags": []
          },
          "execution_count": 20
        }
      ]
    },
    {
      "cell_type": "code",
      "metadata": {
        "id": "BABJuTXJ_X-S",
        "colab_type": "code",
        "outputId": "2ed71540-e2bd-44ee-8b27-9e1cbaac02bc",
        "colab": {
          "base_uri": "https://localhost:8080/",
          "height": 153
        }
      },
      "source": [
        "# \n",
        "# dataset1.groupby('team_abbreviation')['pts', 'reb', 'ast'].sum()\n",
        "# dataset1.groupby('season')['pts', 'reb', 'ast'].sum()\n",
        "  dataset1['player_name'] = dataset['player_name'].astype('category')\n",
        "  dataset1['player_name'].cat.categories\n",
        " # dataset1.groupby('player_name')['pts', 'reb', 'ast'].sum()"
      ],
      "execution_count": 58,
      "outputs": [
        {
          "output_type": "execute_result",
          "data": {
            "text/plain": [
              "Index(['A.C. Green', 'A.J. Bramlett', 'A.J. Guyton', 'AJ Hammons', 'AJ Price',\n",
              "       'Aaron Brooks', 'Aaron Gordon', 'Aaron Gray', 'Aaron Harrison',\n",
              "       'Aaron Jackson',\n",
              "       ...\n",
              "       'Zach Randolph', 'Zan Tabak', 'Zarko Cabarkapa', 'Zaza Pachulia',\n",
              "       'Zeljko Rebraca', 'Zendon Hamilton', 'Zhou Qi', 'Zoran Dragic',\n",
              "       'Zoran Planinic', 'Zydrunas Ilgauskas'],\n",
              "      dtype='object', length=2011)"
            ]
          },
          "metadata": {
            "tags": []
          },
          "execution_count": 58
        }
      ]
    },
    {
      "cell_type": "code",
      "metadata": {
        "id": "UAYBgqSAP8r3",
        "colab_type": "code",
        "colab": {
          "base_uri": "https://localhost:8080/",
          "height": 450
        },
        "outputId": "7dcb0906-eeea-49ed-cf8d-7ba69ab8d304"
      },
      "source": [
        "dataset1.groupby('player_name')['pts', 'reb', 'ast'].sum()"
      ],
      "execution_count": 61,
      "outputs": [
        {
          "output_type": "execute_result",
          "data": {
            "text/html": [
              "<div>\n",
              "<style scoped>\n",
              "    .dataframe tbody tr th:only-of-type {\n",
              "        vertical-align: middle;\n",
              "    }\n",
              "\n",
              "    .dataframe tbody tr th {\n",
              "        vertical-align: top;\n",
              "    }\n",
              "\n",
              "    .dataframe thead th {\n",
              "        text-align: right;\n",
              "    }\n",
              "</style>\n",
              "<table border=\"1\" class=\"dataframe\">\n",
              "  <thead>\n",
              "    <tr style=\"text-align: right;\">\n",
              "      <th></th>\n",
              "      <th>pts</th>\n",
              "      <th>reb</th>\n",
              "      <th>ast</th>\n",
              "    </tr>\n",
              "    <tr>\n",
              "      <th>player_name</th>\n",
              "      <th></th>\n",
              "      <th></th>\n",
              "      <th></th>\n",
              "    </tr>\n",
              "  </thead>\n",
              "  <tbody>\n",
              "    <tr>\n",
              "      <th>A.C. Green</th>\n",
              "      <td>28.9</td>\n",
              "      <td>30.3</td>\n",
              "      <td>4.3</td>\n",
              "    </tr>\n",
              "    <tr>\n",
              "      <th>A.J. Bramlett</th>\n",
              "      <td>1.0</td>\n",
              "      <td>2.8</td>\n",
              "      <td>0.0</td>\n",
              "    </tr>\n",
              "    <tr>\n",
              "      <th>A.J. Guyton</th>\n",
              "      <td>11.4</td>\n",
              "      <td>2.1</td>\n",
              "      <td>4.7</td>\n",
              "    </tr>\n",
              "    <tr>\n",
              "      <th>AJ Hammons</th>\n",
              "      <td>2.2</td>\n",
              "      <td>1.6</td>\n",
              "      <td>0.2</td>\n",
              "    </tr>\n",
              "    <tr>\n",
              "      <th>AJ Price</th>\n",
              "      <td>32.1</td>\n",
              "      <td>8.0</td>\n",
              "      <td>12.0</td>\n",
              "    </tr>\n",
              "    <tr>\n",
              "      <th>...</th>\n",
              "      <td>...</td>\n",
              "      <td>...</td>\n",
              "      <td>...</td>\n",
              "    </tr>\n",
              "    <tr>\n",
              "      <th>Zendon Hamilton</th>\n",
              "      <td>20.2</td>\n",
              "      <td>15.4</td>\n",
              "      <td>1.0</td>\n",
              "    </tr>\n",
              "    <tr>\n",
              "      <th>Zhou Qi</th>\n",
              "      <td>1.2</td>\n",
              "      <td>1.2</td>\n",
              "      <td>0.1</td>\n",
              "    </tr>\n",
              "    <tr>\n",
              "      <th>Zoran Dragic</th>\n",
              "      <td>1.8</td>\n",
              "      <td>0.5</td>\n",
              "      <td>0.3</td>\n",
              "    </tr>\n",
              "    <tr>\n",
              "      <th>Zoran Planinic</th>\n",
              "      <td>11.5</td>\n",
              "      <td>4.0</td>\n",
              "      <td>3.3</td>\n",
              "    </tr>\n",
              "    <tr>\n",
              "      <th>Zydrunas Ilgauskas</th>\n",
              "      <td>168.2</td>\n",
              "      <td>95.4</td>\n",
              "      <td>14.2</td>\n",
              "    </tr>\n",
              "  </tbody>\n",
              "</table>\n",
              "<p>2011 rows × 3 columns</p>\n",
              "</div>"
            ],
            "text/plain": [
              "                      pts   reb   ast\n",
              "player_name                          \n",
              "A.C. Green           28.9  30.3   4.3\n",
              "A.J. Bramlett         1.0   2.8   0.0\n",
              "A.J. Guyton          11.4   2.1   4.7\n",
              "AJ Hammons            2.2   1.6   0.2\n",
              "AJ Price             32.1   8.0  12.0\n",
              "...                   ...   ...   ...\n",
              "Zendon Hamilton      20.2  15.4   1.0\n",
              "Zhou Qi               1.2   1.2   0.1\n",
              "Zoran Dragic          1.8   0.5   0.3\n",
              "Zoran Planinic       11.5   4.0   3.3\n",
              "Zydrunas Ilgauskas  168.2  95.4  14.2\n",
              "\n",
              "[2011 rows x 3 columns]"
            ]
          },
          "metadata": {
            "tags": []
          },
          "execution_count": 61
        }
      ]
    },
    {
      "cell_type": "code",
      "metadata": {
        "id": "-tpTX7nI_0jZ",
        "colab_type": "code",
        "colab": {}
      },
      "source": [
        "# dataset1.corr(method='spearman')"
      ],
      "execution_count": 0,
      "outputs": []
    }
  ]
}