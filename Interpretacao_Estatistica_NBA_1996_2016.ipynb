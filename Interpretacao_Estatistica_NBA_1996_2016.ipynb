{
  "nbformat": 4,
  "nbformat_minor": 0,
  "metadata": {
    "colab": {
      "name": "Interpretacao_Estatistica_NBA_1996_2016.ipynb",
      "provenance": [],
      "collapsed_sections": [],
      "include_colab_link": true
    },
    "kernelspec": {
      "name": "python3",
      "display_name": "Python 3"
    }
  },
  "cells": [
    {
      "cell_type": "markdown",
      "metadata": {
        "id": "view-in-github",
        "colab_type": "text"
      },
      "source": [
        "<a href=\"https://colab.research.google.com/github/cristianosps/Introducao_Ciencia_de_Dados/blob/master/Interpretacao_Estatistica_NBA_1996_2016.ipynb\" target=\"_parent\"><img src=\"https://colab.research.google.com/assets/colab-badge.svg\" alt=\"Open In Colab\"/></a>"
      ]
    },
    {
      "cell_type": "markdown",
      "metadata": {
        "id": "uHAs3sJ390ST",
        "colab_type": "text"
      },
      "source": [
        "\n",
        "\n",
        "---\n",
        "\n",
        "#**CESAR School/ CIn-UFPE - Especialização em Análise e Engenharia de Dados**\n",
        "\n",
        "##**Projeto de Avaliação para Disciplina \"Introdução à Análise de Dados\"**\n",
        "\n",
        "###**Professor: Luciano Barbosa**\n",
        "###**Monitor: Johny Moreira**\n"
      ]
    },
    {
      "cell_type": "markdown",
      "metadata": {
        "id": "uF-RduFQCYFz",
        "colab_type": "text"
      },
      "source": [
        "###**Aluno:** Cristiano Siqueirra P. de Santana\n",
        "###**Turma:** 2019.2 **| Matrícula:** 3415\n",
        "\n",
        "---\n",
        "\n"
      ]
    },
    {
      "cell_type": "markdown",
      "metadata": {
        "id": "XqoFhh06LXGD",
        "colab_type": "text"
      },
      "source": [
        "\n",
        "\n",
        "##**1. Apresentação**\n",
        "\n",
        "Neste projeto iremos realizar a leitura de uma determinada base de dados e faremos a interpretação das informações através das técnicas de extração e visualização de dados apresentadas durante a disciplina de \"Introdução à Análise de Dados\".\n",
        "\n",
        ".\n",
        "\n",
        "Nesta base de dados estão contidas informações relecionadas a estatística e aproveitamento de cada jogador da NBA, para cada temporada que disputou entre os anos de 1996 e 2018. \n",
        "\n",
        "Por este conjunto de dados podemos obter de cada jogador que passou pela NBA, entre os anos de 1996 e 2018, informações pessoais (Idade, País de origem, Faculdade...), porte físico (Altura, Peso...), Times/ Franquias que defendeu enquanto esteve na NBA e seu aproveitamento para cada temporada que disputou da liga.\n",
        "\n",
        ".\n",
        "\n",
        "**ATENÇÃO:** Na descrição da base de dados em sua origem, conforme fonte abaixo, diz que as informações são referentes as temporadas entre os anos de 1996 e 2016, porém ao começar a explorar algumas informações categorizadas (\"draft_year\", \"sesion\") foi verificado que a base foi atualizada e agora contempla dados de cada jogador até a temporada 2017-2018 da NBA.\n",
        "\n",
        ".\n",
        "\n",
        "(**Fonte:** https://www.kaggle.com/justinas/nba-players-data#all_seasons.csv)"
      ]
    },
    {
      "cell_type": "markdown",
      "metadata": {
        "id": "-fOPSL1UKFM9",
        "colab_type": "text"
      },
      "source": [
        "\n",
        "---\n",
        "\n",
        ".\n",
        "\n",
        "##**2. Pré-processamento da Base de Dados a ser estudada neste projeto**"
      ]
    },
    {
      "cell_type": "code",
      "metadata": {
        "id": "hZDqv14InSiA",
        "colab_type": "code",
        "outputId": "599fe264-872a-442c-ee68-01181a0e7bec",
        "colab": {
          "base_uri": "https://localhost:8080/",
          "height": 309
        }
      },
      "source": [
        "# Imports das bibliotecas necessárias para desenvolvimento do Projeto\n",
        "import numpy as np      # Biblioteca de funções Numpy\n",
        "import pandas as pd     # Biblioteca de funções Pamdas\n",
        "\n",
        "# Bibliotecas para auxiliar na visualização dos dados\n",
        "import seaborn as sns   \n",
        "import matplotlib.pyplot as plt\n",
        "\n",
        "import math\n",
        "\n",
        "# Conexão com repositório da base de dados no projeto\n",
        "dataset=pd.read_csv(\"https://raw.githubusercontent.com/cristianosps/Introducao_Ciencia_de_Dados/master/all_seasons1.csv\")\n",
        "\n",
        "# Apresentação dos dados \"brutos\" do repositório\n",
        "dataset.head()\n"
      ],
      "execution_count": 178,
      "outputs": [
        {
          "output_type": "execute_result",
          "data": {
            "text/html": [
              "<div>\n",
              "<style scoped>\n",
              "    .dataframe tbody tr th:only-of-type {\n",
              "        vertical-align: middle;\n",
              "    }\n",
              "\n",
              "    .dataframe tbody tr th {\n",
              "        vertical-align: top;\n",
              "    }\n",
              "\n",
              "    .dataframe thead th {\n",
              "        text-align: right;\n",
              "    }\n",
              "</style>\n",
              "<table border=\"1\" class=\"dataframe\">\n",
              "  <thead>\n",
              "    <tr style=\"text-align: right;\">\n",
              "      <th></th>\n",
              "      <th>id</th>\n",
              "      <th>player_name</th>\n",
              "      <th>team_abbreviation</th>\n",
              "      <th>age</th>\n",
              "      <th>player_height</th>\n",
              "      <th>player_weight</th>\n",
              "      <th>college</th>\n",
              "      <th>country</th>\n",
              "      <th>draft_year</th>\n",
              "      <th>draft_round</th>\n",
              "      <th>draft_number</th>\n",
              "      <th>gp</th>\n",
              "      <th>pts</th>\n",
              "      <th>reb</th>\n",
              "      <th>ast</th>\n",
              "      <th>net_rating</th>\n",
              "      <th>oreb_pct</th>\n",
              "      <th>dreb_pct</th>\n",
              "      <th>usg_pct</th>\n",
              "      <th>ts_pct</th>\n",
              "      <th>ast_pct</th>\n",
              "      <th>season</th>\n",
              "    </tr>\n",
              "  </thead>\n",
              "  <tbody>\n",
              "    <tr>\n",
              "      <th>0</th>\n",
              "      <td>0</td>\n",
              "      <td>George Zidek</td>\n",
              "      <td>DEN</td>\n",
              "      <td>23.0</td>\n",
              "      <td>213.36</td>\n",
              "      <td>119.748288</td>\n",
              "      <td>UCLA</td>\n",
              "      <td>USA</td>\n",
              "      <td>1995</td>\n",
              "      <td>1</td>\n",
              "      <td>22</td>\n",
              "      <td>52</td>\n",
              "      <td>2.8</td>\n",
              "      <td>1.7</td>\n",
              "      <td>0.3</td>\n",
              "      <td>-14.1</td>\n",
              "      <td>0.102</td>\n",
              "      <td>0.169</td>\n",
              "      <td>0.195</td>\n",
              "      <td>0.500</td>\n",
              "      <td>0.064</td>\n",
              "      <td>1996-97</td>\n",
              "    </tr>\n",
              "    <tr>\n",
              "      <th>1</th>\n",
              "      <td>1</td>\n",
              "      <td>Darrell Armstrong</td>\n",
              "      <td>ORL</td>\n",
              "      <td>29.0</td>\n",
              "      <td>185.42</td>\n",
              "      <td>81.646560</td>\n",
              "      <td>Fayetteville State</td>\n",
              "      <td>USA</td>\n",
              "      <td>Undrafted</td>\n",
              "      <td>Undrafted</td>\n",
              "      <td>Undrafted</td>\n",
              "      <td>67</td>\n",
              "      <td>6.1</td>\n",
              "      <td>1.1</td>\n",
              "      <td>2.6</td>\n",
              "      <td>0.3</td>\n",
              "      <td>0.039</td>\n",
              "      <td>0.050</td>\n",
              "      <td>0.222</td>\n",
              "      <td>0.525</td>\n",
              "      <td>0.308</td>\n",
              "      <td>1996-97</td>\n",
              "    </tr>\n",
              "    <tr>\n",
              "      <th>2</th>\n",
              "      <td>2</td>\n",
              "      <td>Darrick Martin</td>\n",
              "      <td>LAC</td>\n",
              "      <td>26.0</td>\n",
              "      <td>180.34</td>\n",
              "      <td>77.110640</td>\n",
              "      <td>UCLA</td>\n",
              "      <td>USA</td>\n",
              "      <td>Undrafted</td>\n",
              "      <td>Undrafted</td>\n",
              "      <td>Undrafted</td>\n",
              "      <td>82</td>\n",
              "      <td>10.9</td>\n",
              "      <td>1.4</td>\n",
              "      <td>4.1</td>\n",
              "      <td>-4.5</td>\n",
              "      <td>0.016</td>\n",
              "      <td>0.060</td>\n",
              "      <td>0.232</td>\n",
              "      <td>0.539</td>\n",
              "      <td>0.292</td>\n",
              "      <td>1996-97</td>\n",
              "    </tr>\n",
              "    <tr>\n",
              "      <th>3</th>\n",
              "      <td>3</td>\n",
              "      <td>Darrin Hancock</td>\n",
              "      <td>ATL</td>\n",
              "      <td>25.0</td>\n",
              "      <td>200.66</td>\n",
              "      <td>92.986360</td>\n",
              "      <td>Kansas</td>\n",
              "      <td>USA</td>\n",
              "      <td>1994</td>\n",
              "      <td>2</td>\n",
              "      <td>38</td>\n",
              "      <td>24</td>\n",
              "      <td>1.8</td>\n",
              "      <td>0.8</td>\n",
              "      <td>0.5</td>\n",
              "      <td>-2.6</td>\n",
              "      <td>0.030</td>\n",
              "      <td>0.118</td>\n",
              "      <td>0.159</td>\n",
              "      <td>0.510</td>\n",
              "      <td>0.136</td>\n",
              "      <td>1996-97</td>\n",
              "    </tr>\n",
              "    <tr>\n",
              "      <th>4</th>\n",
              "      <td>4</td>\n",
              "      <td>Darvin Ham</td>\n",
              "      <td>IND</td>\n",
              "      <td>23.0</td>\n",
              "      <td>200.66</td>\n",
              "      <td>99.790240</td>\n",
              "      <td>Texas Tech</td>\n",
              "      <td>USA</td>\n",
              "      <td>Undrafted</td>\n",
              "      <td>Undrafted</td>\n",
              "      <td>Undrafted</td>\n",
              "      <td>36</td>\n",
              "      <td>2.3</td>\n",
              "      <td>1.6</td>\n",
              "      <td>0.4</td>\n",
              "      <td>-2.0</td>\n",
              "      <td>0.109</td>\n",
              "      <td>0.097</td>\n",
              "      <td>0.140</td>\n",
              "      <td>0.536</td>\n",
              "      <td>0.072</td>\n",
              "      <td>1996-97</td>\n",
              "    </tr>\n",
              "  </tbody>\n",
              "</table>\n",
              "</div>"
            ],
            "text/plain": [
              "   id        player_name team_abbreviation  ...  ts_pct  ast_pct   season\n",
              "0   0       George Zidek               DEN  ...   0.500    0.064  1996-97\n",
              "1   1  Darrell Armstrong               ORL  ...   0.525    0.308  1996-97\n",
              "2   2     Darrick Martin               LAC  ...   0.539    0.292  1996-97\n",
              "3   3     Darrin Hancock               ATL  ...   0.510    0.136  1996-97\n",
              "4   4         Darvin Ham               IND  ...   0.536    0.072  1996-97\n",
              "\n",
              "[5 rows x 22 columns]"
            ]
          },
          "metadata": {
            "tags": []
          },
          "execution_count": 178
        }
      ]
    },
    {
      "cell_type": "code",
      "metadata": {
        "id": "nQfRWanO0cOg",
        "colab_type": "code",
        "colab": {
          "base_uri": "https://localhost:8080/",
          "height": 476
        },
        "outputId": "873dc70a-9682-494e-b2ff-36dae6af22da"
      },
      "source": [
        "# Apresentação das informações iniciais da base de dados\n",
        "\n",
        "#  - Total de Entradas (10101)\n",
        "#    . Índices inicial e final das entradas (0 - 10100)\n",
        "#  - Toral de Colunas (22)\n",
        "#  - Lista de Coulnas (Descrição na apresentação da base de dados)\n",
        "#    . Nome da Coluna\n",
        "#    . Valore nulo (S/N)\n",
        "#    . Tipo de Dado\n",
        "\n",
        "dataset.info()"
      ],
      "execution_count": 179,
      "outputs": [
        {
          "output_type": "stream",
          "text": [
            "<class 'pandas.core.frame.DataFrame'>\n",
            "RangeIndex: 10101 entries, 0 to 10100\n",
            "Data columns (total 22 columns):\n",
            "id                   10101 non-null int64\n",
            "player_name          10101 non-null object\n",
            "team_abbreviation    10101 non-null object\n",
            "age                  10101 non-null float64\n",
            "player_height        10101 non-null float64\n",
            "player_weight        10101 non-null float64\n",
            "college              10101 non-null object\n",
            "country              10101 non-null object\n",
            "draft_year           10101 non-null object\n",
            "draft_round          10101 non-null object\n",
            "draft_number         10101 non-null object\n",
            "gp                   10101 non-null int64\n",
            "pts                  10101 non-null float64\n",
            "reb                  10101 non-null float64\n",
            "ast                  10101 non-null float64\n",
            "net_rating           10101 non-null float64\n",
            "oreb_pct             10101 non-null float64\n",
            "dreb_pct             10101 non-null float64\n",
            "usg_pct              10101 non-null float64\n",
            "ts_pct               10101 non-null float64\n",
            "ast_pct              10101 non-null float64\n",
            "season               10101 non-null object\n",
            "dtypes: float64(12), int64(2), object(8)\n",
            "memory usage: 1.7+ MB\n"
          ],
          "name": "stdout"
        }
      ]
    },
    {
      "cell_type": "code",
      "metadata": {
        "id": "0Kv3Pf3C7M0v",
        "colab_type": "code",
        "outputId": "cdda0fb2-8e9f-4ef0-8061-b7ff45a43118",
        "colab": {
          "base_uri": "https://localhost:8080/",
          "height": 408
        }
      },
      "source": [
        "# Apresentação dos tipos de dados iniciais para cada coluna da base de dados\n",
        "\n",
        "dataset.dtypes"
      ],
      "execution_count": 180,
      "outputs": [
        {
          "output_type": "execute_result",
          "data": {
            "text/plain": [
              "id                     int64\n",
              "player_name           object\n",
              "team_abbreviation     object\n",
              "age                  float64\n",
              "player_height        float64\n",
              "player_weight        float64\n",
              "college               object\n",
              "country               object\n",
              "draft_year            object\n",
              "draft_round           object\n",
              "draft_number          object\n",
              "gp                     int64\n",
              "pts                  float64\n",
              "reb                  float64\n",
              "ast                  float64\n",
              "net_rating           float64\n",
              "oreb_pct             float64\n",
              "dreb_pct             float64\n",
              "usg_pct              float64\n",
              "ts_pct               float64\n",
              "ast_pct              float64\n",
              "season                object\n",
              "dtype: object"
            ]
          },
          "metadata": {
            "tags": []
          },
          "execution_count": 180
        }
      ]
    },
    {
      "cell_type": "code",
      "metadata": {
        "id": "kDHVYnFc8-pH",
        "colab_type": "code",
        "colab": {}
      },
      "source": [
        "# Criação categorias de dados para base com o objetivo auxiliar no entendimento e extração das informações existentes\n",
        "# Colunas categorizadas: team_abbreviation | college | country | draft_year | season\n",
        "\n",
        "dataset['team_abbreviation'] = dataset['team_abbreviation'].astype('category')\n",
        "dataset['college'] = dataset['college'].astype('category')\n",
        "dataset['country'] = dataset['country'].astype('category')\n",
        "dataset['draft_year'] = dataset['draft_year'].astype('category')\n",
        "dataset['season'] = dataset['season'].astype('category')"
      ],
      "execution_count": 0,
      "outputs": []
    },
    {
      "cell_type": "code",
      "metadata": {
        "id": "sHk-6PGo_O4g",
        "colab_type": "code",
        "outputId": "f9cf02f9-e408-417d-eadd-c7dbddafa195",
        "colab": {
          "base_uri": "https://localhost:8080/",
          "height": 408
        }
      },
      "source": [
        "# Apresentação das categorias de dados criadas para base a ser estudada\n",
        "# Colunas categorizadas: team_abbreviation | college | country | draft_year | season\n",
        "\n",
        "dataset.dtypes"
      ],
      "execution_count": 182,
      "outputs": [
        {
          "output_type": "execute_result",
          "data": {
            "text/plain": [
              "id                      int64\n",
              "player_name            object\n",
              "team_abbreviation    category\n",
              "age                   float64\n",
              "player_height         float64\n",
              "player_weight         float64\n",
              "college              category\n",
              "country              category\n",
              "draft_year           category\n",
              "draft_round            object\n",
              "draft_number           object\n",
              "gp                      int64\n",
              "pts                   float64\n",
              "reb                   float64\n",
              "ast                   float64\n",
              "net_rating            float64\n",
              "oreb_pct              float64\n",
              "dreb_pct              float64\n",
              "usg_pct               float64\n",
              "ts_pct                float64\n",
              "ast_pct               float64\n",
              "season               category\n",
              "dtype: object"
            ]
          },
          "metadata": {
            "tags": []
          },
          "execution_count": 182
        }
      ]
    },
    {
      "cell_type": "code",
      "metadata": {
        "id": "HsXHT7Fg_e06",
        "colab_type": "code",
        "outputId": "d5b25fef-480e-4e8c-b384-830a3a9ec12b",
        "colab": {
          "base_uri": "https://localhost:8080/",
          "height": 102
        }
      },
      "source": [
        "# Apresetação do valores contidos na categoria \"team_abbreviation\"\n",
        "\n",
        "dataset['team_abbreviation'].cat.categories"
      ],
      "execution_count": 183,
      "outputs": [
        {
          "output_type": "execute_result",
          "data": {
            "text/plain": [
              "Index(['ATL', 'BKN', 'BOS', 'CHA', 'CHH', 'CHI', 'CLE', 'DAL', 'DEN', 'DET',\n",
              "       'GSW', 'HOU', 'IND', 'LAC', 'LAL', 'MEM', 'MIA', 'MIL', 'MIN', 'NJN',\n",
              "       'NOH', 'NOK', 'NOP', 'NYK', 'OKC', 'ORL', 'PHI', 'PHX', 'POR', 'SAC',\n",
              "       'SAS', 'SEA', 'TOR', 'UTA', 'VAN', 'WAS'],\n",
              "      dtype='object')"
            ]
          },
          "metadata": {
            "tags": []
          },
          "execution_count": 183
        }
      ]
    },
    {
      "cell_type": "code",
      "metadata": {
        "id": "uMLGUoz_CQ1i",
        "colab_type": "code",
        "outputId": "7d7f5126-4d6d-4d7f-e8a0-e7a5cb6a3e17",
        "colab": {
          "base_uri": "https://localhost:8080/",
          "height": 153
        }
      },
      "source": [
        "# Apresetação do valores contidos na categoria \"college\"\n",
        "\n",
        "dataset['college'].cat.categories"
      ],
      "execution_count": 184,
      "outputs": [
        {
          "output_type": "execute_result",
          "data": {
            "text/plain": [
              "Index(['Alabama', 'Alabama A&M', 'Alabama-Birmingham', 'Alabama-Huntsville',\n",
              "       'Albany State (GA)', 'American', 'American International', 'Arizona',\n",
              "       'Arizona State', 'Arkansas',\n",
              "       ...\n",
              "       'William Paterson', 'Wingate', 'Wisconsin', 'Wisconsin-Green Bay',\n",
              "       'Wisconsin-Stevens Point', 'Wright State', 'Wyoming', 'Xavier', 'Yale',\n",
              "       'Yonsei (KOR)'],\n",
              "      dtype='object', length=298)"
            ]
          },
          "metadata": {
            "tags": []
          },
          "execution_count": 184
        }
      ]
    },
    {
      "cell_type": "code",
      "metadata": {
        "id": "lbV5ffJiCzXh",
        "colab_type": "code",
        "outputId": "26437712-594b-4b3d-e210-ee36d12e2ac6",
        "colab": {
          "base_uri": "https://localhost:8080/",
          "height": 272
        }
      },
      "source": [
        "# Apresetação do valores contidos na categoria \"country\"\n",
        "\n",
        "dataset['country'].cat.categories"
      ],
      "execution_count": 185,
      "outputs": [
        {
          "output_type": "execute_result",
          "data": {
            "text/plain": [
              "Index(['Argentina', 'Australia', 'Austria', 'Bahamas', 'Belize', 'Bosnia',\n",
              "       'Bosnia & Herzegovina', 'Bosnia and Herzegovina', 'Brazil',\n",
              "       'Cabo Verde', 'Cameroon', 'Canada', 'China', 'Congo', 'Croatia',\n",
              "       'Czech Republic', 'Democratic Republic of the Congo',\n",
              "       'Dominican Republic', 'Egypt', 'England', 'Finland', 'France', 'Gabon',\n",
              "       'Georgia', 'Germany', 'Ghana', 'Great Britain', 'Greece', 'Haiti',\n",
              "       'Iran', 'Ireland', 'Israel', 'Italy', 'Jamaica', 'Latvia', 'Lithuania',\n",
              "       'Macedonia', 'Mali', 'Mexico', 'Montenegro', 'Netherlands',\n",
              "       'New Zealand', 'Nigeria', 'Panama', 'Poland', 'Puerto Rico', 'Russia',\n",
              "       'Scotland', 'Senegal', 'Serbia', 'Serbia and Montenegro', 'Slovenia',\n",
              "       'South Korea', 'South Sudan', 'Spain', 'St. Vincent & Grenadines',\n",
              "       'Sudan (UK)', 'Sweden', 'Switzerland', 'Tanzania', 'Tunisia', 'Turkey',\n",
              "       'U.S. Virgin Islands', 'US Virgin Islands', 'USA', 'USSR', 'Ukraine',\n",
              "       'United Kingdom', 'Uruguay', 'Venezuela', 'Yugoslavia'],\n",
              "      dtype='object')"
            ]
          },
          "metadata": {
            "tags": []
          },
          "execution_count": 185
        }
      ]
    },
    {
      "cell_type": "code",
      "metadata": {
        "id": "GeaxS3MmDADc",
        "colab_type": "code",
        "outputId": "96b92308-8331-48ab-98de-f723822c81f8",
        "colab": {
          "base_uri": "https://localhost:8080/",
          "height": 119
        }
      },
      "source": [
        "# Apresetação do valores contidos na categoria \"draft_year\"\n",
        "\n",
        "dataset['draft_year'].cat.categories"
      ],
      "execution_count": 186,
      "outputs": [
        {
          "output_type": "execute_result",
          "data": {
            "text/plain": [
              "Index(['1963', '1976', '1978', '1979', '1980', '1981', '1982', '1983', '1984',\n",
              "       '1985', '1986', '1987', '1988', '1989', '1990', '1991', '1992', '1993',\n",
              "       '1994', '1995', '1996', '1997', '1998', '1999', '2000', '2001', '2002',\n",
              "       '2003', '2004', '2005', '2006', '2007', '2008', '2009', '2010', '2011',\n",
              "       '2012', '2013', '2014', '2015', '2016', '2017', 'Undrafted'],\n",
              "      dtype='object')"
            ]
          },
          "metadata": {
            "tags": []
          },
          "execution_count": 186
        }
      ]
    },
    {
      "cell_type": "code",
      "metadata": {
        "id": "AFtkRkN0DP-5",
        "colab_type": "code",
        "outputId": "ed60988d-ff36-4c35-e5dd-d8b70deaa000",
        "colab": {
          "base_uri": "https://localhost:8080/",
          "height": 102
        }
      },
      "source": [
        "# Apresetação do valores contidos na categoria \"season\"\n",
        "\n",
        "dataset['season'].cat.categories"
      ],
      "execution_count": 187,
      "outputs": [
        {
          "output_type": "execute_result",
          "data": {
            "text/plain": [
              "Index(['1996-97', '1997-98', '1998-99', '1999-00', '2000-01', '2001-02',\n",
              "       '2002-03', '2003-04', '2004-05', '2005-06', '2006-07', '2007-08',\n",
              "       '2008-09', '2009-10', '2010-11', '2011-12', '2012-13', '2013-14',\n",
              "       '2014-15', '2015-16', '2016-17', '2017-18'],\n",
              "      dtype='object')"
            ]
          },
          "metadata": {
            "tags": []
          },
          "execution_count": 187
        }
      ]
    },
    {
      "cell_type": "code",
      "metadata": {
        "id": "NtevuI6cFF2b",
        "colab_type": "code",
        "outputId": "44a411c1-ae35-4dfe-a8f0-8c034e108aad",
        "colab": {
          "base_uri": "https://localhost:8080/",
          "height": 309
        }
      },
      "source": [
        "# Apresetação dos dados do repositório após categorização da Base de Dados\n",
        "# Colunas categorizadas: team_abbreviation | college | country | draft_year | season\n",
        "\n",
        "dataset.head()"
      ],
      "execution_count": 188,
      "outputs": [
        {
          "output_type": "execute_result",
          "data": {
            "text/html": [
              "<div>\n",
              "<style scoped>\n",
              "    .dataframe tbody tr th:only-of-type {\n",
              "        vertical-align: middle;\n",
              "    }\n",
              "\n",
              "    .dataframe tbody tr th {\n",
              "        vertical-align: top;\n",
              "    }\n",
              "\n",
              "    .dataframe thead th {\n",
              "        text-align: right;\n",
              "    }\n",
              "</style>\n",
              "<table border=\"1\" class=\"dataframe\">\n",
              "  <thead>\n",
              "    <tr style=\"text-align: right;\">\n",
              "      <th></th>\n",
              "      <th>id</th>\n",
              "      <th>player_name</th>\n",
              "      <th>team_abbreviation</th>\n",
              "      <th>age</th>\n",
              "      <th>player_height</th>\n",
              "      <th>player_weight</th>\n",
              "      <th>college</th>\n",
              "      <th>country</th>\n",
              "      <th>draft_year</th>\n",
              "      <th>draft_round</th>\n",
              "      <th>draft_number</th>\n",
              "      <th>gp</th>\n",
              "      <th>pts</th>\n",
              "      <th>reb</th>\n",
              "      <th>ast</th>\n",
              "      <th>net_rating</th>\n",
              "      <th>oreb_pct</th>\n",
              "      <th>dreb_pct</th>\n",
              "      <th>usg_pct</th>\n",
              "      <th>ts_pct</th>\n",
              "      <th>ast_pct</th>\n",
              "      <th>season</th>\n",
              "    </tr>\n",
              "  </thead>\n",
              "  <tbody>\n",
              "    <tr>\n",
              "      <th>0</th>\n",
              "      <td>0</td>\n",
              "      <td>George Zidek</td>\n",
              "      <td>DEN</td>\n",
              "      <td>23.0</td>\n",
              "      <td>213.36</td>\n",
              "      <td>119.748288</td>\n",
              "      <td>UCLA</td>\n",
              "      <td>USA</td>\n",
              "      <td>1995</td>\n",
              "      <td>1</td>\n",
              "      <td>22</td>\n",
              "      <td>52</td>\n",
              "      <td>2.8</td>\n",
              "      <td>1.7</td>\n",
              "      <td>0.3</td>\n",
              "      <td>-14.1</td>\n",
              "      <td>0.102</td>\n",
              "      <td>0.169</td>\n",
              "      <td>0.195</td>\n",
              "      <td>0.500</td>\n",
              "      <td>0.064</td>\n",
              "      <td>1996-97</td>\n",
              "    </tr>\n",
              "    <tr>\n",
              "      <th>1</th>\n",
              "      <td>1</td>\n",
              "      <td>Darrell Armstrong</td>\n",
              "      <td>ORL</td>\n",
              "      <td>29.0</td>\n",
              "      <td>185.42</td>\n",
              "      <td>81.646560</td>\n",
              "      <td>Fayetteville State</td>\n",
              "      <td>USA</td>\n",
              "      <td>Undrafted</td>\n",
              "      <td>Undrafted</td>\n",
              "      <td>Undrafted</td>\n",
              "      <td>67</td>\n",
              "      <td>6.1</td>\n",
              "      <td>1.1</td>\n",
              "      <td>2.6</td>\n",
              "      <td>0.3</td>\n",
              "      <td>0.039</td>\n",
              "      <td>0.050</td>\n",
              "      <td>0.222</td>\n",
              "      <td>0.525</td>\n",
              "      <td>0.308</td>\n",
              "      <td>1996-97</td>\n",
              "    </tr>\n",
              "    <tr>\n",
              "      <th>2</th>\n",
              "      <td>2</td>\n",
              "      <td>Darrick Martin</td>\n",
              "      <td>LAC</td>\n",
              "      <td>26.0</td>\n",
              "      <td>180.34</td>\n",
              "      <td>77.110640</td>\n",
              "      <td>UCLA</td>\n",
              "      <td>USA</td>\n",
              "      <td>Undrafted</td>\n",
              "      <td>Undrafted</td>\n",
              "      <td>Undrafted</td>\n",
              "      <td>82</td>\n",
              "      <td>10.9</td>\n",
              "      <td>1.4</td>\n",
              "      <td>4.1</td>\n",
              "      <td>-4.5</td>\n",
              "      <td>0.016</td>\n",
              "      <td>0.060</td>\n",
              "      <td>0.232</td>\n",
              "      <td>0.539</td>\n",
              "      <td>0.292</td>\n",
              "      <td>1996-97</td>\n",
              "    </tr>\n",
              "    <tr>\n",
              "      <th>3</th>\n",
              "      <td>3</td>\n",
              "      <td>Darrin Hancock</td>\n",
              "      <td>ATL</td>\n",
              "      <td>25.0</td>\n",
              "      <td>200.66</td>\n",
              "      <td>92.986360</td>\n",
              "      <td>Kansas</td>\n",
              "      <td>USA</td>\n",
              "      <td>1994</td>\n",
              "      <td>2</td>\n",
              "      <td>38</td>\n",
              "      <td>24</td>\n",
              "      <td>1.8</td>\n",
              "      <td>0.8</td>\n",
              "      <td>0.5</td>\n",
              "      <td>-2.6</td>\n",
              "      <td>0.030</td>\n",
              "      <td>0.118</td>\n",
              "      <td>0.159</td>\n",
              "      <td>0.510</td>\n",
              "      <td>0.136</td>\n",
              "      <td>1996-97</td>\n",
              "    </tr>\n",
              "    <tr>\n",
              "      <th>4</th>\n",
              "      <td>4</td>\n",
              "      <td>Darvin Ham</td>\n",
              "      <td>IND</td>\n",
              "      <td>23.0</td>\n",
              "      <td>200.66</td>\n",
              "      <td>99.790240</td>\n",
              "      <td>Texas Tech</td>\n",
              "      <td>USA</td>\n",
              "      <td>Undrafted</td>\n",
              "      <td>Undrafted</td>\n",
              "      <td>Undrafted</td>\n",
              "      <td>36</td>\n",
              "      <td>2.3</td>\n",
              "      <td>1.6</td>\n",
              "      <td>0.4</td>\n",
              "      <td>-2.0</td>\n",
              "      <td>0.109</td>\n",
              "      <td>0.097</td>\n",
              "      <td>0.140</td>\n",
              "      <td>0.536</td>\n",
              "      <td>0.072</td>\n",
              "      <td>1996-97</td>\n",
              "    </tr>\n",
              "  </tbody>\n",
              "</table>\n",
              "</div>"
            ],
            "text/plain": [
              "   id        player_name team_abbreviation  ...  ts_pct  ast_pct   season\n",
              "0   0       George Zidek               DEN  ...   0.500    0.064  1996-97\n",
              "1   1  Darrell Armstrong               ORL  ...   0.525    0.308  1996-97\n",
              "2   2     Darrick Martin               LAC  ...   0.539    0.292  1996-97\n",
              "3   3     Darrin Hancock               ATL  ...   0.510    0.136  1996-97\n",
              "4   4         Darvin Ham               IND  ...   0.536    0.072  1996-97\n",
              "\n",
              "[5 rows x 22 columns]"
            ]
          },
          "metadata": {
            "tags": []
          },
          "execution_count": 188
        }
      ]
    },
    {
      "cell_type": "code",
      "metadata": {
        "id": "AqqvbL27EJbV",
        "colab_type": "code",
        "outputId": "17438f49-9a88-4bca-f69e-41d950bc5ed3",
        "colab": {
          "base_uri": "https://localhost:8080/",
          "height": 34
        }
      },
      "source": [
        "# Verificação do tamanho da base de dados a ser estudada [Número de entradas, Número de colunas/ Variáveis]\n",
        "\n",
        "dataset.shape"
      ],
      "execution_count": 189,
      "outputs": [
        {
          "output_type": "execute_result",
          "data": {
            "text/plain": [
              "(10101, 22)"
            ]
          },
          "metadata": {
            "tags": []
          },
          "execution_count": 189
        }
      ]
    },
    {
      "cell_type": "code",
      "metadata": {
        "id": "7pWm-8quFSet",
        "colab_type": "code",
        "outputId": "ea96bcec-d8e5-4e05-cce7-80c6fca01004",
        "colab": {
          "base_uri": "https://localhost:8080/",
          "height": 408
        }
      },
      "source": [
        "# Verificação de valores nulos dentre as colunas da base de dados\n",
        "# Base de dados bem concistente e com suas informações preenchidas para o período, sem a necessidade de remoção de colunas\n",
        "\n",
        "print(dataset.isnull().sum())"
      ],
      "execution_count": 190,
      "outputs": [
        {
          "output_type": "stream",
          "text": [
            "id                   0\n",
            "player_name          0\n",
            "team_abbreviation    0\n",
            "age                  0\n",
            "player_height        0\n",
            "player_weight        0\n",
            "college              0\n",
            "country              0\n",
            "draft_year           0\n",
            "draft_round          0\n",
            "draft_number         0\n",
            "gp                   0\n",
            "pts                  0\n",
            "reb                  0\n",
            "ast                  0\n",
            "net_rating           0\n",
            "oreb_pct             0\n",
            "dreb_pct             0\n",
            "usg_pct              0\n",
            "ts_pct               0\n",
            "ast_pct              0\n",
            "season               0\n",
            "dtype: int64\n"
          ],
          "name": "stdout"
        }
      ]
    },
    {
      "cell_type": "code",
      "metadata": {
        "id": "P6QYBQeFFqZR",
        "colab_type": "code",
        "outputId": "f184c69f-da4f-43b3-9b4c-e0157fb4e33f",
        "colab": {
          "base_uri": "https://localhost:8080/",
          "height": 309
        }
      },
      "source": [
        "# Caso houvesse linhas(s) a ser(em) removida(s) o comando abaixo seria responsável por realizar o ajuste da base de dados\n",
        "\n",
        "dataset1 = dataset.dropna(thresh=0.75*len(dataset), axis=1)\n",
        "dataset1.head()"
      ],
      "execution_count": 191,
      "outputs": [
        {
          "output_type": "execute_result",
          "data": {
            "text/html": [
              "<div>\n",
              "<style scoped>\n",
              "    .dataframe tbody tr th:only-of-type {\n",
              "        vertical-align: middle;\n",
              "    }\n",
              "\n",
              "    .dataframe tbody tr th {\n",
              "        vertical-align: top;\n",
              "    }\n",
              "\n",
              "    .dataframe thead th {\n",
              "        text-align: right;\n",
              "    }\n",
              "</style>\n",
              "<table border=\"1\" class=\"dataframe\">\n",
              "  <thead>\n",
              "    <tr style=\"text-align: right;\">\n",
              "      <th></th>\n",
              "      <th>id</th>\n",
              "      <th>player_name</th>\n",
              "      <th>team_abbreviation</th>\n",
              "      <th>age</th>\n",
              "      <th>player_height</th>\n",
              "      <th>player_weight</th>\n",
              "      <th>college</th>\n",
              "      <th>country</th>\n",
              "      <th>draft_year</th>\n",
              "      <th>draft_round</th>\n",
              "      <th>draft_number</th>\n",
              "      <th>gp</th>\n",
              "      <th>pts</th>\n",
              "      <th>reb</th>\n",
              "      <th>ast</th>\n",
              "      <th>net_rating</th>\n",
              "      <th>oreb_pct</th>\n",
              "      <th>dreb_pct</th>\n",
              "      <th>usg_pct</th>\n",
              "      <th>ts_pct</th>\n",
              "      <th>ast_pct</th>\n",
              "      <th>season</th>\n",
              "    </tr>\n",
              "  </thead>\n",
              "  <tbody>\n",
              "    <tr>\n",
              "      <th>0</th>\n",
              "      <td>0</td>\n",
              "      <td>George Zidek</td>\n",
              "      <td>DEN</td>\n",
              "      <td>23.0</td>\n",
              "      <td>213.36</td>\n",
              "      <td>119.748288</td>\n",
              "      <td>UCLA</td>\n",
              "      <td>USA</td>\n",
              "      <td>1995</td>\n",
              "      <td>1</td>\n",
              "      <td>22</td>\n",
              "      <td>52</td>\n",
              "      <td>2.8</td>\n",
              "      <td>1.7</td>\n",
              "      <td>0.3</td>\n",
              "      <td>-14.1</td>\n",
              "      <td>0.102</td>\n",
              "      <td>0.169</td>\n",
              "      <td>0.195</td>\n",
              "      <td>0.500</td>\n",
              "      <td>0.064</td>\n",
              "      <td>1996-97</td>\n",
              "    </tr>\n",
              "    <tr>\n",
              "      <th>1</th>\n",
              "      <td>1</td>\n",
              "      <td>Darrell Armstrong</td>\n",
              "      <td>ORL</td>\n",
              "      <td>29.0</td>\n",
              "      <td>185.42</td>\n",
              "      <td>81.646560</td>\n",
              "      <td>Fayetteville State</td>\n",
              "      <td>USA</td>\n",
              "      <td>Undrafted</td>\n",
              "      <td>Undrafted</td>\n",
              "      <td>Undrafted</td>\n",
              "      <td>67</td>\n",
              "      <td>6.1</td>\n",
              "      <td>1.1</td>\n",
              "      <td>2.6</td>\n",
              "      <td>0.3</td>\n",
              "      <td>0.039</td>\n",
              "      <td>0.050</td>\n",
              "      <td>0.222</td>\n",
              "      <td>0.525</td>\n",
              "      <td>0.308</td>\n",
              "      <td>1996-97</td>\n",
              "    </tr>\n",
              "    <tr>\n",
              "      <th>2</th>\n",
              "      <td>2</td>\n",
              "      <td>Darrick Martin</td>\n",
              "      <td>LAC</td>\n",
              "      <td>26.0</td>\n",
              "      <td>180.34</td>\n",
              "      <td>77.110640</td>\n",
              "      <td>UCLA</td>\n",
              "      <td>USA</td>\n",
              "      <td>Undrafted</td>\n",
              "      <td>Undrafted</td>\n",
              "      <td>Undrafted</td>\n",
              "      <td>82</td>\n",
              "      <td>10.9</td>\n",
              "      <td>1.4</td>\n",
              "      <td>4.1</td>\n",
              "      <td>-4.5</td>\n",
              "      <td>0.016</td>\n",
              "      <td>0.060</td>\n",
              "      <td>0.232</td>\n",
              "      <td>0.539</td>\n",
              "      <td>0.292</td>\n",
              "      <td>1996-97</td>\n",
              "    </tr>\n",
              "    <tr>\n",
              "      <th>3</th>\n",
              "      <td>3</td>\n",
              "      <td>Darrin Hancock</td>\n",
              "      <td>ATL</td>\n",
              "      <td>25.0</td>\n",
              "      <td>200.66</td>\n",
              "      <td>92.986360</td>\n",
              "      <td>Kansas</td>\n",
              "      <td>USA</td>\n",
              "      <td>1994</td>\n",
              "      <td>2</td>\n",
              "      <td>38</td>\n",
              "      <td>24</td>\n",
              "      <td>1.8</td>\n",
              "      <td>0.8</td>\n",
              "      <td>0.5</td>\n",
              "      <td>-2.6</td>\n",
              "      <td>0.030</td>\n",
              "      <td>0.118</td>\n",
              "      <td>0.159</td>\n",
              "      <td>0.510</td>\n",
              "      <td>0.136</td>\n",
              "      <td>1996-97</td>\n",
              "    </tr>\n",
              "    <tr>\n",
              "      <th>4</th>\n",
              "      <td>4</td>\n",
              "      <td>Darvin Ham</td>\n",
              "      <td>IND</td>\n",
              "      <td>23.0</td>\n",
              "      <td>200.66</td>\n",
              "      <td>99.790240</td>\n",
              "      <td>Texas Tech</td>\n",
              "      <td>USA</td>\n",
              "      <td>Undrafted</td>\n",
              "      <td>Undrafted</td>\n",
              "      <td>Undrafted</td>\n",
              "      <td>36</td>\n",
              "      <td>2.3</td>\n",
              "      <td>1.6</td>\n",
              "      <td>0.4</td>\n",
              "      <td>-2.0</td>\n",
              "      <td>0.109</td>\n",
              "      <td>0.097</td>\n",
              "      <td>0.140</td>\n",
              "      <td>0.536</td>\n",
              "      <td>0.072</td>\n",
              "      <td>1996-97</td>\n",
              "    </tr>\n",
              "  </tbody>\n",
              "</table>\n",
              "</div>"
            ],
            "text/plain": [
              "   id        player_name team_abbreviation  ...  ts_pct  ast_pct   season\n",
              "0   0       George Zidek               DEN  ...   0.500    0.064  1996-97\n",
              "1   1  Darrell Armstrong               ORL  ...   0.525    0.308  1996-97\n",
              "2   2     Darrick Martin               LAC  ...   0.539    0.292  1996-97\n",
              "3   3     Darrin Hancock               ATL  ...   0.510    0.136  1996-97\n",
              "4   4         Darvin Ham               IND  ...   0.536    0.072  1996-97\n",
              "\n",
              "[5 rows x 22 columns]"
            ]
          },
          "metadata": {
            "tags": []
          },
          "execution_count": 191
        }
      ]
    },
    {
      "cell_type": "code",
      "metadata": {
        "id": "jrCYRuHPGIhi",
        "colab_type": "code",
        "outputId": "1507cb9e-0134-467c-a19a-7a12f0cbda00",
        "colab": {
          "base_uri": "https://localhost:8080/",
          "height": 34
        }
      },
      "source": [
        "# Verificação da quantidade de entradas da base de dados a ser estudada \n",
        "#<Não houve a exclusão de nenhuma linha do Dataset> \n",
        "\n",
        "len(dataset1)"
      ],
      "execution_count": 192,
      "outputs": [
        {
          "output_type": "execute_result",
          "data": {
            "text/plain": [
              "10101"
            ]
          },
          "metadata": {
            "tags": []
          },
          "execution_count": 192
        }
      ]
    },
    {
      "cell_type": "code",
      "metadata": {
        "id": "czfFDH8V7Te2",
        "colab_type": "code",
        "colab": {
          "base_uri": "https://localhost:8080/",
          "height": 204
        },
        "outputId": "b4ef202f-e24e-4753-df76-c584913b217c"
      },
      "source": [
        "# Continuando os ajustes para Base de Dados a ser trabalhada no DataFrame.\n",
        "\n",
        "# Foi verificada durante o desenvolvimento do projeto a necessidade da EXCLUSÃO da seguintes colunas:\n",
        "\n",
        "#   . draft_year\n",
        "#   . draft_round\n",
        "#   . draft_number\n",
        "#   . net_rating\n",
        "#   . oreb_pct\n",
        "#   . dreb_pct\n",
        "#   . usg_pct\n",
        "#   . ts_pct\n",
        "#   . ast_pct\n",
        "\n",
        "dataset1 = dataset1.drop(columns=['draft_year',\t'draft_round',\t'draft_number','net_rating','oreb_pct','dreb_pct','usg_pct','ts_pct','ast_pct'], axis=1)\n",
        "dataset1.head()\n"
      ],
      "execution_count": 193,
      "outputs": [
        {
          "output_type": "execute_result",
          "data": {
            "text/html": [
              "<div>\n",
              "<style scoped>\n",
              "    .dataframe tbody tr th:only-of-type {\n",
              "        vertical-align: middle;\n",
              "    }\n",
              "\n",
              "    .dataframe tbody tr th {\n",
              "        vertical-align: top;\n",
              "    }\n",
              "\n",
              "    .dataframe thead th {\n",
              "        text-align: right;\n",
              "    }\n",
              "</style>\n",
              "<table border=\"1\" class=\"dataframe\">\n",
              "  <thead>\n",
              "    <tr style=\"text-align: right;\">\n",
              "      <th></th>\n",
              "      <th>id</th>\n",
              "      <th>player_name</th>\n",
              "      <th>team_abbreviation</th>\n",
              "      <th>age</th>\n",
              "      <th>player_height</th>\n",
              "      <th>player_weight</th>\n",
              "      <th>college</th>\n",
              "      <th>country</th>\n",
              "      <th>gp</th>\n",
              "      <th>pts</th>\n",
              "      <th>reb</th>\n",
              "      <th>ast</th>\n",
              "      <th>season</th>\n",
              "    </tr>\n",
              "  </thead>\n",
              "  <tbody>\n",
              "    <tr>\n",
              "      <th>0</th>\n",
              "      <td>0</td>\n",
              "      <td>George Zidek</td>\n",
              "      <td>DEN</td>\n",
              "      <td>23.0</td>\n",
              "      <td>213.36</td>\n",
              "      <td>119.748288</td>\n",
              "      <td>UCLA</td>\n",
              "      <td>USA</td>\n",
              "      <td>52</td>\n",
              "      <td>2.8</td>\n",
              "      <td>1.7</td>\n",
              "      <td>0.3</td>\n",
              "      <td>1996-97</td>\n",
              "    </tr>\n",
              "    <tr>\n",
              "      <th>1</th>\n",
              "      <td>1</td>\n",
              "      <td>Darrell Armstrong</td>\n",
              "      <td>ORL</td>\n",
              "      <td>29.0</td>\n",
              "      <td>185.42</td>\n",
              "      <td>81.646560</td>\n",
              "      <td>Fayetteville State</td>\n",
              "      <td>USA</td>\n",
              "      <td>67</td>\n",
              "      <td>6.1</td>\n",
              "      <td>1.1</td>\n",
              "      <td>2.6</td>\n",
              "      <td>1996-97</td>\n",
              "    </tr>\n",
              "    <tr>\n",
              "      <th>2</th>\n",
              "      <td>2</td>\n",
              "      <td>Darrick Martin</td>\n",
              "      <td>LAC</td>\n",
              "      <td>26.0</td>\n",
              "      <td>180.34</td>\n",
              "      <td>77.110640</td>\n",
              "      <td>UCLA</td>\n",
              "      <td>USA</td>\n",
              "      <td>82</td>\n",
              "      <td>10.9</td>\n",
              "      <td>1.4</td>\n",
              "      <td>4.1</td>\n",
              "      <td>1996-97</td>\n",
              "    </tr>\n",
              "    <tr>\n",
              "      <th>3</th>\n",
              "      <td>3</td>\n",
              "      <td>Darrin Hancock</td>\n",
              "      <td>ATL</td>\n",
              "      <td>25.0</td>\n",
              "      <td>200.66</td>\n",
              "      <td>92.986360</td>\n",
              "      <td>Kansas</td>\n",
              "      <td>USA</td>\n",
              "      <td>24</td>\n",
              "      <td>1.8</td>\n",
              "      <td>0.8</td>\n",
              "      <td>0.5</td>\n",
              "      <td>1996-97</td>\n",
              "    </tr>\n",
              "    <tr>\n",
              "      <th>4</th>\n",
              "      <td>4</td>\n",
              "      <td>Darvin Ham</td>\n",
              "      <td>IND</td>\n",
              "      <td>23.0</td>\n",
              "      <td>200.66</td>\n",
              "      <td>99.790240</td>\n",
              "      <td>Texas Tech</td>\n",
              "      <td>USA</td>\n",
              "      <td>36</td>\n",
              "      <td>2.3</td>\n",
              "      <td>1.6</td>\n",
              "      <td>0.4</td>\n",
              "      <td>1996-97</td>\n",
              "    </tr>\n",
              "  </tbody>\n",
              "</table>\n",
              "</div>"
            ],
            "text/plain": [
              "   id        player_name team_abbreviation   age  ...   pts  reb  ast   season\n",
              "0   0       George Zidek               DEN  23.0  ...   2.8  1.7  0.3  1996-97\n",
              "1   1  Darrell Armstrong               ORL  29.0  ...   6.1  1.1  2.6  1996-97\n",
              "2   2     Darrick Martin               LAC  26.0  ...  10.9  1.4  4.1  1996-97\n",
              "3   3     Darrin Hancock               ATL  25.0  ...   1.8  0.8  0.5  1996-97\n",
              "4   4         Darvin Ham               IND  23.0  ...   2.3  1.6  0.4  1996-97\n",
              "\n",
              "[5 rows x 13 columns]"
            ]
          },
          "metadata": {
            "tags": []
          },
          "execution_count": 193
        }
      ]
    },
    {
      "cell_type": "code",
      "metadata": {
        "id": "ghI4IPQLGisf",
        "colab_type": "code",
        "colab": {
          "base_uri": "https://localhost:8080/",
          "height": 49
        },
        "outputId": "a717757a-7783-4798-bc1e-ac7b519f51cd"
      },
      "source": [
        "# Visualizando de possíveis dados duplicados para Base de Dados\n",
        "# A base de dados utilizada não precisará ser alterada/ manipulada por conter dados duplicados, preservando assim a quantidade de registros\n",
        "\n",
        "dataset1[dataset1.duplicated(keep=False)]"
      ],
      "execution_count": 194,
      "outputs": [
        {
          "output_type": "execute_result",
          "data": {
            "text/html": [
              "<div>\n",
              "<style scoped>\n",
              "    .dataframe tbody tr th:only-of-type {\n",
              "        vertical-align: middle;\n",
              "    }\n",
              "\n",
              "    .dataframe tbody tr th {\n",
              "        vertical-align: top;\n",
              "    }\n",
              "\n",
              "    .dataframe thead th {\n",
              "        text-align: right;\n",
              "    }\n",
              "</style>\n",
              "<table border=\"1\" class=\"dataframe\">\n",
              "  <thead>\n",
              "    <tr style=\"text-align: right;\">\n",
              "      <th></th>\n",
              "      <th>id</th>\n",
              "      <th>player_name</th>\n",
              "      <th>team_abbreviation</th>\n",
              "      <th>age</th>\n",
              "      <th>player_height</th>\n",
              "      <th>player_weight</th>\n",
              "      <th>college</th>\n",
              "      <th>country</th>\n",
              "      <th>gp</th>\n",
              "      <th>pts</th>\n",
              "      <th>reb</th>\n",
              "      <th>ast</th>\n",
              "      <th>season</th>\n",
              "    </tr>\n",
              "  </thead>\n",
              "  <tbody>\n",
              "  </tbody>\n",
              "</table>\n",
              "</div>"
            ],
            "text/plain": [
              "Empty DataFrame\n",
              "Columns: [id, player_name, team_abbreviation, age, player_height, player_weight, college, country, gp, pts, reb, ast, season]\n",
              "Index: []"
            ]
          },
          "metadata": {
            "tags": []
          },
          "execution_count": 194
        }
      ]
    },
    {
      "cell_type": "code",
      "metadata": {
        "id": "a0aFCWnqfoE3",
        "colab_type": "code",
        "colab": {}
      },
      "source": [
        "# Caso houvesse necessidade excluir dados duplicados poderíamos fazer a alteração/ manipulação para ajustar a Base de Dados\n",
        "\n",
        "dataset1.drop_duplicates(inplace=True)\n"
      ],
      "execution_count": 0,
      "outputs": []
    },
    {
      "cell_type": "code",
      "metadata": {
        "id": "qlqaWtAefvXe",
        "colab_type": "code",
        "colab": {
          "base_uri": "https://localhost:8080/",
          "height": 323
        },
        "outputId": "8d4b68ed-eb1d-4fb4-f8cf-bc56481dfc2e"
      },
      "source": [
        "# Definição do NOVO Dataset a ser utilizado para extração e análise das informações da Base de Dados após ajustes\n",
        "\n",
        "dataset1.info()"
      ],
      "execution_count": 196,
      "outputs": [
        {
          "output_type": "stream",
          "text": [
            "<class 'pandas.core.frame.DataFrame'>\n",
            "Int64Index: 10101 entries, 0 to 10100\n",
            "Data columns (total 13 columns):\n",
            "id                   10101 non-null int64\n",
            "player_name          10101 non-null object\n",
            "team_abbreviation    10101 non-null category\n",
            "age                  10101 non-null float64\n",
            "player_height        10101 non-null float64\n",
            "player_weight        10101 non-null float64\n",
            "college              10101 non-null category\n",
            "country              10101 non-null category\n",
            "gp                   10101 non-null int64\n",
            "pts                  10101 non-null float64\n",
            "reb                  10101 non-null float64\n",
            "ast                  10101 non-null float64\n",
            "season               10101 non-null category\n",
            "dtypes: category(4), float64(6), int64(2), object(1)\n",
            "memory usage: 856.2+ KB\n"
          ],
          "name": "stdout"
        }
      ]
    },
    {
      "cell_type": "markdown",
      "metadata": {
        "id": "md9mEX8J6ttj",
        "colab_type": "text"
      },
      "source": [
        "**PS:** Como verificado durante a preparação, **a base de dados é concistente e com suas informações totalmente preenchidas para o período a ser estudado. Não haverá a necessidade de inserção/ inclusão de dados ausentes**."
      ]
    },
    {
      "cell_type": "code",
      "metadata": {
        "id": "FUW0BmFrV6Ni",
        "colab_type": "code",
        "colab": {
          "base_uri": "https://localhost:8080/",
          "height": 297
        },
        "outputId": "92f422e7-28b3-46e3-8be5-b66129356812"
      },
      "source": [
        "# Informações gerais da distribuição do Dados. \n",
        "# A partir dos dados carregados através de DataFrame teremos o Número de entradas, Média, Desvio Padrão, Valores mínimo/ máximo e Quartis\n",
        "\n",
        "dataset1.describe()"
      ],
      "execution_count": 197,
      "outputs": [
        {
          "output_type": "execute_result",
          "data": {
            "text/html": [
              "<div>\n",
              "<style scoped>\n",
              "    .dataframe tbody tr th:only-of-type {\n",
              "        vertical-align: middle;\n",
              "    }\n",
              "\n",
              "    .dataframe tbody tr th {\n",
              "        vertical-align: top;\n",
              "    }\n",
              "\n",
              "    .dataframe thead th {\n",
              "        text-align: right;\n",
              "    }\n",
              "</style>\n",
              "<table border=\"1\" class=\"dataframe\">\n",
              "  <thead>\n",
              "    <tr style=\"text-align: right;\">\n",
              "      <th></th>\n",
              "      <th>id</th>\n",
              "      <th>age</th>\n",
              "      <th>player_height</th>\n",
              "      <th>player_weight</th>\n",
              "      <th>gp</th>\n",
              "      <th>pts</th>\n",
              "      <th>reb</th>\n",
              "      <th>ast</th>\n",
              "    </tr>\n",
              "  </thead>\n",
              "  <tbody>\n",
              "    <tr>\n",
              "      <th>count</th>\n",
              "      <td>10101.000000</td>\n",
              "      <td>10101.000000</td>\n",
              "      <td>10101.000000</td>\n",
              "      <td>10101.000000</td>\n",
              "      <td>10101.000000</td>\n",
              "      <td>10101.000000</td>\n",
              "      <td>10101.000000</td>\n",
              "      <td>10101.000000</td>\n",
              "    </tr>\n",
              "    <tr>\n",
              "      <th>mean</th>\n",
              "      <td>5050.000000</td>\n",
              "      <td>27.292644</td>\n",
              "      <td>200.926942</td>\n",
              "      <td>100.860155</td>\n",
              "      <td>52.820513</td>\n",
              "      <td>8.075507</td>\n",
              "      <td>3.555153</td>\n",
              "      <td>1.790080</td>\n",
              "    </tr>\n",
              "    <tr>\n",
              "      <th>std</th>\n",
              "      <td>2916.051869</td>\n",
              "      <td>4.345829</td>\n",
              "      <td>9.245615</td>\n",
              "      <td>12.718714</td>\n",
              "      <td>25.048016</td>\n",
              "      <td>5.891083</td>\n",
              "      <td>2.490504</td>\n",
              "      <td>1.789905</td>\n",
              "    </tr>\n",
              "    <tr>\n",
              "      <th>min</th>\n",
              "      <td>0.000000</td>\n",
              "      <td>18.000000</td>\n",
              "      <td>160.020000</td>\n",
              "      <td>60.327736</td>\n",
              "      <td>1.000000</td>\n",
              "      <td>0.000000</td>\n",
              "      <td>0.000000</td>\n",
              "      <td>0.000000</td>\n",
              "    </tr>\n",
              "    <tr>\n",
              "      <th>25%</th>\n",
              "      <td>2525.000000</td>\n",
              "      <td>24.000000</td>\n",
              "      <td>195.580000</td>\n",
              "      <td>90.718400</td>\n",
              "      <td>33.000000</td>\n",
              "      <td>3.500000</td>\n",
              "      <td>1.800000</td>\n",
              "      <td>0.500000</td>\n",
              "    </tr>\n",
              "    <tr>\n",
              "      <th>50%</th>\n",
              "      <td>5050.000000</td>\n",
              "      <td>27.000000</td>\n",
              "      <td>203.200000</td>\n",
              "      <td>100.243832</td>\n",
              "      <td>59.000000</td>\n",
              "      <td>6.600000</td>\n",
              "      <td>3.000000</td>\n",
              "      <td>1.200000</td>\n",
              "    </tr>\n",
              "    <tr>\n",
              "      <th>75%</th>\n",
              "      <td>7575.000000</td>\n",
              "      <td>30.000000</td>\n",
              "      <td>208.280000</td>\n",
              "      <td>110.676448</td>\n",
              "      <td>75.000000</td>\n",
              "      <td>11.400000</td>\n",
              "      <td>4.700000</td>\n",
              "      <td>2.400000</td>\n",
              "    </tr>\n",
              "    <tr>\n",
              "      <th>max</th>\n",
              "      <td>10100.000000</td>\n",
              "      <td>44.000000</td>\n",
              "      <td>231.140000</td>\n",
              "      <td>163.293120</td>\n",
              "      <td>85.000000</td>\n",
              "      <td>35.400000</td>\n",
              "      <td>16.300000</td>\n",
              "      <td>11.700000</td>\n",
              "    </tr>\n",
              "  </tbody>\n",
              "</table>\n",
              "</div>"
            ],
            "text/plain": [
              "                 id           age  ...           reb           ast\n",
              "count  10101.000000  10101.000000  ...  10101.000000  10101.000000\n",
              "mean    5050.000000     27.292644  ...      3.555153      1.790080\n",
              "std     2916.051869      4.345829  ...      2.490504      1.789905\n",
              "min        0.000000     18.000000  ...      0.000000      0.000000\n",
              "25%     2525.000000     24.000000  ...      1.800000      0.500000\n",
              "50%     5050.000000     27.000000  ...      3.000000      1.200000\n",
              "75%     7575.000000     30.000000  ...      4.700000      2.400000\n",
              "max    10100.000000     44.000000  ...     16.300000     11.700000\n",
              "\n",
              "[8 rows x 8 columns]"
            ]
          },
          "metadata": {
            "tags": []
          },
          "execution_count": 197
        }
      ]
    },
    {
      "cell_type": "markdown",
      "metadata": {
        "id": "HkeKbh6bEK_j",
        "colab_type": "text"
      },
      "source": [
        "### **Normalização**"
      ]
    },
    {
      "cell_type": "code",
      "metadata": {
        "id": "N8cNHzbGGSiT",
        "colab_type": "code",
        "colab": {
          "base_uri": "https://localhost:8080/",
          "height": 170
        },
        "outputId": "165b00ba-029e-4a24-8331-671fa0f5cfcd"
      },
      "source": [
        "# NORMALIZAÇÃO: As colunas 'pts', 'reb', 'ast' serão normalizadas:\n",
        "\n",
        "# Referência para utlização de recursos para Normalização e Discretização \n",
        "from sklearn.preprocessing import StandardScaler, MinMaxScaler\n",
        "\n",
        "\n",
        "# ['PST'] : Média de PONTOS por temporada de um jogador da NBA\n",
        "dataset1['pts'].describe()"
      ],
      "execution_count": 198,
      "outputs": [
        {
          "output_type": "execute_result",
          "data": {
            "text/plain": [
              "count    10101.000000\n",
              "mean         8.075507\n",
              "std          5.891083\n",
              "min          0.000000\n",
              "25%          3.500000\n",
              "50%          6.600000\n",
              "75%         11.400000\n",
              "max         35.400000\n",
              "Name: pts, dtype: float64"
            ]
          },
          "metadata": {
            "tags": []
          },
          "execution_count": 198
        }
      ]
    },
    {
      "cell_type": "code",
      "metadata": {
        "id": "7uq0ALv6IXp0",
        "colab_type": "code",
        "colab": {
          "base_uri": "https://localhost:8080/",
          "height": 170
        },
        "outputId": "afab2eb0-3c2c-4c80-dab9-f29fc135c0b9"
      },
      "source": [
        "# [PTS - NORMALIZAÇÃO] : Resultado da NORMALIZAÇÃO da coluna 'pts'\n",
        "scaler = MinMaxScaler()\n",
        "dataset1['pts_normal'] = scaler.fit_transform(dataset1[['pts']])\n",
        "dataset1['pts_normal'].describe()"
      ],
      "execution_count": 199,
      "outputs": [
        {
          "output_type": "execute_result",
          "data": {
            "text/plain": [
              "count    10101.000000\n",
              "mean         0.228122\n",
              "std          0.166415\n",
              "min          0.000000\n",
              "25%          0.098870\n",
              "50%          0.186441\n",
              "75%          0.322034\n",
              "max          1.000000\n",
              "Name: pts_normal, dtype: float64"
            ]
          },
          "metadata": {
            "tags": []
          },
          "execution_count": 199
        }
      ]
    },
    {
      "cell_type": "code",
      "metadata": {
        "id": "XyBI39IqJzjO",
        "colab_type": "code",
        "colab": {
          "base_uri": "https://localhost:8080/",
          "height": 170
        },
        "outputId": "7f6f60e4-481f-487d-f607-048b9cac9a0b"
      },
      "source": [
        "# [PST - DESVIO PADRÃO] : Resultado após aplicar o DESVIO PADRÃO para coluna 'pts'\n",
        "scaler = StandardScaler()\n",
        "dataset1['pts_normal'] = scaler.fit_transform(dataset1[['pts']])\n",
        "dataset1['pts_normal'].describe()"
      ],
      "execution_count": 200,
      "outputs": [
        {
          "output_type": "execute_result",
          "data": {
            "text/plain": [
              "count    1.010100e+04\n",
              "mean     1.601201e-16\n",
              "std      1.000050e+00\n",
              "min     -1.370870e+00\n",
              "25%     -7.767220e-01\n",
              "50%     -2.504769e-01\n",
              "75%      5.643541e-01\n",
              "max      4.638509e+00\n",
              "Name: pts_normal, dtype: float64"
            ]
          },
          "metadata": {
            "tags": []
          },
          "execution_count": 200
        }
      ]
    },
    {
      "cell_type": "code",
      "metadata": {
        "id": "1ACHTB-Ed1EY",
        "colab_type": "code",
        "colab": {
          "base_uri": "https://localhost:8080/",
          "height": 170
        },
        "outputId": "410ab39d-7bb2-460a-e998-47cda633ebbd"
      },
      "source": [
        "\n",
        "\n",
        "# ['REB'] : Média de REBOTES por temporada de um jogador da NBA\n",
        "dataset1['reb'].describe()"
      ],
      "execution_count": 201,
      "outputs": [
        {
          "output_type": "execute_result",
          "data": {
            "text/plain": [
              "count    10101.000000\n",
              "mean         3.555153\n",
              "std          2.490504\n",
              "min          0.000000\n",
              "25%          1.800000\n",
              "50%          3.000000\n",
              "75%          4.700000\n",
              "max         16.300000\n",
              "Name: reb, dtype: float64"
            ]
          },
          "metadata": {
            "tags": []
          },
          "execution_count": 201
        }
      ]
    },
    {
      "cell_type": "code",
      "metadata": {
        "id": "rfq90qjbfuY2",
        "colab_type": "code",
        "colab": {
          "base_uri": "https://localhost:8080/",
          "height": 170
        },
        "outputId": "bd72f541-aa5a-43d5-b9ff-50fd0328567e"
      },
      "source": [
        "# [REB - NORMALIZAÇÃO] : Resultado da NORMALIZAÇÃO da coluna 'reb'\n",
        "scaler = MinMaxScaler()\n",
        "dataset1['reb_normal'] = scaler.fit_transform(dataset1[['reb']])\n",
        "dataset1['reb_normal'].describe()"
      ],
      "execution_count": 202,
      "outputs": [
        {
          "output_type": "execute_result",
          "data": {
            "text/plain": [
              "count    10101.000000\n",
              "mean         0.218108\n",
              "std          0.152792\n",
              "min          0.000000\n",
              "25%          0.110429\n",
              "50%          0.184049\n",
              "75%          0.288344\n",
              "max          1.000000\n",
              "Name: reb_normal, dtype: float64"
            ]
          },
          "metadata": {
            "tags": []
          },
          "execution_count": 202
        }
      ]
    },
    {
      "cell_type": "code",
      "metadata": {
        "id": "E-MTie3i1CCk",
        "colab_type": "code",
        "colab": {
          "base_uri": "https://localhost:8080/",
          "height": 170
        },
        "outputId": "b1eb8f8d-004a-4f7e-bf5c-fc70287253da"
      },
      "source": [
        "# [REB - DESVIO PADRÃO] : Resultado após aplicar o DESVIO PADRÃO para coluna 'reb'\n",
        "scaler = StandardScaler()\n",
        "dataset1['reb_normal'] = scaler.fit_transform(dataset1[['reb']])\n",
        "dataset1['reb_normal'].describe()"
      ],
      "execution_count": 203,
      "outputs": [
        {
          "output_type": "execute_result",
          "data": {
            "text/plain": [
              "count    1.010100e+04\n",
              "mean     4.294269e-17\n",
              "std      1.000050e+00\n",
              "min     -1.427554e+00\n",
              "25%     -7.047729e-01\n",
              "50%     -2.229189e-01\n",
              "75%      4.597076e-01\n",
              "max      5.117630e+00\n",
              "Name: reb_normal, dtype: float64"
            ]
          },
          "metadata": {
            "tags": []
          },
          "execution_count": 203
        }
      ]
    },
    {
      "cell_type": "code",
      "metadata": {
        "id": "GcmGFDJ6eJXM",
        "colab_type": "code",
        "colab": {
          "base_uri": "https://localhost:8080/",
          "height": 170
        },
        "outputId": "cd433cfd-43c6-4c48-e6fd-b569ea674de5"
      },
      "source": [
        "\n",
        "\n",
        "# [AST]: Média de ASSISTÊNCIAS por temporada de um jogador da NBA\n",
        "dataset1['ast'].describe()"
      ],
      "execution_count": 204,
      "outputs": [
        {
          "output_type": "execute_result",
          "data": {
            "text/plain": [
              "count    10101.000000\n",
              "mean         1.790080\n",
              "std          1.789905\n",
              "min          0.000000\n",
              "25%          0.500000\n",
              "50%          1.200000\n",
              "75%          2.400000\n",
              "max         11.700000\n",
              "Name: ast, dtype: float64"
            ]
          },
          "metadata": {
            "tags": []
          },
          "execution_count": 204
        }
      ]
    },
    {
      "cell_type": "code",
      "metadata": {
        "id": "0cX0i0d9g2Tu",
        "colab_type": "code",
        "colab": {
          "base_uri": "https://localhost:8080/",
          "height": 170
        },
        "outputId": "66b917be-f619-4b73-b6a7-7731d9e36a20"
      },
      "source": [
        "# [AST - NORMALIZAÇÃO] : Resultado da NORMALIZAÇÃO da coluna 'ast'\n",
        "scaler = MinMaxScaler()\n",
        "dataset1['ast_normal'] = scaler.fit_transform(dataset1[['ast']])\n",
        "dataset1['ast_normal'].describe()"
      ],
      "execution_count": 205,
      "outputs": [
        {
          "output_type": "execute_result",
          "data": {
            "text/plain": [
              "count    10101.000000\n",
              "mean         0.152998\n",
              "std          0.152983\n",
              "min          0.000000\n",
              "25%          0.042735\n",
              "50%          0.102564\n",
              "75%          0.205128\n",
              "max          1.000000\n",
              "Name: ast_normal, dtype: float64"
            ]
          },
          "metadata": {
            "tags": []
          },
          "execution_count": 205
        }
      ]
    },
    {
      "cell_type": "code",
      "metadata": {
        "id": "EIMqH7-D1jl2",
        "colab_type": "code",
        "colab": {
          "base_uri": "https://localhost:8080/",
          "height": 170
        },
        "outputId": "00926a6e-3f0d-4689-8ad5-2a5ac7efb585"
      },
      "source": [
        "# [AST - DESVIO PADRÃO] : Resultado após aplicar o DESVIO PADRÃO para coluna 'ast'\n",
        "scaler = StandardScaler()\n",
        "dataset1['ast_normal'] = scaler.fit_transform(dataset1[['ast']])\n",
        "dataset1['ast_normal'].describe()"
      ],
      "execution_count": 206,
      "outputs": [
        {
          "output_type": "execute_result",
          "data": {
            "text/plain": [
              "count    1.010100e+04\n",
              "mean     8.442355e-17\n",
              "std      1.000050e+00\n",
              "min     -1.000148e+00\n",
              "25%     -7.207892e-01\n",
              "50%     -3.296876e-01\n",
              "75%      3.407723e-01\n",
              "max      5.536837e+00\n",
              "Name: ast_normal, dtype: float64"
            ]
          },
          "metadata": {
            "tags": []
          },
          "execution_count": 206
        }
      ]
    },
    {
      "cell_type": "markdown",
      "metadata": {
        "id": "1KGM21UpOK6K",
        "colab_type": "text"
      },
      "source": [
        "### **Discretização**"
      ]
    },
    {
      "cell_type": "code",
      "metadata": {
        "id": "w1eHgLCWOJ9V",
        "colab_type": "code",
        "colab": {
          "base_uri": "https://localhost:8080/",
          "height": 289
        },
        "outputId": "a0cdb629-5db1-4382-d8bd-0c1b8e4935de"
      },
      "source": [
        "# discretização pts...\n",
        " dataset1['pts_disct'] = pd.cut(dataset1['pts'], 15)\n",
        " dataset1['pts_disct'].value_counts()\n"
      ],
      "execution_count": 207,
      "outputs": [
        {
          "output_type": "execute_result",
          "data": {
            "text/plain": [
              "(2.36, 4.72]       2155\n",
              "(4.72, 7.08]       1713\n",
              "(-0.0354, 2.36]    1477\n",
              "(7.08, 9.44]       1369\n",
              "(9.44, 11.8]        989\n",
              "(11.8, 14.16]       818\n",
              "(14.16, 16.52]      534\n",
              "(16.52, 18.88]      402\n",
              "(18.88, 21.24]      293\n",
              "(21.24, 23.6]       171\n",
              "(23.6, 25.96]        86\n",
              "(25.96, 28.32]       62\n",
              "(28.32, 30.68]       22\n",
              "(30.68, 33.04]        9\n",
              "(33.04, 35.4]         1\n",
              "Name: pts_disct, dtype: int64"
            ]
          },
          "metadata": {
            "tags": []
          },
          "execution_count": 207
        }
      ]
    },
    {
      "cell_type": "code",
      "metadata": {
        "id": "bvzU_3tKi8kt",
        "colab_type": "code",
        "colab": {
          "base_uri": "https://localhost:8080/",
          "height": 564
        },
        "outputId": "6e85c6dc-8512-4968-bed8-0eca957af186"
      },
      "source": [
        "# gráfico pst...\n",
        "counts = dataset1['pts_disct'].value_counts()\n",
        "counts.plot.bar(figsize=(18,8))"
      ],
      "execution_count": 208,
      "outputs": [
        {
          "output_type": "execute_result",
          "data": {
            "text/plain": [
              "<matplotlib.axes._subplots.AxesSubplot at 0x7f31f33d9630>"
            ]
          },
          "metadata": {
            "tags": []
          },
          "execution_count": 208
        },
        {
          "output_type": "display_data",
          "data": {
            "image/png": "[encoded data removed]",
            "text/plain": [
              "<Figure size 1296x576 with 1 Axes>"
            ]
          },
          "metadata": {
            "tags": []
          }
        }
      ]
    },
    {
      "cell_type": "code",
      "metadata": {
        "id": "SjwzIhoLaTv7",
        "colab_type": "code",
        "colab": {
          "base_uri": "https://localhost:8080/",
          "height": 204
        },
        "outputId": "656230c2-d848-4dce-f249-09e896f1812b"
      },
      "source": [
        "# discretização reb...\n",
        " dataset1['reb_disct'] = pd.cut(dataset1['reb'], 10)\n",
        " dataset1['reb_disct'].value_counts()"
      ],
      "execution_count": 209,
      "outputs": [
        {
          "output_type": "execute_result",
          "data": {
            "text/plain": [
              "(1.63, 3.26]       3311\n",
              "(-0.0163, 1.63]    2275\n",
              "(3.26, 4.89]       2120\n",
              "(4.89, 6.52]       1161\n",
              "(6.52, 8.15]        597\n",
              "(8.15, 9.78]        338\n",
              "(9.78, 11.41]       196\n",
              "(11.41, 13.04]       67\n",
              "(13.04, 14.67]       27\n",
              "(14.67, 16.3]         9\n",
              "Name: reb_disct, dtype: int64"
            ]
          },
          "metadata": {
            "tags": []
          },
          "execution_count": 209
        }
      ]
    },
    {
      "cell_type": "code",
      "metadata": {
        "id": "-8Wmj91j2gCx",
        "colab_type": "code",
        "colab": {
          "base_uri": "https://localhost:8080/",
          "height": 564
        },
        "outputId": "1f82278d-d941-4ea6-cb6a-bde3c2b77ae9"
      },
      "source": [
        "# gráfico reb...\n",
        "counts = dataset1['reb_disct'].value_counts()\n",
        "counts.plot.bar(figsize=(18,8))"
      ],
      "execution_count": 210,
      "outputs": [
        {
          "output_type": "execute_result",
          "data": {
            "text/plain": [
              "<matplotlib.axes._subplots.AxesSubplot at 0x7f31f33c5860>"
            ]
          },
          "metadata": {
            "tags": []
          },
          "execution_count": 210
        },
        {
          "output_type": "display_data",
          "data": {
            "image/png": "[encoded data removed]",
            "text/plain": [
              "<Figure size 1296x576 with 1 Axes>"
            ]
          },
          "metadata": {
            "tags": []
          }
        }
      ]
    },
    {
      "cell_type": "code",
      "metadata": {
        "id": "S08M-YIic4XH",
        "colab_type": "code",
        "colab": {
          "base_uri": "https://localhost:8080/",
          "height": 204
        },
        "outputId": "3b4d0666-47dd-46b6-e28d-5a56ce17bef0"
      },
      "source": [
        "# discretização ast...\n",
        " dataset1['ast_disct'] = pd.cut(dataset1['ast'],10)\n",
        " dataset1['ast_disct'].value_counts()"
      ],
      "execution_count": 211,
      "outputs": [
        {
          "output_type": "execute_result",
          "data": {
            "text/plain": [
              "(-0.0117, 1.17]    4914\n",
              "(1.17, 2.34]       2578\n",
              "(2.34, 3.51]       1240\n",
              "(3.51, 4.68]        562\n",
              "(4.68, 5.85]        374\n",
              "(5.85, 7.02]        211\n",
              "(7.02, 8.19]         97\n",
              "(8.19, 9.36]         79\n",
              "(9.36, 10.53]        26\n",
              "(10.53, 11.7]        20\n",
              "Name: ast_disct, dtype: int64"
            ]
          },
          "metadata": {
            "tags": []
          },
          "execution_count": 211
        }
      ]
    },
    {
      "cell_type": "code",
      "metadata": {
        "id": "5YoNyqOR2-Lo",
        "colab_type": "code",
        "colab": {
          "base_uri": "https://localhost:8080/",
          "height": 565
        },
        "outputId": "c8f897dd-2685-4ec5-8dac-8c53e3eab2ac"
      },
      "source": [
        "# gráfico ast...\n",
        "counts = dataset1['ast_disct'].value_counts()\n",
        "counts.plot.bar(figsize=(18,8))"
      ],
      "execution_count": 212,
      "outputs": [
        {
          "output_type": "execute_result",
          "data": {
            "text/plain": [
              "<matplotlib.axes._subplots.AxesSubplot at 0x7f31f2fa02b0>"
            ]
          },
          "metadata": {
            "tags": []
          },
          "execution_count": 212
        },
        {
          "output_type": "display_data",
          "data": {
            "image/png": "[encoded data removed]",
            "text/plain": [
              "<Figure size 1296x576 with 1 Axes>"
            ]
          },
          "metadata": {
            "tags": []
          }
        }
      ]
    },
    {
      "cell_type": "markdown",
      "metadata": {
        "id": "hLG1Zw-PBAyJ",
        "colab_type": "text"
      },
      "source": [
        "##**Apresentação e Visualização de Estatística Descritiva dos Dados**"
      ]
    },
    {
      "cell_type": "markdown",
      "metadata": {
        "id": "DMbjfrqd4Kb3",
        "colab_type": "text"
      },
      "source": [
        "### **Estatísticas Univariadas**"
      ]
    },
    {
      "cell_type": "code",
      "metadata": {
        "id": "W2LDSs2xTOZ-",
        "colab_type": "code",
        "colab": {
          "base_uri": "https://localhost:8080/",
          "height": 34
        },
        "outputId": "4c45b101-b5a6-42e4-b7ea-0ee6757e6751"
      },
      "source": [
        "# [MÉDIA DE PONTOS] : Média de pontos \"GERAL\" por jogador da NBA entre os anos de 1996 e 2018\n",
        "dataset1['pts'].mean()\n"
      ],
      "execution_count": 213,
      "outputs": [
        {
          "output_type": "execute_result",
          "data": {
            "text/plain": [
              "8.075507375507375"
            ]
          },
          "metadata": {
            "tags": []
          },
          "execution_count": 213
        }
      ]
    },
    {
      "cell_type": "code",
      "metadata": {
        "id": "oA6FqKQ5BHgI",
        "colab_type": "code",
        "colab": {
          "base_uri": "https://localhost:8080/",
          "height": 762
        },
        "outputId": "7455ba92-c840-4f70-a518-1facc10d69fb"
      },
      "source": [
        "# [MÉDIA DE PONTOS] : Média de Pontos por Jogador da NBA em determinada Temporada, considerando que o atleta disputou pelo menos um jogo pela liga\n",
        "\n",
        "# season: Temporada de referência\n",
        "# gp : Média de partidas de um jogador na temporada \n",
        "# pts: Média de pontos de um jogador na temporada\n",
        "# reb: Média de rebotes de um jogador na temporada\n",
        "# ast: Média de assitências de um jogador na temporada  \n",
        "# age: Média de idade de um jogador na temporada\n",
        "# player_height: Média de altura de um jogador na temporada\n",
        "# player_weight: Média de peso de um jogador na temporada\n",
        "\n",
        "dataset1[(dataset1['gp']>0)].groupby('season')['season','gp','pts','reb','ast', 'age', 'player_height', 'player_weight'].mean()"
      ],
      "execution_count": 214,
      "outputs": [
        {
          "output_type": "execute_result",
          "data": {
            "text/html": [
              "<div>\n",
              "<style scoped>\n",
              "    .dataframe tbody tr th:only-of-type {\n",
              "        vertical-align: middle;\n",
              "    }\n",
              "\n",
              "    .dataframe tbody tr th {\n",
              "        vertical-align: top;\n",
              "    }\n",
              "\n",
              "    .dataframe thead th {\n",
              "        text-align: right;\n",
              "    }\n",
              "</style>\n",
              "<table border=\"1\" class=\"dataframe\">\n",
              "  <thead>\n",
              "    <tr style=\"text-align: right;\">\n",
              "      <th></th>\n",
              "      <th>gp</th>\n",
              "      <th>pts</th>\n",
              "      <th>reb</th>\n",
              "      <th>ast</th>\n",
              "      <th>age</th>\n",
              "      <th>player_height</th>\n",
              "      <th>player_weight</th>\n",
              "    </tr>\n",
              "    <tr>\n",
              "      <th>season</th>\n",
              "      <th></th>\n",
              "      <th></th>\n",
              "      <th></th>\n",
              "      <th></th>\n",
              "      <th></th>\n",
              "      <th></th>\n",
              "      <th></th>\n",
              "    </tr>\n",
              "  </thead>\n",
              "  <tbody>\n",
              "    <tr>\n",
              "      <th>1996-97</th>\n",
              "      <td>53.870748</td>\n",
              "      <td>8.026077</td>\n",
              "      <td>3.546485</td>\n",
              "      <td>1.821088</td>\n",
              "      <td>27.963719</td>\n",
              "      <td>200.994830</td>\n",
              "      <td>100.526270</td>\n",
              "    </tr>\n",
              "    <tr>\n",
              "      <th>1997-98</th>\n",
              "      <td>54.671982</td>\n",
              "      <td>7.947608</td>\n",
              "      <td>3.516401</td>\n",
              "      <td>1.819818</td>\n",
              "      <td>28.084282</td>\n",
              "      <td>200.619499</td>\n",
              "      <td>100.265530</td>\n",
              "    </tr>\n",
              "    <tr>\n",
              "      <th>1998-99</th>\n",
              "      <td>33.974943</td>\n",
              "      <td>7.358542</td>\n",
              "      <td>3.421412</td>\n",
              "      <td>1.653759</td>\n",
              "      <td>28.002278</td>\n",
              "      <td>200.903007</td>\n",
              "      <td>100.639563</td>\n",
              "    </tr>\n",
              "    <tr>\n",
              "      <th>1999-00</th>\n",
              "      <td>55.458904</td>\n",
              "      <td>7.985845</td>\n",
              "      <td>3.652055</td>\n",
              "      <td>1.851370</td>\n",
              "      <td>28.107306</td>\n",
              "      <td>200.920959</td>\n",
              "      <td>100.735741</td>\n",
              "    </tr>\n",
              "    <tr>\n",
              "      <th>2000-01</th>\n",
              "      <td>54.356009</td>\n",
              "      <td>7.811338</td>\n",
              "      <td>3.619048</td>\n",
              "      <td>1.823583</td>\n",
              "      <td>28.097506</td>\n",
              "      <td>200.752154</td>\n",
              "      <td>100.842450</td>\n",
              "    </tr>\n",
              "    <tr>\n",
              "      <th>2001-02</th>\n",
              "      <td>54.334091</td>\n",
              "      <td>7.982727</td>\n",
              "      <td>3.633636</td>\n",
              "      <td>1.841136</td>\n",
              "      <td>27.672727</td>\n",
              "      <td>201.017909</td>\n",
              "      <td>101.288124</td>\n",
              "    </tr>\n",
              "    <tr>\n",
              "      <th>2002-03</th>\n",
              "      <td>55.932243</td>\n",
              "      <td>7.849299</td>\n",
              "      <td>3.593692</td>\n",
              "      <td>1.782944</td>\n",
              "      <td>27.530374</td>\n",
              "      <td>201.520514</td>\n",
              "      <td>102.032765</td>\n",
              "    </tr>\n",
              "    <tr>\n",
              "      <th>2003-04</th>\n",
              "      <td>54.056561</td>\n",
              "      <td>7.745475</td>\n",
              "      <td>3.583484</td>\n",
              "      <td>1.758597</td>\n",
              "      <td>27.457014</td>\n",
              "      <td>201.315113</td>\n",
              "      <td>101.635395</td>\n",
              "    </tr>\n",
              "    <tr>\n",
              "      <th>2004-05</th>\n",
              "      <td>53.778017</td>\n",
              "      <td>8.088147</td>\n",
              "      <td>3.577802</td>\n",
              "      <td>1.774138</td>\n",
              "      <td>27.297414</td>\n",
              "      <td>201.245733</td>\n",
              "      <td>101.697477</td>\n",
              "    </tr>\n",
              "    <tr>\n",
              "      <th>2005-06</th>\n",
              "      <td>54.399563</td>\n",
              "      <td>7.982533</td>\n",
              "      <td>3.483406</td>\n",
              "      <td>1.689083</td>\n",
              "      <td>26.890830</td>\n",
              "      <td>200.920655</td>\n",
              "      <td>101.340178</td>\n",
              "    </tr>\n",
              "    <tr>\n",
              "      <th>2006-07</th>\n",
              "      <td>54.772926</td>\n",
              "      <td>8.208734</td>\n",
              "      <td>3.503057</td>\n",
              "      <td>1.766157</td>\n",
              "      <td>26.858079</td>\n",
              "      <td>200.704367</td>\n",
              "      <td>101.329284</td>\n",
              "    </tr>\n",
              "    <tr>\n",
              "      <th>2007-08</th>\n",
              "      <td>55.177384</td>\n",
              "      <td>8.267184</td>\n",
              "      <td>3.578049</td>\n",
              "      <td>1.818847</td>\n",
              "      <td>27.192905</td>\n",
              "      <td>200.851486</td>\n",
              "      <td>100.941821</td>\n",
              "    </tr>\n",
              "    <tr>\n",
              "      <th>2008-09</th>\n",
              "      <td>55.346067</td>\n",
              "      <td>8.503820</td>\n",
              "      <td>3.620000</td>\n",
              "      <td>1.771910</td>\n",
              "      <td>26.943820</td>\n",
              "      <td>201.196539</td>\n",
              "      <td>101.393611</td>\n",
              "    </tr>\n",
              "    <tr>\n",
              "      <th>2009-10</th>\n",
              "      <td>56.133484</td>\n",
              "      <td>8.571719</td>\n",
              "      <td>3.657692</td>\n",
              "      <td>1.804977</td>\n",
              "      <td>27.079186</td>\n",
              "      <td>200.866878</td>\n",
              "      <td>101.161278</td>\n",
              "    </tr>\n",
              "    <tr>\n",
              "      <th>2010-11</th>\n",
              "      <td>55.648230</td>\n",
              "      <td>8.206195</td>\n",
              "      <td>3.553982</td>\n",
              "      <td>1.767699</td>\n",
              "      <td>27.134956</td>\n",
              "      <td>201.210708</td>\n",
              "      <td>101.647759</td>\n",
              "    </tr>\n",
              "    <tr>\n",
              "      <th>2011-12</th>\n",
              "      <td>43.426778</td>\n",
              "      <td>7.928870</td>\n",
              "      <td>3.562552</td>\n",
              "      <td>1.746234</td>\n",
              "      <td>27.089958</td>\n",
              "      <td>200.824728</td>\n",
              "      <td>101.058969</td>\n",
              "    </tr>\n",
              "    <tr>\n",
              "      <th>2012-13</th>\n",
              "      <td>54.918977</td>\n",
              "      <td>7.957996</td>\n",
              "      <td>3.522388</td>\n",
              "      <td>1.808529</td>\n",
              "      <td>27.066098</td>\n",
              "      <td>200.762900</td>\n",
              "      <td>100.886018</td>\n",
              "    </tr>\n",
              "    <tr>\n",
              "      <th>2013-14</th>\n",
              "      <td>53.149378</td>\n",
              "      <td>8.090249</td>\n",
              "      <td>3.523859</td>\n",
              "      <td>1.780498</td>\n",
              "      <td>26.962656</td>\n",
              "      <td>200.765394</td>\n",
              "      <td>100.555324</td>\n",
              "    </tr>\n",
              "    <tr>\n",
              "      <th>2014-15</th>\n",
              "      <td>52.806911</td>\n",
              "      <td>8.122561</td>\n",
              "      <td>3.543293</td>\n",
              "      <td>1.819512</td>\n",
              "      <td>26.981707</td>\n",
              "      <td>200.832602</td>\n",
              "      <td>100.452413</td>\n",
              "    </tr>\n",
              "    <tr>\n",
              "      <th>2015-16</th>\n",
              "      <td>54.785714</td>\n",
              "      <td>8.349370</td>\n",
              "      <td>3.620588</td>\n",
              "      <td>1.826261</td>\n",
              "      <td>27.052521</td>\n",
              "      <td>200.948151</td>\n",
              "      <td>100.414405</td>\n",
              "    </tr>\n",
              "    <tr>\n",
              "      <th>2016-17</th>\n",
              "      <td>53.781893</td>\n",
              "      <td>8.426749</td>\n",
              "      <td>3.565226</td>\n",
              "      <td>1.830247</td>\n",
              "      <td>26.847737</td>\n",
              "      <td>200.910864</td>\n",
              "      <td>99.845306</td>\n",
              "    </tr>\n",
              "    <tr>\n",
              "      <th>2017-18</th>\n",
              "      <td>48.340741</td>\n",
              "      <td>8.160926</td>\n",
              "      <td>3.377963</td>\n",
              "      <td>1.817778</td>\n",
              "      <td>26.522222</td>\n",
              "      <td>200.457741</td>\n",
              "      <td>98.811657</td>\n",
              "    </tr>\n",
              "  </tbody>\n",
              "</table>\n",
              "</div>"
            ],
            "text/plain": [
              "                gp       pts       reb  ...        age  player_height  player_weight\n",
              "season                                  ...                                         \n",
              "1996-97  53.870748  8.026077  3.546485  ...  27.963719     200.994830     100.526270\n",
              "1997-98  54.671982  7.947608  3.516401  ...  28.084282     200.619499     100.265530\n",
              "1998-99  33.974943  7.358542  3.421412  ...  28.002278     200.903007     100.639563\n",
              "1999-00  55.458904  7.985845  3.652055  ...  28.107306     200.920959     100.735741\n",
              "2000-01  54.356009  7.811338  3.619048  ...  28.097506     200.752154     100.842450\n",
              "2001-02  54.334091  7.982727  3.633636  ...  27.672727     201.017909     101.288124\n",
              "2002-03  55.932243  7.849299  3.593692  ...  27.530374     201.520514     102.032765\n",
              "2003-04  54.056561  7.745475  3.583484  ...  27.457014     201.315113     101.635395\n",
              "2004-05  53.778017  8.088147  3.577802  ...  27.297414     201.245733     101.697477\n",
              "2005-06  54.399563  7.982533  3.483406  ...  26.890830     200.920655     101.340178\n",
              "2006-07  54.772926  8.208734  3.503057  ...  26.858079     200.704367     101.329284\n",
              "2007-08  55.177384  8.267184  3.578049  ...  27.192905     200.851486     100.941821\n",
              "2008-09  55.346067  8.503820  3.620000  ...  26.943820     201.196539     101.393611\n",
              "2009-10  56.133484  8.571719  3.657692  ...  27.079186     200.866878     101.161278\n",
              "2010-11  55.648230  8.206195  3.553982  ...  27.134956     201.210708     101.647759\n",
              "2011-12  43.426778  7.928870  3.562552  ...  27.089958     200.824728     101.058969\n",
              "2012-13  54.918977  7.957996  3.522388  ...  27.066098     200.762900     100.886018\n",
              "2013-14  53.149378  8.090249  3.523859  ...  26.962656     200.765394     100.555324\n",
              "2014-15  52.806911  8.122561  3.543293  ...  26.981707     200.832602     100.452413\n",
              "2015-16  54.785714  8.349370  3.620588  ...  27.052521     200.948151     100.414405\n",
              "2016-17  53.781893  8.426749  3.565226  ...  26.847737     200.910864      99.845306\n",
              "2017-18  48.340741  8.160926  3.377963  ...  26.522222     200.457741      98.811657\n",
              "\n",
              "[22 rows x 7 columns]"
            ]
          },
          "metadata": {
            "tags": []
          },
          "execution_count": 214
        }
      ]
    },
    {
      "cell_type": "code",
      "metadata": {
        "id": "yVOOgeQdeAqM",
        "colab_type": "code",
        "colab": {
          "base_uri": "https://localhost:8080/",
          "height": 437
        },
        "outputId": "92485b98-dd00-4620-afc9-150be8da41b2"
      },
      "source": [
        "# [MÉDIA DE PONTOS - GRÁFICO] : Gráfico da média de Pontos, média de rebotes e média de assistências por Jogador da NBA em determinada Temporada, \n",
        "#                     considerando que o atleta disputou pelo menos um jogo pela liga\n",
        "\n",
        "# season: Temporada de referência\n",
        "# pts: Média de pontos de um jogador na temporada\n",
        "# reb: Média de rebotes de um jogador na temporada\n",
        "# ast: Média de assitências de um jogador na temporada  \n",
        "\n",
        "dataset1[(dataset1['gp']>0)].groupby('season')['pts', 'reb', 'ast'].mean().plot.bar(figsize=(18, 6))"
      ],
      "execution_count": 215,
      "outputs": [
        {
          "output_type": "execute_result",
          "data": {
            "text/plain": [
              "<matplotlib.axes._subplots.AxesSubplot at 0x7f31f2f53be0>"
            ]
          },
          "metadata": {
            "tags": []
          },
          "execution_count": 215
        },
        {
          "output_type": "display_data",
          "data": {
            "image/png": "[encoded data removed]",
            "text/plain": [
              "<Figure size 1296x432 with 1 Axes>"
            ]
          },
          "metadata": {
            "tags": []
          }
        }
      ]
    },
    {
      "cell_type": "code",
      "metadata": {
        "id": "oQruLL9WpTTc",
        "colab_type": "code",
        "colab": {
          "base_uri": "https://localhost:8080/",
          "height": 762
        },
        "outputId": "398137e7-a1a4-4a27-8c62-495af577eece"
      },
      "source": [
        "# [MÉDIA DE PONTOS - ESTRANGEIROS] : Média de Pontos de Jogador ESTRANGEIROS da NBA em determinada Temporada, considerando que o atleta disputou \n",
        "#                                    pelo menos um jogo pela liga\n",
        "\n",
        "# season: Temporada de referência\n",
        "# gp : Média de partidas de um jogador na temporada \n",
        "# pts: Média de pontos de um jogador na temporada\n",
        "# reb: Média de rebotes de um jogador na temporada\n",
        "# ast: Média de assitências de um jogador na temporada  \n",
        "# age: Média de idade de um jogador na temporada\n",
        "# player_height: Média de altura de um jogador na temporada\n",
        "# player_weight: Média de peso de um jogador na temporada\n",
        "\n",
        "dataset_e = dataset1\n",
        "dataset_e[(dataset_e['gp']>0) & (dataset_e['country'] != 'USA')].groupby('season')['season','gp','pts','reb','ast', 'age', \n",
        "                                                                                   'player_height', 'player_weight'].mean()\n"
      ],
      "execution_count": 216,
      "outputs": [
        {
          "output_type": "execute_result",
          "data": {
            "text/html": [
              "<div>\n",
              "<style scoped>\n",
              "    .dataframe tbody tr th:only-of-type {\n",
              "        vertical-align: middle;\n",
              "    }\n",
              "\n",
              "    .dataframe tbody tr th {\n",
              "        vertical-align: top;\n",
              "    }\n",
              "\n",
              "    .dataframe thead th {\n",
              "        text-align: right;\n",
              "    }\n",
              "</style>\n",
              "<table border=\"1\" class=\"dataframe\">\n",
              "  <thead>\n",
              "    <tr style=\"text-align: right;\">\n",
              "      <th></th>\n",
              "      <th>gp</th>\n",
              "      <th>pts</th>\n",
              "      <th>reb</th>\n",
              "      <th>ast</th>\n",
              "      <th>age</th>\n",
              "      <th>player_height</th>\n",
              "      <th>player_weight</th>\n",
              "    </tr>\n",
              "    <tr>\n",
              "      <th>season</th>\n",
              "      <th></th>\n",
              "      <th></th>\n",
              "      <th></th>\n",
              "      <th></th>\n",
              "      <th></th>\n",
              "      <th></th>\n",
              "      <th></th>\n",
              "    </tr>\n",
              "  </thead>\n",
              "  <tbody>\n",
              "    <tr>\n",
              "      <th>1996-97</th>\n",
              "      <td>73.777778</td>\n",
              "      <td>13.622222</td>\n",
              "      <td>6.877778</td>\n",
              "      <td>2.566667</td>\n",
              "      <td>28.888889</td>\n",
              "      <td>210.255556</td>\n",
              "      <td>113.549197</td>\n",
              "    </tr>\n",
              "    <tr>\n",
              "      <th>1997-98</th>\n",
              "      <td>65.357143</td>\n",
              "      <td>11.835714</td>\n",
              "      <td>6.507143</td>\n",
              "      <td>1.978571</td>\n",
              "      <td>27.214286</td>\n",
              "      <td>209.368571</td>\n",
              "      <td>113.009207</td>\n",
              "    </tr>\n",
              "    <tr>\n",
              "      <th>1998-99</th>\n",
              "      <td>36.272727</td>\n",
              "      <td>9.850000</td>\n",
              "      <td>5.554545</td>\n",
              "      <td>1.613636</td>\n",
              "      <td>26.090909</td>\n",
              "      <td>209.780909</td>\n",
              "      <td>110.758919</td>\n",
              "    </tr>\n",
              "    <tr>\n",
              "      <th>1999-00</th>\n",
              "      <td>61.666667</td>\n",
              "      <td>8.954167</td>\n",
              "      <td>5.062500</td>\n",
              "      <td>1.458333</td>\n",
              "      <td>26.958333</td>\n",
              "      <td>208.915000</td>\n",
              "      <td>111.640331</td>\n",
              "    </tr>\n",
              "    <tr>\n",
              "      <th>2000-01</th>\n",
              "      <td>52.050000</td>\n",
              "      <td>6.932500</td>\n",
              "      <td>4.055000</td>\n",
              "      <td>1.112500</td>\n",
              "      <td>26.100000</td>\n",
              "      <td>209.042000</td>\n",
              "      <td>111.164059</td>\n",
              "    </tr>\n",
              "    <tr>\n",
              "      <th>2001-02</th>\n",
              "      <td>56.627451</td>\n",
              "      <td>7.211765</td>\n",
              "      <td>4.035294</td>\n",
              "      <td>1.207843</td>\n",
              "      <td>25.803922</td>\n",
              "      <td>208.628627</td>\n",
              "      <td>110.925479</td>\n",
              "    </tr>\n",
              "    <tr>\n",
              "      <th>2002-03</th>\n",
              "      <td>51.887097</td>\n",
              "      <td>6.866129</td>\n",
              "      <td>3.658065</td>\n",
              "      <td>1.277419</td>\n",
              "      <td>26.016129</td>\n",
              "      <td>208.116129</td>\n",
              "      <td>110.303332</td>\n",
              "    </tr>\n",
              "    <tr>\n",
              "      <th>2003-04</th>\n",
              "      <td>58.639344</td>\n",
              "      <td>7.677049</td>\n",
              "      <td>3.998361</td>\n",
              "      <td>1.568852</td>\n",
              "      <td>25.688525</td>\n",
              "      <td>207.821967</td>\n",
              "      <td>108.542335</td>\n",
              "    </tr>\n",
              "    <tr>\n",
              "      <th>2004-05</th>\n",
              "      <td>52.743243</td>\n",
              "      <td>7.278378</td>\n",
              "      <td>3.654054</td>\n",
              "      <td>1.424324</td>\n",
              "      <td>25.567568</td>\n",
              "      <td>207.833784</td>\n",
              "      <td>109.162431</td>\n",
              "    </tr>\n",
              "    <tr>\n",
              "      <th>2005-06</th>\n",
              "      <td>56.262500</td>\n",
              "      <td>7.286250</td>\n",
              "      <td>3.757500</td>\n",
              "      <td>1.408750</td>\n",
              "      <td>25.825000</td>\n",
              "      <td>207.105250</td>\n",
              "      <td>107.762119</td>\n",
              "    </tr>\n",
              "    <tr>\n",
              "      <th>2006-07</th>\n",
              "      <td>59.183099</td>\n",
              "      <td>8.432394</td>\n",
              "      <td>4.035211</td>\n",
              "      <td>1.567606</td>\n",
              "      <td>26.436620</td>\n",
              "      <td>205.954648</td>\n",
              "      <td>107.494915</td>\n",
              "    </tr>\n",
              "    <tr>\n",
              "      <th>2007-08</th>\n",
              "      <td>61.535211</td>\n",
              "      <td>8.849296</td>\n",
              "      <td>4.388732</td>\n",
              "      <td>1.756338</td>\n",
              "      <td>26.718310</td>\n",
              "      <td>205.740000</td>\n",
              "      <td>106.076642</td>\n",
              "    </tr>\n",
              "    <tr>\n",
              "      <th>2008-09</th>\n",
              "      <td>60.845070</td>\n",
              "      <td>8.874648</td>\n",
              "      <td>4.428169</td>\n",
              "      <td>1.739437</td>\n",
              "      <td>27.056338</td>\n",
              "      <td>206.383944</td>\n",
              "      <td>106.900774</td>\n",
              "    </tr>\n",
              "    <tr>\n",
              "      <th>2009-10</th>\n",
              "      <td>58.394737</td>\n",
              "      <td>8.382895</td>\n",
              "      <td>4.194737</td>\n",
              "      <td>1.664474</td>\n",
              "      <td>27.210526</td>\n",
              "      <td>205.405789</td>\n",
              "      <td>105.561601</td>\n",
              "    </tr>\n",
              "    <tr>\n",
              "      <th>2010-11</th>\n",
              "      <td>57.535714</td>\n",
              "      <td>7.829762</td>\n",
              "      <td>3.833333</td>\n",
              "      <td>1.608333</td>\n",
              "      <td>27.583333</td>\n",
              "      <td>206.042381</td>\n",
              "      <td>106.464522</td>\n",
              "    </tr>\n",
              "    <tr>\n",
              "      <th>2011-12</th>\n",
              "      <td>43.238095</td>\n",
              "      <td>7.859524</td>\n",
              "      <td>4.154762</td>\n",
              "      <td>1.767857</td>\n",
              "      <td>27.226190</td>\n",
              "      <td>205.225952</td>\n",
              "      <td>105.438540</td>\n",
              "    </tr>\n",
              "    <tr>\n",
              "      <th>2012-13</th>\n",
              "      <td>54.694118</td>\n",
              "      <td>7.843529</td>\n",
              "      <td>4.103529</td>\n",
              "      <td>1.911765</td>\n",
              "      <td>27.141176</td>\n",
              "      <td>205.022824</td>\n",
              "      <td>105.286708</td>\n",
              "    </tr>\n",
              "    <tr>\n",
              "      <th>2013-14</th>\n",
              "      <td>54.826087</td>\n",
              "      <td>7.357609</td>\n",
              "      <td>4.032609</td>\n",
              "      <td>1.645652</td>\n",
              "      <td>27.141304</td>\n",
              "      <td>204.828913</td>\n",
              "      <td>104.222623</td>\n",
              "    </tr>\n",
              "    <tr>\n",
              "      <th>2014-15</th>\n",
              "      <td>55.376238</td>\n",
              "      <td>7.776238</td>\n",
              "      <td>4.103960</td>\n",
              "      <td>1.628713</td>\n",
              "      <td>27.079208</td>\n",
              "      <td>205.161584</td>\n",
              "      <td>104.748315</td>\n",
              "    </tr>\n",
              "    <tr>\n",
              "      <th>2015-16</th>\n",
              "      <td>57.514851</td>\n",
              "      <td>7.925743</td>\n",
              "      <td>4.082178</td>\n",
              "      <td>1.730693</td>\n",
              "      <td>27.316832</td>\n",
              "      <td>205.211881</td>\n",
              "      <td>104.793225</td>\n",
              "    </tr>\n",
              "    <tr>\n",
              "      <th>2016-17</th>\n",
              "      <td>56.243478</td>\n",
              "      <td>7.995652</td>\n",
              "      <td>4.000870</td>\n",
              "      <td>1.699130</td>\n",
              "      <td>26.843478</td>\n",
              "      <td>205.143652</td>\n",
              "      <td>103.008771</td>\n",
              "    </tr>\n",
              "    <tr>\n",
              "      <th>2017-18</th>\n",
              "      <td>55.350877</td>\n",
              "      <td>8.462281</td>\n",
              "      <td>4.085965</td>\n",
              "      <td>1.813158</td>\n",
              "      <td>26.482456</td>\n",
              "      <td>205.004737</td>\n",
              "      <td>102.440172</td>\n",
              "    </tr>\n",
              "  </tbody>\n",
              "</table>\n",
              "</div>"
            ],
            "text/plain": [
              "                gp        pts  ...  player_height  player_weight\n",
              "season                         ...                              \n",
              "1996-97  73.777778  13.622222  ...     210.255556     113.549197\n",
              "1997-98  65.357143  11.835714  ...     209.368571     113.009207\n",
              "1998-99  36.272727   9.850000  ...     209.780909     110.758919\n",
              "1999-00  61.666667   8.954167  ...     208.915000     111.640331\n",
              "2000-01  52.050000   6.932500  ...     209.042000     111.164059\n",
              "2001-02  56.627451   7.211765  ...     208.628627     110.925479\n",
              "2002-03  51.887097   6.866129  ...     208.116129     110.303332\n",
              "2003-04  58.639344   7.677049  ...     207.821967     108.542335\n",
              "2004-05  52.743243   7.278378  ...     207.833784     109.162431\n",
              "2005-06  56.262500   7.286250  ...     207.105250     107.762119\n",
              "2006-07  59.183099   8.432394  ...     205.954648     107.494915\n",
              "2007-08  61.535211   8.849296  ...     205.740000     106.076642\n",
              "2008-09  60.845070   8.874648  ...     206.383944     106.900774\n",
              "2009-10  58.394737   8.382895  ...     205.405789     105.561601\n",
              "2010-11  57.535714   7.829762  ...     206.042381     106.464522\n",
              "2011-12  43.238095   7.859524  ...     205.225952     105.438540\n",
              "2012-13  54.694118   7.843529  ...     205.022824     105.286708\n",
              "2013-14  54.826087   7.357609  ...     204.828913     104.222623\n",
              "2014-15  55.376238   7.776238  ...     205.161584     104.748315\n",
              "2015-16  57.514851   7.925743  ...     205.211881     104.793225\n",
              "2016-17  56.243478   7.995652  ...     205.143652     103.008771\n",
              "2017-18  55.350877   8.462281  ...     205.004737     102.440172\n",
              "\n",
              "[22 rows x 7 columns]"
            ]
          },
          "metadata": {
            "tags": []
          },
          "execution_count": 216
        }
      ]
    },
    {
      "cell_type": "code",
      "metadata": {
        "id": "9AXtUSyxwNpQ",
        "colab_type": "code",
        "colab": {
          "base_uri": "https://localhost:8080/",
          "height": 437
        },
        "outputId": "5381d67b-01c6-4fc8-c2ef-bc92fdbbe4c9"
      },
      "source": [
        "# [MÉDIA DE PONTOS - ESTRANGEIROS - GRÁFICO] : Gráfico da média de Pontos, média de rebotes e média de assistências para Jogadores ESTRANGEIROS da NBA \n",
        "#                                              em determinada Temporada, considerando que o atleta disputou pelo menos um jogo pela liga\n",
        "\n",
        "# season: Temporada de referência\n",
        "# pts: Média de pontos de um jogador na temporada\n",
        "# reb: Média de rebotes de um jogador na temporada\n",
        "# ast: Média de assitências de um jogador na temporada  \n",
        "\n",
        "dataset_e[(dataset_e['gp']>0) & (dataset_e['country'] != 'USA')].groupby('season')['pts','reb','ast'].mean().plot.bar(figsize=(18, 6))"
      ],
      "execution_count": 217,
      "outputs": [
        {
          "output_type": "execute_result",
          "data": {
            "text/plain": [
              "<matplotlib.axes._subplots.AxesSubplot at 0x7f31f2f68cc0>"
            ]
          },
          "metadata": {
            "tags": []
          },
          "execution_count": 217
        },
        {
          "output_type": "display_data",
          "data": {
            "image/png": "[encoded data removed]",
            "text/plain": [
              "<Figure size 1296x432 with 1 Axes>"
            ]
          },
          "metadata": {
            "tags": []
          }
        }
      ]
    },
    {
      "cell_type": "code",
      "metadata": {
        "id": "49cjVxHUkIsm",
        "colab_type": "code",
        "colab": {
          "base_uri": "https://localhost:8080/",
          "height": 80
        },
        "outputId": "ccaa2d79-e07d-4410-ff40-7010a4ff7ceb"
      },
      "source": [
        "# [MÉDIA DE PONTOS] : Jogador da NBA com a maior média de pontos na história da liga para uma temporada entre os anos de 1996 e 2018\n",
        "\n",
        "# team_abbreviation : Time/ franquia que o jogador defendia na temporada \n",
        "# gp : Média de partidas de um jogador na temporada \n",
        "# pts: Média de pontos de um jogador na temporada\n",
        "# reb: Média de rebotes de um jogador na temporada\n",
        "# ast: Média de assitências de um jogador na temporada \n",
        "# season: Temporada de referência \n",
        "\n",
        "dataset_s = dataset1[(dataset1['pts'] == dataset1['pts'].max())].groupby('player_name')\n",
        "dataset_s = dataset_s['player_name', 'team_abbreviation', 'age', 'country', 'gp', 'pts', 'reb', 'ast', 'season']\n",
        "dataset_s.head()"
      ],
      "execution_count": 218,
      "outputs": [
        {
          "output_type": "execute_result",
          "data": {
            "text/html": [
              "<div>\n",
              "<style scoped>\n",
              "    .dataframe tbody tr th:only-of-type {\n",
              "        vertical-align: middle;\n",
              "    }\n",
              "\n",
              "    .dataframe tbody tr th {\n",
              "        vertical-align: top;\n",
              "    }\n",
              "\n",
              "    .dataframe thead th {\n",
              "        text-align: right;\n",
              "    }\n",
              "</style>\n",
              "<table border=\"1\" class=\"dataframe\">\n",
              "  <thead>\n",
              "    <tr style=\"text-align: right;\">\n",
              "      <th></th>\n",
              "      <th>player_name</th>\n",
              "      <th>team_abbreviation</th>\n",
              "      <th>age</th>\n",
              "      <th>country</th>\n",
              "      <th>gp</th>\n",
              "      <th>pts</th>\n",
              "      <th>reb</th>\n",
              "      <th>ast</th>\n",
              "      <th>season</th>\n",
              "    </tr>\n",
              "  </thead>\n",
              "  <tbody>\n",
              "    <tr>\n",
              "      <th>4343</th>\n",
              "      <td>Kobe Bryant</td>\n",
              "      <td>LAL</td>\n",
              "      <td>27.0</td>\n",
              "      <td>USA</td>\n",
              "      <td>80</td>\n",
              "      <td>35.4</td>\n",
              "      <td>5.3</td>\n",
              "      <td>4.5</td>\n",
              "      <td>2005-06</td>\n",
              "    </tr>\n",
              "  </tbody>\n",
              "</table>\n",
              "</div>"
            ],
            "text/plain": [
              "      player_name team_abbreviation   age country  gp   pts  reb  ast   season\n",
              "4343  Kobe Bryant               LAL  27.0     USA  80  35.4  5.3  4.5  2005-06"
            ]
          },
          "metadata": {
            "tags": []
          },
          "execution_count": 218
        }
      ]
    },
    {
      "cell_type": "code",
      "metadata": {
        "id": "MYMSkPv4gjst",
        "colab_type": "code",
        "colab": {
          "base_uri": "https://localhost:8080/",
          "height": 221
        },
        "outputId": "b71ac5ba-17d7-4f75-af95-00332ac38a49"
      },
      "source": [
        "# [MEDIANA] : Registro do Dataset que representa a Mediana (linha central) para Base de Dados \n",
        "\n",
        "dataset1.median()"
      ],
      "execution_count": 219,
      "outputs": [
        {
          "output_type": "execute_result",
          "data": {
            "text/plain": [
              "id               5050.000000\n",
              "age                27.000000\n",
              "player_height     203.200000\n",
              "player_weight     100.243832\n",
              "gp                 59.000000\n",
              "pts                 6.600000\n",
              "reb                 3.000000\n",
              "ast                 1.200000\n",
              "pts_normal         -0.250477\n",
              "reb_normal         -0.222919\n",
              "ast_normal         -0.329688\n",
              "dtype: float64"
            ]
          },
          "metadata": {
            "tags": []
          },
          "execution_count": 219
        }
      ]
    },
    {
      "cell_type": "code",
      "metadata": {
        "id": "3xD1OJz9mz7y",
        "colab_type": "code",
        "colab": {
          "base_uri": "https://localhost:8080/",
          "height": 51
        },
        "outputId": "457a385c-6157-427b-f77a-713b8e1c8191"
      },
      "source": [
        "# [MODA] : Média de pontos com mais ocorrência entre os jogadores de NBA que pontuaram entre os anos de 1996 e 2018, \n",
        "#          considerando que o atleta disputou pelo menos um jogo pela liga\n",
        "\n",
        "dataset1[(dataset1['gp']>0)]['pts'].mode()"
      ],
      "execution_count": 220,
      "outputs": [
        {
          "output_type": "execute_result",
          "data": {
            "text/plain": [
              "0    2.0\n",
              "dtype: float64"
            ]
          },
          "metadata": {
            "tags": []
          },
          "execution_count": 220
        }
      ]
    },
    {
      "cell_type": "code",
      "metadata": {
        "id": "DxsmnJ4dh0R0",
        "colab_type": "code",
        "colab": {
          "base_uri": "https://localhost:8080/",
          "height": 34
        },
        "outputId": "b4626b6b-1e6a-424c-90ee-850ab90a66e1"
      },
      "source": [
        "# [VARIÂNCIA] : Variância entre a média de pontos entre os jogadores da NBA que têm a menor e maior média de pontos entre\n",
        "#               as temporadas de 1996 e 2018, considerando que o atleta disputou pelo menos um jogo pela liga \n",
        "\n",
        "dataset1[(dataset1['gp']>0)]['pts'].var()"
      ],
      "execution_count": 221,
      "outputs": [
        {
          "output_type": "execute_result",
          "data": {
            "text/plain": [
              "34.70486143808936"
            ]
          },
          "metadata": {
            "tags": []
          },
          "execution_count": 221
        }
      ]
    },
    {
      "cell_type": "code",
      "metadata": {
        "id": "kdfcRArZa4MN",
        "colab_type": "code",
        "colab": {
          "base_uri": "https://localhost:8080/",
          "height": 34
        },
        "outputId": "5aa36a5c-ca3e-4725-b289-3132347bae80"
      },
      "source": [
        "# [DESVIO PADRÃO] : Desvio Padrão \"geral\" para média de pontos entre os jogadores da NBA entre os anos de 1996 e 2018\n",
        "\n",
        "dataset1[(dataset1['gp']>0)]['pts'].std()"
      ],
      "execution_count": 222,
      "outputs": [
        {
          "output_type": "execute_result",
          "data": {
            "text/plain": [
              "5.891083214323946"
            ]
          },
          "metadata": {
            "tags": []
          },
          "execution_count": 222
        }
      ]
    },
    {
      "cell_type": "code",
      "metadata": {
        "id": "lQmDqPQHqTYM",
        "colab_type": "code",
        "colab": {
          "base_uri": "https://localhost:8080/",
          "height": 762
        },
        "outputId": "a238b073-8779-4b26-e0d4-60d1ca246668"
      },
      "source": [
        "# [DESVIO PADRÃO] : Desvio Padrão para média de pontos, média de rebotes e média de assictências entre os jogadores da NBA para determinada temporada\n",
        "\n",
        "dataset1[(dataset1['gp']>0)].groupby('season')['season', 'pts','reb','ast'].std()"
      ],
      "execution_count": 223,
      "outputs": [
        {
          "output_type": "execute_result",
          "data": {
            "text/html": [
              "<div>\n",
              "<style scoped>\n",
              "    .dataframe tbody tr th:only-of-type {\n",
              "        vertical-align: middle;\n",
              "    }\n",
              "\n",
              "    .dataframe tbody tr th {\n",
              "        vertical-align: top;\n",
              "    }\n",
              "\n",
              "    .dataframe thead th {\n",
              "        text-align: right;\n",
              "    }\n",
              "</style>\n",
              "<table border=\"1\" class=\"dataframe\">\n",
              "  <thead>\n",
              "    <tr style=\"text-align: right;\">\n",
              "      <th></th>\n",
              "      <th>pts</th>\n",
              "      <th>reb</th>\n",
              "      <th>ast</th>\n",
              "    </tr>\n",
              "    <tr>\n",
              "      <th>season</th>\n",
              "      <th></th>\n",
              "      <th></th>\n",
              "      <th></th>\n",
              "    </tr>\n",
              "  </thead>\n",
              "  <tbody>\n",
              "    <tr>\n",
              "      <th>1996-97</th>\n",
              "      <td>6.051061</td>\n",
              "      <td>2.682586</td>\n",
              "      <td>1.883646</td>\n",
              "    </tr>\n",
              "    <tr>\n",
              "      <th>1997-98</th>\n",
              "      <td>5.834059</td>\n",
              "      <td>2.630364</td>\n",
              "      <td>1.794752</td>\n",
              "    </tr>\n",
              "    <tr>\n",
              "      <th>1998-99</th>\n",
              "      <td>5.485507</td>\n",
              "      <td>2.599323</td>\n",
              "      <td>1.780649</td>\n",
              "    </tr>\n",
              "    <tr>\n",
              "      <th>1999-00</th>\n",
              "      <td>5.800026</td>\n",
              "      <td>2.513912</td>\n",
              "      <td>1.808608</td>\n",
              "    </tr>\n",
              "    <tr>\n",
              "      <th>2000-01</th>\n",
              "      <td>6.015288</td>\n",
              "      <td>2.604376</td>\n",
              "      <td>1.814296</td>\n",
              "    </tr>\n",
              "    <tr>\n",
              "      <th>2001-02</th>\n",
              "      <td>5.902304</td>\n",
              "      <td>2.475944</td>\n",
              "      <td>1.837018</td>\n",
              "    </tr>\n",
              "    <tr>\n",
              "      <th>2002-03</th>\n",
              "      <td>6.063912</td>\n",
              "      <td>2.460733</td>\n",
              "      <td>1.693510</td>\n",
              "    </tr>\n",
              "    <tr>\n",
              "      <th>2003-04</th>\n",
              "      <td>5.817995</td>\n",
              "      <td>2.482451</td>\n",
              "      <td>1.710918</td>\n",
              "    </tr>\n",
              "    <tr>\n",
              "      <th>2004-05</th>\n",
              "      <td>6.059084</td>\n",
              "      <td>2.448423</td>\n",
              "      <td>1.755122</td>\n",
              "    </tr>\n",
              "    <tr>\n",
              "      <th>2005-06</th>\n",
              "      <td>6.300436</td>\n",
              "      <td>2.420723</td>\n",
              "      <td>1.766455</td>\n",
              "    </tr>\n",
              "    <tr>\n",
              "      <th>2006-07</th>\n",
              "      <td>6.289355</td>\n",
              "      <td>2.484462</td>\n",
              "      <td>1.811684</td>\n",
              "    </tr>\n",
              "    <tr>\n",
              "      <th>2007-08</th>\n",
              "      <td>6.115081</td>\n",
              "      <td>2.535566</td>\n",
              "      <td>1.875272</td>\n",
              "    </tr>\n",
              "    <tr>\n",
              "      <th>2008-09</th>\n",
              "      <td>6.167476</td>\n",
              "      <td>2.480642</td>\n",
              "      <td>1.844897</td>\n",
              "    </tr>\n",
              "    <tr>\n",
              "      <th>2009-10</th>\n",
              "      <td>5.894784</td>\n",
              "      <td>2.510585</td>\n",
              "      <td>1.801290</td>\n",
              "    </tr>\n",
              "    <tr>\n",
              "      <th>2010-11</th>\n",
              "      <td>5.782477</td>\n",
              "      <td>2.489482</td>\n",
              "      <td>1.840869</td>\n",
              "    </tr>\n",
              "    <tr>\n",
              "      <th>2011-12</th>\n",
              "      <td>5.477096</td>\n",
              "      <td>2.348897</td>\n",
              "      <td>1.767022</td>\n",
              "    </tr>\n",
              "    <tr>\n",
              "      <th>2012-13</th>\n",
              "      <td>5.496429</td>\n",
              "      <td>2.529389</td>\n",
              "      <td>1.823274</td>\n",
              "    </tr>\n",
              "    <tr>\n",
              "      <th>2013-14</th>\n",
              "      <td>5.856688</td>\n",
              "      <td>2.475080</td>\n",
              "      <td>1.822667</td>\n",
              "    </tr>\n",
              "    <tr>\n",
              "      <th>2014-15</th>\n",
              "      <td>5.499598</td>\n",
              "      <td>2.423026</td>\n",
              "      <td>1.735453</td>\n",
              "    </tr>\n",
              "    <tr>\n",
              "      <th>2015-16</th>\n",
              "      <td>5.652556</td>\n",
              "      <td>2.407671</td>\n",
              "      <td>1.756553</td>\n",
              "    </tr>\n",
              "    <tr>\n",
              "      <th>2016-17</th>\n",
              "      <td>6.057949</td>\n",
              "      <td>2.428492</td>\n",
              "      <td>1.766110</td>\n",
              "    </tr>\n",
              "    <tr>\n",
              "      <th>2017-18</th>\n",
              "      <td>5.934273</td>\n",
              "      <td>2.420248</td>\n",
              "      <td>1.720200</td>\n",
              "    </tr>\n",
              "  </tbody>\n",
              "</table>\n",
              "</div>"
            ],
            "text/plain": [
              "              pts       reb       ast\n",
              "season                               \n",
              "1996-97  6.051061  2.682586  1.883646\n",
              "1997-98  5.834059  2.630364  1.794752\n",
              "1998-99  5.485507  2.599323  1.780649\n",
              "1999-00  5.800026  2.513912  1.808608\n",
              "2000-01  6.015288  2.604376  1.814296\n",
              "2001-02  5.902304  2.475944  1.837018\n",
              "2002-03  6.063912  2.460733  1.693510\n",
              "2003-04  5.817995  2.482451  1.710918\n",
              "2004-05  6.059084  2.448423  1.755122\n",
              "2005-06  6.300436  2.420723  1.766455\n",
              "2006-07  6.289355  2.484462  1.811684\n",
              "2007-08  6.115081  2.535566  1.875272\n",
              "2008-09  6.167476  2.480642  1.844897\n",
              "2009-10  5.894784  2.510585  1.801290\n",
              "2010-11  5.782477  2.489482  1.840869\n",
              "2011-12  5.477096  2.348897  1.767022\n",
              "2012-13  5.496429  2.529389  1.823274\n",
              "2013-14  5.856688  2.475080  1.822667\n",
              "2014-15  5.499598  2.423026  1.735453\n",
              "2015-16  5.652556  2.407671  1.756553\n",
              "2016-17  6.057949  2.428492  1.766110\n",
              "2017-18  5.934273  2.420248  1.720200"
            ]
          },
          "metadata": {
            "tags": []
          },
          "execution_count": 223
        }
      ]
    },
    {
      "cell_type": "markdown",
      "metadata": {
        "id": "6U6EiN3U3sS3",
        "colab_type": "text"
      },
      "source": [
        "### **Estatísticas Bivariadas**"
      ]
    },
    {
      "cell_type": "code",
      "metadata": {
        "id": "jHyDzO_Z-yQ6",
        "colab_type": "code",
        "colab": {
          "base_uri": "https://localhost:8080/",
          "height": 390
        },
        "outputId": "e1862c29-9abb-46f2-8ae2-68541b0a6659"
      },
      "source": [
        "dataset1.cov()"
      ],
      "execution_count": 224,
      "outputs": [
        {
          "output_type": "execute_result",
          "data": {
            "text/html": [
              "<div>\n",
              "<style scoped>\n",
              "    .dataframe tbody tr th:only-of-type {\n",
              "        vertical-align: middle;\n",
              "    }\n",
              "\n",
              "    .dataframe tbody tr th {\n",
              "        vertical-align: top;\n",
              "    }\n",
              "\n",
              "    .dataframe thead th {\n",
              "        text-align: right;\n",
              "    }\n",
              "</style>\n",
              "<table border=\"1\" class=\"dataframe\">\n",
              "  <thead>\n",
              "    <tr style=\"text-align: right;\">\n",
              "      <th></th>\n",
              "      <th>id</th>\n",
              "      <th>age</th>\n",
              "      <th>player_height</th>\n",
              "      <th>player_weight</th>\n",
              "      <th>gp</th>\n",
              "      <th>pts</th>\n",
              "      <th>reb</th>\n",
              "      <th>ast</th>\n",
              "      <th>pts_normal</th>\n",
              "      <th>reb_normal</th>\n",
              "      <th>ast_normal</th>\n",
              "    </tr>\n",
              "  </thead>\n",
              "  <tbody>\n",
              "    <tr>\n",
              "      <th>id</th>\n",
              "      <td>8.503358e+06</td>\n",
              "      <td>-1189.421188</td>\n",
              "      <td>-187.257606</td>\n",
              "      <td>-856.995760</td>\n",
              "      <td>631.462475</td>\n",
              "      <td>437.479277</td>\n",
              "      <td>-33.289564</td>\n",
              "      <td>22.423663</td>\n",
              "      <td>74.264939</td>\n",
              "      <td>-13.367259</td>\n",
              "      <td>12.528473</td>\n",
              "    </tr>\n",
              "    <tr>\n",
              "      <th>age</th>\n",
              "      <td>-1.189421e+03</td>\n",
              "      <td>18.886232</td>\n",
              "      <td>-0.699024</td>\n",
              "      <td>2.094253</td>\n",
              "      <td>2.655006</td>\n",
              "      <td>-0.306218</td>\n",
              "      <td>0.225630</td>\n",
              "      <td>0.597072</td>\n",
              "      <td>-0.051982</td>\n",
              "      <td>0.090601</td>\n",
              "      <td>0.333594</td>\n",
              "    </tr>\n",
              "    <tr>\n",
              "      <th>player_height</th>\n",
              "      <td>-1.872576e+02</td>\n",
              "      <td>-0.699024</td>\n",
              "      <td>85.481395</td>\n",
              "      <td>98.053207</td>\n",
              "      <td>-3.830487</td>\n",
              "      <td>-3.543010</td>\n",
              "      <td>9.663379</td>\n",
              "      <td>-7.927583</td>\n",
              "      <td>-0.601449</td>\n",
              "      <td>3.880282</td>\n",
              "      <td>-4.429272</td>\n",
              "    </tr>\n",
              "    <tr>\n",
              "      <th>player_weight</th>\n",
              "      <td>-8.569958e+02</td>\n",
              "      <td>2.094253</td>\n",
              "      <td>98.053207</td>\n",
              "      <td>161.765680</td>\n",
              "      <td>-0.404694</td>\n",
              "      <td>-2.878935</td>\n",
              "      <td>13.735983</td>\n",
              "      <td>-9.355071</td>\n",
              "      <td>-0.488718</td>\n",
              "      <td>5.515616</td>\n",
              "      <td>-5.226834</td>\n",
              "    </tr>\n",
              "    <tr>\n",
              "      <th>gp</th>\n",
              "      <td>6.314625e+02</td>\n",
              "      <td>2.655006</td>\n",
              "      <td>-3.830487</td>\n",
              "      <td>-0.404694</td>\n",
              "      <td>627.403128</td>\n",
              "      <td>81.131138</td>\n",
              "      <td>29.648474</td>\n",
              "      <td>17.515893</td>\n",
              "      <td>13.772536</td>\n",
              "      <td>11.905197</td>\n",
              "      <td>9.786420</td>\n",
              "    </tr>\n",
              "    <tr>\n",
              "      <th>pts</th>\n",
              "      <td>4.374793e+02</td>\n",
              "      <td>-0.306218</td>\n",
              "      <td>-3.543010</td>\n",
              "      <td>-2.878935</td>\n",
              "      <td>81.131138</td>\n",
              "      <td>34.704861</td>\n",
              "      <td>9.106797</td>\n",
              "      <td>6.801001</td>\n",
              "      <td>5.891375</td>\n",
              "      <td>3.656789</td>\n",
              "      <td>3.799832</td>\n",
              "    </tr>\n",
              "    <tr>\n",
              "      <th>reb</th>\n",
              "      <td>-3.328956e+01</td>\n",
              "      <td>0.225630</td>\n",
              "      <td>9.663379</td>\n",
              "      <td>13.735983</td>\n",
              "      <td>29.648474</td>\n",
              "      <td>9.106797</td>\n",
              "      <td>6.202610</td>\n",
              "      <td>0.931546</td>\n",
              "      <td>1.545938</td>\n",
              "      <td>2.490627</td>\n",
              "      <td>0.520470</td>\n",
              "    </tr>\n",
              "    <tr>\n",
              "      <th>ast</th>\n",
              "      <td>2.242366e+01</td>\n",
              "      <td>0.597072</td>\n",
              "      <td>-7.927583</td>\n",
              "      <td>-9.355071</td>\n",
              "      <td>17.515893</td>\n",
              "      <td>6.801001</td>\n",
              "      <td>0.931546</td>\n",
              "      <td>3.203759</td>\n",
              "      <td>1.154514</td>\n",
              "      <td>0.374058</td>\n",
              "      <td>1.789993</td>\n",
              "    </tr>\n",
              "    <tr>\n",
              "      <th>pts_normal</th>\n",
              "      <td>7.426494e+01</td>\n",
              "      <td>-0.051982</td>\n",
              "      <td>-0.601449</td>\n",
              "      <td>-0.488718</td>\n",
              "      <td>13.772536</td>\n",
              "      <td>5.891375</td>\n",
              "      <td>1.545938</td>\n",
              "      <td>1.154514</td>\n",
              "      <td>1.000099</td>\n",
              "      <td>0.620764</td>\n",
              "      <td>0.645046</td>\n",
              "    </tr>\n",
              "    <tr>\n",
              "      <th>reb_normal</th>\n",
              "      <td>-1.336726e+01</td>\n",
              "      <td>0.090601</td>\n",
              "      <td>3.880282</td>\n",
              "      <td>5.515616</td>\n",
              "      <td>11.905197</td>\n",
              "      <td>3.656789</td>\n",
              "      <td>2.490627</td>\n",
              "      <td>0.374058</td>\n",
              "      <td>0.620764</td>\n",
              "      <td>1.000099</td>\n",
              "      <td>0.208992</td>\n",
              "    </tr>\n",
              "    <tr>\n",
              "      <th>ast_normal</th>\n",
              "      <td>1.252847e+01</td>\n",
              "      <td>0.333594</td>\n",
              "      <td>-4.429272</td>\n",
              "      <td>-5.226834</td>\n",
              "      <td>9.786420</td>\n",
              "      <td>3.799832</td>\n",
              "      <td>0.520470</td>\n",
              "      <td>1.789993</td>\n",
              "      <td>0.645046</td>\n",
              "      <td>0.208992</td>\n",
              "      <td>1.000099</td>\n",
              "    </tr>\n",
              "  </tbody>\n",
              "</table>\n",
              "</div>"
            ],
            "text/plain": [
              "                         id          age  ...  reb_normal  ast_normal\n",
              "id             8.503358e+06 -1189.421188  ...  -13.367259   12.528473\n",
              "age           -1.189421e+03    18.886232  ...    0.090601    0.333594\n",
              "player_height -1.872576e+02    -0.699024  ...    3.880282   -4.429272\n",
              "player_weight -8.569958e+02     2.094253  ...    5.515616   -5.226834\n",
              "gp             6.314625e+02     2.655006  ...   11.905197    9.786420\n",
              "pts            4.374793e+02    -0.306218  ...    3.656789    3.799832\n",
              "reb           -3.328956e+01     0.225630  ...    2.490627    0.520470\n",
              "ast            2.242366e+01     0.597072  ...    0.374058    1.789993\n",
              "pts_normal     7.426494e+01    -0.051982  ...    0.620764    0.645046\n",
              "reb_normal    -1.336726e+01     0.090601  ...    1.000099    0.208992\n",
              "ast_normal     1.252847e+01     0.333594  ...    0.208992    1.000099\n",
              "\n",
              "[11 rows x 11 columns]"
            ]
          },
          "metadata": {
            "tags": []
          },
          "execution_count": 224
        }
      ]
    },
    {
      "cell_type": "code",
      "metadata": {
        "id": "-tpTX7nI_0jZ",
        "colab_type": "code",
        "outputId": "cf22d39d-5936-4522-f2b3-100bcc472a01",
        "colab": {
          "base_uri": "https://localhost:8080/",
          "height": 390
        }
      },
      "source": [
        "dataset1.corr(method='spearman')"
      ],
      "execution_count": 225,
      "outputs": [
        {
          "output_type": "execute_result",
          "data": {
            "text/html": [
              "<div>\n",
              "<style scoped>\n",
              "    .dataframe tbody tr th:only-of-type {\n",
              "        vertical-align: middle;\n",
              "    }\n",
              "\n",
              "    .dataframe tbody tr th {\n",
              "        vertical-align: top;\n",
              "    }\n",
              "\n",
              "    .dataframe thead th {\n",
              "        text-align: right;\n",
              "    }\n",
              "</style>\n",
              "<table border=\"1\" class=\"dataframe\">\n",
              "  <thead>\n",
              "    <tr style=\"text-align: right;\">\n",
              "      <th></th>\n",
              "      <th>id</th>\n",
              "      <th>age</th>\n",
              "      <th>player_height</th>\n",
              "      <th>player_weight</th>\n",
              "      <th>gp</th>\n",
              "      <th>pts</th>\n",
              "      <th>reb</th>\n",
              "      <th>ast</th>\n",
              "      <th>pts_normal</th>\n",
              "      <th>reb_normal</th>\n",
              "      <th>ast_normal</th>\n",
              "    </tr>\n",
              "  </thead>\n",
              "  <tbody>\n",
              "    <tr>\n",
              "      <th>id</th>\n",
              "      <td>1.000000</td>\n",
              "      <td>-0.094677</td>\n",
              "      <td>-0.011558</td>\n",
              "      <td>-0.022777</td>\n",
              "      <td>-0.002510</td>\n",
              "      <td>0.037379</td>\n",
              "      <td>0.008826</td>\n",
              "      <td>0.018981</td>\n",
              "      <td>0.037379</td>\n",
              "      <td>0.008826</td>\n",
              "      <td>0.018981</td>\n",
              "    </tr>\n",
              "    <tr>\n",
              "      <th>age</th>\n",
              "      <td>-0.094677</td>\n",
              "      <td>1.000000</td>\n",
              "      <td>-0.016313</td>\n",
              "      <td>0.045659</td>\n",
              "      <td>0.029916</td>\n",
              "      <td>0.026382</td>\n",
              "      <td>0.042593</td>\n",
              "      <td>0.115255</td>\n",
              "      <td>0.026382</td>\n",
              "      <td>0.042593</td>\n",
              "      <td>0.115255</td>\n",
              "    </tr>\n",
              "    <tr>\n",
              "      <th>player_height</th>\n",
              "      <td>-0.011558</td>\n",
              "      <td>-0.016313</td>\n",
              "      <td>1.000000</td>\n",
              "      <td>0.842136</td>\n",
              "      <td>-0.022602</td>\n",
              "      <td>-0.093532</td>\n",
              "      <td>0.417458</td>\n",
              "      <td>-0.485763</td>\n",
              "      <td>-0.093532</td>\n",
              "      <td>0.417458</td>\n",
              "      <td>-0.485763</td>\n",
              "    </tr>\n",
              "    <tr>\n",
              "      <th>player_weight</th>\n",
              "      <td>-0.022777</td>\n",
              "      <td>0.045659</td>\n",
              "      <td>0.842136</td>\n",
              "      <td>1.000000</td>\n",
              "      <td>-0.002281</td>\n",
              "      <td>-0.064865</td>\n",
              "      <td>0.436982</td>\n",
              "      <td>-0.437829</td>\n",
              "      <td>-0.064865</td>\n",
              "      <td>0.436982</td>\n",
              "      <td>-0.437829</td>\n",
              "    </tr>\n",
              "    <tr>\n",
              "      <th>gp</th>\n",
              "      <td>-0.002510</td>\n",
              "      <td>0.029916</td>\n",
              "      <td>-0.022602</td>\n",
              "      <td>-0.002281</td>\n",
              "      <td>1.000000</td>\n",
              "      <td>0.631951</td>\n",
              "      <td>0.548517</td>\n",
              "      <td>0.499436</td>\n",
              "      <td>0.631951</td>\n",
              "      <td>0.548517</td>\n",
              "      <td>0.499436</td>\n",
              "    </tr>\n",
              "    <tr>\n",
              "      <th>pts</th>\n",
              "      <td>0.037379</td>\n",
              "      <td>0.026382</td>\n",
              "      <td>-0.093532</td>\n",
              "      <td>-0.064865</td>\n",
              "      <td>0.631951</td>\n",
              "      <td>1.000000</td>\n",
              "      <td>0.705156</td>\n",
              "      <td>0.742383</td>\n",
              "      <td>1.000000</td>\n",
              "      <td>0.705156</td>\n",
              "      <td>0.742383</td>\n",
              "    </tr>\n",
              "    <tr>\n",
              "      <th>reb</th>\n",
              "      <td>0.008826</td>\n",
              "      <td>0.042593</td>\n",
              "      <td>0.417458</td>\n",
              "      <td>0.436982</td>\n",
              "      <td>0.548517</td>\n",
              "      <td>0.705156</td>\n",
              "      <td>1.000000</td>\n",
              "      <td>0.350100</td>\n",
              "      <td>0.705156</td>\n",
              "      <td>1.000000</td>\n",
              "      <td>0.350100</td>\n",
              "    </tr>\n",
              "    <tr>\n",
              "      <th>ast</th>\n",
              "      <td>0.018981</td>\n",
              "      <td>0.115255</td>\n",
              "      <td>-0.485763</td>\n",
              "      <td>-0.437829</td>\n",
              "      <td>0.499436</td>\n",
              "      <td>0.742383</td>\n",
              "      <td>0.350100</td>\n",
              "      <td>1.000000</td>\n",
              "      <td>0.742383</td>\n",
              "      <td>0.350100</td>\n",
              "      <td>1.000000</td>\n",
              "    </tr>\n",
              "    <tr>\n",
              "      <th>pts_normal</th>\n",
              "      <td>0.037379</td>\n",
              "      <td>0.026382</td>\n",
              "      <td>-0.093532</td>\n",
              "      <td>-0.064865</td>\n",
              "      <td>0.631951</td>\n",
              "      <td>1.000000</td>\n",
              "      <td>0.705156</td>\n",
              "      <td>0.742383</td>\n",
              "      <td>1.000000</td>\n",
              "      <td>0.705156</td>\n",
              "      <td>0.742383</td>\n",
              "    </tr>\n",
              "    <tr>\n",
              "      <th>reb_normal</th>\n",
              "      <td>0.008826</td>\n",
              "      <td>0.042593</td>\n",
              "      <td>0.417458</td>\n",
              "      <td>0.436982</td>\n",
              "      <td>0.548517</td>\n",
              "      <td>0.705156</td>\n",
              "      <td>1.000000</td>\n",
              "      <td>0.350100</td>\n",
              "      <td>0.705156</td>\n",
              "      <td>1.000000</td>\n",
              "      <td>0.350100</td>\n",
              "    </tr>\n",
              "    <tr>\n",
              "      <th>ast_normal</th>\n",
              "      <td>0.018981</td>\n",
              "      <td>0.115255</td>\n",
              "      <td>-0.485763</td>\n",
              "      <td>-0.437829</td>\n",
              "      <td>0.499436</td>\n",
              "      <td>0.742383</td>\n",
              "      <td>0.350100</td>\n",
              "      <td>1.000000</td>\n",
              "      <td>0.742383</td>\n",
              "      <td>0.350100</td>\n",
              "      <td>1.000000</td>\n",
              "    </tr>\n",
              "  </tbody>\n",
              "</table>\n",
              "</div>"
            ],
            "text/plain": [
              "                     id       age  ...  reb_normal  ast_normal\n",
              "id             1.000000 -0.094677  ...    0.008826    0.018981\n",
              "age           -0.094677  1.000000  ...    0.042593    0.115255\n",
              "player_height -0.011558 -0.016313  ...    0.417458   -0.485763\n",
              "player_weight -0.022777  0.045659  ...    0.436982   -0.437829\n",
              "gp            -0.002510  0.029916  ...    0.548517    0.499436\n",
              "pts            0.037379  0.026382  ...    0.705156    0.742383\n",
              "reb            0.008826  0.042593  ...    1.000000    0.350100\n",
              "ast            0.018981  0.115255  ...    0.350100    1.000000\n",
              "pts_normal     0.037379  0.026382  ...    0.705156    0.742383\n",
              "reb_normal     0.008826  0.042593  ...    1.000000    0.350100\n",
              "ast_normal     0.018981  0.115255  ...    0.350100    1.000000\n",
              "\n",
              "[11 rows x 11 columns]"
            ]
          },
          "metadata": {
            "tags": []
          },
          "execution_count": 225
        }
      ]
    },
    {
      "cell_type": "code",
      "metadata": {
        "id": "1_azJq_2iA-r",
        "colab_type": "code",
        "colab": {
          "base_uri": "https://localhost:8080/",
          "height": 390
        },
        "outputId": "815d1628-e9f8-4bcc-8d4b-96b208bcab51"
      },
      "source": [
        "dataset1.corr(method='pearson')"
      ],
      "execution_count": 226,
      "outputs": [
        {
          "output_type": "execute_result",
          "data": {
            "text/html": [
              "<div>\n",
              "<style scoped>\n",
              "    .dataframe tbody tr th:only-of-type {\n",
              "        vertical-align: middle;\n",
              "    }\n",
              "\n",
              "    .dataframe tbody tr th {\n",
              "        vertical-align: top;\n",
              "    }\n",
              "\n",
              "    .dataframe thead th {\n",
              "        text-align: right;\n",
              "    }\n",
              "</style>\n",
              "<table border=\"1\" class=\"dataframe\">\n",
              "  <thead>\n",
              "    <tr style=\"text-align: right;\">\n",
              "      <th></th>\n",
              "      <th>id</th>\n",
              "      <th>age</th>\n",
              "      <th>player_height</th>\n",
              "      <th>player_weight</th>\n",
              "      <th>gp</th>\n",
              "      <th>pts</th>\n",
              "      <th>reb</th>\n",
              "      <th>ast</th>\n",
              "      <th>pts_normal</th>\n",
              "      <th>reb_normal</th>\n",
              "      <th>ast_normal</th>\n",
              "    </tr>\n",
              "  </thead>\n",
              "  <tbody>\n",
              "    <tr>\n",
              "      <th>id</th>\n",
              "      <td>1.000000</td>\n",
              "      <td>-0.093857</td>\n",
              "      <td>-0.006946</td>\n",
              "      <td>-0.023107</td>\n",
              "      <td>0.008645</td>\n",
              "      <td>0.025466</td>\n",
              "      <td>-0.004584</td>\n",
              "      <td>0.004296</td>\n",
              "      <td>0.025466</td>\n",
              "      <td>-0.004584</td>\n",
              "      <td>0.004296</td>\n",
              "    </tr>\n",
              "    <tr>\n",
              "      <th>age</th>\n",
              "      <td>-0.093857</td>\n",
              "      <td>1.000000</td>\n",
              "      <td>-0.017397</td>\n",
              "      <td>0.037889</td>\n",
              "      <td>0.024390</td>\n",
              "      <td>-0.011961</td>\n",
              "      <td>0.020847</td>\n",
              "      <td>0.076758</td>\n",
              "      <td>-0.011961</td>\n",
              "      <td>0.020847</td>\n",
              "      <td>0.076758</td>\n",
              "    </tr>\n",
              "    <tr>\n",
              "      <th>player_height</th>\n",
              "      <td>-0.006946</td>\n",
              "      <td>-0.017397</td>\n",
              "      <td>1.000000</td>\n",
              "      <td>0.833840</td>\n",
              "      <td>-0.016540</td>\n",
              "      <td>-0.065049</td>\n",
              "      <td>0.419668</td>\n",
              "      <td>-0.479044</td>\n",
              "      <td>-0.065049</td>\n",
              "      <td>0.419668</td>\n",
              "      <td>-0.479044</td>\n",
              "    </tr>\n",
              "    <tr>\n",
              "      <th>player_weight</th>\n",
              "      <td>-0.023107</td>\n",
              "      <td>0.037889</td>\n",
              "      <td>0.833840</td>\n",
              "      <td>1.000000</td>\n",
              "      <td>-0.001270</td>\n",
              "      <td>-0.038423</td>\n",
              "      <td>0.433640</td>\n",
              "      <td>-0.410936</td>\n",
              "      <td>-0.038423</td>\n",
              "      <td>0.433640</td>\n",
              "      <td>-0.410936</td>\n",
              "    </tr>\n",
              "    <tr>\n",
              "      <th>gp</th>\n",
              "      <td>0.008645</td>\n",
              "      <td>0.024390</td>\n",
              "      <td>-0.016540</td>\n",
              "      <td>-0.001270</td>\n",
              "      <td>1.000000</td>\n",
              "      <td>0.549818</td>\n",
              "      <td>0.475271</td>\n",
              "      <td>0.390687</td>\n",
              "      <td>0.549818</td>\n",
              "      <td>0.475271</td>\n",
              "      <td>0.390687</td>\n",
              "    </tr>\n",
              "    <tr>\n",
              "      <th>pts</th>\n",
              "      <td>0.025466</td>\n",
              "      <td>-0.011961</td>\n",
              "      <td>-0.065049</td>\n",
              "      <td>-0.038423</td>\n",
              "      <td>0.549818</td>\n",
              "      <td>1.000000</td>\n",
              "      <td>0.620702</td>\n",
              "      <td>0.644982</td>\n",
              "      <td>1.000000</td>\n",
              "      <td>0.620702</td>\n",
              "      <td>0.644982</td>\n",
              "    </tr>\n",
              "    <tr>\n",
              "      <th>reb</th>\n",
              "      <td>-0.004584</td>\n",
              "      <td>0.020847</td>\n",
              "      <td>0.419668</td>\n",
              "      <td>0.433640</td>\n",
              "      <td>0.475271</td>\n",
              "      <td>0.620702</td>\n",
              "      <td>1.000000</td>\n",
              "      <td>0.208972</td>\n",
              "      <td>0.620702</td>\n",
              "      <td>1.000000</td>\n",
              "      <td>0.208972</td>\n",
              "    </tr>\n",
              "    <tr>\n",
              "      <th>ast</th>\n",
              "      <td>0.004296</td>\n",
              "      <td>0.076758</td>\n",
              "      <td>-0.479044</td>\n",
              "      <td>-0.410936</td>\n",
              "      <td>0.390687</td>\n",
              "      <td>0.644982</td>\n",
              "      <td>0.208972</td>\n",
              "      <td>1.000000</td>\n",
              "      <td>0.644982</td>\n",
              "      <td>0.208972</td>\n",
              "      <td>1.000000</td>\n",
              "    </tr>\n",
              "    <tr>\n",
              "      <th>pts_normal</th>\n",
              "      <td>0.025466</td>\n",
              "      <td>-0.011961</td>\n",
              "      <td>-0.065049</td>\n",
              "      <td>-0.038423</td>\n",
              "      <td>0.549818</td>\n",
              "      <td>1.000000</td>\n",
              "      <td>0.620702</td>\n",
              "      <td>0.644982</td>\n",
              "      <td>1.000000</td>\n",
              "      <td>0.620702</td>\n",
              "      <td>0.644982</td>\n",
              "    </tr>\n",
              "    <tr>\n",
              "      <th>reb_normal</th>\n",
              "      <td>-0.004584</td>\n",
              "      <td>0.020847</td>\n",
              "      <td>0.419668</td>\n",
              "      <td>0.433640</td>\n",
              "      <td>0.475271</td>\n",
              "      <td>0.620702</td>\n",
              "      <td>1.000000</td>\n",
              "      <td>0.208972</td>\n",
              "      <td>0.620702</td>\n",
              "      <td>1.000000</td>\n",
              "      <td>0.208972</td>\n",
              "    </tr>\n",
              "    <tr>\n",
              "      <th>ast_normal</th>\n",
              "      <td>0.004296</td>\n",
              "      <td>0.076758</td>\n",
              "      <td>-0.479044</td>\n",
              "      <td>-0.410936</td>\n",
              "      <td>0.390687</td>\n",
              "      <td>0.644982</td>\n",
              "      <td>0.208972</td>\n",
              "      <td>1.000000</td>\n",
              "      <td>0.644982</td>\n",
              "      <td>0.208972</td>\n",
              "      <td>1.000000</td>\n",
              "    </tr>\n",
              "  </tbody>\n",
              "</table>\n",
              "</div>"
            ],
            "text/plain": [
              "                     id       age  ...  reb_normal  ast_normal\n",
              "id             1.000000 -0.093857  ...   -0.004584    0.004296\n",
              "age           -0.093857  1.000000  ...    0.020847    0.076758\n",
              "player_height -0.006946 -0.017397  ...    0.419668   -0.479044\n",
              "player_weight -0.023107  0.037889  ...    0.433640   -0.410936\n",
              "gp             0.008645  0.024390  ...    0.475271    0.390687\n",
              "pts            0.025466 -0.011961  ...    0.620702    0.644982\n",
              "reb           -0.004584  0.020847  ...    1.000000    0.208972\n",
              "ast            0.004296  0.076758  ...    0.208972    1.000000\n",
              "pts_normal     0.025466 -0.011961  ...    0.620702    0.644982\n",
              "reb_normal    -0.004584  0.020847  ...    1.000000    0.208972\n",
              "ast_normal     0.004296  0.076758  ...    0.208972    1.000000\n",
              "\n",
              "[11 rows x 11 columns]"
            ]
          },
          "metadata": {
            "tags": []
          },
          "execution_count": 226
        }
      ]
    },
    {
      "cell_type": "code",
      "metadata": {
        "id": "tQqBypoD5Fuv",
        "colab_type": "code",
        "colab": {
          "base_uri": "https://localhost:8080/",
          "height": 596
        },
        "outputId": "54d255f1-00dc-4cad-c01d-227e0dae49f9"
      },
      "source": [
        "\n",
        "plt.figure(figsize = (20,10))\n",
        "sns.heatmap(dataset1.corr(),annot = True,linewidths = 3.0);"
      ],
      "execution_count": 227,
      "outputs": [
        {
          "output_type": "display_data",
          "data": {
            "image/png": "[encoded data removed]",
            "text/plain": [
              "<Figure size 1440x720 with 2 Axes>"
            ]
          },
          "metadata": {
            "tags": []
          }
        }
      ]
    },
    {
      "cell_type": "markdown",
      "metadata": {
        "id": "pGbi8KIyK3PU",
        "colab_type": "text"
      },
      "source": [
        "\n",
        "\n",
        "---\n",
        "\n",
        "\n",
        "NNNNNNN\n",
        ".\n",
        "\n",
        "##**Apresentação e Visualização de Estatística Descritiva dos Dados**"
      ]
    },
    {
      "cell_type": "code",
      "metadata": {
        "id": "T4EWkuTdamI7",
        "colab_type": "code",
        "colab": {
          "base_uri": "https://localhost:8080/",
          "height": 117
        },
        "outputId": "903ddbc3-a13c-45fb-c7d3-689b54342d13"
      },
      "source": [
        "# dataset2 = dataset1[(dataset1['age'] > 30) & (dataset1['country'] != 'USA')]\n",
        "# dataset2 = dataset1[(dataset1['country'] != 'USA') & (dataset1['pts'] == dataset1['pts'].max())]\n",
        "# dataset2 = dataset2.groupby('season')\n",
        "\n",
        "#dataset2 = dataset1[(dataset1['country'] != 'USA')].groupby('player_name')\n",
        "#dataset2 = dataset1[(dataset1['team_abbreviation'] == 'CHI') & (dataset1['season'] == '1997-98') & (dataset1['player_name'] == 'Michael Jordan')]\n",
        "dataset2 = dataset1[(dataset1['pts'] == dataset1['pts'].max())]\n",
        "#dataset2 = dataset1[(dataset1['player_name'] == 'Michael Jordan')].sort_values(by='season', ascending=False)\n",
        "#dataset2 = dataset1[(dataset1['player_name'] == 'Lebron James')]['player_name', 'pts']\n",
        "dataset2.head()"
      ],
      "execution_count": 228,
      "outputs": [
        {
          "output_type": "execute_result",
          "data": {
            "text/html": [
              "<div>\n",
              "<style scoped>\n",
              "    .dataframe tbody tr th:only-of-type {\n",
              "        vertical-align: middle;\n",
              "    }\n",
              "\n",
              "    .dataframe tbody tr th {\n",
              "        vertical-align: top;\n",
              "    }\n",
              "\n",
              "    .dataframe thead th {\n",
              "        text-align: right;\n",
              "    }\n",
              "</style>\n",
              "<table border=\"1\" class=\"dataframe\">\n",
              "  <thead>\n",
              "    <tr style=\"text-align: right;\">\n",
              "      <th></th>\n",
              "      <th>id</th>\n",
              "      <th>player_name</th>\n",
              "      <th>team_abbreviation</th>\n",
              "      <th>age</th>\n",
              "      <th>player_height</th>\n",
              "      <th>player_weight</th>\n",
              "      <th>college</th>\n",
              "      <th>country</th>\n",
              "      <th>gp</th>\n",
              "      <th>pts</th>\n",
              "      <th>reb</th>\n",
              "      <th>ast</th>\n",
              "      <th>season</th>\n",
              "      <th>pts_normal</th>\n",
              "      <th>reb_normal</th>\n",
              "      <th>ast_normal</th>\n",
              "      <th>pts_disct</th>\n",
              "      <th>reb_disct</th>\n",
              "      <th>ast_disct</th>\n",
              "    </tr>\n",
              "  </thead>\n",
              "  <tbody>\n",
              "    <tr>\n",
              "      <th>4343</th>\n",
              "      <td>4343</td>\n",
              "      <td>Kobe Bryant</td>\n",
              "      <td>LAL</td>\n",
              "      <td>27.0</td>\n",
              "      <td>198.12</td>\n",
              "      <td>99.79024</td>\n",
              "      <td>None</td>\n",
              "      <td>USA</td>\n",
              "      <td>80</td>\n",
              "      <td>35.4</td>\n",
              "      <td>5.3</td>\n",
              "      <td>4.5</td>\n",
              "      <td>2005-06</td>\n",
              "      <td>4.638509</td>\n",
              "      <td>0.700635</td>\n",
              "      <td>1.514077</td>\n",
              "      <td>(33.04, 35.4]</td>\n",
              "      <td>(4.89, 6.52]</td>\n",
              "      <td>(3.51, 4.68]</td>\n",
              "    </tr>\n",
              "  </tbody>\n",
              "</table>\n",
              "</div>"
            ],
            "text/plain": [
              "        id  player_name  ...     reb_disct     ast_disct\n",
              "4343  4343  Kobe Bryant  ...  (4.89, 6.52]  (3.51, 4.68]\n",
              "\n",
              "[1 rows x 19 columns]"
            ]
          },
          "metadata": {
            "tags": []
          },
          "execution_count": 228
        }
      ]
    },
    {
      "cell_type": "code",
      "metadata": {
        "id": "glYp9xQklL_M",
        "colab_type": "code",
        "colab": {}
      },
      "source": [
        "dataset2 = dataset2.groupby('season')"
      ],
      "execution_count": 0,
      "outputs": []
    },
    {
      "cell_type": "code",
      "metadata": {
        "id": "6Y3W9l2mtuSj",
        "colab_type": "code",
        "colab": {
          "base_uri": "https://localhost:8080/",
          "height": 34
        },
        "outputId": "598732ad-f8d5-4c1e-8068-033dc9f42a23"
      },
      "source": [
        "len(dataset2)"
      ],
      "execution_count": 230,
      "outputs": [
        {
          "output_type": "execute_result",
          "data": {
            "text/plain": [
              "22"
            ]
          },
          "metadata": {
            "tags": []
          },
          "execution_count": 230
        }
      ]
    },
    {
      "cell_type": "code",
      "metadata": {
        "id": "KluxXNSwnMgE",
        "colab_type": "code",
        "colab": {
          "base_uri": "https://localhost:8080/",
          "height": 80
        },
        "outputId": "0e722c5c-aa2c-40ab-b731-782ea0590a1a"
      },
      "source": [
        "dataset3 = dataset1[(dataset1['pts'] == dataset1['pts'].max())].groupby('player_name')\n",
        "dataset3 = dataset3['player_name', 'team_abbreviation', 'age', 'country', 'gp', 'pts', 'reb', 'ast', 'season']\n",
        "dataset3.head()"
      ],
      "execution_count": 231,
      "outputs": [
        {
          "output_type": "execute_result",
          "data": {
            "text/html": [
              "<div>\n",
              "<style scoped>\n",
              "    .dataframe tbody tr th:only-of-type {\n",
              "        vertical-align: middle;\n",
              "    }\n",
              "\n",
              "    .dataframe tbody tr th {\n",
              "        vertical-align: top;\n",
              "    }\n",
              "\n",
              "    .dataframe thead th {\n",
              "        text-align: right;\n",
              "    }\n",
              "</style>\n",
              "<table border=\"1\" class=\"dataframe\">\n",
              "  <thead>\n",
              "    <tr style=\"text-align: right;\">\n",
              "      <th></th>\n",
              "      <th>player_name</th>\n",
              "      <th>team_abbreviation</th>\n",
              "      <th>age</th>\n",
              "      <th>country</th>\n",
              "      <th>gp</th>\n",
              "      <th>pts</th>\n",
              "      <th>reb</th>\n",
              "      <th>ast</th>\n",
              "      <th>season</th>\n",
              "    </tr>\n",
              "  </thead>\n",
              "  <tbody>\n",
              "    <tr>\n",
              "      <th>4343</th>\n",
              "      <td>Kobe Bryant</td>\n",
              "      <td>LAL</td>\n",
              "      <td>27.0</td>\n",
              "      <td>USA</td>\n",
              "      <td>80</td>\n",
              "      <td>35.4</td>\n",
              "      <td>5.3</td>\n",
              "      <td>4.5</td>\n",
              "      <td>2005-06</td>\n",
              "    </tr>\n",
              "  </tbody>\n",
              "</table>\n",
              "</div>"
            ],
            "text/plain": [
              "      player_name team_abbreviation   age country  gp   pts  reb  ast   season\n",
              "4343  Kobe Bryant               LAL  27.0     USA  80  35.4  5.3  4.5  2005-06"
            ]
          },
          "metadata": {
            "tags": []
          },
          "execution_count": 231
        }
      ]
    },
    {
      "cell_type": "code",
      "metadata": {
        "id": "am-3wmCArBYC",
        "colab_type": "code",
        "colab": {
          "base_uri": "https://localhost:8080/",
          "height": 34
        },
        "outputId": "3cccea66-4784-4862-a3bd-ce4a3662097b"
      },
      "source": [
        "len(dataset3)"
      ],
      "execution_count": 232,
      "outputs": [
        {
          "output_type": "execute_result",
          "data": {
            "text/plain": [
              "1"
            ]
          },
          "metadata": {
            "tags": []
          },
          "execution_count": 232
        }
      ]
    },
    {
      "cell_type": "code",
      "metadata": {
        "id": "BABJuTXJ_X-S",
        "colab_type": "code",
        "outputId": "4d1ce6a0-df98-4e7e-de98-563e93b125cd",
        "colab": {
          "base_uri": "https://localhost:8080/",
          "height": 235
        }
      },
      "source": [
        "#dataset1.groupby('team_abbreviation')['gp','pts', 'reb', 'ast'].sum()\n",
        "# dataset1.groupby('season')['pts', 'reb', 'ast'].sum()\n",
        "\n",
        "# dataset1['player_name'] = dataset['player_name'].astype('category')\n",
        "# dataset1['player_name'].cat.categories\n",
        "\n",
        "#dataset1.groupby('team_abbreviation')['pts', 'reb', 'ast'].sum()\n",
        "\n",
        "#  dataset1.groupby('player_name')['pts', 'reb', 'ast'].sum()\n",
        "\n",
        "#dataset2 = dataset1[(dataset1['pts'] > 0)].groupby('player_name')['pts', 'reb', 'ast'].sum()\n",
        "#dataset2 = dataset1[(dataset1['pts'] > 0)].groupby('player_name')['pts', 'reb', 'ast'].sum()\n",
        "#dataset1[(dataset1['pts'] > 0)].groupby('player_name').mean()\n",
        "\n",
        "\n",
        "filtro  = dataset1['pts'] > 0\n",
        "dataset_f = dataset1[filtro].groupby('pts')['pts', 'reb', 'ast'].mean()\n",
        "\n",
        "dataset_f['pts'].mean()\n",
        "\n",
        "dataset_f.head()"
      ],
      "execution_count": 233,
      "outputs": [
        {
          "output_type": "execute_result",
          "data": {
            "text/html": [
              "<div>\n",
              "<style scoped>\n",
              "    .dataframe tbody tr th:only-of-type {\n",
              "        vertical-align: middle;\n",
              "    }\n",
              "\n",
              "    .dataframe tbody tr th {\n",
              "        vertical-align: top;\n",
              "    }\n",
              "\n",
              "    .dataframe thead th {\n",
              "        text-align: right;\n",
              "    }\n",
              "</style>\n",
              "<table border=\"1\" class=\"dataframe\">\n",
              "  <thead>\n",
              "    <tr style=\"text-align: right;\">\n",
              "      <th></th>\n",
              "      <th>pts</th>\n",
              "      <th>reb</th>\n",
              "      <th>ast</th>\n",
              "    </tr>\n",
              "    <tr>\n",
              "      <th>pts</th>\n",
              "      <th></th>\n",
              "      <th></th>\n",
              "      <th></th>\n",
              "    </tr>\n",
              "  </thead>\n",
              "  <tbody>\n",
              "    <tr>\n",
              "      <th>0.1</th>\n",
              "      <td>0.1</td>\n",
              "      <td>0.866667</td>\n",
              "      <td>0.233333</td>\n",
              "    </tr>\n",
              "    <tr>\n",
              "      <th>0.2</th>\n",
              "      <td>0.2</td>\n",
              "      <td>0.816667</td>\n",
              "      <td>0.233333</td>\n",
              "    </tr>\n",
              "    <tr>\n",
              "      <th>0.3</th>\n",
              "      <td>0.3</td>\n",
              "      <td>0.660000</td>\n",
              "      <td>0.275000</td>\n",
              "    </tr>\n",
              "    <tr>\n",
              "      <th>0.4</th>\n",
              "      <td>0.4</td>\n",
              "      <td>0.606250</td>\n",
              "      <td>0.237500</td>\n",
              "    </tr>\n",
              "    <tr>\n",
              "      <th>0.5</th>\n",
              "      <td>0.5</td>\n",
              "      <td>0.900000</td>\n",
              "      <td>0.259259</td>\n",
              "    </tr>\n",
              "  </tbody>\n",
              "</table>\n",
              "</div>"
            ],
            "text/plain": [
              "     pts       reb       ast\n",
              "pts                         \n",
              "0.1  0.1  0.866667  0.233333\n",
              "0.2  0.2  0.816667  0.233333\n",
              "0.3  0.3  0.660000  0.275000\n",
              "0.4  0.4  0.606250  0.237500\n",
              "0.5  0.5  0.900000  0.259259"
            ]
          },
          "metadata": {
            "tags": []
          },
          "execution_count": 233
        }
      ]
    },
    {
      "cell_type": "code",
      "metadata": {
        "id": "bkBJXJg3TyUp",
        "colab_type": "code",
        "colab": {
          "base_uri": "https://localhost:8080/",
          "height": 296
        },
        "outputId": "530e31e8-fd23-47b3-ddfd-4495ed9ef95c"
      },
      "source": [
        "sns.countplot(x='season', data=dataset1)"
      ],
      "execution_count": 234,
      "outputs": [
        {
          "output_type": "execute_result",
          "data": {
            "text/plain": [
              "<matplotlib.axes._subplots.AxesSubplot at 0x7f31f26d9710>"
            ]
          },
          "metadata": {
            "tags": []
          },
          "execution_count": 234
        },
        {
          "output_type": "display_data",
          "data": {
            "image/png": "[encoded data removed]",
            "text/plain": [
              "<Figure size 432x288 with 1 Axes>"
            ]
          },
          "metadata": {
            "tags": []
          }
        }
      ]
    },
    {
      "cell_type": "code",
      "metadata": {
        "id": "Sj00H5YsOpqF",
        "colab_type": "code",
        "colab": {
          "base_uri": "https://localhost:8080/",
          "height": 297
        },
        "outputId": "5e689cca-97a5-4263-9af0-a90a9db62eeb"
      },
      "source": [
        "\n",
        "#list_pts = \n",
        "sns.countplot(x='team_abbreviation', data=dataset1)"
      ],
      "execution_count": 235,
      "outputs": [
        {
          "output_type": "execute_result",
          "data": {
            "text/plain": [
              "<matplotlib.axes._subplots.AxesSubplot at 0x7f31f26d9240>"
            ]
          },
          "metadata": {
            "tags": []
          },
          "execution_count": 235
        },
        {
          "output_type": "display_data",
          "data": {
            "image/png": "[encoded data removed]",
            "text/plain": [
              "<Figure size 432x288 with 1 Axes>"
            ]
          },
          "metadata": {
            "tags": []
          }
        }
      ]
    },
    {
      "cell_type": "code",
      "metadata": {
        "id": "UAYBgqSAP8r3",
        "colab_type": "code",
        "colab": {
          "base_uri": "https://localhost:8080/",
          "height": 119
        },
        "outputId": "6a98e7a3-7800-438b-92e9-78b8741222fc"
      },
      "source": [
        "# dataset3 = dataset1[(dataset1['pts'] == dataset1['pts'].max())].groupby('player_name')\n",
        "# dataset3 = dataset3['player_name', 'pts', 'season']\n",
        "# dataset3.head()\n",
        "\n",
        "# dataset1.groupby('player_name')['pts', 'reb', 'ast'].sum()\n",
        "# dataset2 = dataset1[(dataset1['pts'] == dataset1['pts'].max())].groupby('player_name')\n",
        "dataset2 = dataset1[(dataset1['country'] != 'USA')].mean() #.groupby('player_name').mean()\n",
        "#  dataset2.sort_values(by='pts', ascending=False)\n",
        " # dataset3 = dataset2[(dataset2['pts'] == dataset2['pts'].max())].groupby('player_name')\n",
        "\n",
        "dataset2.head()"
      ],
      "execution_count": 236,
      "outputs": [
        {
          "output_type": "execute_result",
          "data": {
            "text/plain": [
              "id               6137.023302\n",
              "age                26.718375\n",
              "player_height     206.194900\n",
              "player_weight     106.381216\n",
              "gp                 55.720373\n",
              "dtype: float64"
            ]
          },
          "metadata": {
            "tags": []
          },
          "execution_count": 236
        }
      ]
    },
    {
      "cell_type": "code",
      "metadata": {
        "id": "HrrCEwCKWyTO",
        "colab_type": "code",
        "colab": {
          "base_uri": "https://localhost:8080/",
          "height": 34
        },
        "outputId": "5f54487c-0eb1-4c7e-88d6-ab113a2c5fcb"
      },
      "source": [
        "len(dataset2)"
      ],
      "execution_count": 237,
      "outputs": [
        {
          "output_type": "execute_result",
          "data": {
            "text/plain": [
              "11"
            ]
          },
          "metadata": {
            "tags": []
          },
          "execution_count": 237
        }
      ]
    }
  ]
}