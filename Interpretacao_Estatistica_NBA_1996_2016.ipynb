{
  "nbformat": 4,
  "nbformat_minor": 0,
  "metadata": {
    "colab": {
      "name": "Interpretacao_Estatistica_NBA_1996_2016.ipynb",
      "provenance": [],
      "collapsed_sections": [],
      "include_colab_link": true
    },
    "kernelspec": {
      "name": "python3",
      "display_name": "Python 3"
    }
  },
  "cells": [
    {
      "cell_type": "markdown",
      "metadata": {
        "id": "view-in-github",
        "colab_type": "text"
      },
      "source": [
        "<a href=\"https://colab.research.google.com/github/cristianosps/Introducao_Ciencia_de_Dados/blob/master/Interpretacao_Estatistica_NBA_1996_2016.ipynb\" target=\"_parent\"><img src=\"https://colab.research.google.com/assets/colab-badge.svg\" alt=\"Open In Colab\"/></a>"
      ]
    },
    {
      "cell_type": "markdown",
      "metadata": {
        "id": "uHAs3sJ390ST",
        "colab_type": "text"
      },
      "source": [
        "\n",
        "\n",
        "---\n",
        "\n",
        "#**CESAR School/ CIn-UFPE - Especialização em Análise e Engenharia de Dados**\n",
        "\n",
        "##**Projeto de Avaliação para Disciplina \"Introdução à Análise de Dados\"**\n",
        "\n",
        "###**Professor: Luciano Barbosa**\n",
        "###**Monitor: Johny Moreira**\n"
      ]
    },
    {
      "cell_type": "markdown",
      "metadata": {
        "id": "uF-RduFQCYFz",
        "colab_type": "text"
      },
      "source": [
        "###**Aluno:** Cristiano Siqueirra P. de Santana\n",
        "###**Turma:** 2019.2 **| Matrícula:** 3415\n",
        "\n",
        "---\n",
        "\n"
      ]
    },
    {
      "cell_type": "markdown",
      "metadata": {
        "id": "XqoFhh06LXGD",
        "colab_type": "text"
      },
      "source": [
        "\n",
        "\n",
        "##**1. Apresentação**\n",
        "\n",
        "Neste projeto iremos realizar a leitura de uma determinada base de dados e faremos a interpretação das informações através das técnicas de extração e visualização de dados apresentadas durante a disciplina de \"Introdução à Análise de Dados\".\n",
        "\n",
        ".\n",
        "\n",
        "Nesta base de dados estão contidas informações relecionadas a estatística e aproveitamento de cada jogador da NBA, para cada temporada que disputou entre os anos de 1996 e 2018. \n",
        "\n",
        "Por este conjunto de dados podemos obter de cada jogador que passou pela NBA, entre os anos de 1996 e 2018, informações pessoais (Idade, País de origem, Faculdade...), porte físico (Altura, Peso...), Times/ Franquias que defendeu enquanto esteve na NBA e seu aproveitamento para cada temporada que disputou da liga.\n",
        "\n",
        ".\n",
        "\n",
        "**ATENÇÃO:** Na descrição da base de dados em sua origem, conforme fonte abaixo, diz que as informações são referentes as temporadas entre os anos de 1996 e 2016, porém ao começar a explorar algumas informações categorizadas (\"draft_year\", \"sesion\") foi verificado que a base foi atualizada e agora contempla dados de cada jogador até a temporada 2017-2018 da NBA.\n",
        "\n",
        ".\n",
        "\n",
        "(**Fonte:** https://www.kaggle.com/justinas/nba-players-data#all_seasons.csv)"
      ]
    },
    {
      "cell_type": "markdown",
      "metadata": {
        "id": "-fOPSL1UKFM9",
        "colab_type": "text"
      },
      "source": [
        "\n",
        "---\n",
        "\n",
        ".\n",
        "\n",
        "##**2. Pré-processamento da Base de Dados a ser estudada neste projeto**"
      ]
    },
    {
      "cell_type": "code",
      "metadata": {
        "id": "hZDqv14InSiA",
        "colab_type": "code",
        "outputId": "1221eccc-f3d1-4ec7-b878-c4d655ddce20",
        "colab": {
          "base_uri": "https://localhost:8080/",
          "height": 309
        }
      },
      "source": [
        "# Imports das bibliotecas necessárias para desenvolvimento do Projeto\n",
        "import numpy as np      # Biblioteca de funções Numpy\n",
        "import pandas as pd     # Biblioteca de funções Pamdas\n",
        "\n",
        "# Bibliotecas para auxiliar na visualização dos dados\n",
        "import seaborn as sns   \n",
        "import matplotlib.pyplot as plt\n",
        "\n",
        "import math\n",
        "\n",
        "# Conexão com repositório da base de dados no projeto\n",
        "dataset=pd.read_csv(\"https://raw.githubusercontent.com/cristianosps/Introducao_Ciencia_de_Dados/master/all_seasons1.csv\")\n",
        "\n",
        "# Apresentação dos dados \"brutos\" do repositório\n",
        "dataset.head()\n"
      ],
      "execution_count": 169,
      "outputs": [
        {
          "output_type": "execute_result",
          "data": {
            "text/html": [
              "<div>\n",
              "<style scoped>\n",
              "    .dataframe tbody tr th:only-of-type {\n",
              "        vertical-align: middle;\n",
              "    }\n",
              "\n",
              "    .dataframe tbody tr th {\n",
              "        vertical-align: top;\n",
              "    }\n",
              "\n",
              "    .dataframe thead th {\n",
              "        text-align: right;\n",
              "    }\n",
              "</style>\n",
              "<table border=\"1\" class=\"dataframe\">\n",
              "  <thead>\n",
              "    <tr style=\"text-align: right;\">\n",
              "      <th></th>\n",
              "      <th>id</th>\n",
              "      <th>player_name</th>\n",
              "      <th>team_abbreviation</th>\n",
              "      <th>age</th>\n",
              "      <th>player_height</th>\n",
              "      <th>player_weight</th>\n",
              "      <th>college</th>\n",
              "      <th>country</th>\n",
              "      <th>draft_year</th>\n",
              "      <th>draft_round</th>\n",
              "      <th>draft_number</th>\n",
              "      <th>gp</th>\n",
              "      <th>pts</th>\n",
              "      <th>reb</th>\n",
              "      <th>ast</th>\n",
              "      <th>net_rating</th>\n",
              "      <th>oreb_pct</th>\n",
              "      <th>dreb_pct</th>\n",
              "      <th>usg_pct</th>\n",
              "      <th>ts_pct</th>\n",
              "      <th>ast_pct</th>\n",
              "      <th>season</th>\n",
              "    </tr>\n",
              "  </thead>\n",
              "  <tbody>\n",
              "    <tr>\n",
              "      <th>0</th>\n",
              "      <td>0</td>\n",
              "      <td>George Zidek</td>\n",
              "      <td>DEN</td>\n",
              "      <td>23.0</td>\n",
              "      <td>213.36</td>\n",
              "      <td>119.748288</td>\n",
              "      <td>UCLA</td>\n",
              "      <td>USA</td>\n",
              "      <td>1995</td>\n",
              "      <td>1</td>\n",
              "      <td>22</td>\n",
              "      <td>52</td>\n",
              "      <td>2.8</td>\n",
              "      <td>1.7</td>\n",
              "      <td>0.3</td>\n",
              "      <td>-14.1</td>\n",
              "      <td>0.102</td>\n",
              "      <td>0.169</td>\n",
              "      <td>0.195</td>\n",
              "      <td>0.500</td>\n",
              "      <td>0.064</td>\n",
              "      <td>1996-97</td>\n",
              "    </tr>\n",
              "    <tr>\n",
              "      <th>1</th>\n",
              "      <td>1</td>\n",
              "      <td>Darrell Armstrong</td>\n",
              "      <td>ORL</td>\n",
              "      <td>29.0</td>\n",
              "      <td>185.42</td>\n",
              "      <td>81.646560</td>\n",
              "      <td>Fayetteville State</td>\n",
              "      <td>USA</td>\n",
              "      <td>Undrafted</td>\n",
              "      <td>Undrafted</td>\n",
              "      <td>Undrafted</td>\n",
              "      <td>67</td>\n",
              "      <td>6.1</td>\n",
              "      <td>1.1</td>\n",
              "      <td>2.6</td>\n",
              "      <td>0.3</td>\n",
              "      <td>0.039</td>\n",
              "      <td>0.050</td>\n",
              "      <td>0.222</td>\n",
              "      <td>0.525</td>\n",
              "      <td>0.308</td>\n",
              "      <td>1996-97</td>\n",
              "    </tr>\n",
              "    <tr>\n",
              "      <th>2</th>\n",
              "      <td>2</td>\n",
              "      <td>Darrick Martin</td>\n",
              "      <td>LAC</td>\n",
              "      <td>26.0</td>\n",
              "      <td>180.34</td>\n",
              "      <td>77.110640</td>\n",
              "      <td>UCLA</td>\n",
              "      <td>USA</td>\n",
              "      <td>Undrafted</td>\n",
              "      <td>Undrafted</td>\n",
              "      <td>Undrafted</td>\n",
              "      <td>82</td>\n",
              "      <td>10.9</td>\n",
              "      <td>1.4</td>\n",
              "      <td>4.1</td>\n",
              "      <td>-4.5</td>\n",
              "      <td>0.016</td>\n",
              "      <td>0.060</td>\n",
              "      <td>0.232</td>\n",
              "      <td>0.539</td>\n",
              "      <td>0.292</td>\n",
              "      <td>1996-97</td>\n",
              "    </tr>\n",
              "    <tr>\n",
              "      <th>3</th>\n",
              "      <td>3</td>\n",
              "      <td>Darrin Hancock</td>\n",
              "      <td>ATL</td>\n",
              "      <td>25.0</td>\n",
              "      <td>200.66</td>\n",
              "      <td>92.986360</td>\n",
              "      <td>Kansas</td>\n",
              "      <td>USA</td>\n",
              "      <td>1994</td>\n",
              "      <td>2</td>\n",
              "      <td>38</td>\n",
              "      <td>24</td>\n",
              "      <td>1.8</td>\n",
              "      <td>0.8</td>\n",
              "      <td>0.5</td>\n",
              "      <td>-2.6</td>\n",
              "      <td>0.030</td>\n",
              "      <td>0.118</td>\n",
              "      <td>0.159</td>\n",
              "      <td>0.510</td>\n",
              "      <td>0.136</td>\n",
              "      <td>1996-97</td>\n",
              "    </tr>\n",
              "    <tr>\n",
              "      <th>4</th>\n",
              "      <td>4</td>\n",
              "      <td>Darvin Ham</td>\n",
              "      <td>IND</td>\n",
              "      <td>23.0</td>\n",
              "      <td>200.66</td>\n",
              "      <td>99.790240</td>\n",
              "      <td>Texas Tech</td>\n",
              "      <td>USA</td>\n",
              "      <td>Undrafted</td>\n",
              "      <td>Undrafted</td>\n",
              "      <td>Undrafted</td>\n",
              "      <td>36</td>\n",
              "      <td>2.3</td>\n",
              "      <td>1.6</td>\n",
              "      <td>0.4</td>\n",
              "      <td>-2.0</td>\n",
              "      <td>0.109</td>\n",
              "      <td>0.097</td>\n",
              "      <td>0.140</td>\n",
              "      <td>0.536</td>\n",
              "      <td>0.072</td>\n",
              "      <td>1996-97</td>\n",
              "    </tr>\n",
              "  </tbody>\n",
              "</table>\n",
              "</div>"
            ],
            "text/plain": [
              "   id        player_name team_abbreviation  ...  ts_pct  ast_pct   season\n",
              "0   0       George Zidek               DEN  ...   0.500    0.064  1996-97\n",
              "1   1  Darrell Armstrong               ORL  ...   0.525    0.308  1996-97\n",
              "2   2     Darrick Martin               LAC  ...   0.539    0.292  1996-97\n",
              "3   3     Darrin Hancock               ATL  ...   0.510    0.136  1996-97\n",
              "4   4         Darvin Ham               IND  ...   0.536    0.072  1996-97\n",
              "\n",
              "[5 rows x 22 columns]"
            ]
          },
          "metadata": {
            "tags": []
          },
          "execution_count": 169
        }
      ]
    },
    {
      "cell_type": "code",
      "metadata": {
        "id": "nQfRWanO0cOg",
        "colab_type": "code",
        "colab": {
          "base_uri": "https://localhost:8080/",
          "height": 476
        },
        "outputId": "60d54743-6ed4-4442-a2cf-29e16979cc44"
      },
      "source": [
        "# Apresentação das informações iniciais da base de dados\n",
        "\n",
        "#  - Total de Entradas (10101)\n",
        "#    . Índices inicial e final das entradas (0 - 10100)\n",
        "#  - Toral de Colunas (22)\n",
        "#  - Lista de Coulnas (Descrição na apresentação da base de dados)\n",
        "#    . Nome da Coluna\n",
        "#    . Valore nulo (S/N)\n",
        "#    . Tipo de Dado\n",
        "\n",
        "dataset.info()"
      ],
      "execution_count": 170,
      "outputs": [
        {
          "output_type": "stream",
          "text": [
            "<class 'pandas.core.frame.DataFrame'>\n",
            "RangeIndex: 10101 entries, 0 to 10100\n",
            "Data columns (total 22 columns):\n",
            "id                   10101 non-null int64\n",
            "player_name          10101 non-null object\n",
            "team_abbreviation    10101 non-null object\n",
            "age                  10101 non-null float64\n",
            "player_height        10101 non-null float64\n",
            "player_weight        10101 non-null float64\n",
            "college              10101 non-null object\n",
            "country              10101 non-null object\n",
            "draft_year           10101 non-null object\n",
            "draft_round          10101 non-null object\n",
            "draft_number         10101 non-null object\n",
            "gp                   10101 non-null int64\n",
            "pts                  10101 non-null float64\n",
            "reb                  10101 non-null float64\n",
            "ast                  10101 non-null float64\n",
            "net_rating           10101 non-null float64\n",
            "oreb_pct             10101 non-null float64\n",
            "dreb_pct             10101 non-null float64\n",
            "usg_pct              10101 non-null float64\n",
            "ts_pct               10101 non-null float64\n",
            "ast_pct              10101 non-null float64\n",
            "season               10101 non-null object\n",
            "dtypes: float64(12), int64(2), object(8)\n",
            "memory usage: 1.7+ MB\n"
          ],
          "name": "stdout"
        }
      ]
    },
    {
      "cell_type": "code",
      "metadata": {
        "id": "0Kv3Pf3C7M0v",
        "colab_type": "code",
        "outputId": "2937bcb8-345f-42fe-ec5b-6cc1581c5fd8",
        "colab": {
          "base_uri": "https://localhost:8080/",
          "height": 408
        }
      },
      "source": [
        "# Apresentação dos tipos de dados iniciais para cada coluna da base de dados\n",
        "\n",
        "dataset.dtypes"
      ],
      "execution_count": 171,
      "outputs": [
        {
          "output_type": "execute_result",
          "data": {
            "text/plain": [
              "id                     int64\n",
              "player_name           object\n",
              "team_abbreviation     object\n",
              "age                  float64\n",
              "player_height        float64\n",
              "player_weight        float64\n",
              "college               object\n",
              "country               object\n",
              "draft_year            object\n",
              "draft_round           object\n",
              "draft_number          object\n",
              "gp                     int64\n",
              "pts                  float64\n",
              "reb                  float64\n",
              "ast                  float64\n",
              "net_rating           float64\n",
              "oreb_pct             float64\n",
              "dreb_pct             float64\n",
              "usg_pct              float64\n",
              "ts_pct               float64\n",
              "ast_pct              float64\n",
              "season                object\n",
              "dtype: object"
            ]
          },
          "metadata": {
            "tags": []
          },
          "execution_count": 171
        }
      ]
    },
    {
      "cell_type": "code",
      "metadata": {
        "id": "kDHVYnFc8-pH",
        "colab_type": "code",
        "colab": {}
      },
      "source": [
        "# Criação categorias de dados para base com o objetivo auxiliar no entendimento e extração das informações existentes\n",
        "# Colunas categorizadas: team_abbreviation | college | country | draft_year | season\n",
        "\n",
        "dataset['team_abbreviation'] = dataset['team_abbreviation'].astype('category')\n",
        "dataset['college'] = dataset['college'].astype('category')\n",
        "dataset['country'] = dataset['country'].astype('category')\n",
        "dataset['draft_year'] = dataset['draft_year'].astype('category')\n",
        "dataset['season'] = dataset['season'].astype('category')"
      ],
      "execution_count": 0,
      "outputs": []
    },
    {
      "cell_type": "code",
      "metadata": {
        "id": "sHk-6PGo_O4g",
        "colab_type": "code",
        "outputId": "9d06cf9b-993f-4560-e3ae-bcb70317f9e9",
        "colab": {
          "base_uri": "https://localhost:8080/",
          "height": 408
        }
      },
      "source": [
        "# Apresentação das categorias de dados criadas para base a ser estudada\n",
        "# Colunas categorizadas: team_abbreviation | college | country | draft_year | season\n",
        "\n",
        "dataset.dtypes"
      ],
      "execution_count": 173,
      "outputs": [
        {
          "output_type": "execute_result",
          "data": {
            "text/plain": [
              "id                      int64\n",
              "player_name            object\n",
              "team_abbreviation    category\n",
              "age                   float64\n",
              "player_height         float64\n",
              "player_weight         float64\n",
              "college              category\n",
              "country              category\n",
              "draft_year           category\n",
              "draft_round            object\n",
              "draft_number           object\n",
              "gp                      int64\n",
              "pts                   float64\n",
              "reb                   float64\n",
              "ast                   float64\n",
              "net_rating            float64\n",
              "oreb_pct              float64\n",
              "dreb_pct              float64\n",
              "usg_pct               float64\n",
              "ts_pct                float64\n",
              "ast_pct               float64\n",
              "season               category\n",
              "dtype: object"
            ]
          },
          "metadata": {
            "tags": []
          },
          "execution_count": 173
        }
      ]
    },
    {
      "cell_type": "code",
      "metadata": {
        "id": "HsXHT7Fg_e06",
        "colab_type": "code",
        "outputId": "61c55452-4e05-4936-a348-7bae75390fe3",
        "colab": {
          "base_uri": "https://localhost:8080/",
          "height": 102
        }
      },
      "source": [
        "# Apresetação do valores contidos na categoria \"team_abbreviation\"\n",
        "\n",
        "dataset['team_abbreviation'].cat.categories"
      ],
      "execution_count": 174,
      "outputs": [
        {
          "output_type": "execute_result",
          "data": {
            "text/plain": [
              "Index(['ATL', 'BKN', 'BOS', 'CHA', 'CHH', 'CHI', 'CLE', 'DAL', 'DEN', 'DET',\n",
              "       'GSW', 'HOU', 'IND', 'LAC', 'LAL', 'MEM', 'MIA', 'MIL', 'MIN', 'NJN',\n",
              "       'NOH', 'NOK', 'NOP', 'NYK', 'OKC', 'ORL', 'PHI', 'PHX', 'POR', 'SAC',\n",
              "       'SAS', 'SEA', 'TOR', 'UTA', 'VAN', 'WAS'],\n",
              "      dtype='object')"
            ]
          },
          "metadata": {
            "tags": []
          },
          "execution_count": 174
        }
      ]
    },
    {
      "cell_type": "code",
      "metadata": {
        "id": "uMLGUoz_CQ1i",
        "colab_type": "code",
        "outputId": "082344a0-f2b2-4214-81a5-b1b66bafba80",
        "colab": {
          "base_uri": "https://localhost:8080/",
          "height": 153
        }
      },
      "source": [
        "# Apresetação do valores contidos na categoria \"college\"\n",
        "\n",
        "dataset['college'].cat.categories"
      ],
      "execution_count": 175,
      "outputs": [
        {
          "output_type": "execute_result",
          "data": {
            "text/plain": [
              "Index(['Alabama', 'Alabama A&M', 'Alabama-Birmingham', 'Alabama-Huntsville',\n",
              "       'Albany State (GA)', 'American', 'American International', 'Arizona',\n",
              "       'Arizona State', 'Arkansas',\n",
              "       ...\n",
              "       'William Paterson', 'Wingate', 'Wisconsin', 'Wisconsin-Green Bay',\n",
              "       'Wisconsin-Stevens Point', 'Wright State', 'Wyoming', 'Xavier', 'Yale',\n",
              "       'Yonsei (KOR)'],\n",
              "      dtype='object', length=298)"
            ]
          },
          "metadata": {
            "tags": []
          },
          "execution_count": 175
        }
      ]
    },
    {
      "cell_type": "code",
      "metadata": {
        "id": "lbV5ffJiCzXh",
        "colab_type": "code",
        "outputId": "6a63cae9-d912-4a71-a67c-af963b1752a6",
        "colab": {
          "base_uri": "https://localhost:8080/",
          "height": 272
        }
      },
      "source": [
        "# Apresetação do valores contidos na categoria \"country\"\n",
        "\n",
        "dataset['country'].cat.categories"
      ],
      "execution_count": 176,
      "outputs": [
        {
          "output_type": "execute_result",
          "data": {
            "text/plain": [
              "Index(['Argentina', 'Australia', 'Austria', 'Bahamas', 'Belize', 'Bosnia',\n",
              "       'Bosnia & Herzegovina', 'Bosnia and Herzegovina', 'Brazil',\n",
              "       'Cabo Verde', 'Cameroon', 'Canada', 'China', 'Congo', 'Croatia',\n",
              "       'Czech Republic', 'Democratic Republic of the Congo',\n",
              "       'Dominican Republic', 'Egypt', 'England', 'Finland', 'France', 'Gabon',\n",
              "       'Georgia', 'Germany', 'Ghana', 'Great Britain', 'Greece', 'Haiti',\n",
              "       'Iran', 'Ireland', 'Israel', 'Italy', 'Jamaica', 'Latvia', 'Lithuania',\n",
              "       'Macedonia', 'Mali', 'Mexico', 'Montenegro', 'Netherlands',\n",
              "       'New Zealand', 'Nigeria', 'Panama', 'Poland', 'Puerto Rico', 'Russia',\n",
              "       'Scotland', 'Senegal', 'Serbia', 'Serbia and Montenegro', 'Slovenia',\n",
              "       'South Korea', 'South Sudan', 'Spain', 'St. Vincent & Grenadines',\n",
              "       'Sudan (UK)', 'Sweden', 'Switzerland', 'Tanzania', 'Tunisia', 'Turkey',\n",
              "       'U.S. Virgin Islands', 'US Virgin Islands', 'USA', 'USSR', 'Ukraine',\n",
              "       'United Kingdom', 'Uruguay', 'Venezuela', 'Yugoslavia'],\n",
              "      dtype='object')"
            ]
          },
          "metadata": {
            "tags": []
          },
          "execution_count": 176
        }
      ]
    },
    {
      "cell_type": "code",
      "metadata": {
        "id": "GeaxS3MmDADc",
        "colab_type": "code",
        "outputId": "a212ceec-7eea-4136-d6b8-37eba3b49728",
        "colab": {
          "base_uri": "https://localhost:8080/",
          "height": 119
        }
      },
      "source": [
        "# Apresetação do valores contidos na categoria \"draft_year\"\n",
        "\n",
        "dataset['draft_year'].cat.categories"
      ],
      "execution_count": 177,
      "outputs": [
        {
          "output_type": "execute_result",
          "data": {
            "text/plain": [
              "Index(['1963', '1976', '1978', '1979', '1980', '1981', '1982', '1983', '1984',\n",
              "       '1985', '1986', '1987', '1988', '1989', '1990', '1991', '1992', '1993',\n",
              "       '1994', '1995', '1996', '1997', '1998', '1999', '2000', '2001', '2002',\n",
              "       '2003', '2004', '2005', '2006', '2007', '2008', '2009', '2010', '2011',\n",
              "       '2012', '2013', '2014', '2015', '2016', '2017', 'Undrafted'],\n",
              "      dtype='object')"
            ]
          },
          "metadata": {
            "tags": []
          },
          "execution_count": 177
        }
      ]
    },
    {
      "cell_type": "code",
      "metadata": {
        "id": "AFtkRkN0DP-5",
        "colab_type": "code",
        "outputId": "83220099-8b57-4a55-aa70-112361d45bb8",
        "colab": {
          "base_uri": "https://localhost:8080/",
          "height": 102
        }
      },
      "source": [
        "# Apresetação do valores contidos na categoria \"season\"\n",
        "\n",
        "dataset['season'].cat.categories"
      ],
      "execution_count": 178,
      "outputs": [
        {
          "output_type": "execute_result",
          "data": {
            "text/plain": [
              "Index(['1996-97', '1997-98', '1998-99', '1999-00', '2000-01', '2001-02',\n",
              "       '2002-03', '2003-04', '2004-05', '2005-06', '2006-07', '2007-08',\n",
              "       '2008-09', '2009-10', '2010-11', '2011-12', '2012-13', '2013-14',\n",
              "       '2014-15', '2015-16', '2016-17', '2017-18'],\n",
              "      dtype='object')"
            ]
          },
          "metadata": {
            "tags": []
          },
          "execution_count": 178
        }
      ]
    },
    {
      "cell_type": "code",
      "metadata": {
        "id": "NtevuI6cFF2b",
        "colab_type": "code",
        "outputId": "6764e38e-b6b8-4ad4-ca30-8809afe376eb",
        "colab": {
          "base_uri": "https://localhost:8080/",
          "height": 309
        }
      },
      "source": [
        "# Apresetação dos dados do repositório após categorização da Base de Dados\n",
        "# Colunas categorizadas: team_abbreviation | college | country | draft_year | season\n",
        "\n",
        "dataset.head()"
      ],
      "execution_count": 179,
      "outputs": [
        {
          "output_type": "execute_result",
          "data": {
            "text/html": [
              "<div>\n",
              "<style scoped>\n",
              "    .dataframe tbody tr th:only-of-type {\n",
              "        vertical-align: middle;\n",
              "    }\n",
              "\n",
              "    .dataframe tbody tr th {\n",
              "        vertical-align: top;\n",
              "    }\n",
              "\n",
              "    .dataframe thead th {\n",
              "        text-align: right;\n",
              "    }\n",
              "</style>\n",
              "<table border=\"1\" class=\"dataframe\">\n",
              "  <thead>\n",
              "    <tr style=\"text-align: right;\">\n",
              "      <th></th>\n",
              "      <th>id</th>\n",
              "      <th>player_name</th>\n",
              "      <th>team_abbreviation</th>\n",
              "      <th>age</th>\n",
              "      <th>player_height</th>\n",
              "      <th>player_weight</th>\n",
              "      <th>college</th>\n",
              "      <th>country</th>\n",
              "      <th>draft_year</th>\n",
              "      <th>draft_round</th>\n",
              "      <th>draft_number</th>\n",
              "      <th>gp</th>\n",
              "      <th>pts</th>\n",
              "      <th>reb</th>\n",
              "      <th>ast</th>\n",
              "      <th>net_rating</th>\n",
              "      <th>oreb_pct</th>\n",
              "      <th>dreb_pct</th>\n",
              "      <th>usg_pct</th>\n",
              "      <th>ts_pct</th>\n",
              "      <th>ast_pct</th>\n",
              "      <th>season</th>\n",
              "    </tr>\n",
              "  </thead>\n",
              "  <tbody>\n",
              "    <tr>\n",
              "      <th>0</th>\n",
              "      <td>0</td>\n",
              "      <td>George Zidek</td>\n",
              "      <td>DEN</td>\n",
              "      <td>23.0</td>\n",
              "      <td>213.36</td>\n",
              "      <td>119.748288</td>\n",
              "      <td>UCLA</td>\n",
              "      <td>USA</td>\n",
              "      <td>1995</td>\n",
              "      <td>1</td>\n",
              "      <td>22</td>\n",
              "      <td>52</td>\n",
              "      <td>2.8</td>\n",
              "      <td>1.7</td>\n",
              "      <td>0.3</td>\n",
              "      <td>-14.1</td>\n",
              "      <td>0.102</td>\n",
              "      <td>0.169</td>\n",
              "      <td>0.195</td>\n",
              "      <td>0.500</td>\n",
              "      <td>0.064</td>\n",
              "      <td>1996-97</td>\n",
              "    </tr>\n",
              "    <tr>\n",
              "      <th>1</th>\n",
              "      <td>1</td>\n",
              "      <td>Darrell Armstrong</td>\n",
              "      <td>ORL</td>\n",
              "      <td>29.0</td>\n",
              "      <td>185.42</td>\n",
              "      <td>81.646560</td>\n",
              "      <td>Fayetteville State</td>\n",
              "      <td>USA</td>\n",
              "      <td>Undrafted</td>\n",
              "      <td>Undrafted</td>\n",
              "      <td>Undrafted</td>\n",
              "      <td>67</td>\n",
              "      <td>6.1</td>\n",
              "      <td>1.1</td>\n",
              "      <td>2.6</td>\n",
              "      <td>0.3</td>\n",
              "      <td>0.039</td>\n",
              "      <td>0.050</td>\n",
              "      <td>0.222</td>\n",
              "      <td>0.525</td>\n",
              "      <td>0.308</td>\n",
              "      <td>1996-97</td>\n",
              "    </tr>\n",
              "    <tr>\n",
              "      <th>2</th>\n",
              "      <td>2</td>\n",
              "      <td>Darrick Martin</td>\n",
              "      <td>LAC</td>\n",
              "      <td>26.0</td>\n",
              "      <td>180.34</td>\n",
              "      <td>77.110640</td>\n",
              "      <td>UCLA</td>\n",
              "      <td>USA</td>\n",
              "      <td>Undrafted</td>\n",
              "      <td>Undrafted</td>\n",
              "      <td>Undrafted</td>\n",
              "      <td>82</td>\n",
              "      <td>10.9</td>\n",
              "      <td>1.4</td>\n",
              "      <td>4.1</td>\n",
              "      <td>-4.5</td>\n",
              "      <td>0.016</td>\n",
              "      <td>0.060</td>\n",
              "      <td>0.232</td>\n",
              "      <td>0.539</td>\n",
              "      <td>0.292</td>\n",
              "      <td>1996-97</td>\n",
              "    </tr>\n",
              "    <tr>\n",
              "      <th>3</th>\n",
              "      <td>3</td>\n",
              "      <td>Darrin Hancock</td>\n",
              "      <td>ATL</td>\n",
              "      <td>25.0</td>\n",
              "      <td>200.66</td>\n",
              "      <td>92.986360</td>\n",
              "      <td>Kansas</td>\n",
              "      <td>USA</td>\n",
              "      <td>1994</td>\n",
              "      <td>2</td>\n",
              "      <td>38</td>\n",
              "      <td>24</td>\n",
              "      <td>1.8</td>\n",
              "      <td>0.8</td>\n",
              "      <td>0.5</td>\n",
              "      <td>-2.6</td>\n",
              "      <td>0.030</td>\n",
              "      <td>0.118</td>\n",
              "      <td>0.159</td>\n",
              "      <td>0.510</td>\n",
              "      <td>0.136</td>\n",
              "      <td>1996-97</td>\n",
              "    </tr>\n",
              "    <tr>\n",
              "      <th>4</th>\n",
              "      <td>4</td>\n",
              "      <td>Darvin Ham</td>\n",
              "      <td>IND</td>\n",
              "      <td>23.0</td>\n",
              "      <td>200.66</td>\n",
              "      <td>99.790240</td>\n",
              "      <td>Texas Tech</td>\n",
              "      <td>USA</td>\n",
              "      <td>Undrafted</td>\n",
              "      <td>Undrafted</td>\n",
              "      <td>Undrafted</td>\n",
              "      <td>36</td>\n",
              "      <td>2.3</td>\n",
              "      <td>1.6</td>\n",
              "      <td>0.4</td>\n",
              "      <td>-2.0</td>\n",
              "      <td>0.109</td>\n",
              "      <td>0.097</td>\n",
              "      <td>0.140</td>\n",
              "      <td>0.536</td>\n",
              "      <td>0.072</td>\n",
              "      <td>1996-97</td>\n",
              "    </tr>\n",
              "  </tbody>\n",
              "</table>\n",
              "</div>"
            ],
            "text/plain": [
              "   id        player_name team_abbreviation  ...  ts_pct  ast_pct   season\n",
              "0   0       George Zidek               DEN  ...   0.500    0.064  1996-97\n",
              "1   1  Darrell Armstrong               ORL  ...   0.525    0.308  1996-97\n",
              "2   2     Darrick Martin               LAC  ...   0.539    0.292  1996-97\n",
              "3   3     Darrin Hancock               ATL  ...   0.510    0.136  1996-97\n",
              "4   4         Darvin Ham               IND  ...   0.536    0.072  1996-97\n",
              "\n",
              "[5 rows x 22 columns]"
            ]
          },
          "metadata": {
            "tags": []
          },
          "execution_count": 179
        }
      ]
    },
    {
      "cell_type": "code",
      "metadata": {
        "id": "AqqvbL27EJbV",
        "colab_type": "code",
        "outputId": "d3d69425-f799-4094-fcb6-d743ed9f9dfe",
        "colab": {
          "base_uri": "https://localhost:8080/",
          "height": 34
        }
      },
      "source": [
        "# Verificação do tamanho da base de dados a ser estudada [Número de entradas, Número de colunas/ Variáveis]\n",
        "\n",
        "dataset.shape"
      ],
      "execution_count": 180,
      "outputs": [
        {
          "output_type": "execute_result",
          "data": {
            "text/plain": [
              "(10101, 22)"
            ]
          },
          "metadata": {
            "tags": []
          },
          "execution_count": 180
        }
      ]
    },
    {
      "cell_type": "code",
      "metadata": {
        "id": "7pWm-8quFSet",
        "colab_type": "code",
        "outputId": "3ffc7cad-d4f6-4792-f44b-3848b540c02d",
        "colab": {
          "base_uri": "https://localhost:8080/",
          "height": 408
        }
      },
      "source": [
        "# Verificação de valores nulos dentre as colunas da base de dados\n",
        "# Base de dados bem concistente e com suas informações preenchidas para o período, sem a necessidade de remoção de colunas\n",
        "\n",
        "print(dataset.isnull().sum())"
      ],
      "execution_count": 181,
      "outputs": [
        {
          "output_type": "stream",
          "text": [
            "id                   0\n",
            "player_name          0\n",
            "team_abbreviation    0\n",
            "age                  0\n",
            "player_height        0\n",
            "player_weight        0\n",
            "college              0\n",
            "country              0\n",
            "draft_year           0\n",
            "draft_round          0\n",
            "draft_number         0\n",
            "gp                   0\n",
            "pts                  0\n",
            "reb                  0\n",
            "ast                  0\n",
            "net_rating           0\n",
            "oreb_pct             0\n",
            "dreb_pct             0\n",
            "usg_pct              0\n",
            "ts_pct               0\n",
            "ast_pct              0\n",
            "season               0\n",
            "dtype: int64\n"
          ],
          "name": "stdout"
        }
      ]
    },
    {
      "cell_type": "code",
      "metadata": {
        "id": "P6QYBQeFFqZR",
        "colab_type": "code",
        "outputId": "3f351747-97d3-47bb-c22b-9807c3e967c0",
        "colab": {
          "base_uri": "https://localhost:8080/",
          "height": 309
        }
      },
      "source": [
        "# Caso houvesse linhas(s) a ser(em) removida(s) o comando abaixo seria responsável por realizar o ajuste da base de dados\n",
        "\n",
        "dataset1 = dataset.dropna(thresh=0.75*len(dataset), axis=1)\n",
        "dataset1.head()"
      ],
      "execution_count": 182,
      "outputs": [
        {
          "output_type": "execute_result",
          "data": {
            "text/html": [
              "<div>\n",
              "<style scoped>\n",
              "    .dataframe tbody tr th:only-of-type {\n",
              "        vertical-align: middle;\n",
              "    }\n",
              "\n",
              "    .dataframe tbody tr th {\n",
              "        vertical-align: top;\n",
              "    }\n",
              "\n",
              "    .dataframe thead th {\n",
              "        text-align: right;\n",
              "    }\n",
              "</style>\n",
              "<table border=\"1\" class=\"dataframe\">\n",
              "  <thead>\n",
              "    <tr style=\"text-align: right;\">\n",
              "      <th></th>\n",
              "      <th>id</th>\n",
              "      <th>player_name</th>\n",
              "      <th>team_abbreviation</th>\n",
              "      <th>age</th>\n",
              "      <th>player_height</th>\n",
              "      <th>player_weight</th>\n",
              "      <th>college</th>\n",
              "      <th>country</th>\n",
              "      <th>draft_year</th>\n",
              "      <th>draft_round</th>\n",
              "      <th>draft_number</th>\n",
              "      <th>gp</th>\n",
              "      <th>pts</th>\n",
              "      <th>reb</th>\n",
              "      <th>ast</th>\n",
              "      <th>net_rating</th>\n",
              "      <th>oreb_pct</th>\n",
              "      <th>dreb_pct</th>\n",
              "      <th>usg_pct</th>\n",
              "      <th>ts_pct</th>\n",
              "      <th>ast_pct</th>\n",
              "      <th>season</th>\n",
              "    </tr>\n",
              "  </thead>\n",
              "  <tbody>\n",
              "    <tr>\n",
              "      <th>0</th>\n",
              "      <td>0</td>\n",
              "      <td>George Zidek</td>\n",
              "      <td>DEN</td>\n",
              "      <td>23.0</td>\n",
              "      <td>213.36</td>\n",
              "      <td>119.748288</td>\n",
              "      <td>UCLA</td>\n",
              "      <td>USA</td>\n",
              "      <td>1995</td>\n",
              "      <td>1</td>\n",
              "      <td>22</td>\n",
              "      <td>52</td>\n",
              "      <td>2.8</td>\n",
              "      <td>1.7</td>\n",
              "      <td>0.3</td>\n",
              "      <td>-14.1</td>\n",
              "      <td>0.102</td>\n",
              "      <td>0.169</td>\n",
              "      <td>0.195</td>\n",
              "      <td>0.500</td>\n",
              "      <td>0.064</td>\n",
              "      <td>1996-97</td>\n",
              "    </tr>\n",
              "    <tr>\n",
              "      <th>1</th>\n",
              "      <td>1</td>\n",
              "      <td>Darrell Armstrong</td>\n",
              "      <td>ORL</td>\n",
              "      <td>29.0</td>\n",
              "      <td>185.42</td>\n",
              "      <td>81.646560</td>\n",
              "      <td>Fayetteville State</td>\n",
              "      <td>USA</td>\n",
              "      <td>Undrafted</td>\n",
              "      <td>Undrafted</td>\n",
              "      <td>Undrafted</td>\n",
              "      <td>67</td>\n",
              "      <td>6.1</td>\n",
              "      <td>1.1</td>\n",
              "      <td>2.6</td>\n",
              "      <td>0.3</td>\n",
              "      <td>0.039</td>\n",
              "      <td>0.050</td>\n",
              "      <td>0.222</td>\n",
              "      <td>0.525</td>\n",
              "      <td>0.308</td>\n",
              "      <td>1996-97</td>\n",
              "    </tr>\n",
              "    <tr>\n",
              "      <th>2</th>\n",
              "      <td>2</td>\n",
              "      <td>Darrick Martin</td>\n",
              "      <td>LAC</td>\n",
              "      <td>26.0</td>\n",
              "      <td>180.34</td>\n",
              "      <td>77.110640</td>\n",
              "      <td>UCLA</td>\n",
              "      <td>USA</td>\n",
              "      <td>Undrafted</td>\n",
              "      <td>Undrafted</td>\n",
              "      <td>Undrafted</td>\n",
              "      <td>82</td>\n",
              "      <td>10.9</td>\n",
              "      <td>1.4</td>\n",
              "      <td>4.1</td>\n",
              "      <td>-4.5</td>\n",
              "      <td>0.016</td>\n",
              "      <td>0.060</td>\n",
              "      <td>0.232</td>\n",
              "      <td>0.539</td>\n",
              "      <td>0.292</td>\n",
              "      <td>1996-97</td>\n",
              "    </tr>\n",
              "    <tr>\n",
              "      <th>3</th>\n",
              "      <td>3</td>\n",
              "      <td>Darrin Hancock</td>\n",
              "      <td>ATL</td>\n",
              "      <td>25.0</td>\n",
              "      <td>200.66</td>\n",
              "      <td>92.986360</td>\n",
              "      <td>Kansas</td>\n",
              "      <td>USA</td>\n",
              "      <td>1994</td>\n",
              "      <td>2</td>\n",
              "      <td>38</td>\n",
              "      <td>24</td>\n",
              "      <td>1.8</td>\n",
              "      <td>0.8</td>\n",
              "      <td>0.5</td>\n",
              "      <td>-2.6</td>\n",
              "      <td>0.030</td>\n",
              "      <td>0.118</td>\n",
              "      <td>0.159</td>\n",
              "      <td>0.510</td>\n",
              "      <td>0.136</td>\n",
              "      <td>1996-97</td>\n",
              "    </tr>\n",
              "    <tr>\n",
              "      <th>4</th>\n",
              "      <td>4</td>\n",
              "      <td>Darvin Ham</td>\n",
              "      <td>IND</td>\n",
              "      <td>23.0</td>\n",
              "      <td>200.66</td>\n",
              "      <td>99.790240</td>\n",
              "      <td>Texas Tech</td>\n",
              "      <td>USA</td>\n",
              "      <td>Undrafted</td>\n",
              "      <td>Undrafted</td>\n",
              "      <td>Undrafted</td>\n",
              "      <td>36</td>\n",
              "      <td>2.3</td>\n",
              "      <td>1.6</td>\n",
              "      <td>0.4</td>\n",
              "      <td>-2.0</td>\n",
              "      <td>0.109</td>\n",
              "      <td>0.097</td>\n",
              "      <td>0.140</td>\n",
              "      <td>0.536</td>\n",
              "      <td>0.072</td>\n",
              "      <td>1996-97</td>\n",
              "    </tr>\n",
              "  </tbody>\n",
              "</table>\n",
              "</div>"
            ],
            "text/plain": [
              "   id        player_name team_abbreviation  ...  ts_pct  ast_pct   season\n",
              "0   0       George Zidek               DEN  ...   0.500    0.064  1996-97\n",
              "1   1  Darrell Armstrong               ORL  ...   0.525    0.308  1996-97\n",
              "2   2     Darrick Martin               LAC  ...   0.539    0.292  1996-97\n",
              "3   3     Darrin Hancock               ATL  ...   0.510    0.136  1996-97\n",
              "4   4         Darvin Ham               IND  ...   0.536    0.072  1996-97\n",
              "\n",
              "[5 rows x 22 columns]"
            ]
          },
          "metadata": {
            "tags": []
          },
          "execution_count": 182
        }
      ]
    },
    {
      "cell_type": "code",
      "metadata": {
        "id": "jrCYRuHPGIhi",
        "colab_type": "code",
        "outputId": "7e794ce3-ce65-4903-f930-f0a3f11cadf1",
        "colab": {
          "base_uri": "https://localhost:8080/",
          "height": 34
        }
      },
      "source": [
        "# Verificação da quantidade de entradas da base de dados a ser estudada \n",
        "#<Não houve a exclusão de nenhuma linha do Dataset> \n",
        "\n",
        "len(dataset1)"
      ],
      "execution_count": 183,
      "outputs": [
        {
          "output_type": "execute_result",
          "data": {
            "text/plain": [
              "10101"
            ]
          },
          "metadata": {
            "tags": []
          },
          "execution_count": 183
        }
      ]
    },
    {
      "cell_type": "code",
      "metadata": {
        "id": "czfFDH8V7Te2",
        "colab_type": "code",
        "colab": {
          "base_uri": "https://localhost:8080/",
          "height": 204
        },
        "outputId": "7bc4b78b-f04c-4ca8-c66b-e849723680e1"
      },
      "source": [
        "# Continuando os ajustes para Base de Dados a ser trabakhada no DataFrame.\n",
        "\n",
        "# Foi verificada durante o desenvolvimento do projeto a necessidade da EXCLUSÃO da seguintes colunas:\n",
        "\n",
        "#   . draft_year\n",
        "#   . draft_round\n",
        "#   . draft_number\n",
        "#   . net_rating\n",
        "#   . oreb_pct\n",
        "#   . dreb_pct\n",
        "#   . usg_pct\n",
        "#   . ts_pct\n",
        "#   . ast_pct\n",
        "\n",
        "dataset1 = dataset1.drop(columns=['draft_year',\t'draft_round',\t'draft_number','net_rating','oreb_pct','dreb_pct','usg_pct','ts_pct','ast_pct'], axis=1)\n",
        "dataset1.head()\n"
      ],
      "execution_count": 184,
      "outputs": [
        {
          "output_type": "execute_result",
          "data": {
            "text/html": [
              "<div>\n",
              "<style scoped>\n",
              "    .dataframe tbody tr th:only-of-type {\n",
              "        vertical-align: middle;\n",
              "    }\n",
              "\n",
              "    .dataframe tbody tr th {\n",
              "        vertical-align: top;\n",
              "    }\n",
              "\n",
              "    .dataframe thead th {\n",
              "        text-align: right;\n",
              "    }\n",
              "</style>\n",
              "<table border=\"1\" class=\"dataframe\">\n",
              "  <thead>\n",
              "    <tr style=\"text-align: right;\">\n",
              "      <th></th>\n",
              "      <th>id</th>\n",
              "      <th>player_name</th>\n",
              "      <th>team_abbreviation</th>\n",
              "      <th>age</th>\n",
              "      <th>player_height</th>\n",
              "      <th>player_weight</th>\n",
              "      <th>college</th>\n",
              "      <th>country</th>\n",
              "      <th>gp</th>\n",
              "      <th>pts</th>\n",
              "      <th>reb</th>\n",
              "      <th>ast</th>\n",
              "      <th>season</th>\n",
              "    </tr>\n",
              "  </thead>\n",
              "  <tbody>\n",
              "    <tr>\n",
              "      <th>0</th>\n",
              "      <td>0</td>\n",
              "      <td>George Zidek</td>\n",
              "      <td>DEN</td>\n",
              "      <td>23.0</td>\n",
              "      <td>213.36</td>\n",
              "      <td>119.748288</td>\n",
              "      <td>UCLA</td>\n",
              "      <td>USA</td>\n",
              "      <td>52</td>\n",
              "      <td>2.8</td>\n",
              "      <td>1.7</td>\n",
              "      <td>0.3</td>\n",
              "      <td>1996-97</td>\n",
              "    </tr>\n",
              "    <tr>\n",
              "      <th>1</th>\n",
              "      <td>1</td>\n",
              "      <td>Darrell Armstrong</td>\n",
              "      <td>ORL</td>\n",
              "      <td>29.0</td>\n",
              "      <td>185.42</td>\n",
              "      <td>81.646560</td>\n",
              "      <td>Fayetteville State</td>\n",
              "      <td>USA</td>\n",
              "      <td>67</td>\n",
              "      <td>6.1</td>\n",
              "      <td>1.1</td>\n",
              "      <td>2.6</td>\n",
              "      <td>1996-97</td>\n",
              "    </tr>\n",
              "    <tr>\n",
              "      <th>2</th>\n",
              "      <td>2</td>\n",
              "      <td>Darrick Martin</td>\n",
              "      <td>LAC</td>\n",
              "      <td>26.0</td>\n",
              "      <td>180.34</td>\n",
              "      <td>77.110640</td>\n",
              "      <td>UCLA</td>\n",
              "      <td>USA</td>\n",
              "      <td>82</td>\n",
              "      <td>10.9</td>\n",
              "      <td>1.4</td>\n",
              "      <td>4.1</td>\n",
              "      <td>1996-97</td>\n",
              "    </tr>\n",
              "    <tr>\n",
              "      <th>3</th>\n",
              "      <td>3</td>\n",
              "      <td>Darrin Hancock</td>\n",
              "      <td>ATL</td>\n",
              "      <td>25.0</td>\n",
              "      <td>200.66</td>\n",
              "      <td>92.986360</td>\n",
              "      <td>Kansas</td>\n",
              "      <td>USA</td>\n",
              "      <td>24</td>\n",
              "      <td>1.8</td>\n",
              "      <td>0.8</td>\n",
              "      <td>0.5</td>\n",
              "      <td>1996-97</td>\n",
              "    </tr>\n",
              "    <tr>\n",
              "      <th>4</th>\n",
              "      <td>4</td>\n",
              "      <td>Darvin Ham</td>\n",
              "      <td>IND</td>\n",
              "      <td>23.0</td>\n",
              "      <td>200.66</td>\n",
              "      <td>99.790240</td>\n",
              "      <td>Texas Tech</td>\n",
              "      <td>USA</td>\n",
              "      <td>36</td>\n",
              "      <td>2.3</td>\n",
              "      <td>1.6</td>\n",
              "      <td>0.4</td>\n",
              "      <td>1996-97</td>\n",
              "    </tr>\n",
              "  </tbody>\n",
              "</table>\n",
              "</div>"
            ],
            "text/plain": [
              "   id        player_name team_abbreviation   age  ...   pts  reb  ast   season\n",
              "0   0       George Zidek               DEN  23.0  ...   2.8  1.7  0.3  1996-97\n",
              "1   1  Darrell Armstrong               ORL  29.0  ...   6.1  1.1  2.6  1996-97\n",
              "2   2     Darrick Martin               LAC  26.0  ...  10.9  1.4  4.1  1996-97\n",
              "3   3     Darrin Hancock               ATL  25.0  ...   1.8  0.8  0.5  1996-97\n",
              "4   4         Darvin Ham               IND  23.0  ...   2.3  1.6  0.4  1996-97\n",
              "\n",
              "[5 rows x 13 columns]"
            ]
          },
          "metadata": {
            "tags": []
          },
          "execution_count": 184
        }
      ]
    },
    {
      "cell_type": "code",
      "metadata": {
        "id": "ghI4IPQLGisf",
        "colab_type": "code",
        "colab": {
          "base_uri": "https://localhost:8080/",
          "height": 69
        },
        "outputId": "6510f901-df07-493d-f2fe-446469775e18"
      },
      "source": [
        "# Visualizando de possíveis dados duplicados para Base de Dados\n",
        "# A base de dados utilizada não precisará ser alterada/ manipulada por conter dados duplicados, preservando assim a quantidade de registros\n",
        "\n",
        "dataset1[dataset1.duplicated(keep=False)]"
      ],
      "execution_count": 201,
      "outputs": [
        {
          "output_type": "execute_result",
          "data": {
            "text/html": [
              "<div>\n",
              "<style scoped>\n",
              "    .dataframe tbody tr th:only-of-type {\n",
              "        vertical-align: middle;\n",
              "    }\n",
              "\n",
              "    .dataframe tbody tr th {\n",
              "        vertical-align: top;\n",
              "    }\n",
              "\n",
              "    .dataframe thead th {\n",
              "        text-align: right;\n",
              "    }\n",
              "</style>\n",
              "<table border=\"1\" class=\"dataframe\">\n",
              "  <thead>\n",
              "    <tr style=\"text-align: right;\">\n",
              "      <th></th>\n",
              "      <th>id</th>\n",
              "      <th>player_name</th>\n",
              "      <th>team_abbreviation</th>\n",
              "      <th>age</th>\n",
              "      <th>player_height</th>\n",
              "      <th>player_weight</th>\n",
              "      <th>college</th>\n",
              "      <th>country</th>\n",
              "      <th>gp</th>\n",
              "      <th>pts</th>\n",
              "      <th>reb</th>\n",
              "      <th>ast</th>\n",
              "      <th>season</th>\n",
              "      <th>pts_normal</th>\n",
              "      <th>reb_normal</th>\n",
              "      <th>ast_normal</th>\n",
              "      <th>pts_disct</th>\n",
              "      <th>reb_disct</th>\n",
              "      <th>ast_disct</th>\n",
              "    </tr>\n",
              "  </thead>\n",
              "  <tbody>\n",
              "  </tbody>\n",
              "</table>\n",
              "</div>"
            ],
            "text/plain": [
              "Empty DataFrame\n",
              "Columns: [id, player_name, team_abbreviation, age, player_height, player_weight, college, country, gp, pts, reb, ast, season, pts_normal, reb_normal, ast_normal, pts_disct, reb_disct, ast_disct]\n",
              "Index: []"
            ]
          },
          "metadata": {
            "tags": []
          },
          "execution_count": 201
        }
      ]
    },
    {
      "cell_type": "code",
      "metadata": {
        "id": "a0aFCWnqfoE3",
        "colab_type": "code",
        "colab": {}
      },
      "source": [
        "# Caso houvesse necessidade excluir dados duplicados poderíamos fazer a alteração/ manipulação para ajustar a Base de Dados\n",
        "\n",
        "dataset1.drop_duplicates(inplace=True)\n"
      ],
      "execution_count": 0,
      "outputs": []
    },
    {
      "cell_type": "code",
      "metadata": {
        "id": "qlqaWtAefvXe",
        "colab_type": "code",
        "colab": {
          "base_uri": "https://localhost:8080/",
          "height": 425
        },
        "outputId": "b83f6138-2db3-4129-9335-e570843f7471"
      },
      "source": [
        "# Definição do NOVO Dataset a ser utilizado para extração e análise das informações da Base de Dados após ajustes\n",
        "\n",
        "dataset1.info()"
      ],
      "execution_count": 203,
      "outputs": [
        {
          "output_type": "stream",
          "text": [
            "<class 'pandas.core.frame.DataFrame'>\n",
            "Int64Index: 10101 entries, 0 to 10100\n",
            "Data columns (total 19 columns):\n",
            "id                   10101 non-null int64\n",
            "player_name          10101 non-null object\n",
            "team_abbreviation    10101 non-null category\n",
            "age                  10101 non-null float64\n",
            "player_height        10101 non-null float64\n",
            "player_weight        10101 non-null float64\n",
            "college              10101 non-null category\n",
            "country              10101 non-null category\n",
            "gp                   10101 non-null int64\n",
            "pts                  10101 non-null float64\n",
            "reb                  10101 non-null float64\n",
            "ast                  10101 non-null float64\n",
            "season               10101 non-null category\n",
            "pts_normal           10101 non-null float64\n",
            "reb_normal           10101 non-null float64\n",
            "ast_normal           10101 non-null float64\n",
            "pts_disct            10101 non-null category\n",
            "reb_disct            10101 non-null category\n",
            "ast_disct            10101 non-null category\n",
            "dtypes: category(7), float64(9), int64(2), object(1)\n",
            "memory usage: 1.1+ MB\n"
          ],
          "name": "stdout"
        }
      ]
    },
    {
      "cell_type": "markdown",
      "metadata": {
        "id": "md9mEX8J6ttj",
        "colab_type": "text"
      },
      "source": [
        "**PS:** Como verificado durante a preparação, **a base de dados é concistente e com suas informações totalmente preenchidas para o período a ser estudado. Não haverá a necessidade de inserção/ inclusão de dados ausentes**."
      ]
    },
    {
      "cell_type": "code",
      "metadata": {
        "id": "FUW0BmFrV6Ni",
        "colab_type": "code",
        "colab": {
          "base_uri": "https://localhost:8080/",
          "height": 297
        },
        "outputId": "67cbaa57-b61f-49f9-9f98-eee1f474ce5c"
      },
      "source": [
        "# Informações gerais da distribuição do Dados. \n",
        "# A partir dos dados carregados através de DataFrame teremos o Número de entradas, Média, Desvio Padrão, Valores mínimo/ máximo e Quartis\n",
        "\n",
        "dataset1.describe()"
      ],
      "execution_count": 188,
      "outputs": [
        {
          "output_type": "execute_result",
          "data": {
            "text/html": [
              "<div>\n",
              "<style scoped>\n",
              "    .dataframe tbody tr th:only-of-type {\n",
              "        vertical-align: middle;\n",
              "    }\n",
              "\n",
              "    .dataframe tbody tr th {\n",
              "        vertical-align: top;\n",
              "    }\n",
              "\n",
              "    .dataframe thead th {\n",
              "        text-align: right;\n",
              "    }\n",
              "</style>\n",
              "<table border=\"1\" class=\"dataframe\">\n",
              "  <thead>\n",
              "    <tr style=\"text-align: right;\">\n",
              "      <th></th>\n",
              "      <th>id</th>\n",
              "      <th>age</th>\n",
              "      <th>player_height</th>\n",
              "      <th>player_weight</th>\n",
              "      <th>gp</th>\n",
              "      <th>pts</th>\n",
              "      <th>reb</th>\n",
              "      <th>ast</th>\n",
              "    </tr>\n",
              "  </thead>\n",
              "  <tbody>\n",
              "    <tr>\n",
              "      <th>count</th>\n",
              "      <td>10101.000000</td>\n",
              "      <td>10101.000000</td>\n",
              "      <td>10101.000000</td>\n",
              "      <td>10101.000000</td>\n",
              "      <td>10101.000000</td>\n",
              "      <td>10101.000000</td>\n",
              "      <td>10101.000000</td>\n",
              "      <td>10101.000000</td>\n",
              "    </tr>\n",
              "    <tr>\n",
              "      <th>mean</th>\n",
              "      <td>5050.000000</td>\n",
              "      <td>27.292644</td>\n",
              "      <td>200.926942</td>\n",
              "      <td>100.860155</td>\n",
              "      <td>52.820513</td>\n",
              "      <td>8.075507</td>\n",
              "      <td>3.555153</td>\n",
              "      <td>1.790080</td>\n",
              "    </tr>\n",
              "    <tr>\n",
              "      <th>std</th>\n",
              "      <td>2916.051869</td>\n",
              "      <td>4.345829</td>\n",
              "      <td>9.245615</td>\n",
              "      <td>12.718714</td>\n",
              "      <td>25.048016</td>\n",
              "      <td>5.891083</td>\n",
              "      <td>2.490504</td>\n",
              "      <td>1.789905</td>\n",
              "    </tr>\n",
              "    <tr>\n",
              "      <th>min</th>\n",
              "      <td>0.000000</td>\n",
              "      <td>18.000000</td>\n",
              "      <td>160.020000</td>\n",
              "      <td>60.327736</td>\n",
              "      <td>1.000000</td>\n",
              "      <td>0.000000</td>\n",
              "      <td>0.000000</td>\n",
              "      <td>0.000000</td>\n",
              "    </tr>\n",
              "    <tr>\n",
              "      <th>25%</th>\n",
              "      <td>2525.000000</td>\n",
              "      <td>24.000000</td>\n",
              "      <td>195.580000</td>\n",
              "      <td>90.718400</td>\n",
              "      <td>33.000000</td>\n",
              "      <td>3.500000</td>\n",
              "      <td>1.800000</td>\n",
              "      <td>0.500000</td>\n",
              "    </tr>\n",
              "    <tr>\n",
              "      <th>50%</th>\n",
              "      <td>5050.000000</td>\n",
              "      <td>27.000000</td>\n",
              "      <td>203.200000</td>\n",
              "      <td>100.243832</td>\n",
              "      <td>59.000000</td>\n",
              "      <td>6.600000</td>\n",
              "      <td>3.000000</td>\n",
              "      <td>1.200000</td>\n",
              "    </tr>\n",
              "    <tr>\n",
              "      <th>75%</th>\n",
              "      <td>7575.000000</td>\n",
              "      <td>30.000000</td>\n",
              "      <td>208.280000</td>\n",
              "      <td>110.676448</td>\n",
              "      <td>75.000000</td>\n",
              "      <td>11.400000</td>\n",
              "      <td>4.700000</td>\n",
              "      <td>2.400000</td>\n",
              "    </tr>\n",
              "    <tr>\n",
              "      <th>max</th>\n",
              "      <td>10100.000000</td>\n",
              "      <td>44.000000</td>\n",
              "      <td>231.140000</td>\n",
              "      <td>163.293120</td>\n",
              "      <td>85.000000</td>\n",
              "      <td>35.400000</td>\n",
              "      <td>16.300000</td>\n",
              "      <td>11.700000</td>\n",
              "    </tr>\n",
              "  </tbody>\n",
              "</table>\n",
              "</div>"
            ],
            "text/plain": [
              "                 id           age  ...           reb           ast\n",
              "count  10101.000000  10101.000000  ...  10101.000000  10101.000000\n",
              "mean    5050.000000     27.292644  ...      3.555153      1.790080\n",
              "std     2916.051869      4.345829  ...      2.490504      1.789905\n",
              "min        0.000000     18.000000  ...      0.000000      0.000000\n",
              "25%     2525.000000     24.000000  ...      1.800000      0.500000\n",
              "50%     5050.000000     27.000000  ...      3.000000      1.200000\n",
              "75%     7575.000000     30.000000  ...      4.700000      2.400000\n",
              "max    10100.000000     44.000000  ...     16.300000     11.700000\n",
              "\n",
              "[8 rows x 8 columns]"
            ]
          },
          "metadata": {
            "tags": []
          },
          "execution_count": 188
        }
      ]
    },
    {
      "cell_type": "markdown",
      "metadata": {
        "id": "HkeKbh6bEK_j",
        "colab_type": "text"
      },
      "source": [
        "## **Normalização**"
      ]
    },
    {
      "cell_type": "code",
      "metadata": {
        "id": "N8cNHzbGGSiT",
        "colab_type": "code",
        "colab": {
          "base_uri": "https://localhost:8080/",
          "height": 170
        },
        "outputId": "16620c7e-55bf-49f6-ef98-65a6c879e87e"
      },
      "source": [
        "# NORMALIZAÇÃO: As colunas 'pts', 'reb', 'ast' serão normalizadas:\n",
        "\n",
        "# Referência para utlização de recursos para Normalização e Discretização \n",
        "from sklearn.preprocessing import StandardScaler, MinMaxScaler\n",
        "\n",
        "\n",
        "# ['PST'] : Média de PONTOS por temporada de um jogador da NBA\n",
        "dataset1['pts'].describe()"
      ],
      "execution_count": 189,
      "outputs": [
        {
          "output_type": "execute_result",
          "data": {
            "text/plain": [
              "count    10101.000000\n",
              "mean         8.075507\n",
              "std          5.891083\n",
              "min          0.000000\n",
              "25%          3.500000\n",
              "50%          6.600000\n",
              "75%         11.400000\n",
              "max         35.400000\n",
              "Name: pts, dtype: float64"
            ]
          },
          "metadata": {
            "tags": []
          },
          "execution_count": 189
        }
      ]
    },
    {
      "cell_type": "code",
      "metadata": {
        "id": "7uq0ALv6IXp0",
        "colab_type": "code",
        "colab": {
          "base_uri": "https://localhost:8080/",
          "height": 170
        },
        "outputId": "544f69cb-c47a-490d-e7bc-c9392e82949d"
      },
      "source": [
        "# [PTS - NORMALIZAÇÃO] : Resultado da NORMALIZAÇÃO da coluna 'pts'\n",
        "scaler = MinMaxScaler()\n",
        "dataset1['pts_normal'] = scaler.fit_transform(dataset1[['pts']])\n",
        "dataset1['pts_normal'].describe()"
      ],
      "execution_count": 190,
      "outputs": [
        {
          "output_type": "execute_result",
          "data": {
            "text/plain": [
              "count    10101.000000\n",
              "mean         0.228122\n",
              "std          0.166415\n",
              "min          0.000000\n",
              "25%          0.098870\n",
              "50%          0.186441\n",
              "75%          0.322034\n",
              "max          1.000000\n",
              "Name: pts_normal, dtype: float64"
            ]
          },
          "metadata": {
            "tags": []
          },
          "execution_count": 190
        }
      ]
    },
    {
      "cell_type": "code",
      "metadata": {
        "id": "XyBI39IqJzjO",
        "colab_type": "code",
        "colab": {
          "base_uri": "https://localhost:8080/",
          "height": 170
        },
        "outputId": "a3634492-0798-468e-e1e5-ba02113079d6"
      },
      "source": [
        "# [PST - DESVIO PADRÃO] : Resultado após aplicar o DESVIO PADRÃO para coluna 'pts'\n",
        "scaler = StandardScaler()\n",
        "dataset1['pts_normal'] = scaler.fit_transform(dataset1[['pts']])\n",
        "dataset1['pts_normal'].describe()"
      ],
      "execution_count": 204,
      "outputs": [
        {
          "output_type": "execute_result",
          "data": {
            "text/plain": [
              "count    1.010100e+04\n",
              "mean     1.601201e-16\n",
              "std      1.000050e+00\n",
              "min     -1.370870e+00\n",
              "25%     -7.767220e-01\n",
              "50%     -2.504769e-01\n",
              "75%      5.643541e-01\n",
              "max      4.638509e+00\n",
              "Name: pts_normal, dtype: float64"
            ]
          },
          "metadata": {
            "tags": []
          },
          "execution_count": 204
        }
      ]
    },
    {
      "cell_type": "code",
      "metadata": {
        "id": "1ACHTB-Ed1EY",
        "colab_type": "code",
        "colab": {
          "base_uri": "https://localhost:8080/",
          "height": 170
        },
        "outputId": "4bd9d78f-8bd7-4163-fe44-00dd99c93444"
      },
      "source": [
        "\n",
        "\n",
        "# ['REB'] : Média de REBOTES por temporada de um jogador da NBA\n",
        "dataset1['reb'].describe()"
      ],
      "execution_count": 191,
      "outputs": [
        {
          "output_type": "execute_result",
          "data": {
            "text/plain": [
              "count    10101.000000\n",
              "mean         3.555153\n",
              "std          2.490504\n",
              "min          0.000000\n",
              "25%          1.800000\n",
              "50%          3.000000\n",
              "75%          4.700000\n",
              "max         16.300000\n",
              "Name: reb, dtype: float64"
            ]
          },
          "metadata": {
            "tags": []
          },
          "execution_count": 191
        }
      ]
    },
    {
      "cell_type": "code",
      "metadata": {
        "id": "rfq90qjbfuY2",
        "colab_type": "code",
        "colab": {
          "base_uri": "https://localhost:8080/",
          "height": 170
        },
        "outputId": "c7195b88-f95f-4eb2-9ba4-247a626547ba"
      },
      "source": [
        "# [REB - NORMALIZAÇÃO] : Resultado da NORMALIZAÇÃO da coluna 'reb'\n",
        "scaler = MinMaxScaler()\n",
        "dataset1['reb_normal'] = scaler.fit_transform(dataset1[['reb']])\n",
        "dataset1['reb_normal'].describe()"
      ],
      "execution_count": 192,
      "outputs": [
        {
          "output_type": "execute_result",
          "data": {
            "text/plain": [
              "count    10101.000000\n",
              "mean         0.218108\n",
              "std          0.152792\n",
              "min          0.000000\n",
              "25%          0.110429\n",
              "50%          0.184049\n",
              "75%          0.288344\n",
              "max          1.000000\n",
              "Name: reb_normal, dtype: float64"
            ]
          },
          "metadata": {
            "tags": []
          },
          "execution_count": 192
        }
      ]
    },
    {
      "cell_type": "code",
      "metadata": {
        "id": "E-MTie3i1CCk",
        "colab_type": "code",
        "colab": {
          "base_uri": "https://localhost:8080/",
          "height": 170
        },
        "outputId": "9ee2a307-6490-44a5-b531-d373f60b87e7"
      },
      "source": [
        "# [REB - DESVIO PADRÃO] : Resultado após aplicar o DESVIO PADRÃO para coluna 'reb'\n",
        "scaler = StandardScaler()\n",
        "dataset1['reb_normal'] = scaler.fit_transform(dataset1[['reb']])\n",
        "dataset1['reb_normal'].describe()"
      ],
      "execution_count": 205,
      "outputs": [
        {
          "output_type": "execute_result",
          "data": {
            "text/plain": [
              "count    1.010100e+04\n",
              "mean     4.294269e-17\n",
              "std      1.000050e+00\n",
              "min     -1.427554e+00\n",
              "25%     -7.047729e-01\n",
              "50%     -2.229189e-01\n",
              "75%      4.597076e-01\n",
              "max      5.117630e+00\n",
              "Name: reb_normal, dtype: float64"
            ]
          },
          "metadata": {
            "tags": []
          },
          "execution_count": 205
        }
      ]
    },
    {
      "cell_type": "code",
      "metadata": {
        "id": "GcmGFDJ6eJXM",
        "colab_type": "code",
        "colab": {
          "base_uri": "https://localhost:8080/",
          "height": 170
        },
        "outputId": "63162671-3468-438d-d19c-51d6e2d016cb"
      },
      "source": [
        "\n",
        "\n",
        "# [AST]: Média de ASSISTÊNCIAS por temporada de um jogador da NBA\n",
        "dataset1['ast'].describe()"
      ],
      "execution_count": 193,
      "outputs": [
        {
          "output_type": "execute_result",
          "data": {
            "text/plain": [
              "count    10101.000000\n",
              "mean         1.790080\n",
              "std          1.789905\n",
              "min          0.000000\n",
              "25%          0.500000\n",
              "50%          1.200000\n",
              "75%          2.400000\n",
              "max         11.700000\n",
              "Name: ast, dtype: float64"
            ]
          },
          "metadata": {
            "tags": []
          },
          "execution_count": 193
        }
      ]
    },
    {
      "cell_type": "code",
      "metadata": {
        "id": "0cX0i0d9g2Tu",
        "colab_type": "code",
        "colab": {
          "base_uri": "https://localhost:8080/",
          "height": 170
        },
        "outputId": "cbd9bbcc-eca1-4f74-f046-39c967e97969"
      },
      "source": [
        "# [AST - NORMALIZAÇÃO] : Resultado da NORMALIZAÇÃO da coluna 'ast'\n",
        "scaler = MinMaxScaler()\n",
        "dataset1['ast_normal'] = scaler.fit_transform(dataset1[['ast']])\n",
        "dataset1['ast_normal'].describe()"
      ],
      "execution_count": 194,
      "outputs": [
        {
          "output_type": "execute_result",
          "data": {
            "text/plain": [
              "count    10101.000000\n",
              "mean         0.152998\n",
              "std          0.152983\n",
              "min          0.000000\n",
              "25%          0.042735\n",
              "50%          0.102564\n",
              "75%          0.205128\n",
              "max          1.000000\n",
              "Name: ast_normal, dtype: float64"
            ]
          },
          "metadata": {
            "tags": []
          },
          "execution_count": 194
        }
      ]
    },
    {
      "cell_type": "code",
      "metadata": {
        "id": "EIMqH7-D1jl2",
        "colab_type": "code",
        "colab": {}
      },
      "source": [
        "# [AST - DESVIO PADRÃO] : Resultado após aplicar o DESVIO PADRÃO para coluna 'ast'\n",
        "scaler = StandardScaler()\n",
        "dataset1['ast_normal'] = scaler.fit_transform(dataset1[['ast']])\n",
        "dataset1['ast_normal'].describe()"
      ],
      "execution_count": 0,
      "outputs": []
    },
    {
      "cell_type": "markdown",
      "metadata": {
        "id": "1KGM21UpOK6K",
        "colab_type": "text"
      },
      "source": [
        "## **Discretização**"
      ]
    },
    {
      "cell_type": "code",
      "metadata": {
        "id": "w1eHgLCWOJ9V",
        "colab_type": "code",
        "colab": {
          "base_uri": "https://localhost:8080/",
          "height": 289
        },
        "outputId": "66d925ff-f798-44ad-83db-b49e5d046a33"
      },
      "source": [
        "# discretização pts...\n",
        " dataset1['pts_disct'] = pd.cut(dataset1['pts'], 15)\n",
        " dataset1['pts_disct'].value_counts()\n"
      ],
      "execution_count": 231,
      "outputs": [
        {
          "output_type": "execute_result",
          "data": {
            "text/plain": [
              "(2.36, 4.72]       2155\n",
              "(4.72, 7.08]       1713\n",
              "(-0.0354, 2.36]    1477\n",
              "(7.08, 9.44]       1369\n",
              "(9.44, 11.8]        989\n",
              "(11.8, 14.16]       818\n",
              "(14.16, 16.52]      534\n",
              "(16.52, 18.88]      402\n",
              "(18.88, 21.24]      293\n",
              "(21.24, 23.6]       171\n",
              "(23.6, 25.96]        86\n",
              "(25.96, 28.32]       62\n",
              "(28.32, 30.68]       22\n",
              "(30.68, 33.04]        9\n",
              "(33.04, 35.4]         1\n",
              "Name: pts_disct, dtype: int64"
            ]
          },
          "metadata": {
            "tags": []
          },
          "execution_count": 231
        }
      ]
    },
    {
      "cell_type": "code",
      "metadata": {
        "id": "bvzU_3tKi8kt",
        "colab_type": "code",
        "colab": {
          "base_uri": "https://localhost:8080/",
          "height": 564
        },
        "outputId": "5fb523ad-8b4e-416f-e036-08f9679a8043"
      },
      "source": [
        "# gráfico pst...\n",
        "counts = dataset1['pts_disct'].value_counts()\n",
        "counts.plot.bar(figsize=(18,8))"
      ],
      "execution_count": 215,
      "outputs": [
        {
          "output_type": "execute_result",
          "data": {
            "text/plain": [
              "<matplotlib.axes._subplots.AxesSubplot at 0x7efe31844a58>"
            ]
          },
          "metadata": {
            "tags": []
          },
          "execution_count": 215
        },
        {
          "output_type": "display_data",
          "data": {
            "image/png": "[encoded data removed]",
            "text/plain": [
              "<Figure size 1296x576 with 1 Axes>"
            ]
          },
          "metadata": {
            "tags": []
          }
        }
      ]
    },
    {
      "cell_type": "code",
      "metadata": {
        "id": "SjwzIhoLaTv7",
        "colab_type": "code",
        "colab": {
          "base_uri": "https://localhost:8080/",
          "height": 204
        },
        "outputId": "931dffb6-2afa-49cb-fcd5-eefab588ac58"
      },
      "source": [
        "# discretização reb...\n",
        " dataset1['reb_disct'] = pd.cut(dataset1['reb'], 10)\n",
        " dataset1['reb_disct'].value_counts()"
      ],
      "execution_count": 207,
      "outputs": [
        {
          "output_type": "execute_result",
          "data": {
            "text/plain": [
              "(1.63, 3.26]       3311\n",
              "(-0.0163, 1.63]    2275\n",
              "(3.26, 4.89]       2120\n",
              "(4.89, 6.52]       1161\n",
              "(6.52, 8.15]        597\n",
              "(8.15, 9.78]        338\n",
              "(9.78, 11.41]       196\n",
              "(11.41, 13.04]       67\n",
              "(13.04, 14.67]       27\n",
              "(14.67, 16.3]         9\n",
              "Name: reb_disct, dtype: int64"
            ]
          },
          "metadata": {
            "tags": []
          },
          "execution_count": 207
        }
      ]
    },
    {
      "cell_type": "code",
      "metadata": {
        "id": "-8Wmj91j2gCx",
        "colab_type": "code",
        "colab": {
          "base_uri": "https://localhost:8080/",
          "height": 564
        },
        "outputId": "fd05a889-1966-4f98-9adf-55cb11ecc441"
      },
      "source": [
        "# gráfico reb...\n",
        "counts = dataset1['reb_disct'].value_counts()\n",
        "counts.plot.bar(figsize=(18,8))"
      ],
      "execution_count": 216,
      "outputs": [
        {
          "output_type": "execute_result",
          "data": {
            "text/plain": [
              "<matplotlib.axes._subplots.AxesSubplot at 0x7efe3180a278>"
            ]
          },
          "metadata": {
            "tags": []
          },
          "execution_count": 216
        },
        {
          "output_type": "display_data",
          "data": {
            "image/png": "[encoded data removed]",
            "text/plain": [
              "<Figure size 1296x576 with 1 Axes>"
            ]
          },
          "metadata": {
            "tags": []
          }
        }
      ]
    },
    {
      "cell_type": "code",
      "metadata": {
        "id": "S08M-YIic4XH",
        "colab_type": "code",
        "colab": {
          "base_uri": "https://localhost:8080/",
          "height": 204
        },
        "outputId": "b2df5103-24e4-4303-9ca7-0928a5a720f0"
      },
      "source": [
        "# discretização ast...\n",
        " dataset1['ast_disct'] = pd.cut(dataset1['ast'],10)\n",
        " dataset1['ast_disct'].value_counts()"
      ],
      "execution_count": 217,
      "outputs": [
        {
          "output_type": "execute_result",
          "data": {
            "text/plain": [
              "(-0.0117, 1.17]    4914\n",
              "(1.17, 2.34]       2578\n",
              "(2.34, 3.51]       1240\n",
              "(3.51, 4.68]        562\n",
              "(4.68, 5.85]        374\n",
              "(5.85, 7.02]        211\n",
              "(7.02, 8.19]         97\n",
              "(8.19, 9.36]         79\n",
              "(9.36, 10.53]        26\n",
              "(10.53, 11.7]        20\n",
              "Name: ast_disct, dtype: int64"
            ]
          },
          "metadata": {
            "tags": []
          },
          "execution_count": 217
        }
      ]
    },
    {
      "cell_type": "code",
      "metadata": {
        "id": "5YoNyqOR2-Lo",
        "colab_type": "code",
        "colab": {
          "base_uri": "https://localhost:8080/",
          "height": 565
        },
        "outputId": "5ce883ad-0f1b-4028-c0b7-daabd06c25ba"
      },
      "source": [
        "# gráfico ast...\n",
        "counts = dataset1['ast_disct'].value_counts()\n",
        "counts.plot.bar(figsize=(18,8))"
      ],
      "execution_count": 218,
      "outputs": [
        {
          "output_type": "execute_result",
          "data": {
            "text/plain": [
              "<matplotlib.axes._subplots.AxesSubplot at 0x7efe3173ff60>"
            ]
          },
          "metadata": {
            "tags": []
          },
          "execution_count": 218
        },
        {
          "output_type": "display_data",
          "data": {
            "image/png": "[encoded data removed]",
            "text/plain": [
              "<Figure size 1296x576 with 1 Axes>"
            ]
          },
          "metadata": {
            "tags": []
          }
        }
      ]
    },
    {
      "cell_type": "markdown",
      "metadata": {
        "id": "hLG1Zw-PBAyJ",
        "colab_type": "text"
      },
      "source": [
        "## **Estatísticas Univariadas**"
      ]
    },
    {
      "cell_type": "code",
      "metadata": {
        "id": "oA6FqKQ5BHgI",
        "colab_type": "code",
        "colab": {}
      },
      "source": [
        ""
      ],
      "execution_count": 0,
      "outputs": []
    },
    {
      "cell_type": "markdown",
      "metadata": {
        "id": "6U6EiN3U3sS3",
        "colab_type": "text"
      },
      "source": [
        "## **Estatísticas Bivariadas**"
      ]
    },
    {
      "cell_type": "code",
      "metadata": {
        "id": "jHyDzO_Z-yQ6",
        "colab_type": "code",
        "colab": {
          "base_uri": "https://localhost:8080/",
          "height": 390
        },
        "outputId": "d59f3285-588e-45b8-8076-164246305e9f"
      },
      "source": [
        "dataset1.cov()"
      ],
      "execution_count": 248,
      "outputs": [
        {
          "output_type": "execute_result",
          "data": {
            "text/html": [
              "<div>\n",
              "<style scoped>\n",
              "    .dataframe tbody tr th:only-of-type {\n",
              "        vertical-align: middle;\n",
              "    }\n",
              "\n",
              "    .dataframe tbody tr th {\n",
              "        vertical-align: top;\n",
              "    }\n",
              "\n",
              "    .dataframe thead th {\n",
              "        text-align: right;\n",
              "    }\n",
              "</style>\n",
              "<table border=\"1\" class=\"dataframe\">\n",
              "  <thead>\n",
              "    <tr style=\"text-align: right;\">\n",
              "      <th></th>\n",
              "      <th>id</th>\n",
              "      <th>age</th>\n",
              "      <th>player_height</th>\n",
              "      <th>player_weight</th>\n",
              "      <th>gp</th>\n",
              "      <th>pts</th>\n",
              "      <th>reb</th>\n",
              "      <th>ast</th>\n",
              "      <th>pts_normal</th>\n",
              "      <th>reb_normal</th>\n",
              "      <th>ast_normal</th>\n",
              "    </tr>\n",
              "  </thead>\n",
              "  <tbody>\n",
              "    <tr>\n",
              "      <th>id</th>\n",
              "      <td>8.503358e+06</td>\n",
              "      <td>-1189.421188</td>\n",
              "      <td>-187.257606</td>\n",
              "      <td>-856.995760</td>\n",
              "      <td>631.462475</td>\n",
              "      <td>437.479277</td>\n",
              "      <td>-33.289564</td>\n",
              "      <td>22.423663</td>\n",
              "      <td>74.264939</td>\n",
              "      <td>-13.367259</td>\n",
              "      <td>1.916552</td>\n",
              "    </tr>\n",
              "    <tr>\n",
              "      <th>age</th>\n",
              "      <td>-1.189421e+03</td>\n",
              "      <td>18.886232</td>\n",
              "      <td>-0.699024</td>\n",
              "      <td>2.094253</td>\n",
              "      <td>2.655006</td>\n",
              "      <td>-0.306218</td>\n",
              "      <td>0.225630</td>\n",
              "      <td>0.597072</td>\n",
              "      <td>-0.051982</td>\n",
              "      <td>0.090601</td>\n",
              "      <td>0.051032</td>\n",
              "    </tr>\n",
              "    <tr>\n",
              "      <th>player_height</th>\n",
              "      <td>-1.872576e+02</td>\n",
              "      <td>-0.699024</td>\n",
              "      <td>85.481395</td>\n",
              "      <td>98.053207</td>\n",
              "      <td>-3.830487</td>\n",
              "      <td>-3.543010</td>\n",
              "      <td>9.663379</td>\n",
              "      <td>-7.927583</td>\n",
              "      <td>-0.601449</td>\n",
              "      <td>3.880282</td>\n",
              "      <td>-0.677571</td>\n",
              "    </tr>\n",
              "    <tr>\n",
              "      <th>player_weight</th>\n",
              "      <td>-8.569958e+02</td>\n",
              "      <td>2.094253</td>\n",
              "      <td>98.053207</td>\n",
              "      <td>161.765680</td>\n",
              "      <td>-0.404694</td>\n",
              "      <td>-2.878935</td>\n",
              "      <td>13.735983</td>\n",
              "      <td>-9.355071</td>\n",
              "      <td>-0.488718</td>\n",
              "      <td>5.515616</td>\n",
              "      <td>-0.799579</td>\n",
              "    </tr>\n",
              "    <tr>\n",
              "      <th>gp</th>\n",
              "      <td>6.314625e+02</td>\n",
              "      <td>2.655006</td>\n",
              "      <td>-3.830487</td>\n",
              "      <td>-0.404694</td>\n",
              "      <td>627.403128</td>\n",
              "      <td>81.131138</td>\n",
              "      <td>29.648474</td>\n",
              "      <td>17.515893</td>\n",
              "      <td>13.772536</td>\n",
              "      <td>11.905197</td>\n",
              "      <td>1.497085</td>\n",
              "    </tr>\n",
              "    <tr>\n",
              "      <th>pts</th>\n",
              "      <td>4.374793e+02</td>\n",
              "      <td>-0.306218</td>\n",
              "      <td>-3.543010</td>\n",
              "      <td>-2.878935</td>\n",
              "      <td>81.131138</td>\n",
              "      <td>34.704861</td>\n",
              "      <td>9.106797</td>\n",
              "      <td>6.801001</td>\n",
              "      <td>5.891375</td>\n",
              "      <td>3.656789</td>\n",
              "      <td>0.581282</td>\n",
              "    </tr>\n",
              "    <tr>\n",
              "      <th>reb</th>\n",
              "      <td>-3.328956e+01</td>\n",
              "      <td>0.225630</td>\n",
              "      <td>9.663379</td>\n",
              "      <td>13.735983</td>\n",
              "      <td>29.648474</td>\n",
              "      <td>9.106797</td>\n",
              "      <td>6.202610</td>\n",
              "      <td>0.931546</td>\n",
              "      <td>1.545938</td>\n",
              "      <td>2.490627</td>\n",
              "      <td>0.079619</td>\n",
              "    </tr>\n",
              "    <tr>\n",
              "      <th>ast</th>\n",
              "      <td>2.242366e+01</td>\n",
              "      <td>0.597072</td>\n",
              "      <td>-7.927583</td>\n",
              "      <td>-9.355071</td>\n",
              "      <td>17.515893</td>\n",
              "      <td>6.801001</td>\n",
              "      <td>0.931546</td>\n",
              "      <td>3.203759</td>\n",
              "      <td>1.154514</td>\n",
              "      <td>0.374058</td>\n",
              "      <td>0.273826</td>\n",
              "    </tr>\n",
              "    <tr>\n",
              "      <th>pts_normal</th>\n",
              "      <td>7.426494e+01</td>\n",
              "      <td>-0.051982</td>\n",
              "      <td>-0.601449</td>\n",
              "      <td>-0.488718</td>\n",
              "      <td>13.772536</td>\n",
              "      <td>5.891375</td>\n",
              "      <td>1.545938</td>\n",
              "      <td>1.154514</td>\n",
              "      <td>1.000099</td>\n",
              "      <td>0.620764</td>\n",
              "      <td>0.098676</td>\n",
              "    </tr>\n",
              "    <tr>\n",
              "      <th>reb_normal</th>\n",
              "      <td>-1.336726e+01</td>\n",
              "      <td>0.090601</td>\n",
              "      <td>3.880282</td>\n",
              "      <td>5.515616</td>\n",
              "      <td>11.905197</td>\n",
              "      <td>3.656789</td>\n",
              "      <td>2.490627</td>\n",
              "      <td>0.374058</td>\n",
              "      <td>0.620764</td>\n",
              "      <td>1.000099</td>\n",
              "      <td>0.031971</td>\n",
              "    </tr>\n",
              "    <tr>\n",
              "      <th>ast_normal</th>\n",
              "      <td>1.916552e+00</td>\n",
              "      <td>0.051032</td>\n",
              "      <td>-0.677571</td>\n",
              "      <td>-0.799579</td>\n",
              "      <td>1.497085</td>\n",
              "      <td>0.581282</td>\n",
              "      <td>0.079619</td>\n",
              "      <td>0.273826</td>\n",
              "      <td>0.098676</td>\n",
              "      <td>0.031971</td>\n",
              "      <td>0.023404</td>\n",
              "    </tr>\n",
              "  </tbody>\n",
              "</table>\n",
              "</div>"
            ],
            "text/plain": [
              "                         id          age  ...  reb_normal  ast_normal\n",
              "id             8.503358e+06 -1189.421188  ...  -13.367259    1.916552\n",
              "age           -1.189421e+03    18.886232  ...    0.090601    0.051032\n",
              "player_height -1.872576e+02    -0.699024  ...    3.880282   -0.677571\n",
              "player_weight -8.569958e+02     2.094253  ...    5.515616   -0.799579\n",
              "gp             6.314625e+02     2.655006  ...   11.905197    1.497085\n",
              "pts            4.374793e+02    -0.306218  ...    3.656789    0.581282\n",
              "reb           -3.328956e+01     0.225630  ...    2.490627    0.079619\n",
              "ast            2.242366e+01     0.597072  ...    0.374058    0.273826\n",
              "pts_normal     7.426494e+01    -0.051982  ...    0.620764    0.098676\n",
              "reb_normal    -1.336726e+01     0.090601  ...    1.000099    0.031971\n",
              "ast_normal     1.916552e+00     0.051032  ...    0.031971    0.023404\n",
              "\n",
              "[11 rows x 11 columns]"
            ]
          },
          "metadata": {
            "tags": []
          },
          "execution_count": 248
        }
      ]
    },
    {
      "cell_type": "code",
      "metadata": {
        "id": "-tpTX7nI_0jZ",
        "colab_type": "code",
        "outputId": "b8d8aff9-cd7d-4559-c5a4-f9bb3a8ad733",
        "colab": {
          "base_uri": "https://localhost:8080/",
          "height": 390
        }
      },
      "source": [
        "dataset1.corr(method='spearman')"
      ],
      "execution_count": 241,
      "outputs": [
        {
          "output_type": "execute_result",
          "data": {
            "text/html": [
              "<div>\n",
              "<style scoped>\n",
              "    .dataframe tbody tr th:only-of-type {\n",
              "        vertical-align: middle;\n",
              "    }\n",
              "\n",
              "    .dataframe tbody tr th {\n",
              "        vertical-align: top;\n",
              "    }\n",
              "\n",
              "    .dataframe thead th {\n",
              "        text-align: right;\n",
              "    }\n",
              "</style>\n",
              "<table border=\"1\" class=\"dataframe\">\n",
              "  <thead>\n",
              "    <tr style=\"text-align: right;\">\n",
              "      <th></th>\n",
              "      <th>id</th>\n",
              "      <th>age</th>\n",
              "      <th>player_height</th>\n",
              "      <th>player_weight</th>\n",
              "      <th>gp</th>\n",
              "      <th>pts</th>\n",
              "      <th>reb</th>\n",
              "      <th>ast</th>\n",
              "      <th>pts_normal</th>\n",
              "      <th>reb_normal</th>\n",
              "      <th>ast_normal</th>\n",
              "    </tr>\n",
              "  </thead>\n",
              "  <tbody>\n",
              "    <tr>\n",
              "      <th>id</th>\n",
              "      <td>1.000000</td>\n",
              "      <td>-0.094677</td>\n",
              "      <td>-0.011558</td>\n",
              "      <td>-0.022777</td>\n",
              "      <td>-0.002510</td>\n",
              "      <td>0.037379</td>\n",
              "      <td>0.008826</td>\n",
              "      <td>0.018981</td>\n",
              "      <td>0.037379</td>\n",
              "      <td>0.008826</td>\n",
              "      <td>0.018981</td>\n",
              "    </tr>\n",
              "    <tr>\n",
              "      <th>age</th>\n",
              "      <td>-0.094677</td>\n",
              "      <td>1.000000</td>\n",
              "      <td>-0.016313</td>\n",
              "      <td>0.045659</td>\n",
              "      <td>0.029916</td>\n",
              "      <td>0.026382</td>\n",
              "      <td>0.042593</td>\n",
              "      <td>0.115255</td>\n",
              "      <td>0.026382</td>\n",
              "      <td>0.042593</td>\n",
              "      <td>0.115255</td>\n",
              "    </tr>\n",
              "    <tr>\n",
              "      <th>player_height</th>\n",
              "      <td>-0.011558</td>\n",
              "      <td>-0.016313</td>\n",
              "      <td>1.000000</td>\n",
              "      <td>0.842136</td>\n",
              "      <td>-0.022602</td>\n",
              "      <td>-0.093532</td>\n",
              "      <td>0.417458</td>\n",
              "      <td>-0.485763</td>\n",
              "      <td>-0.093532</td>\n",
              "      <td>0.417458</td>\n",
              "      <td>-0.485763</td>\n",
              "    </tr>\n",
              "    <tr>\n",
              "      <th>player_weight</th>\n",
              "      <td>-0.022777</td>\n",
              "      <td>0.045659</td>\n",
              "      <td>0.842136</td>\n",
              "      <td>1.000000</td>\n",
              "      <td>-0.002281</td>\n",
              "      <td>-0.064865</td>\n",
              "      <td>0.436982</td>\n",
              "      <td>-0.437829</td>\n",
              "      <td>-0.064865</td>\n",
              "      <td>0.436982</td>\n",
              "      <td>-0.437829</td>\n",
              "    </tr>\n",
              "    <tr>\n",
              "      <th>gp</th>\n",
              "      <td>-0.002510</td>\n",
              "      <td>0.029916</td>\n",
              "      <td>-0.022602</td>\n",
              "      <td>-0.002281</td>\n",
              "      <td>1.000000</td>\n",
              "      <td>0.631951</td>\n",
              "      <td>0.548517</td>\n",
              "      <td>0.499436</td>\n",
              "      <td>0.631951</td>\n",
              "      <td>0.548517</td>\n",
              "      <td>0.499436</td>\n",
              "    </tr>\n",
              "    <tr>\n",
              "      <th>pts</th>\n",
              "      <td>0.037379</td>\n",
              "      <td>0.026382</td>\n",
              "      <td>-0.093532</td>\n",
              "      <td>-0.064865</td>\n",
              "      <td>0.631951</td>\n",
              "      <td>1.000000</td>\n",
              "      <td>0.705156</td>\n",
              "      <td>0.742383</td>\n",
              "      <td>1.000000</td>\n",
              "      <td>0.705156</td>\n",
              "      <td>0.742383</td>\n",
              "    </tr>\n",
              "    <tr>\n",
              "      <th>reb</th>\n",
              "      <td>0.008826</td>\n",
              "      <td>0.042593</td>\n",
              "      <td>0.417458</td>\n",
              "      <td>0.436982</td>\n",
              "      <td>0.548517</td>\n",
              "      <td>0.705156</td>\n",
              "      <td>1.000000</td>\n",
              "      <td>0.350100</td>\n",
              "      <td>0.705156</td>\n",
              "      <td>1.000000</td>\n",
              "      <td>0.350100</td>\n",
              "    </tr>\n",
              "    <tr>\n",
              "      <th>ast</th>\n",
              "      <td>0.018981</td>\n",
              "      <td>0.115255</td>\n",
              "      <td>-0.485763</td>\n",
              "      <td>-0.437829</td>\n",
              "      <td>0.499436</td>\n",
              "      <td>0.742383</td>\n",
              "      <td>0.350100</td>\n",
              "      <td>1.000000</td>\n",
              "      <td>0.742383</td>\n",
              "      <td>0.350100</td>\n",
              "      <td>1.000000</td>\n",
              "    </tr>\n",
              "    <tr>\n",
              "      <th>pts_normal</th>\n",
              "      <td>0.037379</td>\n",
              "      <td>0.026382</td>\n",
              "      <td>-0.093532</td>\n",
              "      <td>-0.064865</td>\n",
              "      <td>0.631951</td>\n",
              "      <td>1.000000</td>\n",
              "      <td>0.705156</td>\n",
              "      <td>0.742383</td>\n",
              "      <td>1.000000</td>\n",
              "      <td>0.705156</td>\n",
              "      <td>0.742383</td>\n",
              "    </tr>\n",
              "    <tr>\n",
              "      <th>reb_normal</th>\n",
              "      <td>0.008826</td>\n",
              "      <td>0.042593</td>\n",
              "      <td>0.417458</td>\n",
              "      <td>0.436982</td>\n",
              "      <td>0.548517</td>\n",
              "      <td>0.705156</td>\n",
              "      <td>1.000000</td>\n",
              "      <td>0.350100</td>\n",
              "      <td>0.705156</td>\n",
              "      <td>1.000000</td>\n",
              "      <td>0.350100</td>\n",
              "    </tr>\n",
              "    <tr>\n",
              "      <th>ast_normal</th>\n",
              "      <td>0.018981</td>\n",
              "      <td>0.115255</td>\n",
              "      <td>-0.485763</td>\n",
              "      <td>-0.437829</td>\n",
              "      <td>0.499436</td>\n",
              "      <td>0.742383</td>\n",
              "      <td>0.350100</td>\n",
              "      <td>1.000000</td>\n",
              "      <td>0.742383</td>\n",
              "      <td>0.350100</td>\n",
              "      <td>1.000000</td>\n",
              "    </tr>\n",
              "  </tbody>\n",
              "</table>\n",
              "</div>"
            ],
            "text/plain": [
              "                     id       age  ...  reb_normal  ast_normal\n",
              "id             1.000000 -0.094677  ...    0.008826    0.018981\n",
              "age           -0.094677  1.000000  ...    0.042593    0.115255\n",
              "player_height -0.011558 -0.016313  ...    0.417458   -0.485763\n",
              "player_weight -0.022777  0.045659  ...    0.436982   -0.437829\n",
              "gp            -0.002510  0.029916  ...    0.548517    0.499436\n",
              "pts            0.037379  0.026382  ...    0.705156    0.742383\n",
              "reb            0.008826  0.042593  ...    1.000000    0.350100\n",
              "ast            0.018981  0.115255  ...    0.350100    1.000000\n",
              "pts_normal     0.037379  0.026382  ...    0.705156    0.742383\n",
              "reb_normal     0.008826  0.042593  ...    1.000000    0.350100\n",
              "ast_normal     0.018981  0.115255  ...    0.350100    1.000000\n",
              "\n",
              "[11 rows x 11 columns]"
            ]
          },
          "metadata": {
            "tags": []
          },
          "execution_count": 241
        }
      ]
    },
    {
      "cell_type": "code",
      "metadata": {
        "id": "1_azJq_2iA-r",
        "colab_type": "code",
        "colab": {
          "base_uri": "https://localhost:8080/",
          "height": 390
        },
        "outputId": "c175bec3-8f40-4d6c-c6f8-eacfe67de292"
      },
      "source": [
        "dataset1.corr(method='pearson')"
      ],
      "execution_count": 242,
      "outputs": [
        {
          "output_type": "execute_result",
          "data": {
            "text/html": [
              "<div>\n",
              "<style scoped>\n",
              "    .dataframe tbody tr th:only-of-type {\n",
              "        vertical-align: middle;\n",
              "    }\n",
              "\n",
              "    .dataframe tbody tr th {\n",
              "        vertical-align: top;\n",
              "    }\n",
              "\n",
              "    .dataframe thead th {\n",
              "        text-align: right;\n",
              "    }\n",
              "</style>\n",
              "<table border=\"1\" class=\"dataframe\">\n",
              "  <thead>\n",
              "    <tr style=\"text-align: right;\">\n",
              "      <th></th>\n",
              "      <th>id</th>\n",
              "      <th>age</th>\n",
              "      <th>player_height</th>\n",
              "      <th>player_weight</th>\n",
              "      <th>gp</th>\n",
              "      <th>pts</th>\n",
              "      <th>reb</th>\n",
              "      <th>ast</th>\n",
              "      <th>pts_normal</th>\n",
              "      <th>reb_normal</th>\n",
              "      <th>ast_normal</th>\n",
              "    </tr>\n",
              "  </thead>\n",
              "  <tbody>\n",
              "    <tr>\n",
              "      <th>id</th>\n",
              "      <td>1.000000</td>\n",
              "      <td>-0.093857</td>\n",
              "      <td>-0.006946</td>\n",
              "      <td>-0.023107</td>\n",
              "      <td>0.008645</td>\n",
              "      <td>0.025466</td>\n",
              "      <td>-0.004584</td>\n",
              "      <td>0.004296</td>\n",
              "      <td>0.025466</td>\n",
              "      <td>-0.004584</td>\n",
              "      <td>0.004296</td>\n",
              "    </tr>\n",
              "    <tr>\n",
              "      <th>age</th>\n",
              "      <td>-0.093857</td>\n",
              "      <td>1.000000</td>\n",
              "      <td>-0.017397</td>\n",
              "      <td>0.037889</td>\n",
              "      <td>0.024390</td>\n",
              "      <td>-0.011961</td>\n",
              "      <td>0.020847</td>\n",
              "      <td>0.076758</td>\n",
              "      <td>-0.011961</td>\n",
              "      <td>0.020847</td>\n",
              "      <td>0.076758</td>\n",
              "    </tr>\n",
              "    <tr>\n",
              "      <th>player_height</th>\n",
              "      <td>-0.006946</td>\n",
              "      <td>-0.017397</td>\n",
              "      <td>1.000000</td>\n",
              "      <td>0.833840</td>\n",
              "      <td>-0.016540</td>\n",
              "      <td>-0.065049</td>\n",
              "      <td>0.419668</td>\n",
              "      <td>-0.479044</td>\n",
              "      <td>-0.065049</td>\n",
              "      <td>0.419668</td>\n",
              "      <td>-0.479044</td>\n",
              "    </tr>\n",
              "    <tr>\n",
              "      <th>player_weight</th>\n",
              "      <td>-0.023107</td>\n",
              "      <td>0.037889</td>\n",
              "      <td>0.833840</td>\n",
              "      <td>1.000000</td>\n",
              "      <td>-0.001270</td>\n",
              "      <td>-0.038423</td>\n",
              "      <td>0.433640</td>\n",
              "      <td>-0.410936</td>\n",
              "      <td>-0.038423</td>\n",
              "      <td>0.433640</td>\n",
              "      <td>-0.410936</td>\n",
              "    </tr>\n",
              "    <tr>\n",
              "      <th>gp</th>\n",
              "      <td>0.008645</td>\n",
              "      <td>0.024390</td>\n",
              "      <td>-0.016540</td>\n",
              "      <td>-0.001270</td>\n",
              "      <td>1.000000</td>\n",
              "      <td>0.549818</td>\n",
              "      <td>0.475271</td>\n",
              "      <td>0.390687</td>\n",
              "      <td>0.549818</td>\n",
              "      <td>0.475271</td>\n",
              "      <td>0.390687</td>\n",
              "    </tr>\n",
              "    <tr>\n",
              "      <th>pts</th>\n",
              "      <td>0.025466</td>\n",
              "      <td>-0.011961</td>\n",
              "      <td>-0.065049</td>\n",
              "      <td>-0.038423</td>\n",
              "      <td>0.549818</td>\n",
              "      <td>1.000000</td>\n",
              "      <td>0.620702</td>\n",
              "      <td>0.644982</td>\n",
              "      <td>1.000000</td>\n",
              "      <td>0.620702</td>\n",
              "      <td>0.644982</td>\n",
              "    </tr>\n",
              "    <tr>\n",
              "      <th>reb</th>\n",
              "      <td>-0.004584</td>\n",
              "      <td>0.020847</td>\n",
              "      <td>0.419668</td>\n",
              "      <td>0.433640</td>\n",
              "      <td>0.475271</td>\n",
              "      <td>0.620702</td>\n",
              "      <td>1.000000</td>\n",
              "      <td>0.208972</td>\n",
              "      <td>0.620702</td>\n",
              "      <td>1.000000</td>\n",
              "      <td>0.208972</td>\n",
              "    </tr>\n",
              "    <tr>\n",
              "      <th>ast</th>\n",
              "      <td>0.004296</td>\n",
              "      <td>0.076758</td>\n",
              "      <td>-0.479044</td>\n",
              "      <td>-0.410936</td>\n",
              "      <td>0.390687</td>\n",
              "      <td>0.644982</td>\n",
              "      <td>0.208972</td>\n",
              "      <td>1.000000</td>\n",
              "      <td>0.644982</td>\n",
              "      <td>0.208972</td>\n",
              "      <td>1.000000</td>\n",
              "    </tr>\n",
              "    <tr>\n",
              "      <th>pts_normal</th>\n",
              "      <td>0.025466</td>\n",
              "      <td>-0.011961</td>\n",
              "      <td>-0.065049</td>\n",
              "      <td>-0.038423</td>\n",
              "      <td>0.549818</td>\n",
              "      <td>1.000000</td>\n",
              "      <td>0.620702</td>\n",
              "      <td>0.644982</td>\n",
              "      <td>1.000000</td>\n",
              "      <td>0.620702</td>\n",
              "      <td>0.644982</td>\n",
              "    </tr>\n",
              "    <tr>\n",
              "      <th>reb_normal</th>\n",
              "      <td>-0.004584</td>\n",
              "      <td>0.020847</td>\n",
              "      <td>0.419668</td>\n",
              "      <td>0.433640</td>\n",
              "      <td>0.475271</td>\n",
              "      <td>0.620702</td>\n",
              "      <td>1.000000</td>\n",
              "      <td>0.208972</td>\n",
              "      <td>0.620702</td>\n",
              "      <td>1.000000</td>\n",
              "      <td>0.208972</td>\n",
              "    </tr>\n",
              "    <tr>\n",
              "      <th>ast_normal</th>\n",
              "      <td>0.004296</td>\n",
              "      <td>0.076758</td>\n",
              "      <td>-0.479044</td>\n",
              "      <td>-0.410936</td>\n",
              "      <td>0.390687</td>\n",
              "      <td>0.644982</td>\n",
              "      <td>0.208972</td>\n",
              "      <td>1.000000</td>\n",
              "      <td>0.644982</td>\n",
              "      <td>0.208972</td>\n",
              "      <td>1.000000</td>\n",
              "    </tr>\n",
              "  </tbody>\n",
              "</table>\n",
              "</div>"
            ],
            "text/plain": [
              "                     id       age  ...  reb_normal  ast_normal\n",
              "id             1.000000 -0.093857  ...   -0.004584    0.004296\n",
              "age           -0.093857  1.000000  ...    0.020847    0.076758\n",
              "player_height -0.006946 -0.017397  ...    0.419668   -0.479044\n",
              "player_weight -0.023107  0.037889  ...    0.433640   -0.410936\n",
              "gp             0.008645  0.024390  ...    0.475271    0.390687\n",
              "pts            0.025466 -0.011961  ...    0.620702    0.644982\n",
              "reb           -0.004584  0.020847  ...    1.000000    0.208972\n",
              "ast            0.004296  0.076758  ...    0.208972    1.000000\n",
              "pts_normal     0.025466 -0.011961  ...    0.620702    0.644982\n",
              "reb_normal    -0.004584  0.020847  ...    1.000000    0.208972\n",
              "ast_normal     0.004296  0.076758  ...    0.208972    1.000000\n",
              "\n",
              "[11 rows x 11 columns]"
            ]
          },
          "metadata": {
            "tags": []
          },
          "execution_count": 242
        }
      ]
    },
    {
      "cell_type": "code",
      "metadata": {
        "id": "tQqBypoD5Fuv",
        "colab_type": "code",
        "colab": {}
      },
      "source": [
        "#plt.figure(figsize = (20,10))\n",
        "#sns.heatmap(dataset1.corr(),annot = True,linewidths = 3.0);"
      ],
      "execution_count": 0,
      "outputs": []
    },
    {
      "cell_type": "markdown",
      "metadata": {
        "id": "pGbi8KIyK3PU",
        "colab_type": "text"
      },
      "source": [
        "\n",
        "\n",
        "---\n",
        "\n",
        "\n",
        "\n",
        ".\n",
        "\n",
        "##**Apresentação e Visualização de Estatística Descritiva dos Dados**"
      ]
    },
    {
      "cell_type": "code",
      "metadata": {
        "id": "T4EWkuTdamI7",
        "colab_type": "code",
        "colab": {
          "base_uri": "https://localhost:8080/",
          "height": 698
        },
        "outputId": "e471cd7a-a40c-4405-acef-5bad9c73ca95"
      },
      "source": [
        "# dataset2 = dataset1[(dataset1['age'] > 30) & (dataset1['country'] != 'USA')]\n",
        "# dataset2 = dataset1[(dataset1['country'] != 'USA') & (dataset1['pts'] == dataset1['pts'].max())]\n",
        "# dataset2 = dataset2.groupby('season')\n",
        "\n",
        "#dataset2 = dataset1[(dataset1['country'] != 'USA')].groupby('player_name')\n",
        "#dataset2 = dataset1[(dataset1['team_abbreviation'] == 'CHI') & (dataset1['season'] == '1997-98') & (dataset1['player_name'] == 'Michael Jordan')]\n",
        "#dataset2 = dataset1[(dataset1['pts'] == dataset1['pts'].max())]\n",
        "#dataset2 = dataset1[(dataset1['player_name'] == 'Michael Jordan')].sort_values(by='season', ascending=False)\n",
        "dataset2 = dataset1[(dataset1['player_name'] == 'Lebron James')]['player_name', 'pts']\n",
        "dataset2.head()"
      ],
      "execution_count": 200,
      "outputs": [
        {
          "output_type": "error",
          "ename": "KeyError",
          "evalue": "ignored",
          "traceback": [
            "\u001b[0;31m---------------------------------------------------------------------------\u001b[0m",
            "\u001b[0;31mKeyError\u001b[0m                                  Traceback (most recent call last)",
            "\u001b[0;32m/usr/local/lib/python3.6/dist-packages/pandas/core/indexes/base.py\u001b[0m in \u001b[0;36mget_loc\u001b[0;34m(self, key, method, tolerance)\u001b[0m\n\u001b[1;32m   2896\u001b[0m             \u001b[0;32mtry\u001b[0m\u001b[0;34m:\u001b[0m\u001b[0;34m\u001b[0m\u001b[0;34m\u001b[0m\u001b[0m\n\u001b[0;32m-> 2897\u001b[0;31m                 \u001b[0;32mreturn\u001b[0m \u001b[0mself\u001b[0m\u001b[0;34m.\u001b[0m\u001b[0m_engine\u001b[0m\u001b[0;34m.\u001b[0m\u001b[0mget_loc\u001b[0m\u001b[0;34m(\u001b[0m\u001b[0mkey\u001b[0m\u001b[0;34m)\u001b[0m\u001b[0;34m\u001b[0m\u001b[0;34m\u001b[0m\u001b[0m\n\u001b[0m\u001b[1;32m   2898\u001b[0m             \u001b[0;32mexcept\u001b[0m \u001b[0mKeyError\u001b[0m\u001b[0;34m:\u001b[0m\u001b[0;34m\u001b[0m\u001b[0;34m\u001b[0m\u001b[0m\n",
            "\u001b[0;32mpandas/_libs/index.pyx\u001b[0m in \u001b[0;36mpandas._libs.index.IndexEngine.get_loc\u001b[0;34m()\u001b[0m\n",
            "\u001b[0;32mpandas/_libs/index.pyx\u001b[0m in \u001b[0;36mpandas._libs.index.IndexEngine.get_loc\u001b[0;34m()\u001b[0m\n",
            "\u001b[0;32mpandas/_libs/hashtable_class_helper.pxi\u001b[0m in \u001b[0;36mpandas._libs.hashtable.PyObjectHashTable.get_item\u001b[0;34m()\u001b[0m\n",
            "\u001b[0;32mpandas/_libs/hashtable_class_helper.pxi\u001b[0m in \u001b[0;36mpandas._libs.hashtable.PyObjectHashTable.get_item\u001b[0;34m()\u001b[0m\n",
            "\u001b[0;31mKeyError\u001b[0m: ('player_name', 'pts')",
            "\nDuring handling of the above exception, another exception occurred:\n",
            "\u001b[0;31mKeyError\u001b[0m                                  Traceback (most recent call last)",
            "\u001b[0;32m<ipython-input-200-18ae309a485b>\u001b[0m in \u001b[0;36m<module>\u001b[0;34m()\u001b[0m\n\u001b[0;32m----> 1\u001b[0;31m \u001b[0mdataset2\u001b[0m \u001b[0;34m=\u001b[0m \u001b[0mdataset1\u001b[0m\u001b[0;34m[\u001b[0m\u001b[0;34m(\u001b[0m\u001b[0mdataset1\u001b[0m\u001b[0;34m[\u001b[0m\u001b[0;34m'player_name'\u001b[0m\u001b[0;34m]\u001b[0m \u001b[0;34m==\u001b[0m \u001b[0;34m'Lebron James'\u001b[0m\u001b[0;34m)\u001b[0m\u001b[0;34m]\u001b[0m\u001b[0;34m[\u001b[0m\u001b[0;34m'player_name'\u001b[0m\u001b[0;34m,\u001b[0m \u001b[0;34m'pts'\u001b[0m\u001b[0;34m]\u001b[0m\u001b[0;34m\u001b[0m\u001b[0;34m\u001b[0m\u001b[0m\n\u001b[0m\u001b[1;32m      2\u001b[0m \u001b[0mdataset2\u001b[0m\u001b[0;34m.\u001b[0m\u001b[0mhead\u001b[0m\u001b[0;34m(\u001b[0m\u001b[0;34m)\u001b[0m\u001b[0;34m\u001b[0m\u001b[0;34m\u001b[0m\u001b[0m\n",
            "\u001b[0;32m/usr/local/lib/python3.6/dist-packages/pandas/core/frame.py\u001b[0m in \u001b[0;36m__getitem__\u001b[0;34m(self, key)\u001b[0m\n\u001b[1;32m   2993\u001b[0m             \u001b[0;32mif\u001b[0m \u001b[0mself\u001b[0m\u001b[0;34m.\u001b[0m\u001b[0mcolumns\u001b[0m\u001b[0;34m.\u001b[0m\u001b[0mnlevels\u001b[0m \u001b[0;34m>\u001b[0m \u001b[0;36m1\u001b[0m\u001b[0;34m:\u001b[0m\u001b[0;34m\u001b[0m\u001b[0;34m\u001b[0m\u001b[0m\n\u001b[1;32m   2994\u001b[0m                 \u001b[0;32mreturn\u001b[0m \u001b[0mself\u001b[0m\u001b[0;34m.\u001b[0m\u001b[0m_getitem_multilevel\u001b[0m\u001b[0;34m(\u001b[0m\u001b[0mkey\u001b[0m\u001b[0;34m)\u001b[0m\u001b[0;34m\u001b[0m\u001b[0;34m\u001b[0m\u001b[0m\n\u001b[0;32m-> 2995\u001b[0;31m             \u001b[0mindexer\u001b[0m \u001b[0;34m=\u001b[0m \u001b[0mself\u001b[0m\u001b[0;34m.\u001b[0m\u001b[0mcolumns\u001b[0m\u001b[0;34m.\u001b[0m\u001b[0mget_loc\u001b[0m\u001b[0;34m(\u001b[0m\u001b[0mkey\u001b[0m\u001b[0;34m)\u001b[0m\u001b[0;34m\u001b[0m\u001b[0;34m\u001b[0m\u001b[0m\n\u001b[0m\u001b[1;32m   2996\u001b[0m             \u001b[0;32mif\u001b[0m \u001b[0mis_integer\u001b[0m\u001b[0;34m(\u001b[0m\u001b[0mindexer\u001b[0m\u001b[0;34m)\u001b[0m\u001b[0;34m:\u001b[0m\u001b[0;34m\u001b[0m\u001b[0;34m\u001b[0m\u001b[0m\n\u001b[1;32m   2997\u001b[0m                 \u001b[0mindexer\u001b[0m \u001b[0;34m=\u001b[0m \u001b[0;34m[\u001b[0m\u001b[0mindexer\u001b[0m\u001b[0;34m]\u001b[0m\u001b[0;34m\u001b[0m\u001b[0;34m\u001b[0m\u001b[0m\n",
            "\u001b[0;32m/usr/local/lib/python3.6/dist-packages/pandas/core/indexes/base.py\u001b[0m in \u001b[0;36mget_loc\u001b[0;34m(self, key, method, tolerance)\u001b[0m\n\u001b[1;32m   2897\u001b[0m                 \u001b[0;32mreturn\u001b[0m \u001b[0mself\u001b[0m\u001b[0;34m.\u001b[0m\u001b[0m_engine\u001b[0m\u001b[0;34m.\u001b[0m\u001b[0mget_loc\u001b[0m\u001b[0;34m(\u001b[0m\u001b[0mkey\u001b[0m\u001b[0;34m)\u001b[0m\u001b[0;34m\u001b[0m\u001b[0;34m\u001b[0m\u001b[0m\n\u001b[1;32m   2898\u001b[0m             \u001b[0;32mexcept\u001b[0m \u001b[0mKeyError\u001b[0m\u001b[0;34m:\u001b[0m\u001b[0;34m\u001b[0m\u001b[0;34m\u001b[0m\u001b[0m\n\u001b[0;32m-> 2899\u001b[0;31m                 \u001b[0;32mreturn\u001b[0m \u001b[0mself\u001b[0m\u001b[0;34m.\u001b[0m\u001b[0m_engine\u001b[0m\u001b[0;34m.\u001b[0m\u001b[0mget_loc\u001b[0m\u001b[0;34m(\u001b[0m\u001b[0mself\u001b[0m\u001b[0;34m.\u001b[0m\u001b[0m_maybe_cast_indexer\u001b[0m\u001b[0;34m(\u001b[0m\u001b[0mkey\u001b[0m\u001b[0;34m)\u001b[0m\u001b[0;34m)\u001b[0m\u001b[0;34m\u001b[0m\u001b[0;34m\u001b[0m\u001b[0m\n\u001b[0m\u001b[1;32m   2900\u001b[0m         \u001b[0mindexer\u001b[0m \u001b[0;34m=\u001b[0m \u001b[0mself\u001b[0m\u001b[0;34m.\u001b[0m\u001b[0mget_indexer\u001b[0m\u001b[0;34m(\u001b[0m\u001b[0;34m[\u001b[0m\u001b[0mkey\u001b[0m\u001b[0;34m]\u001b[0m\u001b[0;34m,\u001b[0m \u001b[0mmethod\u001b[0m\u001b[0;34m=\u001b[0m\u001b[0mmethod\u001b[0m\u001b[0;34m,\u001b[0m \u001b[0mtolerance\u001b[0m\u001b[0;34m=\u001b[0m\u001b[0mtolerance\u001b[0m\u001b[0;34m)\u001b[0m\u001b[0;34m\u001b[0m\u001b[0;34m\u001b[0m\u001b[0m\n\u001b[1;32m   2901\u001b[0m         \u001b[0;32mif\u001b[0m \u001b[0mindexer\u001b[0m\u001b[0;34m.\u001b[0m\u001b[0mndim\u001b[0m \u001b[0;34m>\u001b[0m \u001b[0;36m1\u001b[0m \u001b[0;32mor\u001b[0m \u001b[0mindexer\u001b[0m\u001b[0;34m.\u001b[0m\u001b[0msize\u001b[0m \u001b[0;34m>\u001b[0m \u001b[0;36m1\u001b[0m\u001b[0;34m:\u001b[0m\u001b[0;34m\u001b[0m\u001b[0;34m\u001b[0m\u001b[0m\n",
            "\u001b[0;32mpandas/_libs/index.pyx\u001b[0m in \u001b[0;36mpandas._libs.index.IndexEngine.get_loc\u001b[0;34m()\u001b[0m\n",
            "\u001b[0;32mpandas/_libs/index.pyx\u001b[0m in \u001b[0;36mpandas._libs.index.IndexEngine.get_loc\u001b[0;34m()\u001b[0m\n",
            "\u001b[0;32mpandas/_libs/hashtable_class_helper.pxi\u001b[0m in \u001b[0;36mpandas._libs.hashtable.PyObjectHashTable.get_item\u001b[0;34m()\u001b[0m\n",
            "\u001b[0;32mpandas/_libs/hashtable_class_helper.pxi\u001b[0m in \u001b[0;36mpandas._libs.hashtable.PyObjectHashTable.get_item\u001b[0;34m()\u001b[0m\n",
            "\u001b[0;31mKeyError\u001b[0m: ('player_name', 'pts')"
          ]
        }
      ]
    },
    {
      "cell_type": "code",
      "metadata": {
        "id": "6Y3W9l2mtuSj",
        "colab_type": "code",
        "colab": {}
      },
      "source": [
        "len(dataset2)"
      ],
      "execution_count": 0,
      "outputs": []
    },
    {
      "cell_type": "code",
      "metadata": {
        "id": "KluxXNSwnMgE",
        "colab_type": "code",
        "colab": {}
      },
      "source": [
        "dataset3 = dataset1[(dataset1['pts'] == dataset1['pts'].max())].groupby('player_name')\n",
        "dataset3 = dataset3['player_name', 'pts', 'season']\n",
        "dataset3.head()"
      ],
      "execution_count": 0,
      "outputs": []
    },
    {
      "cell_type": "code",
      "metadata": {
        "id": "am-3wmCArBYC",
        "colab_type": "code",
        "colab": {}
      },
      "source": [
        "len(dataset3)"
      ],
      "execution_count": 0,
      "outputs": []
    },
    {
      "cell_type": "code",
      "metadata": {
        "id": "BABJuTXJ_X-S",
        "colab_type": "code",
        "colab": {}
      },
      "source": [
        "# \n",
        "# dataset1.groupby('team_abbreviation')['pts', 'reb', 'ast'].sum()\n",
        "# dataset1.groupby('season')['pts', 'reb', 'ast'].sum()\n",
        "  dataset1['player_name'] = dataset['player_name'].astype('category')\n",
        "  dataset1['player_name'].cat.categories\n",
        " # dataset1.groupby('player_name')['pts', 'reb', 'ast'].sum()"
      ],
      "execution_count": 0,
      "outputs": []
    },
    {
      "cell_type": "code",
      "metadata": {
        "id": "UAYBgqSAP8r3",
        "colab_type": "code",
        "colab": {}
      },
      "source": [
        "# dataset3 = dataset1[(dataset1['pts'] == dataset1['pts'].max())].groupby('player_name')\n",
        "# dataset3 = dataset3['player_name', 'pts', 'season']\n",
        "# dataset3.head()\n",
        "\n",
        "# dataset1.groupby('player_name')['pts', 'reb', 'ast'].sum()\n",
        "# dataset2 = dataset1[(dataset1['pts'] == dataset1['pts'].max())].groupby('player_name')\n",
        "  dataset2 = dataset1[(dataset1['country'] != 'USA')].groupby('player_name')\n",
        "#  dataset2.sort_values(by='pts', ascending=False)\n",
        " # dataset3 = dataset2[(dataset2['pts'] == dataset2['pts'].max())].groupby('player_name')\n",
        "  dataset2.head()"
      ],
      "execution_count": 0,
      "outputs": []
    }
  ]
}